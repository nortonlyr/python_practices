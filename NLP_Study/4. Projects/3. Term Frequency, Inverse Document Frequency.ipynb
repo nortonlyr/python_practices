{
 "cells": [
  {
   "cell_type": "markdown",
   "metadata": {},
   "source": [
    "### Project - TF-IDF"
   ]
  },
  {
   "cell_type": "code",
   "execution_count": 25,
   "metadata": {},
   "outputs": [],
   "source": [
    "import nltk\n",
    "import math"
   ]
  },
  {
   "cell_type": "code",
   "execution_count": 26,
   "metadata": {},
   "outputs": [],
   "source": [
    "dataset = {}"
   ]
  },
  {
   "cell_type": "code",
   "execution_count": 27,
   "metadata": {},
   "outputs": [],
   "source": [
    "dataset = {\n",
    "    \"tfidf_1.txt\":open(\"tfidf_1.txt\").read(),\n",
    "    \"tfidf_2.txt\":open(\"tfidf_1.txt\").read(),\n",
    "    \"tfidf_3.txt\":open(\"tfidf_1.txt\").read(),\n",
    "    \"tfidf_4.txt\":open(\"tfidf_1.txt\").read(),\n",
    "    \"tfidf_5.txt\":open(\"tfidf_1.txt\").read(),\n",
    "    \"tfidf_6.txt\":open(\"tfidf_1.txt\").read(),\n",
    "    \"tfidf_7.txt\":open(\"tfidf_1.txt\").read(),\n",
    "    \"tfidf_8.txt\":open(\"tfidf_1.txt\").read(),\n",
    "    \"tfidf_9.txt\":open(\"tfidf_1.txt\").read(),\n",
    "    \"tfidf_10.txt\":open(\"tfidf_1.txt\").read(),\n",
    "}"
   ]
  },
  {
   "cell_type": "code",
   "execution_count": 31,
   "metadata": {},
   "outputs": [],
   "source": [
    "# Define function\n",
    "\n",
    "# Calculate term frequencies\n",
    "def tf(dataset, file_name):\n",
    "    text = dataset[file_name]\n",
    "    tokens = nltk.word_tokenize(text)\n",
    "    fd = nltk.FreqDist(tokens)\n",
    "    return fd\n",
    "\n",
    "# Calculate inverse document frequency\n",
    "def idf(dataset, term):\n",
    "    count = [term in dataset[file_name] for file_name in dataset]\n",
    "    inv_df = math.log(len(count)/sum(count))\n",
    "    return inv_df\n",
    "\n",
    "def tfidf(dataset, file_name, n):\n",
    "    term_scores = {}\n",
    "    file_fd = tf(dataset, file_name)\n",
    "    for term in file_fd:\n",
    "        if term.isalpha():\n",
    "            idf_val = idf(dataset, term)\n",
    "            tf_val = tf(dataset, file_name)[term]\n",
    "            tfidf = tf_val * idf_val\n",
    "            term_scores[term] = round(tfidf, 2)\n",
    "    return sorted(term_scores.items(), key=lambda x: -x[1])[:n]"
   ]
  },
  {
   "cell_type": "markdown",
   "metadata": {},
   "source": [
    "### Run Code"
   ]
  },
  {
   "cell_type": "code",
   "execution_count": 32,
   "metadata": {},
   "outputs": [
    {
     "data": {
      "text/plain": [
       "[('World', 0.0), ('War', 0.0), ('II', 0.0), ('WWII', 0.0), ('or', 0.0)]"
      ]
     },
     "execution_count": 32,
     "metadata": {},
     "output_type": "execute_result"
    }
   ],
   "source": [
    "tfidf(dataset, \"tfidf_1.txt\", 5)"
   ]
  },
  {
   "cell_type": "code",
   "execution_count": 33,
   "metadata": {},
   "outputs": [
    {
     "name": "stdout",
     "output_type": "stream",
     "text": [
      "tfidf_1.txt: \n",
      " [('World', 0.0), ('War', 0.0), ('II', 0.0), ('WWII', 0.0), ('or', 0.0)] \n",
      "\n",
      "tfidf_2.txt: \n",
      " [('World', 0.0), ('War', 0.0), ('II', 0.0), ('WWII', 0.0), ('or', 0.0)] \n",
      "\n",
      "tfidf_3.txt: \n",
      " [('World', 0.0), ('War', 0.0), ('II', 0.0), ('WWII', 0.0), ('or', 0.0)] \n",
      "\n",
      "tfidf_4.txt: \n",
      " [('World', 0.0), ('War', 0.0), ('II', 0.0), ('WWII', 0.0), ('or', 0.0)] \n",
      "\n",
      "tfidf_5.txt: \n",
      " [('World', 0.0), ('War', 0.0), ('II', 0.0), ('WWII', 0.0), ('or', 0.0)] \n",
      "\n",
      "tfidf_6.txt: \n",
      " [('World', 0.0), ('War', 0.0), ('II', 0.0), ('WWII', 0.0), ('or', 0.0)] \n",
      "\n",
      "tfidf_7.txt: \n",
      " [('World', 0.0), ('War', 0.0), ('II', 0.0), ('WWII', 0.0), ('or', 0.0)] \n",
      "\n",
      "tfidf_8.txt: \n",
      " [('World', 0.0), ('War', 0.0), ('II', 0.0), ('WWII', 0.0), ('or', 0.0)] \n",
      "\n",
      "tfidf_9.txt: \n",
      " [('World', 0.0), ('War', 0.0), ('II', 0.0), ('WWII', 0.0), ('or', 0.0)] \n",
      "\n",
      "tfidf_10.txt: \n",
      " [('World', 0.0), ('War', 0.0), ('II', 0.0), ('WWII', 0.0), ('or', 0.0)] \n",
      "\n"
     ]
    }
   ],
   "source": [
    "for file_name in dataset:\n",
    "    print(\"{0}: \\n {1} \\n\". format(file_name, tfidf(dataset, file_name, 5)))"
   ]
  },
  {
   "cell_type": "code",
   "execution_count": null,
   "metadata": {},
   "outputs": [],
   "source": []
  }
 ],
 "metadata": {
  "kernelspec": {
   "display_name": "Python 3",
   "language": "python",
   "name": "python3"
  },
  "language_info": {
   "codemirror_mode": {
    "name": "ipython",
    "version": 3
   },
   "file_extension": ".py",
   "mimetype": "text/x-python",
   "name": "python",
   "nbconvert_exporter": "python",
   "pygments_lexer": "ipython3",
   "version": "3.7.6"
  }
 },
 "nbformat": 4,
 "nbformat_minor": 4
}
