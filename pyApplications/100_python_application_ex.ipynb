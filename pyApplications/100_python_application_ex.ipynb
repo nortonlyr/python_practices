{
 "cells": [
  {
   "cell_type": "markdown",
   "metadata": {},
   "source": [
    "reference: https://www.jb51.net/article/169979.htm"
   ]
  },
  {
   "cell_type": "markdown",
   "metadata": {},
   "source": [
    "**题目001**：\n",
    "\n",
    "有四个数字：1、2、3、4，能组成多少个互不相同且无重复数字的三位数？各是多少？"
   ]
  },
  {
   "cell_type": "code",
   "execution_count": 1,
   "metadata": {},
   "outputs": [
    {
     "name": "stdout",
     "output_type": "stream",
     "text": [
      "(24, [123, 124, 132, 134, 142, 143, 213, 214, 231, 234, 241, 243, 312, 314, 321, 324, 341, 342, 412, 413, 421, 423, 431, 432])\n"
     ]
    }
   ],
   "source": [
    "def ex_001():\n",
    "    array = []\n",
    "    for i in range(1,5):\n",
    "        for j in range(1,5):\n",
    "            for k  in range (1,5):\n",
    "                number = 100*i + 10*j + k\n",
    "                if i!=j and j!=k and i!=k and number not in array: # no repeat \n",
    "                    array.append(number)\n",
    "    return (len(array), array)\n",
    "\n",
    "print(ex_001())"
   ]
  },
  {
   "cell_type": "code",
   "execution_count": 4,
   "metadata": {},
   "outputs": [
    {
     "name": "stdout",
     "output_type": "stream",
     "text": [
      "(24, [123, 124, 132, 134, 142, 143, 213, 214, 231, 234, 241, 243, 312, 314, 321, 324, 341, 342, 412, 413, 421, 423, 431, 432])\n"
     ]
    }
   ],
   "source": [
    "# Method 2 - Use itertools\n",
    "import itertools\n",
    "\n",
    "def ex_001_2nd():\n",
    "    temp_arr = list(itertools.permutations([1,2,3,4], 3)) # A_4^3 = (4)!/(4-3)! = (4*3*2*1)/1 = 24\n",
    "    arr = [100*i[0] + 10*i[1] + i[2] for i in temp_arr]\n",
    "    return (len(arr), arr)\n",
    "\n",
    "print(ex_001_2nd())"
   ]
  },
  {
   "cell_type": "markdown",
   "metadata": {},
   "source": [
    "**题目002：**\n",
    "\n",
    "企业发放的奖金根据利润(I)的多少来提成：\n",
    "\n",
    "低于或等于10万元时，奖金可提10%；\n",
    "\n",
    "利润高于10万元，低于20万元时，低于10万元的部分按10%提成，高于10万元的部分，可提成7.5%；\n",
    "\n",
    "20万到40万之间时，高于20万元的部分，可提成5%；\n",
    "\n",
    "40万到60万之间时高于40万元的部分，可提成3%；\n",
    "\n",
    "60万到100万之间时，高于60万元的部分，可提成1.5%；\n",
    "\n",
    "高于100万元时，超过100万元的部分按1%提成。\n",
    "\n",
    "从键盘输入当月利润I，求应发放奖金总数？"
   ]
  },
  {
   "cell_type": "code",
   "execution_count": 11,
   "metadata": {},
   "outputs": [
    {
     "name": "stdout",
     "output_type": "stream",
     "text": [
      "净利潤: 210000\n",
      "18000.0\n"
     ]
    }
   ],
   "source": [
    "def ex_002():\n",
    "    '''\n",
    "    程序分析：请利用数轴来分界，定位。\n",
    "    【个人备注】：这种处理数轴问题的写法，值得参考。比elif的写法，简洁方便的多。\n",
    "    '''\n",
    "    profit = int(input('净利潤: '))\n",
    "    array = [1000000, 600000, 400000, 200000, 100000, 0]\n",
    "    rate = [0.01, 0.015, 0.03, 0.05, 0.075, 0.1]\n",
    "    bonus = 0\n",
    "    for i in range(len(array)):\n",
    "        if profit > array[i]:\n",
    "            bonus += (profit - array[i])*rate[i]\n",
    "            profit = array[i]\n",
    "    return bonus\n",
    "\n",
    "print(ex_002())"
   ]
  },
  {
   "cell_type": "markdown",
   "metadata": {},
   "source": [
    "**题目003**\n",
    "\n",
    "一个整数，它加上100后是一个完全平方数，再加上168又是一个完全平方数，请问该数是多少？"
   ]
  },
  {
   "cell_type": "code",
   "execution_count": 35,
   "metadata": {},
   "outputs": [
    {
     "name": "stdout",
     "output_type": "stream",
     "text": [
      "-100\n"
     ]
    }
   ],
   "source": [
    "import math\n",
    "def ex_003():\n",
    "    '''\n",
    "    【个人备注】：网站上是求了一下方程，没细看。\n",
    "    python又不是没有开方函数，直接按字面意思解了。\n",
    "    2019-8-20 感谢Xueyang_Liu指出取值区间问题，进行修改。满足题意的数值不止一个两个。\n",
    "    考虑到取值区间，根据题意：\n",
    "        一个整数（m）加上100后是一个完全平方数 => m+100>=0，所以m>=-100，m取值下限为-100;\n",
    "        两个完全平方数的差是168，由于y=x**2这样的二次函数的图象是开口向上的抛物线，\n",
    "        函数在x>0区间内单调递增，其导数可知两个相邻值y2-y1差值会越来越大 => (x+1)**2-x**2<=168，\n",
    "        得x<=83.5。由于m=x**2-100，所以大约是m<7000的样子。\n",
    "    这样整数m的取值范围可以限定为[-100,7000]\n",
    "    '''\n",
    "    for i in range(-100, 7000):\n",
    "        m = math.sqrt(i+100)\n",
    "        n = math.sqrt(i+100+168)\n",
    "        if m % 1 == 0 and n % 1 == 0:\n",
    "            return i\n",
    "print (ex_003())\n",
    "#最终会得到4个满足条件的整数: -99, 21, 261, 1581"
   ]
  },
  {
   "cell_type": "code",
   "execution_count": 37,
   "metadata": {},
   "outputs": [
    {
     "name": "stdout",
     "output_type": "stream",
     "text": [
      "[1581]\n"
     ]
    }
   ],
   "source": [
    "def ex_003_2nd():\n",
    "    '''\n",
    "    如果不想使用开方函数，也可以使用Xueyang_Liu的方法也行。根据之前的推论x<=83.5，所以实际取值范围可以写成x<84。\n",
    "    '''\n",
    "    arr = []\n",
    "    result = []\n",
    "    for i in range(84):\n",
    "        arr +=[i**2]\n",
    "    for elem in arr:\n",
    "        if elem + 168 in arr:\n",
    "            result = [elem - 100]\n",
    "    return result\n",
    "\n",
    "print(ex_003_2nd())"
   ]
  },
  {
   "cell_type": "markdown",
   "metadata": {},
   "source": [
    "**题目004：** \n",
    "\n",
    "输入某年某月某日，判断这一天是这一年的第几天？"
   ]
  },
  {
   "cell_type": "code",
   "execution_count": 40,
   "metadata": {},
   "outputs": [
    {
     "name": "stdout",
     "output_type": "stream",
     "text": [
      "enter date (eg, 2020-01-10): 2020-08-07\n",
      "220\n"
     ]
    }
   ],
   "source": [
    "def ex_004():\n",
    "    '''\n",
    "    【个人备注】：知道python有时间元组这一概念，这道题完全不需要计算。\n",
    "    时间元组包含九个属性\n",
    "    tm_year     年\n",
    "    tm_mon      月(1~12)\n",
    "    tm_mday     日(1~31)\n",
    "    tm_hour     时(0~23)\n",
    "    tm_min      分(0~59)\n",
    "    tm_sec      秒(0~61, 60或61是闰秒)\n",
    "    tm_wday     星期(0~6, 0是周一)\n",
    "    tm_yday     第几天(1~366, 366是儒略历)\n",
    "    tm_isdst    夏令时(平时用不到)\n",
    "    '''\n",
    "    import time\n",
    "    date = input('enter date (eg, 2020-01-10): ')\n",
    "    st = time.strptime(date, '%Y-%m-%d')\n",
    "    num = st.tm_yday\n",
    "    return num\n",
    "\n",
    "print(ex_004())"
   ]
  },
  {
   "cell_type": "markdown",
   "metadata": {},
   "source": [
    "**题目005：**\n",
    "\n",
    "输入三个整数x,y,z，请把这三个数由小到大输出。"
   ]
  },
  {
   "cell_type": "code",
   "execution_count": 42,
   "metadata": {},
   "outputs": [
    {
     "name": "stdout",
     "output_type": "stream",
     "text": [
      "Pleasse enter 3 integer\n",
      "first integer: 4\n",
      "second integer: 8\n",
      "third integer: 2\n",
      "[2, 4, 8]\n"
     ]
    }
   ],
   "source": [
    "def ex_005():\n",
    "    print(\"Pleasse enter 3 integer\")\n",
    "    x = int(input('first integer: '))\n",
    "    y = int(input('second integer: '))\n",
    "    z = int(input('third integer: '))\n",
    "    l = [x,y,z]\n",
    "    arr = sorted(l)\n",
    "    return arr\n",
    "\n",
    "print(ex_005())"
   ]
  },
  {
   "cell_type": "markdown",
   "metadata": {},
   "source": [
    "**题目006**\n",
    "\n",
    "斐波那契数列"
   ]
  },
  {
   "cell_type": "code",
   "execution_count": 44,
   "metadata": {},
   "outputs": [
    {
     "name": "stdout",
     "output_type": "stream",
     "text": [
      "[0, 1, 1, 2, 3, 5, 8, 13, 21, 34, 55, 89]\n"
     ]
    }
   ],
   "source": [
    "def ex_006():\n",
    "    '''\n",
    "    程序分析：斐波那契数列，又称黄金分割数列，指的是这样一个数列：0、1、1、2、3、5、8、13、21、34、……。\n",
    "    【个人备注】：很多种解法，我是按照分割的方式，每次取列表后两项，然后相加。\n",
    "    '''\n",
    "    l = [0,1]\n",
    "    for i in range(10):\n",
    "        arr = l[-2:]\n",
    "        l.append(arr[0]+arr[1])\n",
    "    return l\n",
    "\n",
    "print(ex_006())"
   ]
  },
  {
   "cell_type": "markdown",
   "metadata": {},
   "source": [
    "**题目007**\n",
    "\n",
    "将一个列表的数据复制到另一个列表中"
   ]
  },
  {
   "cell_type": "code",
   "execution_count": 49,
   "metadata": {},
   "outputs": [],
   "source": [
    "def ex_007():\n",
    "    '''\n",
    "    【个人备注】：如果系统的看过python教程之类的应该都知道。\n",
    "    Python里面一切都是对象，list的复制需要用[:]的方式。\n",
    "    至于b=a只是相当于给a取了个别名而已，指向的是同一个列表，并没有实现复制。\n",
    "    '''\n",
    "    a = [1,2,3]\n",
    "    b = a[:]\n",
    "    \n",
    "    a[0] = 1\n",
    "    print(id(a), id(b))\n",
    "    print(a,b)\n",
    "    "
   ]
  },
  {
   "cell_type": "code",
   "execution_count": 50,
   "metadata": {},
   "outputs": [
    {
     "name": "stdout",
     "output_type": "stream",
     "text": [
      "2242923074888 2242937317768\n",
      "[1, 2, 3] [1, 2, 3]\n"
     ]
    }
   ],
   "source": [
    "ex_007()"
   ]
  },
  {
   "cell_type": "code",
   "execution_count": 53,
   "metadata": {},
   "outputs": [],
   "source": [
    "def ex_007_2nd():\n",
    "    a = [1,2,3]\n",
    "    b = a\n",
    "    a[0] = 1\n",
    "    print(id(a), id(b))\n",
    "    print(a,b)"
   ]
  },
  {
   "cell_type": "code",
   "execution_count": 54,
   "metadata": {},
   "outputs": [
    {
     "name": "stdout",
     "output_type": "stream",
     "text": [
      "2242937318792 2242937318792\n",
      "[1, 2, 3] [1, 2, 3]\n"
     ]
    }
   ],
   "source": [
    "ex_007_2nd()"
   ]
  },
  {
   "cell_type": "markdown",
   "metadata": {},
   "source": [
    "**题目008：**\n",
    "\n",
    "题目：输出 9*9 乘法口诀表"
   ]
  },
  {
   "cell_type": "code",
   "execution_count": 8,
   "metadata": {},
   "outputs": [],
   "source": [
    "def ex_008():\n",
    "    '''\n",
    "    【个人备注】：已经忘了，百度了才想起来口诀表具体长什么样。\n",
    "    注意 %-7s 和 end='' 的用法，其他没什么。\n",
    "    '''\n",
    "    for i in range(1,10):\n",
    "        for j in range(1,10):\n",
    "            if j <= i:\n",
    "                string = '%d*%d=%d' %(j,i,j*i)\n",
    "                print('%-7s' %string, end='')  # %-7s is for spacing between fomula\n",
    "        print('')"
   ]
  },
  {
   "cell_type": "code",
   "execution_count": 9,
   "metadata": {},
   "outputs": [
    {
     "name": "stdout",
     "output_type": "stream",
     "text": [
      "1*1=1  \n",
      "1*2=2  2*2=4  \n",
      "1*3=3  2*3=6  3*3=9  \n",
      "1*4=4  2*4=8  3*4=12 4*4=16 \n",
      "1*5=5  2*5=10 3*5=15 4*5=20 5*5=25 \n",
      "1*6=6  2*6=12 3*6=18 4*6=24 5*6=30 6*6=36 \n",
      "1*7=7  2*7=14 3*7=21 4*7=28 5*7=35 6*7=42 7*7=49 \n",
      "1*8=8  2*8=16 3*8=24 4*8=32 5*8=40 6*8=48 7*8=56 8*8=64 \n",
      "1*9=9  2*9=18 3*9=27 4*9=36 5*9=45 6*9=54 7*9=63 8*9=72 9*9=81 \n"
     ]
    }
   ],
   "source": [
    "ex_008()"
   ]
  },
  {
   "cell_type": "code",
   "execution_count": 12,
   "metadata": {},
   "outputs": [],
   "source": [
    "def ex_008_2nd():\n",
    "    for i in range(1,10):\n",
    "        for j in range(1,i+1):\n",
    "            print(\"{0} * {1} = {2}\".format(i,j,i*j), end=\"\\t\")\n",
    "        print()"
   ]
  },
  {
   "cell_type": "code",
   "execution_count": 13,
   "metadata": {},
   "outputs": [
    {
     "name": "stdout",
     "output_type": "stream",
     "text": [
      "1 * 1 = 1\t\n",
      "2 * 1 = 2\t2 * 2 = 4\t\n",
      "3 * 1 = 3\t3 * 2 = 6\t3 * 3 = 9\t\n",
      "4 * 1 = 4\t4 * 2 = 8\t4 * 3 = 12\t4 * 4 = 16\t\n",
      "5 * 1 = 5\t5 * 2 = 10\t5 * 3 = 15\t5 * 4 = 20\t5 * 5 = 25\t\n",
      "6 * 1 = 6\t6 * 2 = 12\t6 * 3 = 18\t6 * 4 = 24\t6 * 5 = 30\t6 * 6 = 36\t\n",
      "7 * 1 = 7\t7 * 2 = 14\t7 * 3 = 21\t7 * 4 = 28\t7 * 5 = 35\t7 * 6 = 42\t7 * 7 = 49\t\n",
      "8 * 1 = 8\t8 * 2 = 16\t8 * 3 = 24\t8 * 4 = 32\t8 * 5 = 40\t8 * 6 = 48\t8 * 7 = 56\t8 * 8 = 64\t\n",
      "9 * 1 = 9\t9 * 2 = 18\t9 * 3 = 27\t9 * 4 = 36\t9 * 5 = 45\t9 * 6 = 54\t9 * 7 = 63\t9 * 8 = 72\t9 * 9 = 81\t\n"
     ]
    }
   ],
   "source": [
    "ex_008_2nd()"
   ]
  },
  {
   "cell_type": "markdown",
   "metadata": {},
   "source": [
    "**题目009**\n",
    "\n",
    "暂停一秒输出"
   ]
  },
  {
   "cell_type": "code",
   "execution_count": 14,
   "metadata": {},
   "outputs": [],
   "source": [
    "def ex_009():\n",
    "    import time\n",
    "    a = time.time()\n",
    "    time.sleep(1)\n",
    "    b = time.time()\n",
    "    print(b-a)"
   ]
  },
  {
   "cell_type": "code",
   "execution_count": 15,
   "metadata": {},
   "outputs": [
    {
     "name": "stdout",
     "output_type": "stream",
     "text": [
      "1.000591516494751\n"
     ]
    }
   ],
   "source": [
    "ex_009()"
   ]
  },
  {
   "cell_type": "markdown",
   "metadata": {},
   "source": [
    "**题目010**\n",
    "\n",
    "暂停一秒输出，并格式化当前时间。"
   ]
  },
  {
   "cell_type": "code",
   "execution_count": 6,
   "metadata": {},
   "outputs": [],
   "source": [
    "def ex_010():\n",
    "    import time\n",
    "    a = time.strftime('%Y-%m-%d %H:%M:%S', time.localtime(time.time())) # time.localtime()时间戳转化成时间元祖\n",
    "    print(a)\n",
    "    time.sleep(1)\n",
    "    b = time.strftime('%Y-%m-%d %H:%M:%S', time.localtime(time.time())) # time.strftime()时间元祖转化成时间文本\n",
    "    print(b)"
   ]
  },
  {
   "cell_type": "code",
   "execution_count": 7,
   "metadata": {},
   "outputs": [
    {
     "name": "stdout",
     "output_type": "stream",
     "text": [
      "2020-08-10 15:01:26\n",
      "2020-08-10 15:01:27\n"
     ]
    }
   ],
   "source": [
    "ex_010()"
   ]
  },
  {
   "cell_type": "markdown",
   "metadata": {},
   "source": [
    "**题目011：古典问题**\n",
    "\n",
    "有一对兔子，\n",
    "从出生后第3个月起每个月都生一对兔子，\n",
    "小兔子长到第三个月后每个月又生一对兔子。\n",
    "假如兔子都不死。\n",
    "问每个月的兔子总数为多少？"
   ]
  },
  {
   "cell_type": "code",
   "execution_count": 9,
   "metadata": {},
   "outputs": [],
   "source": [
    "def ex_011():\n",
    "    '''\n",
    "    其实这道题就是斐波那契数列的由来。\n",
    "    【个人备注】：理清思路是关键，理解成满两个月后，每月都能生兔子，就好办了。\n",
    "    '''\n",
    "    m1 = 1 #滿月\n",
    "    m2 = 0 #滿兩個月\n",
    "    mm = 0 #可以月月生兔子了\n",
    "    for i in range(1,10):\n",
    "        # 過了一個月后\n",
    "        mm = mm + m2 #加入新增成年的兔子\n",
    "        m2 = m1 # 滿月的變成滿兩月的\n",
    "        m1 = mm # 這個月新出生的兔子\n",
    "        print(i,mm+m1+m2) # 每個月有多少對兔子"
   ]
  },
  {
   "cell_type": "code",
   "execution_count": 10,
   "metadata": {},
   "outputs": [
    {
     "name": "stdout",
     "output_type": "stream",
     "text": [
      "1 1\n",
      "2 2\n",
      "3 3\n",
      "4 5\n",
      "5 8\n",
      "6 13\n",
      "7 21\n",
      "8 34\n",
      "9 55\n"
     ]
    }
   ],
   "source": [
    "ex_011()"
   ]
  },
  {
   "cell_type": "markdown",
   "metadata": {},
   "source": [
    "**题目012：**\n",
    "\n",
    "判断101-200之间有多少个素数，并输出所有素数。"
   ]
  },
  {
   "cell_type": "code",
   "execution_count": 13,
   "metadata": {},
   "outputs": [],
   "source": [
    "def ex_012():\n",
    "    '''\n",
    "    【个人备注】：按照素数不能被之前的素数整除，取200以内所有素数，然后取出101-200之间的部分。\n",
    "    '''\n",
    "    arr = [2,3]\n",
    "    # 取200以内所有素數\n",
    "    for i in range(4, 201):\n",
    "        for j in arr:\n",
    "            if i%j==0:\n",
    "                break\n",
    "        else:\n",
    "            arr.append(i)\n",
    "    #取出100-200之間的部分\n",
    "    for i in range(len(arr)):\n",
    "        if arr[i]>100:\n",
    "            l = arr[i:]\n",
    "            print(len(l), l)\n",
    "            break"
   ]
  },
  {
   "cell_type": "code",
   "execution_count": 14,
   "metadata": {},
   "outputs": [
    {
     "name": "stdout",
     "output_type": "stream",
     "text": [
      "21 [101, 103, 107, 109, 113, 127, 131, 137, 139, 149, 151, 157, 163, 167, 173, 179, 181, 191, 193, 197, 199]\n"
     ]
    }
   ],
   "source": [
    "ex_012()"
   ]
  },
  {
   "cell_type": "markdown",
   "metadata": {},
   "source": [
    "**题目013：**\n",
    "\n",
    "打印出所有的\"水仙花数\"，\n",
    "所谓\"水仙花数\"是指一个三位数，其各位数字立方和等于该数本身。\n",
    "例如：153是一个\"水仙花数\"，因为153=1的三次方＋5的三次方＋3的三次方。"
   ]
  },
  {
   "cell_type": "code",
   "execution_count": 27,
   "metadata": {},
   "outputs": [],
   "source": [
    "def ex_013():\n",
    "    '''\n",
    "    【个人备注】： // 取整，% 求余，**3 三次方。知道取整求余写法的就没问题。\n",
    "    '''\n",
    "    arr = list()\n",
    "    for i in range (100, 1000):\n",
    "        z = i // 100 #百位\n",
    "        y = i % 100 // 10 #十位\n",
    "        x = i % 10 #個位\n",
    "        if z**3+ y**3 +x**3 == i:\n",
    "            arr.append(i)\n",
    "            return i\n"
   ]
  },
  {
   "cell_type": "code",
   "execution_count": 28,
   "metadata": {},
   "outputs": [
    {
     "data": {
      "text/plain": [
       "153"
      ]
     },
     "execution_count": 28,
     "metadata": {},
     "output_type": "execute_result"
    }
   ],
   "source": [
    "ex_013()"
   ]
  },
  {
   "cell_type": "markdown",
   "metadata": {},
   "source": [
    "**题目014：**\n",
    "\n",
    "将一个正整数分解质因数。例如：输入90,打印出90=2 * 3  *3 * 5。"
   ]
  },
  {
   "cell_type": "code",
   "execution_count": 30,
   "metadata": {},
   "outputs": [],
   "source": [
    "def ex_014():\n",
    "    '''\n",
    "  【个人备注】：拆到拆不动为止，类似012题。\n",
    "    '''\n",
    "    import math\n",
    "    num = int(input('輸入一個數'))\n",
    "    arr = []\n",
    "    while num > 1:\n",
    "        for i in range(2, int(math.sqrt(num))+1): #因为题目是一个没写范围正整数，开方可以有效减少该值过大时候的计算量\n",
    "            if num%i==0:\n",
    "                arr.append(i)\n",
    "                num = num//i\n",
    "                break\n",
    "        else:\n",
    "            arr.append(num)\n",
    "            break\n",
    "        print(arr)"
   ]
  },
  {
   "cell_type": "code",
   "execution_count": 31,
   "metadata": {},
   "outputs": [
    {
     "name": "stdout",
     "output_type": "stream",
     "text": [
      "輸入一個數100\n",
      "[2]\n",
      "[2, 2]\n",
      "[2, 2, 5]\n"
     ]
    }
   ],
   "source": [
    "ex_014()"
   ]
  },
  {
   "cell_type": "markdown",
   "metadata": {},
   "source": [
    "**题目015：**\n",
    "\n",
    "利用条件运算符的嵌套来完成此题：学习成绩>=90分的同学用A表示，60-89分之间的用B表示，60分以下的用C表示。"
   ]
  },
  {
   "cell_type": "code",
   "execution_count": 38,
   "metadata": {},
   "outputs": [],
   "source": [
    "def ex_015():\n",
    "    score = float(input('輸入一個成績: ')) \n",
    "    if score >= 90:\n",
    "        print('A') \n",
    "    elif score >= 60:\n",
    "        print('B')\n",
    "    else:\n",
    "        print('C')"
   ]
  },
  {
   "cell_type": "code",
   "execution_count": 39,
   "metadata": {},
   "outputs": [
    {
     "name": "stdout",
     "output_type": "stream",
     "text": [
      "輸入一個成績: 92\n",
      "A\n"
     ]
    }
   ],
   "source": [
    "ex_015()"
   ]
  },
  {
   "cell_type": "markdown",
   "metadata": {},
   "source": [
    "**题目016:**\n",
    "\n",
    "输出指定格式的日期。"
   ]
  },
  {
   "cell_type": "code",
   "execution_count": 65,
   "metadata": {},
   "outputs": [],
   "source": [
    "def ex_016():\n",
    "    import time\n",
    "    print(time.time()) #時間戳\n",
    "    print(time.localtime()) #時間元祖\n",
    "    print(time.asctime()) #時間的一種可讀文本形式\n",
    "    print(time.strftime('%Y-%m-%d %H:%M:%S', time.localtime())) #按照文本格式輸入時間 \n",
    "    print('\\t')\n",
    "    \n",
    "    st = time.localtime(time.time()) # 时间戳 转化成 时间元祖\n",
    "    st = time.strptime('2018/1/23', '%Y/%m/%d') # 时间文本 转化成 时间元祖\n",
    "    date = time.strftime('%Y-%m-%d', st) # 时间元祖 转化成 时间文本 '%Y-%m-%d %H:%M:%S'\n",
    "    print(date) # 前面两条函数配合着用，相当于将时间文本重新格式化。\n",
    "    print('\\t')\n",
    "    \n",
    "    # 另外我们可以通过datetime模块来计算时间差，例如：\n",
    "    import datetime\n",
    "    dt1 = datetime.datetime.fromtimestamp(1517302458)\n",
    "    print(dt1, type(dt1))\n",
    "    dt2 = datetime.datetime.now()\n",
    "    print(dt2)\n",
    "    print('相差%d天零%.1f個小時' %((dt2-dt1).days, (dt2-dt1).seconds/60/60))\n",
    "    \n",
    "    d1 = datetime.datetime.strptime('2017-10-16 19:21:22', '%Y-%m-%d %H:%M:%S')"
   ]
  },
  {
   "cell_type": "code",
   "execution_count": 66,
   "metadata": {},
   "outputs": [
    {
     "name": "stdout",
     "output_type": "stream",
     "text": [
      "1597198690.538579\n",
      "time.struct_time(tm_year=2020, tm_mon=8, tm_mday=11, tm_hour=22, tm_min=18, tm_sec=10, tm_wday=1, tm_yday=224, tm_isdst=1)\n",
      "Tue Aug 11 22:18:10 2020\n",
      "2020-08-11 22:18:10\n",
      "\t\n",
      "2018-01-23\n",
      "\t\n",
      "2018-01-30 03:54:18 <class 'datetime.datetime'>\n",
      "2020-08-11 22:18:10.539042\n",
      "相差924天零18.4個小時\n"
     ]
    }
   ],
   "source": [
    "ex_016()"
   ]
  },
  {
   "cell_type": "markdown",
   "metadata": {},
   "source": [
    "**题目017：**\n",
    "\n",
    "输入一行字符，分别统计出其中英文字母、空格、数字和其它字符的个数。"
   ]
  },
  {
   "cell_type": "code",
   "execution_count": 68,
   "metadata": {},
   "outputs": [],
   "source": [
    "def ex_017():\n",
    "    '''\n",
    "  【个人备注】：本来想写成这种格式来着\n",
    "  import string\n",
    "  if c in string.ascii_letters: # abcdefghijklmnopqrstuvwxyzABCDEFGHIJKLMNOPQRSTUVWXYZ\n",
    "  if c == ' ':         # 空格\n",
    "  if c in string.digits:    # 0123456789\n",
    "  看了参考答案才知道有现成的函数可以用。\n",
    "  其实随便哪种都行，甚至直接把一串字母粘上去看起来更直接。\n",
    "    '''\n",
    "    s = input('input a string:\\n')\n",
    "    letters, space, digit, others = 0,0,0,0\n",
    "    for c in s:\n",
    "        if c.isalpha():\n",
    "            letters += 1\n",
    "        elif c.isspace():\n",
    "            space += 1\n",
    "        elif c.isdigit():\n",
    "            digit += 1\n",
    "        else:\n",
    "            others += 1\n",
    "    print('char = %d, space = %d, digit = %d, others = %d' % (letters, space, digit, others))"
   ]
  },
  {
   "cell_type": "code",
   "execution_count": 70,
   "metadata": {},
   "outputs": [
    {
     "name": "stdout",
     "output_type": "stream",
     "text": [
      "input a string:\n",
      "fsfj 3fewou32y8745=!@%$#%@ngl\n",
      "char = 13, space = 1, digit = 7, others = 8\n"
     ]
    }
   ],
   "source": [
    "ex_017()"
   ]
  },
  {
   "cell_type": "markdown",
   "metadata": {},
   "source": [
    "**题目018：**\n",
    "\n",
    "求s=a+aa+aaa+aaaa+aa...a的值，其中a是一个数字。例如2+22+222+2222+22222(此时共有5个数相加)，几个数相加由键盘控制。"
   ]
  },
  {
   "cell_type": "code",
   "execution_count": 76,
   "metadata": {},
   "outputs": [],
   "source": [
    "def ex_018():\n",
    "    '''\n",
    "  【个人备注】：答案给的解法很多种，但是我还是认为我写的方法最简单。\n",
    "  2+22+222+2222+22222\n",
    "  可以理解为：\n",
    "  20000 + 2*2000 + 3*200 + 4*20 + 5*2\n",
    "  也就是：\n",
    "  1*2*10^4 + 2*2*10^3 + 3*2*10^2 + 4*2*10^1 + 5*2*10^0\n",
    "  所以简单迭代就可以出结果\n",
    "    '''\n",
    "    a = 2\n",
    "    t = 5\n",
    "    num = 0\n",
    "    for i in range(1, t+1):\n",
    "        num += i*a*(10**(t-i))\n",
    "    print(num)"
   ]
  },
  {
   "cell_type": "code",
   "execution_count": 77,
   "metadata": {},
   "outputs": [
    {
     "name": "stdout",
     "output_type": "stream",
     "text": [
      "24690\n"
     ]
    }
   ],
   "source": [
    "ex_018()"
   ]
  },
  {
   "cell_type": "markdown",
   "metadata": {},
   "source": [
    "**题目019：**\n",
    "\n",
    "一个数如果恰好等于它的因子之和，这个数就称为\"完数\"。例如6=1＋2＋3.编程找出1000以内的所有完数。"
   ]
  },
  {
   "cell_type": "code",
   "execution_count": 84,
   "metadata": {},
   "outputs": [],
   "source": [
    "def ex_019():\n",
    "    '''\n",
    "  【个人备注】：题意看的不是太懂，于是百度了一下：完数就是除了自身之外的所有约数之和等于他本身。\n",
    "  第一个完全数是6，它有约数1、2、3、6，除去它本身6外，其余3个数相加，1+2+3=6。\n",
    "  第二个完全数是28，它有约数1、2、4、7、14、28，除去它本身28外，其余5个数相加，1+2+4+7+14=28。\n",
    "  终于看懂了题意。\n",
    "  先求出所有约数，然后求和比一下是否相等就行了，没有难度\n",
    "    '''\n",
    "    for num in range(1, 1000):\n",
    "        arr = []\n",
    "        for i in range(1, num):\n",
    "            if num%i==0:\n",
    "                arr.append(i)\n",
    "        if sum(arr)==num:\n",
    "            print(num, arr)"
   ]
  },
  {
   "cell_type": "code",
   "execution_count": 85,
   "metadata": {},
   "outputs": [
    {
     "name": "stdout",
     "output_type": "stream",
     "text": [
      "6 [1, 2, 3]\n",
      "28 [1, 2, 4, 7, 14]\n",
      "496 [1, 2, 4, 8, 16, 31, 62, 124, 248]\n"
     ]
    }
   ],
   "source": [
    "ex_019()"
   ]
  },
  {
   "cell_type": "markdown",
   "metadata": {},
   "source": [
    "**题目020**\n",
    "\n",
    "一球从100米高度自由落下，每次落地后反跳回原高度的一半；再落下，求它在第10次落地时，共经过多少米？第10次反弹多高？"
   ]
  },
  {
   "cell_type": "code",
   "execution_count": 86,
   "metadata": {},
   "outputs": [],
   "source": [
    "def ex_020():\n",
    "    total = 0\n",
    "    m = 100 #第一次落地，經過了一百米\n",
    "    total += m \n",
    "    for i in range(10-1): # 之後9次彈起到落地\n",
    "        m = m / 2\n",
    "        total += 2 * m # 彈起然後重新落地， 一共經過的距離\n",
    "    print(total)\n",
    "    print(m/2)"
   ]
  },
  {
   "cell_type": "code",
   "execution_count": 87,
   "metadata": {},
   "outputs": [
    {
     "name": "stdout",
     "output_type": "stream",
     "text": [
      "299.609375\n",
      "0.09765625\n"
     ]
    }
   ],
   "source": [
    "ex_020()"
   ]
  },
  {
   "cell_type": "markdown",
   "metadata": {},
   "source": [
    "**题目021：**\n",
    "\n",
    "猴子吃桃问题\n",
    "猴子第一天摘下若干个桃子，当即吃了一半，还不瘾，又多吃了一个\n",
    "第二天早上又将剩下的桃子吃掉一半，又多吃了一个。\n",
    "以后每天早上都吃了前一天剩下的一半零一个。\n",
    "到第10天早上想再吃时，见只剩下一个桃子了。\n",
    "求第一天共摘了多少。"
   ]
  },
  {
   "cell_type": "code",
   "execution_count": 89,
   "metadata": {},
   "outputs": [],
   "source": [
    "def ex_021():\n",
    "    '''\n",
    "  【个人备注】：第十天num=1个，第九天必然是4个：4/2-1=1，也就是(num+1)*2=4。\n",
    "  做这种题，先用算数式列出来，然后用代码描述就行了。\n",
    "    '''\n",
    "    num = 1\n",
    "    for i in range(10-1):\n",
    "        num = (num + 1)*2\n",
    "    print(num)"
   ]
  },
  {
   "cell_type": "code",
   "execution_count": 90,
   "metadata": {},
   "outputs": [
    {
     "name": "stdout",
     "output_type": "stream",
     "text": [
      "1534\n"
     ]
    }
   ],
   "source": [
    "ex_021()"
   ]
  },
  {
   "cell_type": "markdown",
   "metadata": {},
   "source": [
    "**题目022：**\n",
    "\n",
    "两个乒乓球队进行比赛，各出三人。\n",
    "甲队为a,b,c三人，乙队为x,y,z三人。\n",
    "已抽签决定比赛名单。有人向队员打听比赛的名单。\n",
    "a说他不和x比，c说他不和x,z比，请编程序找出三队赛手的名单。"
   ]
  },
  {
   "cell_type": "code",
   "execution_count": 94,
   "metadata": {},
   "outputs": [],
   "source": [
    "def ex_022():\n",
    "    '''\n",
    "  【个人备注】：关键是将抽象化，将问题抽象成代码方式。\n",
    "  我的解题思路，是用排列组合函数，列出方案，然后排除。\n",
    "  而官方解答里面有一个纯粹的for循环加if的求解方式，\n",
    "  更抽象一些，用了一个很常用固定范式，直接拿来解题了。\n",
    "  稍微对其抽象的方法注释了一下。\n",
    "    '''\n",
    "    import itertools\n",
    "    jia = ['a', 'b', 'c']\n",
    "    yi = ['x', 'y', 'z']\n",
    "    arr = list(itertools.permutations(yi,3)) # 面对甲队a,b,c时，乙队所有排列 [('x', 'y', 'z'), ('x', 'z', 'y'), \n",
    "                                            # ('y', 'x', 'z'), ('y', 'z', 'x'), ('z', 'x', 'y'), ('z', 'y', 'x')]\n",
    "    arr = [[jia[i] + a[i] for i in range(3)] for a in arr] #将a,b,c写上，得到所有对阵组合 [['ax', 'by', 'cz'], ['ax', 'bz', 'cy'], \n",
    "                                            #['ay', 'bx', 'cz'], ['ay', 'bz', 'cx'], ['az', 'bx', 'cy'], ['az', 'by', 'cx']]\n",
    "    for i in arr:\n",
    "        if 'ax' in i:\n",
    "            pass\n",
    "        elif 'cx' in i or 'cz' in i:\n",
    "            pass\n",
    "        else:\n",
    "            print(i) # 得到 ['az', 'bx', 'cy']"
   ]
  },
  {
   "cell_type": "code",
   "execution_count": 95,
   "metadata": {},
   "outputs": [
    {
     "name": "stdout",
     "output_type": "stream",
     "text": [
      "['az', 'bx', 'cy']\n"
     ]
    }
   ],
   "source": [
    "ex_022()"
   ]
  },
  {
   "cell_type": "code",
   "execution_count": 98,
   "metadata": {},
   "outputs": [],
   "source": [
    "# method 2\n",
    "def ex_022_2nd():\n",
    "    for a in ['x', 'y', 'z']: # a在x,y,z中挑一个打\n",
    "        for b in ['x', 'y', 'z']: # b在x,y,z中挑一个打\n",
    "            for c in ['x', 'y', 'z']: # c在x,y,z中挑一个打 三层总计27种打法\n",
    "                if a!=b and b!=c and c!=a: # a,b,c不能挑同一个人 缩减到6种打法\n",
    "                    if a!='x' and c!='x' and c!='z': # 依据题意不能ax,cx,cz 缩减到1种打法\n",
    "                        print('a' + a, 'b' + b, 'c' + c)"
   ]
  },
  {
   "cell_type": "code",
   "execution_count": 99,
   "metadata": {},
   "outputs": [
    {
     "name": "stdout",
     "output_type": "stream",
     "text": [
      "az bx cy\n"
     ]
    }
   ],
   "source": [
    "ex_022_2nd()"
   ]
  },
  {
   "cell_type": "code",
   "execution_count": 1,
   "metadata": {},
   "outputs": [
    {
     "data": {
      "text/plain": [
       "'\\n题目023：\\n打印出如下图案（菱形）:\\n\\n*\\n***\\n*****\\n*******\\n*****\\n***\\n *\\n'"
      ]
     },
     "execution_count": 1,
     "metadata": {},
     "output_type": "execute_result"
    }
   ],
   "source": [
    " '''\n",
    "题目023：\n",
    "打印出如下图案（菱形）:\n",
    "\n",
    " *\n",
    " ***\n",
    " *****\n",
    "*******\n",
    " *****\n",
    " ***\n",
    "  *\n",
    " '''"
   ]
  },
  {
   "cell_type": "code",
   "execution_count": 4,
   "metadata": {},
   "outputs": [],
   "source": [
    "def ex_023():\n",
    "    '''\n",
    "  【个人备注】：想到了绝对值，\n",
    "  然后将[0,1,2,3,4,5,6]变成了[3,2,1,0,1,2,3]，也就是每行左边空格数。\n",
    "    '''\n",
    "    num = 7\n",
    "    for i in range(num):\n",
    "        blank = abs(num//2 - i)\n",
    "        print(' '*blank + '*'*(num - 2*blank) + ' '* blank)"
   ]
  },
  {
   "cell_type": "code",
   "execution_count": 5,
   "metadata": {},
   "outputs": [
    {
     "name": "stdout",
     "output_type": "stream",
     "text": [
      "   *   \n",
      "  ***  \n",
      " ***** \n",
      "*******\n",
      " ***** \n",
      "  ***  \n",
      "   *   \n"
     ]
    }
   ],
   "source": [
    "ex_023()"
   ]
  },
  {
   "cell_type": "code",
   "execution_count": null,
   "metadata": {},
   "outputs": [],
   "source": []
  }
 ],
 "metadata": {
  "kernelspec": {
   "display_name": "Python 3",
   "language": "python",
   "name": "python3"
  },
  "language_info": {
   "codemirror_mode": {
    "name": "ipython",
    "version": 3
   },
   "file_extension": ".py",
   "mimetype": "text/x-python",
   "name": "python",
   "nbconvert_exporter": "python",
   "pygments_lexer": "ipython3",
   "version": "3.7.6"
  }
 },
 "nbformat": 4,
 "nbformat_minor": 4
}
