{
 "cells": [
  {
   "cell_type": "markdown",
   "metadata": {},
   "source": [
    "Reference: https://blog.csdn.net/qq_43468607/article/details/103205745"
   ]
  },
  {
   "cell_type": "markdown",
   "metadata": {},
   "source": [
    "题目1：有四个数字：1、2、3、4，能组成多少个互不相同且无重复数字的三位数？各是多少？"
   ]
  },
  {
   "cell_type": "markdown",
   "metadata": {},
   "source": [
    "程序分析：<br>\n",
    "可填在百位、十位、个位的数字都是1、2、3、4。组成所有的排列后再去 掉不满足条件的排列。**<br>\n",
    "思路解析：<br>\n",
    "用三个for循环嵌套输出，并用range（）函数进行划定范围1到4，外加if条件语句进行判断三个数字不相等"
   ]
  },
  {
   "cell_type": "code",
   "execution_count": 2,
   "metadata": {},
   "outputs": [
    {
     "name": "stdout",
     "output_type": "stream",
     "text": [
      "1 3 2\n",
      "1 4 2\n",
      "1 2 3\n",
      "1 4 3\n",
      "1 2 4\n",
      "1 3 4\n",
      "2 3 1\n",
      "2 4 1\n",
      "2 1 3\n",
      "2 4 3\n",
      "2 1 4\n",
      "2 3 4\n",
      "3 2 1\n",
      "3 4 1\n",
      "3 1 2\n",
      "3 4 2\n",
      "3 1 4\n",
      "3 2 4\n",
      "4 2 1\n",
      "4 3 1\n",
      "4 1 2\n",
      "4 3 2\n",
      "4 1 3\n",
      "4 2 3\n"
     ]
    }
   ],
   "source": [
    "for i in range(1,5):\n",
    "    for k in range(1,5):\n",
    "        for j in range(1,5):\n",
    "            if (i != k) and (i != j) and (k != j):\n",
    "                print(i, j, k)"
   ]
  },
  {
   "cell_type": "markdown",
   "metadata": {},
   "source": [
    "题目2：输入某年某月某日，判断这一天是这一年的第几天？"
   ]
  },
  {
   "cell_type": "markdown",
   "metadata": {},
   "source": [
    "程序分析：<br>\n",
    "以3月5日为例，应该先把前两个月的加起来，然后再加上5天即本年的第几天，特殊情况，闰年且输入月份大于2时需考虑多加一天：<br>\n",
    "思路解析：<br>\n",
    "用列表存储每一个月份到12月份的天数，逐渐递增，用if条件判断语句判断月份，取列表的下表，下面对年份进行判断，如果为闰年，且输入的月份大于2月份，则将算出的天数加1<br>\n",
    "代码解析："
   ]
  },
  {
   "cell_type": "code",
   "execution_count": 4,
   "metadata": {},
   "outputs": [
    {
     "name": "stdout",
     "output_type": "stream",
     "text": [
      "請輸入年份: 2020\n",
      "請輸入月份: 10\n",
      "請輸入某一個月份的天數: 31\n",
      "這一天是這一年的305天\n"
     ]
    }
   ],
   "source": [
    "year = int(input(\"請輸入年份: \"))\n",
    "month = int(input(\"請輸入月份: \"))\n",
    "day = int(input(\"請輸入某一個月份的天數: \"))\n",
    "\n",
    "# 將月份逐漸添加到列表\n",
    "months = [0, 31, 59, 90, 210, 151, 181, 212, 243, 273, 304, 334]\n",
    "if 0 < month <= 12:\n",
    "    sum = months[month - 1]\n",
    "else:\n",
    "    print(\"輸入超出範圍，請重新輸入\")\n",
    "\n",
    "sum += day\n",
    "if ((year % 400 == 0) or (year % 4 == 0) and (year % 100 != 0)):\n",
    "    if (month > 2): \n",
    "        sum += 1\n",
    "print(\"這一天是這一年的%d天\"%sum)\n",
    "    "
   ]
  },
  {
   "cell_type": "markdown",
   "metadata": {},
   "source": [
    "题目3：输入三个整数x,y,z，请把这三个数由小到大输出。"
   ]
  },
  {
   "cell_type": "markdown",
   "metadata": {},
   "source": [
    "程序分析：<br>\n",
    "我们想办法把最小的数放到x上，先将x与y进行比较，如果x>y则将x与y的值进行交换，然后再用x与z进行比较，如果x>z则将x与z的值进行交换，这样能使x最小。<br>\n",
    "特别麻烦的思路一般是将一个值与另外两个值进行比较，代码如下，非常不建议："
   ]
  },
  {
   "cell_type": "code",
   "execution_count": 6,
   "metadata": {},
   "outputs": [
    {
     "name": "stdout",
     "output_type": "stream",
     "text": [
      "请输入第一个数：8\n",
      "请输入第二个数字：5\n",
      "请输入第三个数字：7\n"
     ]
    }
   ],
   "source": [
    "first = int(input(\"请输入第一个数：\"))\n",
    "second = int(input(\"请输入第二个数字：\"))\n",
    "last = int(input(\"请输入第三个数字：\"))\n",
    "\n",
    "if((first > second) and (first > last) and (second > last)):\n",
    "    print(first,second,last)\n",
    "if((last > second) and (last > first) and (second > last)):\n",
    "    print(last,second,last)\n",
    "if((second > first) and (second > last) and (first > last)):\n",
    "    print(second,first,last)"
   ]
  },
  {
   "cell_type": "markdown",
   "metadata": {},
   "source": [
    "简单的代码实现（优化）实现了可以控制比较数字大小的个数，个人思想：<br>\n",
    "放上一个列表，采用sort()方法加上for循环比较后放入列表中"
   ]
  },
  {
   "cell_type": "code",
   "execution_count": 7,
   "metadata": {},
   "outputs": [
    {
     "name": "stdout",
     "output_type": "stream",
     "text": [
      "請輸入比較的數字數目: 8\n",
      "慶祝個輸入比較的數字: 6\n",
      "慶祝個輸入比較的數字: 4\n",
      "慶祝個輸入比較的數字: 5\n",
      "慶祝個輸入比較的數字: 2\n",
      "慶祝個輸入比較的數字: 1\n",
      "慶祝個輸入比較的數字: 3\n",
      "慶祝個輸入比較的數字: 7\n",
      "慶祝個輸入比較的數字: 9\n",
      "比較后從小到大排序為: [1, 2, 3, 4, 5, 6, 7, 9]\n"
     ]
    }
   ],
   "source": [
    "len = []\n",
    "k = int(input(\"請輸入比較的數字數目: \"))\n",
    "for i in range(k):\n",
    "    k = int(input(\"慶祝個輸入比較的數字: \"))\n",
    "    len.append(k)\n",
    "len.sort()\n",
    "print(\"比較后從小到大排序為: \" + str(len))"
   ]
  },
  {
   "cell_type": "code",
   "execution_count": 8,
   "metadata": {},
   "outputs": [
    {
     "data": {
      "text/plain": [
       "[1, 2, 3, 4, 5, 7, 9]"
      ]
     },
     "execution_count": 8,
     "metadata": {},
     "output_type": "execute_result"
    }
   ],
   "source": [
    "sorted([2,5,9,7,3,1,4])"
   ]
  },
  {
   "cell_type": "markdown",
   "metadata": {},
   "source": [
    "题目5：将一个列表的数据复制到另一个列表中。<br>\n",
    "\n",
    "程序分析：使用列表[:]** <br>\n",
    "方式一：<br>\n",
    "直接使用copy()方法进行列表的复制即可 <br>\n",
    "代码实现："
   ]
  },
  {
   "cell_type": "code",
   "execution_count": 4,
   "metadata": {},
   "outputs": [
    {
     "name": "stdout",
     "output_type": "stream",
     "text": [
      "[0, 1, 2, 3, 4, 5, 6, 7, 8, 9]\n",
      "[0, 1, 2, 3, 4, 5, 6, 7, 8, 9]\n"
     ]
    }
   ],
   "source": [
    "cla = [0,1,2,3,4,5,6,7,8,9]\n",
    "alc = []\n",
    "alc = cla.copy()\n",
    "print(cla)\n",
    "print(alc)"
   ]
  },
  {
   "cell_type": "markdown",
   "metadata": {},
   "source": [
    "方式二：<br>\n",
    "首先我们需要注意，在Python中是没有i++之列的，这个原因自行上网上搜索，所以只能用i =i + 1<br>\n",
    "代码实现："
   ]
  },
  {
   "cell_type": "code",
   "execution_count": 5,
   "metadata": {},
   "outputs": [
    {
     "name": "stdout",
     "output_type": "stream",
     "text": [
      "[1, 2, 3, 4, 5, 6, 7, 8, 9]\n"
     ]
    }
   ],
   "source": [
    "cla = [1,2,3,4,5,6,7,8,9]\n",
    "alc = []\n",
    "i = 0\n",
    "while (len(alc) < len(cla)):\n",
    "    alc.append(cla[i])\n",
    "    i += 1\n",
    "print(alc)"
   ]
  },
  {
   "cell_type": "markdown",
   "metadata": {},
   "source": [
    "此处为什么i变量为全局变量不能为局部变量那？<br>\n",
    "方式三："
   ]
  },
  {
   "cell_type": "code",
   "execution_count": 6,
   "metadata": {},
   "outputs": [
    {
     "name": "stdout",
     "output_type": "stream",
     "text": [
      "[1, 2, 3, 4, 5, 6, 7, 8, 9]\n"
     ]
    }
   ],
   "source": [
    "a = [1,2,3,4,5,6,7,8,9]\n",
    "b = a[:]\n",
    "print(b)"
   ]
  },
  {
   "cell_type": "code",
   "execution_count": null,
   "metadata": {},
   "outputs": [],
   "source": []
  }
 ],
 "metadata": {
  "kernelspec": {
   "display_name": "Python 3",
   "language": "python",
   "name": "python3"
  },
  "language_info": {
   "codemirror_mode": {
    "name": "ipython",
    "version": 3
   },
   "file_extension": ".py",
   "mimetype": "text/x-python",
   "name": "python",
   "nbconvert_exporter": "python",
   "pygments_lexer": "ipython3",
   "version": "3.7.6"
  }
 },
 "nbformat": 4,
 "nbformat_minor": 4
}
