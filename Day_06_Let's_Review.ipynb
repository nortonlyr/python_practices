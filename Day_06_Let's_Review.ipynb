{
 "cells": [
  {
   "cell_type": "markdown",
   "metadata": {},
   "source": [
    "Objective Today we're expanding our knowledge of Strings and combining it with what we've already learned about loops. Check out the Tutorial tab for learning materials and an instructional video!\n",
    "\n",
    "Task Given a string, , of length that is indexed from to , print its even-indexed and odd-indexed characters as space-separated strings on a single line (see the Sample below for more detail).\n",
    "\n",
    "Note: is considered to be an even index.\n",
    "\n",
    "Input Format\n",
    "\n",
    "The first line contains an integer, (the number of test cases). Each line of the subsequent lines contain a String, .\n",
    "\n",
    "Constraints\n",
    "\n",
    "Output Format\n",
    "\n",
    "For each String (where ), print 's even-indexed characters, followed by a space, followed by 's odd-indexed characters.\n",
    "\n",
    "Sample Input\n",
    "\n",
    "2 Hacker Rank\n",
    "\n",
    "Sample Output\n",
    "\n",
    "Hce akr Rn ak\n",
    "\n",
    "Explanation\n",
    "\n",
    "Test Case 0:\n",
    "\n",
    "The even indices are , , and , and the odd indices are , , and . We then print a single line of space-separated strings; the first string contains the ordered characters from 's even indices (), and the second string contains the ordered characters from 's odd indices ().\n",
    "\n",
    "Test Case 1:\n",
    "\n",
    "The even indices are and , and the odd indices are and . We then print a single line of space-separated strings; the first string contains the ordered characters from 's even indices (), and the second string contains the ordered characters from 's odd indices ().\n",
    "\n",
    "https://www.hackerrank.com/challenges/30-review-loop/problem"
   ]
  },
  {
   "cell_type": "code",
   "execution_count": 1,
   "metadata": {},
   "outputs": [
    {
     "name": "stdout",
     "output_type": "stream",
     "text": [
      "3\n",
      "jupyter\n",
      "jptr uye\n",
      "2\n",
      "2 \n",
      "Nice\n",
      "Nc ie\n"
     ]
    }
   ],
   "source": [
    "T = int(input().strip())\n",
    "\n",
    "for i in range(T):\n",
    "    S = input().strip()\n",
    "    even = []\n",
    "    odd = []\n",
    "    for j in range(len(S)):\n",
    "        if j%2 == 0:\n",
    "            odd.append(S[j])\n",
    "        else:\n",
    "            even.append(S[j])\n",
    "    print('{0} {1}'.format(''.join(odd), ''.join(even)))"
   ]
  },
  {
   "cell_type": "code",
   "execution_count": 4,
   "metadata": {},
   "outputs": [
    {
     "name": "stdout",
     "output_type": "stream",
     "text": [
      "3\n",
      "nice\n",
      "nc ie\n",
      "8\n",
      "8 \n",
      "youaremyfriend\n",
      "yurmfin oaeyred\n"
     ]
    }
   ],
   "source": [
    "for i in range(int(input())):\n",
    "    s = input()\n",
    "    print(*[\"\".join(s[::2]), \"\".join(s[1::2])])"
   ]
  },
  {
   "cell_type": "code",
   "execution_count": null,
   "metadata": {},
   "outputs": [],
   "source": []
  }
 ],
 "metadata": {
  "kernelspec": {
   "display_name": "Python 3",
   "language": "python",
   "name": "python3"
  },
  "language_info": {
   "codemirror_mode": {
    "name": "ipython",
    "version": 3
   },
   "file_extension": ".py",
   "mimetype": "text/x-python",
   "name": "python",
   "nbconvert_exporter": "python",
   "pygments_lexer": "ipython3",
   "version": "3.7.6"
  }
 },
 "nbformat": 4,
 "nbformat_minor": 4
}
