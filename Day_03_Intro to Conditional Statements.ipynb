{
 "cells": [
  {
   "cell_type": "markdown",
   "metadata": {},
   "source": [
    "Objective In this challenge, we're getting started with conditional statements. Check out the Tutorial tab for learning materials and an instructional video!\n",
    "\n",
    "Task Given an integer, , perform the following conditional actions:\n",
    "\n",
    "If is odd, print Weird If is even and in the inclusive range of to , print Not Weird If is even and in the inclusive range of to , print Weird If is even and greater than , print Not Weird Complete the stub code provided in your editor to print whether or not is weird.\n",
    "\n",
    "Input Format\n",
    "\n",
    "A single line containing a positive integer, .\n",
    "\n",
    "Constraints\n",
    "\n",
    "Output Format\n",
    "\n",
    "Print Weird if the number is weird; otherwise, print Not Weird.\n",
    "\n",
    "Sample Input 0\n",
    "\n",
    "3 Sample Output 0\n",
    "\n",
    "Weird Sample Input 1\n",
    "\n",
    "24 Sample Output 1\n",
    "\n",
    "Not Weird Explanation\n",
    "\n",
    "Sample Case 0:\n",
    "is odd and odd numbers are weird, so we print Weird.\n",
    "\n",
    "Sample Case 1:\n",
    "and is even, so it isn't weird. Thus, we print Not Weird.\n",
    "\n",
    "https://www.hackerrank.com/challenges/30-conditional-statements/problem"
   ]
  },
  {
   "cell_type": "code",
   "execution_count": 4,
   "metadata": {},
   "outputs": [
    {
     "name": "stdout",
     "output_type": "stream",
     "text": [
      "26\n",
      "Not Weird\n"
     ]
    }
   ],
   "source": [
    "N = int(input().strip())\n",
    "\n",
    "if (N%2 != 0):\n",
    "    print('Weird')\n",
    "else:\n",
    "    if (N>=6 and N<=20):\n",
    "        print('Weird')\n",
    "    else: \n",
    "        print('Not Weird')"
   ]
  },
  {
   "cell_type": "code",
   "execution_count": null,
   "metadata": {},
   "outputs": [],
   "source": []
  }
 ],
 "metadata": {
  "kernelspec": {
   "display_name": "Python 3",
   "language": "python",
   "name": "python3"
  },
  "language_info": {
   "codemirror_mode": {
    "name": "ipython",
    "version": 3
   },
   "file_extension": ".py",
   "mimetype": "text/x-python",
   "name": "python",
   "nbconvert_exporter": "python",
   "pygments_lexer": "ipython3",
   "version": "3.7.6"
  }
 },
 "nbformat": 4,
 "nbformat_minor": 4
}
