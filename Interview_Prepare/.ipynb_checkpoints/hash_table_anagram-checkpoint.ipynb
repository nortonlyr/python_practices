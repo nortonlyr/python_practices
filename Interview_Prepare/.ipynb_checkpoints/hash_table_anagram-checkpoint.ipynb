{
 "cells": [
  {
   "cell_type": "code",
   "execution_count": 1,
   "id": "7fb0a6f8-e735-4feb-8df0-b805dbcce2b7",
   "metadata": {},
   "outputs": [],
   "source": [
    "# 给定两个字符串 s 和 t ，编写一个函数来判断 t 是否是 s 的字母异位词。\n",
    "\n",
    "# 示例 1: 输入: s = \"anagram\", t = \"nagaram\" 输出: true\n",
    "\n",
    "# 示例 2: 输入: s = \"rat\", t = \"car\" 输出: false"
   ]
  },
  {
   "cell_type": "code",
   "execution_count": 13,
   "id": "af2cb4eb-952e-43ab-a774-b13be3997504",
   "metadata": {},
   "outputs": [],
   "source": [
    "# hash method\n",
    "def isAnagram(s, t):\n",
    "    record = [0]*26\n",
    "    for i in range(len(s)):\n",
    "        # 并不需要记住字符a的ASCII, 只需要求出一个对数值就可以\n",
    "        record[ord(s[i]) - ord('a')] += 1\n",
    "    print (record)\n",
    "    \n",
    "    for i in range(len(t)):\n",
    "        record[ord(t[i]) - ord('a')] -= 1\n",
    "    for i in range(26):\n",
    "        if record[i] != 0:\n",
    "            # #record数组如果有的元素不为零0，说明字符串s和t 一定是谁多了字符或者谁少了字符\n",
    "            return False\n",
    "            # 如果有一个元素不为零，则可以判断字符串s和t不是字母异位词\n",
    "            break\n",
    "    return True\n",
    "    \n",
    "        "
   ]
  },
  {
   "cell_type": "code",
   "execution_count": 14,
   "id": "ee66c7e1-0442-47d2-b559-b8942b3047ee",
   "metadata": {},
   "outputs": [
    {
     "name": "stdout",
     "output_type": "stream",
     "text": [
      "[3, 0, 0, 0, 0, 0, 1, 0, 0, 0, 0, 0, 1, 1, 0, 0, 0, 1, 0, 0, 0, 0, 0, 0, 0, 0]\n"
     ]
    },
    {
     "data": {
      "text/plain": [
       "True"
      ]
     },
     "execution_count": 14,
     "metadata": {},
     "output_type": "execute_result"
    }
   ],
   "source": [
    "isAnagram('anagram', 'nagaram')"
   ]
  },
  {
   "cell_type": "code",
   "execution_count": 15,
   "id": "1af3a85a-2fb2-486d-96bd-419b639189c8",
   "metadata": {},
   "outputs": [
    {
     "name": "stdout",
     "output_type": "stream",
     "text": [
      "[5, 2, 2, 0, 0, 0, 1, 0, 0, 0, 0, 0, 1, 1, 0, 0, 0, 1, 0, 0, 0, 0, 0, 0, 0, 0]\n"
     ]
    },
    {
     "data": {
      "text/plain": [
       "False"
      ]
     },
     "execution_count": 15,
     "metadata": {},
     "output_type": "execute_result"
    }
   ],
   "source": [
    "isAnagram('bcaanagrambca', 'nagaram')"
   ]
  },
  {
   "cell_type": "code",
   "execution_count": null,
   "id": "989acffe-598b-46c3-8f7d-db812fc52d44",
   "metadata": {},
   "outputs": [],
   "source": []
  }
 ],
 "metadata": {
  "kernelspec": {
   "display_name": "Python 3 (ipykernel)",
   "language": "python",
   "name": "python3"
  },
  "language_info": {
   "codemirror_mode": {
    "name": "ipython",
    "version": 3
   },
   "file_extension": ".py",
   "mimetype": "text/x-python",
   "name": "python",
   "nbconvert_exporter": "python",
   "pygments_lexer": "ipython3",
   "version": "3.9.12"
  }
 },
 "nbformat": 4,
 "nbformat_minor": 5
}
