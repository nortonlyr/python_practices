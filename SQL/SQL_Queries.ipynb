{
 "cells": [
  {
   "cell_type": "markdown",
   "id": "8c12b6cb-d4cf-4df9-a15f-80fddb042c99",
   "metadata": {},
   "source": [
    "ALTER TABLE mytable\n",
    "ADD column DataType OptionalTableConstraint \n",
    "    DEFAULT default_value;"
   ]
  }
 ],
 "metadata": {
  "kernelspec": {
   "display_name": "Python 3 (ipykernel)",
   "language": "python",
   "name": "python3"
  },
  "language_info": {
   "codemirror_mode": {
    "name": "ipython",
    "version": 3
   },
   "file_extension": ".py",
   "mimetype": "text/x-python",
   "name": "python",
   "nbconvert_exporter": "python",
   "pygments_lexer": "ipython3",
   "version": "3.9.12"
  }
 },
 "nbformat": 4,
 "nbformat_minor": 5
}
