{
 "cells": [
  {
   "cell_type": "code",
   "execution_count": 1,
   "id": "a9e97b3a-3f9f-4c99-9839-94816ae2e3c8",
   "metadata": {},
   "outputs": [],
   "source": [
    "# v输入：s = 7, nums = [2,3,1,2,4,3] 输出：2 解释：子数组 [4,3] 是该条件下的长度最小的子数组\n",
    "# https://github.com/youngyangyang04/leetcode-master/blob/master/problems/0209.%E9%95%BF%E5%BA%A6%E6%9C%80%E5%B0%8F%E7%9A%84%E5%AD%90%E6%95%B0%E7%BB%84.md"
   ]
  },
  {
   "cell_type": "code",
   "execution_count": 6,
   "id": "bc998257-e31e-4c47-b0bd-9a7ef4e1bbe9",
   "metadata": {},
   "outputs": [],
   "source": [
    "def minSubArrayLen(s, nums) -> int:\n",
    "    # define a infinte large number\n",
    "    res = float('inf')\n",
    "    sum_ = 0\n",
    "    index = 0\n",
    "    for i in range(len(nums)):\n",
    "        sum_ += nums[i]\n",
    "        while sum_ >= s:\n",
    "            res =min(res, i-index+1)\n",
    "            sum_ -= nums[index]\n",
    "            index += 1\n",
    "    return 0 if res==float('inf') else res"
   ]
  },
  {
   "cell_type": "code",
   "execution_count": 7,
   "id": "0666d4ea-2966-416f-a9cb-25f4c4f35cf0",
   "metadata": {},
   "outputs": [],
   "source": [
    "nums = [2,3,1,2,4,3]\n",
    "s = 8"
   ]
  },
  {
   "cell_type": "code",
   "execution_count": 8,
   "id": "8a386e58-7ab8-4b45-8d5d-ee9280eb6c2c",
   "metadata": {},
   "outputs": [
    {
     "data": {
      "text/plain": [
       "3"
      ]
     },
     "execution_count": 8,
     "metadata": {},
     "output_type": "execute_result"
    }
   ],
   "source": [
    "minSubArrayLen(s, nums)"
   ]
  },
  {
   "cell_type": "code",
   "execution_count": null,
   "id": "3ccf0b44-e4ba-4b04-8ed0-43848adfca0d",
   "metadata": {},
   "outputs": [],
   "source": []
  }
 ],
 "metadata": {
  "kernelspec": {
   "display_name": "Python 3 (ipykernel)",
   "language": "python",
   "name": "python3"
  },
  "language_info": {
   "codemirror_mode": {
    "name": "ipython",
    "version": 3
   },
   "file_extension": ".py",
   "mimetype": "text/x-python",
   "name": "python",
   "nbconvert_exporter": "python",
   "pygments_lexer": "ipython3",
   "version": "3.9.12"
  }
 },
 "nbformat": 4,
 "nbformat_minor": 5
}
