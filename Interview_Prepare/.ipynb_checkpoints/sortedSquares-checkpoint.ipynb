{
 "cells": [
  {
   "cell_type": "code",
   "execution_count": 1,
   "id": "a2948ebf-6931-43c4-9a74-477f48a52c78",
   "metadata": {},
   "outputs": [],
   "source": [
    "# O (n+nlogn)"
   ]
  },
  {
   "cell_type": "code",
   "execution_count": null,
   "id": "ebfdd617-84e1-4f84-9ace-61afb8fff3ae",
   "metadata": {},
   "outputs": [],
   "source": [
    "# O(n) double index"
   ]
  },
  {
   "cell_type": "code",
   "execution_count": 31,
   "id": "b5f7831e-e837-4819-ae25-970fc0411918",
   "metadata": {},
   "outputs": [],
   "source": [
    "def sortedSquare(nums):\n",
    "    n = len(nums)\n",
    "    i, j, k = 0, n-1, n-1\n",
    "    ans = [-1]*n\n",
    "    while i<=j:\n",
    "        lm = nums[i]**2\n",
    "        rm = nums[j]**2\n",
    "        if lm > rm:\n",
    "            ans[k] = lm\n",
    "            i += 1\n",
    "        else:\n",
    "            ans[k] = rm\n",
    "            j -= 1\n",
    "        k -= 1\n",
    "    return ans"
   ]
  },
  {
   "cell_type": "code",
   "execution_count": 32,
   "id": "e4f1a52b-4a0f-476b-a4e5-71b27e44bac8",
   "metadata": {},
   "outputs": [
    {
     "data": {
      "text/plain": [
       "[1, 4, 16, 49, 121]"
      ]
     },
     "execution_count": 32,
     "metadata": {},
     "output_type": "execute_result"
    }
   ],
   "source": [
    "sortedSquare(nums)"
   ]
  },
  {
   "cell_type": "code",
   "execution_count": 33,
   "id": "0609cfce-9eb1-4f91-ba11-44c085d657de",
   "metadata": {},
   "outputs": [],
   "source": [
    "nums = [-4, -1, 2, 7, 11]"
   ]
  },
  {
   "cell_type": "code",
   "execution_count": null,
   "id": "17577488-5bf9-4644-99f8-03ce4eb4782e",
   "metadata": {},
   "outputs": [],
   "source": []
  },
  {
   "cell_type": "code",
   "execution_count": null,
   "id": "7753f3f7-e672-46f3-ac2d-c2ac6efc9072",
   "metadata": {},
   "outputs": [],
   "source": []
  },
  {
   "cell_type": "code",
   "execution_count": null,
   "id": "34816cbf-e208-46dd-bbc0-b063c2da4a9a",
   "metadata": {},
   "outputs": [],
   "source": []
  }
 ],
 "metadata": {
  "kernelspec": {
   "display_name": "Python 3 (ipykernel)",
   "language": "python",
   "name": "python3"
  },
  "language_info": {
   "codemirror_mode": {
    "name": "ipython",
    "version": 3
   },
   "file_extension": ".py",
   "mimetype": "text/x-python",
   "name": "python",
   "nbconvert_exporter": "python",
   "pygments_lexer": "ipython3",
   "version": "3.9.12"
  }
 },
 "nbformat": 4,
 "nbformat_minor": 5
}
