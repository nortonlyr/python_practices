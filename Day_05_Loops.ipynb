{
 "cells": [
  {
   "cell_type": "markdown",
   "metadata": {},
   "source": [
    "Objective In this challenge, we're going to use loops to help us do some simple math. Check out the Tutorial tab to learn more.\n",
    "\n",
    "Task Given an integer, , print its first multiples. Each multiple (where ) should be printed on a new line in the form: n x i = result.\n",
    "\n",
    "Input Format\n",
    "\n",
    "A single integer, .\n",
    "\n",
    "Constraints\n",
    "\n",
    "Output Format\n",
    "\n",
    "Print lines of output; each line (where ) contains the of in the form: n x i = result.\n",
    "\n",
    "Sample Input\n",
    "\n",
    "2\n",
    "\n",
    "Sample Output\n",
    "\n",
    "2 x 1 = 2\n",
    "\n",
    "2 x 2 = 4\n",
    "\n",
    "2 x 3 = 6\n",
    "\n",
    "2 x 4 = 8\n",
    "\n",
    "2 x 5 = 10\n",
    "\n",
    "2 x 6 = 12\n",
    "\n",
    "2 x 7 = 14\n",
    "\n",
    "2 x 8 = 16\n",
    "\n",
    "2 x 9 = 18\n",
    "\n",
    "2 x 10 = 20\n",
    "\n",
    "https://www.hackerrank.com/challenges/30-loops/problem"
   ]
  },
  {
   "cell_type": "code",
   "execution_count": 2,
   "metadata": {},
   "outputs": [
    {
     "name": "stdout",
     "output_type": "stream",
     "text": [
      "3\n",
      "3 x 1 = 3\n",
      "3 x 2 = 6\n",
      "3 x 3 = 9\n",
      "3 x 4 = 12\n",
      "3 x 5 = 15\n",
      "3 x 6 = 18\n",
      "3 x 7 = 21\n",
      "3 x 8 = 24\n",
      "3 x 9 = 27\n",
      "3 x 10 = 30\n"
     ]
    }
   ],
   "source": [
    "n = int(input().strip())\n",
    "\n",
    "for i in range(10):\n",
    "    print('{0} x {1} = {2}'.format(n, i+1, n*(i+1)))"
   ]
  },
  {
   "cell_type": "code",
   "execution_count": null,
   "metadata": {},
   "outputs": [],
   "source": []
  }
 ],
 "metadata": {
  "kernelspec": {
   "display_name": "Python 3",
   "language": "python",
   "name": "python3"
  },
  "language_info": {
   "codemirror_mode": {
    "name": "ipython",
    "version": 3
   },
   "file_extension": ".py",
   "mimetype": "text/x-python",
   "name": "python",
   "nbconvert_exporter": "python",
   "pygments_lexer": "ipython3",
   "version": "3.7.6"
  }
 },
 "nbformat": 4,
 "nbformat_minor": 4
}
