{
 "cells": [
  {
   "cell_type": "markdown",
   "metadata": {},
   "source": [
    "Objective Today we're discussing scope. Check out the Tutorial tab for learning materials and an instructional video!\n",
    "\n",
    "The absolute difference between two integers, and , is written as . The maximum absolute difference between two integers in a set of positive integers, , is the largest absolute difference between any two integers in .\n",
    "\n",
    "The Difference class is started for you in the editor. It has a private integer array () for storing non-negative integers, and a public integer () for storing the maximum absolute difference.\n",
    "\n",
    "Task Complete the Difference class by writing the following:\n",
    "\n",
    "A class constructor that takes an array of integers as a parameter and saves it to the instance variable. A computeDifference method that finds the maximum absolute difference between any numbers in and stores it in the instance variable. Input Format\n",
    "\n",
    "You are not responsible for reading any input from stdin. The locked Solution class in your editor reads in lines of input; the first line contains , and the second line describes the array.\n",
    "\n",
    "Constraints\n",
    "\n",
    ", where Output Format\n",
    "\n",
    "You are not responsible for printing any output; the Solution class will print the value of the instance variable.\n",
    "\n",
    "Sample Input\n",
    "\n",
    "3 1 2 5 \n",
    "\n",
    "Sample Output\n",
    "\n",
    "4 \n",
    "\n",
    "Explanation\n",
    "\n",
    "The scope of the array and integer is the entire class instance. The class constructor saves the argument passed to the constructor as the instance variable (where the computeDifference method can access it).\n",
    "\n",
    "To find the maximum difference, computeDifference checks each element in the array and finds the maximum difference between any elements:\n",
    "\n",
    "The maximum of these differences is , so it saves the value as the instance variable. The locked stub code in the editor then prints the value stored as , which is .\n",
    "\n",
    "https://www.hackerrank.com/challenges/30-scope/problem"
   ]
  },
  {
   "cell_type": "code",
   "execution_count": 1,
   "metadata": {},
   "outputs": [],
   "source": [
    "class Difference:\n",
    "    def __init__(self, a):\n",
    "        self.__elements = a\n",
    "    def computeDifference(self):\n",
    "        self.maximumDifference = max(self.__elements) - min(self.__elements)"
   ]
  },
  {
   "cell_type": "code",
   "execution_count": 5,
   "metadata": {},
   "outputs": [
    {
     "name": "stdout",
     "output_type": "stream",
     "text": [
      "4\n",
      "3 5 7 10\n",
      "7\n"
     ]
    }
   ],
   "source": [
    "_ = input()\n",
    "a = [int(e) for e in input().split(' ')]\n",
    "d = Difference(a)\n",
    "d.computeDifference()\n",
    "\n",
    "print(d.maximumDifference)"
   ]
  },
  {
   "cell_type": "code",
   "execution_count": null,
   "metadata": {},
   "outputs": [],
   "source": []
  },
  {
   "cell_type": "code",
   "execution_count": null,
   "metadata": {},
   "outputs": [],
   "source": []
  }
 ],
 "metadata": {
  "kernelspec": {
   "display_name": "Python 3",
   "language": "python",
   "name": "python3"
  },
  "language_info": {
   "codemirror_mode": {
    "name": "ipython",
    "version": 3
   },
   "file_extension": ".py",
   "mimetype": "text/x-python",
   "name": "python",
   "nbconvert_exporter": "python",
   "pygments_lexer": "ipython3",
   "version": "3.7.6"
  }
 },
 "nbformat": 4,
 "nbformat_minor": 4
}
