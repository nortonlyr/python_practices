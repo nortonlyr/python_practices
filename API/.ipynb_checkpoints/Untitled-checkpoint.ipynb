{
 "cells": [
  {
   "cell_type": "code",
   "execution_count": 12,
   "id": "59e2d926-7516-4d04-8412-457f4f20adc6",
   "metadata": {},
   "outputs": [],
   "source": [
    "# https://api.github.com/search/repositories?q=language:python&sort=stars"
   ]
  },
  {
   "cell_type": "code",
   "execution_count": null,
   "id": "2b2c3fb6-ad90-4f83-8f4e-3269c7d17b5a",
   "metadata": {},
   "outputs": [],
   "source": []
  },
  {
   "cell_type": "code",
   "execution_count": 4,
   "id": "d9977167-240c-494e-8892-9a0c4f0d5011",
   "metadata": {},
   "outputs": [],
   "source": [
    "import requests"
   ]
  },
  {
   "cell_type": "code",
   "execution_count": 5,
   "id": "ee00d983-5c86-4460-b1bc-2857b93ddda7",
   "metadata": {},
   "outputs": [],
   "source": [
    "url = 'https://api.github.com/search/repositories?q=language:python&sort=stars'"
   ]
  },
  {
   "cell_type": "code",
   "execution_count": 7,
   "id": "8c8d7b72-3a62-4427-8418-3c7ca50127d8",
   "metadata": {},
   "outputs": [],
   "source": [
    "r = requests.get(url)"
   ]
  },
  {
   "cell_type": "code",
   "execution_count": 13,
   "id": "49683758-24d0-49e9-8f74-c9fb7f778322",
   "metadata": {},
   "outputs": [
    {
     "name": "stdout",
     "output_type": "stream",
     "text": [
      "<Response [200]>\n"
     ]
    }
   ],
   "source": [
    "print (r)"
   ]
  },
  {
   "cell_type": "code",
   "execution_count": 9,
   "id": "8772aa3f-864e-4675-b693-f075ba97ade5",
   "metadata": {},
   "outputs": [
    {
     "name": "stdout",
     "output_type": "stream",
     "text": [
      "Status_code: 200\n"
     ]
    }
   ],
   "source": [
    "print('Status_code:', r.status_code)"
   ]
  },
  {
   "cell_type": "code",
   "execution_count": 14,
   "id": "427972b9-cfa3-46df-bf48-3c0d5228fa2b",
   "metadata": {},
   "outputs": [],
   "source": [
    "response_dict = r.json()"
   ]
  },
  {
   "cell_type": "code",
   "execution_count": 18,
   "id": "c6920340-8519-432e-8611-aa54c0d19757",
   "metadata": {},
   "outputs": [
    {
     "data": {
      "text/plain": [
       "dict_keys(['total_count', 'incomplete_results', 'items'])"
      ]
     },
     "execution_count": 18,
     "metadata": {},
     "output_type": "execute_result"
    }
   ],
   "source": [
    "response_dict.keys()"
   ]
  },
  {
   "cell_type": "code",
   "execution_count": null,
   "id": "621da723-68ef-425f-997c-de2ea46d2d31",
   "metadata": {},
   "outputs": [],
   "source": [
    "response_dict"
   ]
  },
  {
   "cell_type": "code",
   "execution_count": 22,
   "id": "c9582f42-6540-494f-a2da-3d8774a985a3",
   "metadata": {},
   "outputs": [
    {
     "name": "stdout",
     "output_type": "stream",
     "text": [
      "9964885\n"
     ]
    }
   ],
   "source": [
    "print(response_dict['total_count'])"
   ]
  },
  {
   "cell_type": "code",
   "execution_count": null,
   "id": "2f5311c7-7e94-4a39-a963-bce9007281f8",
   "metadata": {},
   "outputs": [],
   "source": []
  },
  {
   "cell_type": "code",
   "execution_count": 25,
   "id": "edd0af2b-2380-4b7f-beab-f3f0463793b0",
   "metadata": {},
   "outputs": [
    {
     "name": "stdout",
     "output_type": "stream",
     "text": [
      "Repositories returned: 30\n"
     ]
    }
   ],
   "source": [
    "repo_dicts = response_dict['items']\n",
    "print(\"Repositories returned:\", len(repo_dicts))"
   ]
  },
  {
   "cell_type": "code",
   "execution_count": 30,
   "id": "4b880ce9-d978-4ec3-a9f8-bc2f6e9be940",
   "metadata": {},
   "outputs": [
    {
     "name": "stdout",
     "output_type": "stream",
     "text": [
      "\n",
      "Name: public-apis\n",
      "Owner: public-apis\n",
      "\n",
      "Name: system-design-primer\n",
      "Owner: donnemartin\n",
      "\n",
      "Name: Python\n",
      "Owner: TheAlgorithms\n",
      "\n",
      "Name: awesome-python\n",
      "Owner: vinta\n",
      "\n",
      "Name: Python-100-Days\n",
      "Owner: jackfrued\n",
      "\n",
      "Name: youtube-dl\n",
      "Owner: ytdl-org\n",
      "\n",
      "Name: models\n",
      "Owner: tensorflow\n",
      "\n",
      "Name: thefuck\n",
      "Owner: nvbn\n",
      "\n",
      "Name: transformers\n",
      "Owner: huggingface\n",
      "\n",
      "Name: django\n",
      "Owner: django\n",
      "\n",
      "Name: flask\n",
      "Owner: pallets\n",
      "\n",
      "Name: HelloGitHub\n",
      "Owner: 521xueweihan\n",
      "\n",
      "Name: keras\n",
      "Owner: keras-team\n",
      "\n",
      "Name: awesome-machine-learning\n",
      "Owner: josephmisiti\n",
      "\n",
      "Name: core\n",
      "Owner: home-assistant\n",
      "\n",
      "Name: ansible\n",
      "Owner: ansible\n",
      "\n",
      "Name: scikit-learn\n",
      "Owner: scikit-learn\n",
      "\n",
      "Name: requests\n",
      "Owner: psf\n",
      "\n",
      "Name: fastapi\n",
      "Owner: tiangolo\n",
      "\n",
      "Name: cpython\n",
      "Owner: python\n",
      "\n",
      "Name: manim\n",
      "Owner: 3b1b\n",
      "\n",
      "Name: face_recognition\n",
      "Owner: ageitgey\n",
      "\n",
      "Name: you-get\n",
      "Owner: soimort\n",
      "\n",
      "Name: scrapy\n",
      "Owner: scrapy\n",
      "\n",
      "Name: big-list-of-naughty-strings\n",
      "Owner: minimaxir\n",
      "\n",
      "Name: localstack\n",
      "Owner: localstack\n",
      "\n",
      "Name: funNLP\n",
      "Owner: fighting41love\n",
      "\n",
      "Name: faceswap\n",
      "Owner: deepfakes\n",
      "\n",
      "Name: PayloadsAllTheThings\n",
      "Owner: swisskyrepo\n",
      "\n",
      "Name: rich\n",
      "Owner: Textualize\n"
     ]
    }
   ],
   "source": [
    "for repo_dict in repo_dicts:\n",
    "    print('\\nName:', repo_dict['name'])\n",
    "    print('Owner:', repo_dict['owner']['login'])"
   ]
  },
  {
   "cell_type": "code",
   "execution_count": null,
   "id": "c0a99b02-9369-47a0-b832-724a8cb9772e",
   "metadata": {},
   "outputs": [],
   "source": []
  }
 ],
 "metadata": {
  "kernelspec": {
   "display_name": "Python 3 (ipykernel)",
   "language": "python",
   "name": "python3"
  },
  "language_info": {
   "codemirror_mode": {
    "name": "ipython",
    "version": 3
   },
   "file_extension": ".py",
   "mimetype": "text/x-python",
   "name": "python",
   "nbconvert_exporter": "python",
   "pygments_lexer": "ipython3",
   "version": "3.9.12"
  }
 },
 "nbformat": 4,
 "nbformat_minor": 5
}
