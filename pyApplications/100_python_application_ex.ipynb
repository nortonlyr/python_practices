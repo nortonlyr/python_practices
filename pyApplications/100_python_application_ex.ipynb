{
 "cells": [
  {
   "cell_type": "markdown",
   "metadata": {},
   "source": [
    "reference: https://www.jb51.net/article/169979.htm"
   ]
  },
  {
   "cell_type": "markdown",
   "metadata": {},
   "source": [
    "**题目001**：\n",
    "\n",
    "有四个数字：1、2、3、4，能组成多少个互不相同且无重复数字的三位数？各是多少？"
   ]
  },
  {
   "cell_type": "code",
   "execution_count": 1,
   "metadata": {},
   "outputs": [
    {
     "name": "stdout",
     "output_type": "stream",
     "text": [
      "(24, [123, 124, 132, 134, 142, 143, 213, 214, 231, 234, 241, 243, 312, 314, 321, 324, 341, 342, 412, 413, 421, 423, 431, 432])\n"
     ]
    }
   ],
   "source": [
    "def ex_001():\n",
    "    array = []\n",
    "    for i in range(1,5):\n",
    "        for j in range(1,5):\n",
    "            for k  in range (1,5):\n",
    "                number = 100*i + 10*j + k\n",
    "                if i!=j and j!=k and i!=k and number not in array: # no repeat \n",
    "                    array.append(number)\n",
    "    return (len(array), array)\n",
    "\n",
    "print(ex_001())"
   ]
  },
  {
   "cell_type": "code",
   "execution_count": 4,
   "metadata": {},
   "outputs": [
    {
     "name": "stdout",
     "output_type": "stream",
     "text": [
      "(24, [123, 124, 132, 134, 142, 143, 213, 214, 231, 234, 241, 243, 312, 314, 321, 324, 341, 342, 412, 413, 421, 423, 431, 432])\n"
     ]
    }
   ],
   "source": [
    "# Method 2 - Use itertools\n",
    "import itertools\n",
    "\n",
    "def ex_001_2nd():\n",
    "    temp_arr = list(itertools.permutations([1,2,3,4], 3)) # A_4^3 = (4)!/(4-3)! = (4*3*2*1)/1 = 24\n",
    "    arr = [100*i[0] + 10*i[1] + i[2] for i in temp_arr]\n",
    "    return (len(arr), arr)\n",
    "\n",
    "print(ex_001_2nd())"
   ]
  },
  {
   "cell_type": "markdown",
   "metadata": {},
   "source": [
    "**题目002：**\n",
    "\n",
    "企业发放的奖金根据利润(I)的多少来提成：\n",
    "\n",
    "低于或等于10万元时，奖金可提10%；\n",
    "\n",
    "利润高于10万元，低于20万元时，低于10万元的部分按10%提成，高于10万元的部分，可提成7.5%；\n",
    "\n",
    "20万到40万之间时，高于20万元的部分，可提成5%；\n",
    "\n",
    "40万到60万之间时高于40万元的部分，可提成3%；\n",
    "\n",
    "60万到100万之间时，高于60万元的部分，可提成1.5%；\n",
    "\n",
    "高于100万元时，超过100万元的部分按1%提成。\n",
    "\n",
    "从键盘输入当月利润I，求应发放奖金总数？"
   ]
  },
  {
   "cell_type": "code",
   "execution_count": 11,
   "metadata": {},
   "outputs": [
    {
     "name": "stdout",
     "output_type": "stream",
     "text": [
      "净利潤: 210000\n",
      "18000.0\n"
     ]
    }
   ],
   "source": [
    "def ex_002():\n",
    "    '''\n",
    "    程序分析：请利用数轴来分界，定位。\n",
    "    【个人备注】：这种处理数轴问题的写法，值得参考。比elif的写法，简洁方便的多。\n",
    "    '''\n",
    "    profit = int(input('净利潤: '))\n",
    "    array = [1000000, 600000, 400000, 200000, 100000, 0]\n",
    "    rate = [0.01, 0.015, 0.03, 0.05, 0.075, 0.1]\n",
    "    bonus = 0\n",
    "    for i in range(len(array)):\n",
    "        if profit > array[i]:\n",
    "            bonus += (profit - array[i])*rate[i]\n",
    "            profit = array[i]\n",
    "    return bonus\n",
    "\n",
    "print(ex_002())"
   ]
  },
  {
   "cell_type": "markdown",
   "metadata": {},
   "source": [
    "**题目003**\n",
    "\n",
    "一个整数，它加上100后是一个完全平方数，再加上168又是一个完全平方数，请问该数是多少？"
   ]
  },
  {
   "cell_type": "code",
   "execution_count": 35,
   "metadata": {},
   "outputs": [
    {
     "name": "stdout",
     "output_type": "stream",
     "text": [
      "-100\n"
     ]
    }
   ],
   "source": [
    "import math\n",
    "def ex_003():\n",
    "    '''\n",
    "    【个人备注】：网站上是求了一下方程，没细看。\n",
    "    python又不是没有开方函数，直接按字面意思解了。\n",
    "    2019-8-20 感谢Xueyang_Liu指出取值区间问题，进行修改。满足题意的数值不止一个两个。\n",
    "    考虑到取值区间，根据题意：\n",
    "        一个整数（m）加上100后是一个完全平方数 => m+100>=0，所以m>=-100，m取值下限为-100;\n",
    "        两个完全平方数的差是168，由于y=x**2这样的二次函数的图象是开口向上的抛物线，\n",
    "        函数在x>0区间内单调递增，其导数可知两个相邻值y2-y1差值会越来越大 => (x+1)**2-x**2<=168，\n",
    "        得x<=83.5。由于m=x**2-100，所以大约是m<7000的样子。\n",
    "    这样整数m的取值范围可以限定为[-100,7000]\n",
    "    '''\n",
    "    for i in range(-100, 7000):\n",
    "        m = math.sqrt(i+100)\n",
    "        n = math.sqrt(i+100+168)\n",
    "        if m % 1 == 0 and n % 1 == 0:\n",
    "            return i\n",
    "print (ex_003())\n",
    "#最终会得到4个满足条件的整数: -99, 21, 261, 1581"
   ]
  },
  {
   "cell_type": "code",
   "execution_count": 37,
   "metadata": {},
   "outputs": [
    {
     "name": "stdout",
     "output_type": "stream",
     "text": [
      "[1581]\n"
     ]
    }
   ],
   "source": [
    "def ex_003_2nd():\n",
    "    '''\n",
    "    如果不想使用开方函数，也可以使用Xueyang_Liu的方法也行。根据之前的推论x<=83.5，所以实际取值范围可以写成x<84。\n",
    "    '''\n",
    "    arr = []\n",
    "    result = []\n",
    "    for i in range(84):\n",
    "        arr +=[i**2]\n",
    "    for elem in arr:\n",
    "        if elem + 168 in arr:\n",
    "            result = [elem - 100]\n",
    "    return result\n",
    "\n",
    "print(ex_003_2nd())"
   ]
  },
  {
   "cell_type": "markdown",
   "metadata": {},
   "source": [
    "**题目004：** \n",
    "\n",
    "输入某年某月某日，判断这一天是这一年的第几天？"
   ]
  },
  {
   "cell_type": "code",
   "execution_count": 40,
   "metadata": {},
   "outputs": [
    {
     "name": "stdout",
     "output_type": "stream",
     "text": [
      "enter date (eg, 2020-01-10): 2020-08-07\n",
      "220\n"
     ]
    }
   ],
   "source": [
    "def ex_004():\n",
    "    '''\n",
    "    【个人备注】：知道python有时间元组这一概念，这道题完全不需要计算。\n",
    "    时间元组包含九个属性\n",
    "    tm_year     年\n",
    "    tm_mon      月(1~12)\n",
    "    tm_mday     日(1~31)\n",
    "    tm_hour     时(0~23)\n",
    "    tm_min      分(0~59)\n",
    "    tm_sec      秒(0~61, 60或61是闰秒)\n",
    "    tm_wday     星期(0~6, 0是周一)\n",
    "    tm_yday     第几天(1~366, 366是儒略历)\n",
    "    tm_isdst    夏令时(平时用不到)\n",
    "    '''\n",
    "    import time\n",
    "    date = input('enter date (eg, 2020-01-10): ')\n",
    "    st = time.strptime(date, '%Y-%m-%d')\n",
    "    num = st.tm_yday\n",
    "    return num\n",
    "\n",
    "print(ex_004())"
   ]
  },
  {
   "cell_type": "markdown",
   "metadata": {},
   "source": [
    "**题目005：**\n",
    "\n",
    "输入三个整数x,y,z，请把这三个数由小到大输出。"
   ]
  },
  {
   "cell_type": "code",
   "execution_count": 42,
   "metadata": {},
   "outputs": [
    {
     "name": "stdout",
     "output_type": "stream",
     "text": [
      "Pleasse enter 3 integer\n",
      "first integer: 4\n",
      "second integer: 8\n",
      "third integer: 2\n",
      "[2, 4, 8]\n"
     ]
    }
   ],
   "source": [
    "def ex_005():\n",
    "    print(\"Pleasse enter 3 integer\")\n",
    "    x = int(input('first integer: '))\n",
    "    y = int(input('second integer: '))\n",
    "    z = int(input('third integer: '))\n",
    "    l = [x,y,z]\n",
    "    arr = sorted(l)\n",
    "    return arr\n",
    "\n",
    "print(ex_005())"
   ]
  },
  {
   "cell_type": "markdown",
   "metadata": {},
   "source": [
    "**题目006**\n",
    "\n",
    "斐波那契数列"
   ]
  },
  {
   "cell_type": "code",
   "execution_count": 44,
   "metadata": {},
   "outputs": [
    {
     "name": "stdout",
     "output_type": "stream",
     "text": [
      "[0, 1, 1, 2, 3, 5, 8, 13, 21, 34, 55, 89]\n"
     ]
    }
   ],
   "source": [
    "def ex_006():\n",
    "    '''\n",
    "    程序分析：斐波那契数列，又称黄金分割数列，指的是这样一个数列：0、1、1、2、3、5、8、13、21、34、……。\n",
    "    【个人备注】：很多种解法，我是按照分割的方式，每次取列表后两项，然后相加。\n",
    "    '''\n",
    "    l = [0,1]\n",
    "    for i in range(10):\n",
    "        arr = l[-2:]\n",
    "        l.append(arr[0]+arr[1])\n",
    "    return l\n",
    "\n",
    "print(ex_006())"
   ]
  },
  {
   "cell_type": "markdown",
   "metadata": {},
   "source": [
    "**题目007**\n",
    "\n",
    "将一个列表的数据复制到另一个列表中"
   ]
  },
  {
   "cell_type": "code",
   "execution_count": 49,
   "metadata": {},
   "outputs": [],
   "source": [
    "def ex_007():\n",
    "    '''\n",
    "    【个人备注】：如果系统的看过python教程之类的应该都知道。\n",
    "    Python里面一切都是对象，list的复制需要用[:]的方式。\n",
    "    至于b=a只是相当于给a取了个别名而已，指向的是同一个列表，并没有实现复制。\n",
    "    '''\n",
    "    a = [1,2,3]\n",
    "    b = a[:]\n",
    "    \n",
    "    a[0] = 1\n",
    "    print(id(a), id(b))\n",
    "    print(a,b)\n",
    "    "
   ]
  },
  {
   "cell_type": "code",
   "execution_count": 50,
   "metadata": {},
   "outputs": [
    {
     "name": "stdout",
     "output_type": "stream",
     "text": [
      "2242923074888 2242937317768\n",
      "[1, 2, 3] [1, 2, 3]\n"
     ]
    }
   ],
   "source": [
    "ex_007()"
   ]
  },
  {
   "cell_type": "code",
   "execution_count": 53,
   "metadata": {},
   "outputs": [],
   "source": [
    "def ex_007_2nd():\n",
    "    a = [1,2,3]\n",
    "    b = a\n",
    "    a[0] = 1\n",
    "    print(id(a), id(b))\n",
    "    print(a,b)"
   ]
  },
  {
   "cell_type": "code",
   "execution_count": 54,
   "metadata": {},
   "outputs": [
    {
     "name": "stdout",
     "output_type": "stream",
     "text": [
      "2242937318792 2242937318792\n",
      "[1, 2, 3] [1, 2, 3]\n"
     ]
    }
   ],
   "source": [
    "ex_007_2nd()"
   ]
  },
  {
   "cell_type": "markdown",
   "metadata": {},
   "source": [
    "**题目008：**\n",
    "\n",
    "题目：输出 9*9 乘法口诀表"
   ]
  },
  {
   "cell_type": "code",
   "execution_count": 8,
   "metadata": {},
   "outputs": [],
   "source": [
    "def ex_008():\n",
    "    '''\n",
    "    【个人备注】：已经忘了，百度了才想起来口诀表具体长什么样。\n",
    "    注意 %-7s 和 end='' 的用法，其他没什么。\n",
    "    '''\n",
    "    for i in range(1,10):\n",
    "        for j in range(1,10):\n",
    "            if j <= i:\n",
    "                string = '%d*%d=%d' %(j,i,j*i)\n",
    "                print('%-7s' %string, end='')  # %-7s is for spacing between fomula\n",
    "        print('')"
   ]
  },
  {
   "cell_type": "code",
   "execution_count": 9,
   "metadata": {},
   "outputs": [
    {
     "name": "stdout",
     "output_type": "stream",
     "text": [
      "1*1=1  \n",
      "1*2=2  2*2=4  \n",
      "1*3=3  2*3=6  3*3=9  \n",
      "1*4=4  2*4=8  3*4=12 4*4=16 \n",
      "1*5=5  2*5=10 3*5=15 4*5=20 5*5=25 \n",
      "1*6=6  2*6=12 3*6=18 4*6=24 5*6=30 6*6=36 \n",
      "1*7=7  2*7=14 3*7=21 4*7=28 5*7=35 6*7=42 7*7=49 \n",
      "1*8=8  2*8=16 3*8=24 4*8=32 5*8=40 6*8=48 7*8=56 8*8=64 \n",
      "1*9=9  2*9=18 3*9=27 4*9=36 5*9=45 6*9=54 7*9=63 8*9=72 9*9=81 \n"
     ]
    }
   ],
   "source": [
    "ex_008()"
   ]
  },
  {
   "cell_type": "code",
   "execution_count": 12,
   "metadata": {},
   "outputs": [],
   "source": [
    "def ex_008_2nd():\n",
    "    for i in range(1,10):\n",
    "        for j in range(1,i+1):\n",
    "            print(\"{0} * {1} = {2}\".format(i,j,i*j), end=\"\\t\")\n",
    "        print()"
   ]
  },
  {
   "cell_type": "code",
   "execution_count": 13,
   "metadata": {},
   "outputs": [
    {
     "name": "stdout",
     "output_type": "stream",
     "text": [
      "1 * 1 = 1\t\n",
      "2 * 1 = 2\t2 * 2 = 4\t\n",
      "3 * 1 = 3\t3 * 2 = 6\t3 * 3 = 9\t\n",
      "4 * 1 = 4\t4 * 2 = 8\t4 * 3 = 12\t4 * 4 = 16\t\n",
      "5 * 1 = 5\t5 * 2 = 10\t5 * 3 = 15\t5 * 4 = 20\t5 * 5 = 25\t\n",
      "6 * 1 = 6\t6 * 2 = 12\t6 * 3 = 18\t6 * 4 = 24\t6 * 5 = 30\t6 * 6 = 36\t\n",
      "7 * 1 = 7\t7 * 2 = 14\t7 * 3 = 21\t7 * 4 = 28\t7 * 5 = 35\t7 * 6 = 42\t7 * 7 = 49\t\n",
      "8 * 1 = 8\t8 * 2 = 16\t8 * 3 = 24\t8 * 4 = 32\t8 * 5 = 40\t8 * 6 = 48\t8 * 7 = 56\t8 * 8 = 64\t\n",
      "9 * 1 = 9\t9 * 2 = 18\t9 * 3 = 27\t9 * 4 = 36\t9 * 5 = 45\t9 * 6 = 54\t9 * 7 = 63\t9 * 8 = 72\t9 * 9 = 81\t\n"
     ]
    }
   ],
   "source": [
    "ex_008_2nd()"
   ]
  },
  {
   "cell_type": "markdown",
   "metadata": {},
   "source": [
    "**题目009**\n",
    "\n",
    "暂停一秒输出"
   ]
  },
  {
   "cell_type": "code",
   "execution_count": 14,
   "metadata": {},
   "outputs": [],
   "source": [
    "def ex_009():\n",
    "    import time\n",
    "    a = time.time()\n",
    "    time.sleep(1)\n",
    "    b = time.time()\n",
    "    print(b-a)"
   ]
  },
  {
   "cell_type": "code",
   "execution_count": 15,
   "metadata": {},
   "outputs": [
    {
     "name": "stdout",
     "output_type": "stream",
     "text": [
      "1.000591516494751\n"
     ]
    }
   ],
   "source": [
    "ex_009()"
   ]
  },
  {
   "cell_type": "markdown",
   "metadata": {},
   "source": [
    "**题目010**\n",
    "\n",
    "暂停一秒输出，并格式化当前时间。"
   ]
  },
  {
   "cell_type": "code",
   "execution_count": 6,
   "metadata": {},
   "outputs": [],
   "source": [
    "def ex_010():\n",
    "    import time\n",
    "    a = time.strftime('%Y-%m-%d %H:%M:%S', time.localtime(time.time())) # time.localtime()时间戳转化成时间元祖\n",
    "    print(a)\n",
    "    time.sleep(1)\n",
    "    b = time.strftime('%Y-%m-%d %H:%M:%S', time.localtime(time.time())) # time.strftime()时间元祖转化成时间文本\n",
    "    print(b)"
   ]
  },
  {
   "cell_type": "code",
   "execution_count": 7,
   "metadata": {},
   "outputs": [
    {
     "name": "stdout",
     "output_type": "stream",
     "text": [
      "2020-08-10 15:01:26\n",
      "2020-08-10 15:01:27\n"
     ]
    }
   ],
   "source": [
    "ex_010()"
   ]
  },
  {
   "cell_type": "markdown",
   "metadata": {},
   "source": [
    "**题目011：古典问题**\n",
    "\n",
    "有一对兔子，\n",
    "从出生后第3个月起每个月都生一对兔子，\n",
    "小兔子长到第三个月后每个月又生一对兔子。\n",
    "假如兔子都不死。\n",
    "问每个月的兔子总数为多少？"
   ]
  },
  {
   "cell_type": "code",
   "execution_count": 9,
   "metadata": {},
   "outputs": [],
   "source": [
    "def ex_011():\n",
    "    '''\n",
    "    其实这道题就是斐波那契数列的由来。\n",
    "    【个人备注】：理清思路是关键，理解成满两个月后，每月都能生兔子，就好办了。\n",
    "    '''\n",
    "    m1 = 1 #滿月\n",
    "    m2 = 0 #滿兩個月\n",
    "    mm = 0 #可以月月生兔子了\n",
    "    for i in range(1,10):\n",
    "        # 過了一個月后\n",
    "        mm = mm + m2 #加入新增成年的兔子\n",
    "        m2 = m1 # 滿月的變成滿兩月的\n",
    "        m1 = mm # 這個月新出生的兔子\n",
    "        print(i,mm+m1+m2) # 每個月有多少對兔子"
   ]
  },
  {
   "cell_type": "code",
   "execution_count": 10,
   "metadata": {},
   "outputs": [
    {
     "name": "stdout",
     "output_type": "stream",
     "text": [
      "1 1\n",
      "2 2\n",
      "3 3\n",
      "4 5\n",
      "5 8\n",
      "6 13\n",
      "7 21\n",
      "8 34\n",
      "9 55\n"
     ]
    }
   ],
   "source": [
    "ex_011()"
   ]
  },
  {
   "cell_type": "markdown",
   "metadata": {},
   "source": [
    "**题目012：**\n",
    "\n",
    "判断101-200之间有多少个素数，并输出所有素数。"
   ]
  },
  {
   "cell_type": "code",
   "execution_count": 13,
   "metadata": {},
   "outputs": [],
   "source": [
    "def ex_012():\n",
    "    '''\n",
    "    【个人备注】：按照素数不能被之前的素数整除，取200以内所有素数，然后取出101-200之间的部分。\n",
    "    '''\n",
    "    arr = [2,3]\n",
    "    # 取200以内所有素數\n",
    "    for i in range(4, 201):\n",
    "        for j in arr:\n",
    "            if i%j==0:\n",
    "                break\n",
    "        else:\n",
    "            arr.append(i)\n",
    "    #取出100-200之間的部分\n",
    "    for i in range(len(arr)):\n",
    "        if arr[i]>100:\n",
    "            l = arr[i:]\n",
    "            print(len(l), l)\n",
    "            break"
   ]
  },
  {
   "cell_type": "code",
   "execution_count": 14,
   "metadata": {},
   "outputs": [
    {
     "name": "stdout",
     "output_type": "stream",
     "text": [
      "21 [101, 103, 107, 109, 113, 127, 131, 137, 139, 149, 151, 157, 163, 167, 173, 179, 181, 191, 193, 197, 199]\n"
     ]
    }
   ],
   "source": [
    "ex_012()"
   ]
  },
  {
   "cell_type": "markdown",
   "metadata": {},
   "source": [
    "**题目013：**\n",
    "\n",
    "打印出所有的\"水仙花数\"，\n",
    "所谓\"水仙花数\"是指一个三位数，其各位数字立方和等于该数本身。\n",
    "例如：153是一个\"水仙花数\"，因为153=1的三次方＋5的三次方＋3的三次方。"
   ]
  },
  {
   "cell_type": "code",
   "execution_count": 27,
   "metadata": {},
   "outputs": [],
   "source": [
    "def ex_013():\n",
    "    '''\n",
    "    【个人备注】： // 取整，% 求余，**3 三次方。知道取整求余写法的就没问题。\n",
    "    '''\n",
    "    arr = list()\n",
    "    for i in range (100, 1000):\n",
    "        z = i // 100 #百位\n",
    "        y = i % 100 // 10 #十位\n",
    "        x = i % 10 #個位\n",
    "        if z**3+ y**3 +x**3 == i:\n",
    "            arr.append(i)\n",
    "            return i\n"
   ]
  },
  {
   "cell_type": "code",
   "execution_count": 28,
   "metadata": {},
   "outputs": [
    {
     "data": {
      "text/plain": [
       "153"
      ]
     },
     "execution_count": 28,
     "metadata": {},
     "output_type": "execute_result"
    }
   ],
   "source": [
    "ex_013()"
   ]
  },
  {
   "cell_type": "markdown",
   "metadata": {},
   "source": [
    "**题目014：**\n",
    "\n",
    "将一个正整数分解质因数。例如：输入90,打印出90=2 * 3  *3 * 5。"
   ]
  },
  {
   "cell_type": "code",
   "execution_count": 30,
   "metadata": {},
   "outputs": [],
   "source": [
    "def ex_014():\n",
    "    '''\n",
    "  【个人备注】：拆到拆不动为止，类似012题。\n",
    "    '''\n",
    "    import math\n",
    "    num = int(input('輸入一個數'))\n",
    "    arr = []\n",
    "    while num > 1:\n",
    "        for i in range(2, int(math.sqrt(num))+1): #因为题目是一个没写范围正整数，开方可以有效减少该值过大时候的计算量\n",
    "            if num%i==0:\n",
    "                arr.append(i)\n",
    "                num = num//i\n",
    "                break\n",
    "        else:\n",
    "            arr.append(num)\n",
    "            break\n",
    "        print(arr)"
   ]
  },
  {
   "cell_type": "code",
   "execution_count": 31,
   "metadata": {},
   "outputs": [
    {
     "name": "stdout",
     "output_type": "stream",
     "text": [
      "輸入一個數100\n",
      "[2]\n",
      "[2, 2]\n",
      "[2, 2, 5]\n"
     ]
    }
   ],
   "source": [
    "ex_014()"
   ]
  },
  {
   "cell_type": "markdown",
   "metadata": {},
   "source": [
    "**题目015：**\n",
    "\n",
    "利用条件运算符的嵌套来完成此题：学习成绩>=90分的同学用A表示，60-89分之间的用B表示，60分以下的用C表示。"
   ]
  },
  {
   "cell_type": "code",
   "execution_count": 38,
   "metadata": {},
   "outputs": [],
   "source": [
    "def ex_015():\n",
    "    score = float(input('輸入一個成績: ')) \n",
    "    if score >= 90:\n",
    "        print('A') \n",
    "    elif score >= 60:\n",
    "        print('B')\n",
    "    else:\n",
    "        print('C')"
   ]
  },
  {
   "cell_type": "code",
   "execution_count": 39,
   "metadata": {},
   "outputs": [
    {
     "name": "stdout",
     "output_type": "stream",
     "text": [
      "輸入一個成績: 92\n",
      "A\n"
     ]
    }
   ],
   "source": [
    "ex_015()"
   ]
  },
  {
   "cell_type": "markdown",
   "metadata": {},
   "source": [
    "**题目016:**\n",
    "\n",
    "输出指定格式的日期。"
   ]
  },
  {
   "cell_type": "code",
   "execution_count": 65,
   "metadata": {},
   "outputs": [],
   "source": [
    "def ex_016():\n",
    "    import time\n",
    "    print(time.time()) #時間戳\n",
    "    print(time.localtime()) #時間元祖\n",
    "    print(time.asctime()) #時間的一種可讀文本形式\n",
    "    print(time.strftime('%Y-%m-%d %H:%M:%S', time.localtime())) #按照文本格式輸入時間 \n",
    "    print('\\t')\n",
    "    \n",
    "    st = time.localtime(time.time()) # 时间戳 转化成 时间元祖\n",
    "    st = time.strptime('2018/1/23', '%Y/%m/%d') # 时间文本 转化成 时间元祖\n",
    "    date = time.strftime('%Y-%m-%d', st) # 时间元祖 转化成 时间文本 '%Y-%m-%d %H:%M:%S'\n",
    "    print(date) # 前面两条函数配合着用，相当于将时间文本重新格式化。\n",
    "    print('\\t')\n",
    "    \n",
    "    # 另外我们可以通过datetime模块来计算时间差，例如：\n",
    "    import datetime\n",
    "    dt1 = datetime.datetime.fromtimestamp(1517302458)\n",
    "    print(dt1, type(dt1))\n",
    "    dt2 = datetime.datetime.now()\n",
    "    print(dt2)\n",
    "    print('相差%d天零%.1f個小時' %((dt2-dt1).days, (dt2-dt1).seconds/60/60))\n",
    "    \n",
    "    d1 = datetime.datetime.strptime('2017-10-16 19:21:22', '%Y-%m-%d %H:%M:%S')"
   ]
  },
  {
   "cell_type": "code",
   "execution_count": 66,
   "metadata": {},
   "outputs": [
    {
     "name": "stdout",
     "output_type": "stream",
     "text": [
      "1597198690.538579\n",
      "time.struct_time(tm_year=2020, tm_mon=8, tm_mday=11, tm_hour=22, tm_min=18, tm_sec=10, tm_wday=1, tm_yday=224, tm_isdst=1)\n",
      "Tue Aug 11 22:18:10 2020\n",
      "2020-08-11 22:18:10\n",
      "\t\n",
      "2018-01-23\n",
      "\t\n",
      "2018-01-30 03:54:18 <class 'datetime.datetime'>\n",
      "2020-08-11 22:18:10.539042\n",
      "相差924天零18.4個小時\n"
     ]
    }
   ],
   "source": [
    "ex_016()"
   ]
  },
  {
   "cell_type": "markdown",
   "metadata": {},
   "source": [
    "**题目017：**\n",
    "\n",
    "输入一行字符，分别统计出其中英文字母、空格、数字和其它字符的个数。"
   ]
  },
  {
   "cell_type": "code",
   "execution_count": 68,
   "metadata": {},
   "outputs": [],
   "source": [
    "def ex_017():\n",
    "    '''\n",
    "  【个人备注】：本来想写成这种格式来着\n",
    "  import string\n",
    "  if c in string.ascii_letters: # abcdefghijklmnopqrstuvwxyzABCDEFGHIJKLMNOPQRSTUVWXYZ\n",
    "  if c == ' ':         # 空格\n",
    "  if c in string.digits:    # 0123456789\n",
    "  看了参考答案才知道有现成的函数可以用。\n",
    "  其实随便哪种都行，甚至直接把一串字母粘上去看起来更直接。\n",
    "    '''\n",
    "    s = input('input a string:\\n')\n",
    "    letters, space, digit, others = 0,0,0,0\n",
    "    for c in s:\n",
    "        if c.isalpha():\n",
    "            letters += 1\n",
    "        elif c.isspace():\n",
    "            space += 1\n",
    "        elif c.isdigit():\n",
    "            digit += 1\n",
    "        else:\n",
    "            others += 1\n",
    "    print('char = %d, space = %d, digit = %d, others = %d' % (letters, space, digit, others))"
   ]
  },
  {
   "cell_type": "code",
   "execution_count": 70,
   "metadata": {},
   "outputs": [
    {
     "name": "stdout",
     "output_type": "stream",
     "text": [
      "input a string:\n",
      "fsfj 3fewou32y8745=!@%$#%@ngl\n",
      "char = 13, space = 1, digit = 7, others = 8\n"
     ]
    }
   ],
   "source": [
    "ex_017()"
   ]
  },
  {
   "cell_type": "markdown",
   "metadata": {},
   "source": [
    "**题目018：**\n",
    "\n",
    "求s=a+aa+aaa+aaaa+aa...a的值，其中a是一个数字。例如2+22+222+2222+22222(此时共有5个数相加)，几个数相加由键盘控制。"
   ]
  },
  {
   "cell_type": "code",
   "execution_count": 76,
   "metadata": {},
   "outputs": [],
   "source": [
    "def ex_018():\n",
    "    '''\n",
    "  【个人备注】：答案给的解法很多种，但是我还是认为我写的方法最简单。\n",
    "  2+22+222+2222+22222\n",
    "  可以理解为：\n",
    "  20000 + 2*2000 + 3*200 + 4*20 + 5*2\n",
    "  也就是：\n",
    "  1*2*10^4 + 2*2*10^3 + 3*2*10^2 + 4*2*10^1 + 5*2*10^0\n",
    "  所以简单迭代就可以出结果\n",
    "    '''\n",
    "    a = 2\n",
    "    t = 5\n",
    "    num = 0\n",
    "    for i in range(1, t+1):\n",
    "        num += i*a*(10**(t-i))\n",
    "    print(num)"
   ]
  },
  {
   "cell_type": "code",
   "execution_count": 77,
   "metadata": {},
   "outputs": [
    {
     "name": "stdout",
     "output_type": "stream",
     "text": [
      "24690\n"
     ]
    }
   ],
   "source": [
    "ex_018()"
   ]
  },
  {
   "cell_type": "markdown",
   "metadata": {},
   "source": [
    "**题目019：**\n",
    "\n",
    "一个数如果恰好等于它的因子之和，这个数就称为\"完数\"。例如6=1＋2＋3.编程找出1000以内的所有完数。"
   ]
  },
  {
   "cell_type": "code",
   "execution_count": 84,
   "metadata": {},
   "outputs": [],
   "source": [
    "def ex_019():\n",
    "    '''\n",
    "  【个人备注】：题意看的不是太懂，于是百度了一下：完数就是除了自身之外的所有约数之和等于他本身。\n",
    "  第一个完全数是6，它有约数1、2、3、6，除去它本身6外，其余3个数相加，1+2+3=6。\n",
    "  第二个完全数是28，它有约数1、2、4、7、14、28，除去它本身28外，其余5个数相加，1+2+4+7+14=28。\n",
    "  终于看懂了题意。\n",
    "  先求出所有约数，然后求和比一下是否相等就行了，没有难度\n",
    "    '''\n",
    "    for num in range(1, 1000):\n",
    "        arr = []\n",
    "        for i in range(1, num):\n",
    "            if num%i==0:\n",
    "                arr.append(i)\n",
    "        if sum(arr)==num:\n",
    "            print(num, arr)"
   ]
  },
  {
   "cell_type": "code",
   "execution_count": 85,
   "metadata": {},
   "outputs": [
    {
     "name": "stdout",
     "output_type": "stream",
     "text": [
      "6 [1, 2, 3]\n",
      "28 [1, 2, 4, 7, 14]\n",
      "496 [1, 2, 4, 8, 16, 31, 62, 124, 248]\n"
     ]
    }
   ],
   "source": [
    "ex_019()"
   ]
  },
  {
   "cell_type": "markdown",
   "metadata": {},
   "source": [
    "**题目020**\n",
    "\n",
    "一球从100米高度自由落下，每次落地后反跳回原高度的一半；再落下，求它在第10次落地时，共经过多少米？第10次反弹多高？"
   ]
  },
  {
   "cell_type": "code",
   "execution_count": 86,
   "metadata": {},
   "outputs": [],
   "source": [
    "def ex_020():\n",
    "    total = 0\n",
    "    m = 100 #第一次落地，經過了一百米\n",
    "    total += m \n",
    "    for i in range(10-1): # 之後9次彈起到落地\n",
    "        m = m / 2\n",
    "        total += 2 * m # 彈起然後重新落地， 一共經過的距離\n",
    "    print(total)\n",
    "    print(m/2)"
   ]
  },
  {
   "cell_type": "code",
   "execution_count": 87,
   "metadata": {},
   "outputs": [
    {
     "name": "stdout",
     "output_type": "stream",
     "text": [
      "299.609375\n",
      "0.09765625\n"
     ]
    }
   ],
   "source": [
    "ex_020()"
   ]
  },
  {
   "cell_type": "markdown",
   "metadata": {},
   "source": [
    "**题目021：**\n",
    "\n",
    "猴子吃桃问题\n",
    "猴子第一天摘下若干个桃子，当即吃了一半，还不瘾，又多吃了一个\n",
    "第二天早上又将剩下的桃子吃掉一半，又多吃了一个。\n",
    "以后每天早上都吃了前一天剩下的一半零一个。\n",
    "到第10天早上想再吃时，见只剩下一个桃子了。\n",
    "求第一天共摘了多少。"
   ]
  },
  {
   "cell_type": "code",
   "execution_count": 89,
   "metadata": {},
   "outputs": [],
   "source": [
    "def ex_021():\n",
    "    '''\n",
    "  【个人备注】：第十天num=1个，第九天必然是4个：4/2-1=1，也就是(num+1)*2=4。\n",
    "  做这种题，先用算数式列出来，然后用代码描述就行了。\n",
    "    '''\n",
    "    num = 1\n",
    "    for i in range(10-1):\n",
    "        num = (num + 1)*2\n",
    "    print(num)"
   ]
  },
  {
   "cell_type": "code",
   "execution_count": 90,
   "metadata": {},
   "outputs": [
    {
     "name": "stdout",
     "output_type": "stream",
     "text": [
      "1534\n"
     ]
    }
   ],
   "source": [
    "ex_021()"
   ]
  },
  {
   "cell_type": "markdown",
   "metadata": {},
   "source": [
    "**题目022：**\n",
    "\n",
    "两个乒乓球队进行比赛，各出三人。\n",
    "甲队为a,b,c三人，乙队为x,y,z三人。\n",
    "已抽签决定比赛名单。有人向队员打听比赛的名单。\n",
    "a说他不和x比，c说他不和x,z比，请编程序找出三队赛手的名单。"
   ]
  },
  {
   "cell_type": "code",
   "execution_count": 94,
   "metadata": {},
   "outputs": [],
   "source": [
    "def ex_022():\n",
    "    '''\n",
    "  【个人备注】：关键是将抽象化，将问题抽象成代码方式。\n",
    "  我的解题思路，是用排列组合函数，列出方案，然后排除。\n",
    "  而官方解答里面有一个纯粹的for循环加if的求解方式，\n",
    "  更抽象一些，用了一个很常用固定范式，直接拿来解题了。\n",
    "  稍微对其抽象的方法注释了一下。\n",
    "    '''\n",
    "    import itertools\n",
    "    jia = ['a', 'b', 'c']\n",
    "    yi = ['x', 'y', 'z']\n",
    "    arr = list(itertools.permutations(yi,3)) # 面对甲队a,b,c时，乙队所有排列 [('x', 'y', 'z'), ('x', 'z', 'y'), \n",
    "                                            # ('y', 'x', 'z'), ('y', 'z', 'x'), ('z', 'x', 'y'), ('z', 'y', 'x')]\n",
    "    arr = [[jia[i] + a[i] for i in range(3)] for a in arr] #将a,b,c写上，得到所有对阵组合 [['ax', 'by', 'cz'], ['ax', 'bz', 'cy'], \n",
    "                                            #['ay', 'bx', 'cz'], ['ay', 'bz', 'cx'], ['az', 'bx', 'cy'], ['az', 'by', 'cx']]\n",
    "    for i in arr:\n",
    "        if 'ax' in i:\n",
    "            pass\n",
    "        elif 'cx' in i or 'cz' in i:\n",
    "            pass\n",
    "        else:\n",
    "            print(i) # 得到 ['az', 'bx', 'cy']"
   ]
  },
  {
   "cell_type": "code",
   "execution_count": 95,
   "metadata": {},
   "outputs": [
    {
     "name": "stdout",
     "output_type": "stream",
     "text": [
      "['az', 'bx', 'cy']\n"
     ]
    }
   ],
   "source": [
    "ex_022()"
   ]
  },
  {
   "cell_type": "code",
   "execution_count": 98,
   "metadata": {},
   "outputs": [],
   "source": [
    "# method 2\n",
    "def ex_022_2nd():\n",
    "    for a in ['x', 'y', 'z']: # a在x,y,z中挑一个打\n",
    "        for b in ['x', 'y', 'z']: # b在x,y,z中挑一个打\n",
    "            for c in ['x', 'y', 'z']: # c在x,y,z中挑一个打 三层总计27种打法\n",
    "                if a!=b and b!=c and c!=a: # a,b,c不能挑同一个人 缩减到6种打法\n",
    "                    if a!='x' and c!='x' and c!='z': # 依据题意不能ax,cx,cz 缩减到1种打法\n",
    "                        print('a' + a, 'b' + b, 'c' + c)"
   ]
  },
  {
   "cell_type": "code",
   "execution_count": 99,
   "metadata": {},
   "outputs": [
    {
     "name": "stdout",
     "output_type": "stream",
     "text": [
      "az bx cy\n"
     ]
    }
   ],
   "source": [
    "ex_022_2nd()"
   ]
  },
  {
   "cell_type": "code",
   "execution_count": 1,
   "metadata": {},
   "outputs": [
    {
     "data": {
      "text/plain": [
       "'\\n题目023：\\n打印出如下图案（菱形）:\\n\\n*\\n***\\n*****\\n*******\\n*****\\n***\\n *\\n'"
      ]
     },
     "execution_count": 1,
     "metadata": {},
     "output_type": "execute_result"
    }
   ],
   "source": [
    " '''\n",
    "题目023：\n",
    "打印出如下图案（菱形）:\n",
    "\n",
    " *\n",
    " ***\n",
    " *****\n",
    "*******\n",
    " *****\n",
    " ***\n",
    "  *\n",
    " '''"
   ]
  },
  {
   "cell_type": "code",
   "execution_count": 4,
   "metadata": {},
   "outputs": [],
   "source": [
    "def ex_023():\n",
    "    '''\n",
    "  【个人备注】：想到了绝对值，\n",
    "  然后将[0,1,2,3,4,5,6]变成了[3,2,1,0,1,2,3]，也就是每行左边空格数。\n",
    "    '''\n",
    "    num = 7\n",
    "    for i in range(num):\n",
    "        blank = abs(num//2 - i)\n",
    "        print(' '*blank + '*'*(num - 2*blank) + ' '* blank)"
   ]
  },
  {
   "cell_type": "code",
   "execution_count": 5,
   "metadata": {},
   "outputs": [
    {
     "name": "stdout",
     "output_type": "stream",
     "text": [
      "   *   \n",
      "  ***  \n",
      " ***** \n",
      "*******\n",
      " ***** \n",
      "  ***  \n",
      "   *   \n"
     ]
    }
   ],
   "source": [
    "ex_023()"
   ]
  },
  {
   "cell_type": "markdown",
   "metadata": {},
   "source": [
    "**题目024：**\n",
    "\n",
    "有一分数序列：2/1，3/2，5/3，8/5，13/8，21/13...求出这个数列的前20项之和。"
   ]
  },
  {
   "cell_type": "code",
   "execution_count": 6,
   "metadata": {},
   "outputs": [],
   "source": [
    "def ex_024():\n",
    "    a,b,num = 2,1,0\n",
    "    for i in range(20):\n",
    "        num += a/b\n",
    "        a = a + b\n",
    "        b = a - b\n",
    "    print(num)"
   ]
  },
  {
   "cell_type": "code",
   "execution_count": 7,
   "metadata": {},
   "outputs": [
    {
     "name": "stdout",
     "output_type": "stream",
     "text": [
      "32.66026079864164\n"
     ]
    }
   ],
   "source": [
    "ex_024()"
   ]
  },
  {
   "cell_type": "markdown",
   "metadata": {},
   "source": [
    "**题目025：**\n",
    "\n",
    "求1+2!+3!+...+20!的和"
   ]
  },
  {
   "cell_type": "code",
   "execution_count": 8,
   "metadata": {},
   "outputs": [],
   "source": [
    "def ex_025():\n",
    "    s, t = 0, 1\n",
    "    for n in range(1,21):\n",
    "        t *= n\n",
    "        s += t\n",
    "    print(s)"
   ]
  },
  {
   "cell_type": "code",
   "execution_count": 9,
   "metadata": {},
   "outputs": [
    {
     "name": "stdout",
     "output_type": "stream",
     "text": [
      "2561327494111820313\n"
     ]
    }
   ],
   "source": [
    "ex_025()"
   ]
  },
  {
   "cell_type": "markdown",
   "metadata": {},
   "source": [
    "**题目026：**\n",
    "\n",
    "利用递归方法求5!"
   ]
  },
  {
   "cell_type": "code",
   "execution_count": 14,
   "metadata": {},
   "outputs": [],
   "source": [
    "def ex_026(x):\n",
    "    if x>1:\n",
    "        return x*ex_026(x-1)\n",
    "    else:\n",
    "        return x"
   ]
  },
  {
   "cell_type": "code",
   "execution_count": 15,
   "metadata": {},
   "outputs": [
    {
     "data": {
      "text/plain": [
       "120"
      ]
     },
     "execution_count": 15,
     "metadata": {},
     "output_type": "execute_result"
    }
   ],
   "source": [
    "ex_026(5)"
   ]
  },
  {
   "cell_type": "markdown",
   "metadata": {},
   "source": [
    "**题目027：**\n",
    "\n",
    "利用递归函数调用方式，将所输入的5个字符，以相反顺序打印出来。"
   ]
  },
  {
   "cell_type": "code",
   "execution_count": 28,
   "metadata": {},
   "outputs": [],
   "source": [
    "def ex_027(s,l):\n",
    "    if l==0:\n",
    "        return\n",
    "    print(s[l-1])\n",
    "    ex_027(s, l-1)"
   ]
  },
  {
   "cell_type": "code",
   "execution_count": 42,
   "metadata": {},
   "outputs": [],
   "source": [
    "#? ex_027(5,1)"
   ]
  },
  {
   "cell_type": "code",
   "execution_count": 43,
   "metadata": {},
   "outputs": [],
   "source": [
    "def ex_027_2nd():\n",
    "    s = input('input a string: ')\n",
    "    l = len(s)\n",
    "    output(s,l)"
   ]
  },
  {
   "cell_type": "code",
   "execution_count": 44,
   "metadata": {},
   "outputs": [],
   "source": [
    "# ? ex_027_2nd(s, l)"
   ]
  },
  {
   "cell_type": "markdown",
   "metadata": {},
   "source": [
    "**题目028：**\n",
    "\n",
    "有5个人坐在一起，\n",
    "问第五个人多少岁？他说比第4个人大两岁。\n",
    "问第4个人，他说比第3个人大两岁。\n",
    "问第3个人，又说比第2个人大两岁。\n",
    "问第2个人，说比第1个人大两岁。\n",
    "最后问第一个人，他说是10岁。\n",
    "请问第五个人多大？"
   ]
  },
  {
   "cell_type": "code",
   "execution_count": 4,
   "metadata": {},
   "outputs": [],
   "source": [
    "# 递归方法\n",
    "def ex_028(x):\n",
    "    if x>1:\n",
    "        return 2 + ex_028(x-1)\n",
    "    else:\n",
    "        return 10"
   ]
  },
  {
   "cell_type": "code",
   "execution_count": 5,
   "metadata": {},
   "outputs": [
    {
     "data": {
      "text/plain": [
       "18"
      ]
     },
     "execution_count": 5,
     "metadata": {},
     "output_type": "execute_result"
    }
   ],
   "source": [
    "ex_028(5)"
   ]
  },
  {
   "cell_type": "markdown",
   "metadata": {},
   "source": [
    "**题目029：**\n",
    "\n",
    "给一个不多于5位的正整数，要求：一、求它是几位数，二、逆序打印出各位数字。"
   ]
  },
  {
   "cell_type": "code",
   "execution_count": 11,
   "metadata": {},
   "outputs": [],
   "source": [
    "def ex_029():\n",
    "    \"\"\"\n",
    "    list倒序可以用list.reverse()；\n",
    "  字符串就只能用步长=-1的方式来倒序了。\n",
    "    \"\"\"\n",
    "    num = 12345\n",
    "    s = str(num)\n",
    "    print(len(s))\n",
    "    print(s[::-1])"
   ]
  },
  {
   "cell_type": "code",
   "execution_count": 12,
   "metadata": {},
   "outputs": [
    {
     "name": "stdout",
     "output_type": "stream",
     "text": [
      "5\n",
      "54321\n"
     ]
    }
   ],
   "source": [
    "ex_029()"
   ]
  },
  {
   "cell_type": "markdown",
   "metadata": {},
   "source": [
    "**题目030：**\n",
    "\n",
    "一个5位数，判断它是不是回文数。即12321是回文数，个位与万位相同，十位与千位相同。"
   ]
  },
  {
   "cell_type": "code",
   "execution_count": 17,
   "metadata": {},
   "outputs": [],
   "source": [
    "def ex_030():\n",
    "    num = 12321\n",
    "    s = str(num)\n",
    "    for i in range(len(s)//2):\n",
    "        if s[i] != s[-i-i]:\n",
    "            print(False)\n",
    "            break\n",
    "    else:\n",
    "        print(True)"
   ]
  },
  {
   "cell_type": "code",
   "execution_count": 18,
   "metadata": {},
   "outputs": [
    {
     "name": "stdout",
     "output_type": "stream",
     "text": [
      "True\n"
     ]
    }
   ],
   "source": [
    "ex_030()"
   ]
  },
  {
   "cell_type": "markdown",
   "metadata": {},
   "source": [
    "**题目031：**\n",
    "\n",
    "请输入星期几的第一个字母来判断一下是星期几，如果第一个字母一样，则继续判断第二个字母。"
   ]
  },
  {
   "cell_type": "code",
   "execution_count": 1,
   "metadata": {},
   "outputs": [],
   "source": [
    "def ex_031():\n",
    "    week = ['monday', 'tuesday', 'wednesday', 'thursday', 'friday', 'saturday', 'sunday']\n",
    "    inp = ''\n",
    "    while 1:\n",
    "        arr = []\n",
    "        inp = inp + input('請輸入一個字母：')\n",
    "        for day in week:\n",
    "            if inp == day[:len(inp)]:\n",
    "                arr.append(day)\n",
    "        if len(arr) == 1:\n",
    "            print('以%s開頭的單詞是:%s' %(inp, arr[0]))\n",
    "            inp = ''\n",
    "        elif len(arr) == 0:\n",
    "            print('沒有%s開頭的單詞' %inp)\n",
    "            inp = ''\n",
    "            break"
   ]
  },
  {
   "cell_type": "code",
   "execution_count": 2,
   "metadata": {},
   "outputs": [
    {
     "name": "stdout",
     "output_type": "stream",
     "text": [
      "請輸入一個字母：m\n",
      "以m開頭的單詞是:monday\n",
      "請輸入一個字母：tu\n",
      "以tu開頭的單詞是:tuesday\n",
      "請輸入一個字母：we\n",
      "以we開頭的單詞是:wednesday\n",
      "請輸入一個字母：th\n",
      "以th開頭的單詞是:thursday\n",
      "請輸入一個字母：f\n",
      "以f開頭的單詞是:friday\n",
      "請輸入一個字母：sa\n",
      "以sa開頭的單詞是:saturday\n",
      "請輸入一個字母：su\n",
      "以su開頭的單詞是:sunday\n",
      "請輸入一個字母：mm\n",
      "沒有mm開頭的單詞\n"
     ]
    }
   ],
   "source": [
    "ex_031()"
   ]
  },
  {
   "cell_type": "markdown",
   "metadata": {},
   "source": [
    "**题目032：**\n",
    "\n",
    "按相反的顺序输出列表的值。"
   ]
  },
  {
   "cell_type": "code",
   "execution_count": 18,
   "metadata": {},
   "outputs": [],
   "source": [
    "def ex_032():\n",
    "    a = [1,2,3,4,5]\n",
    "    print(a[::-1])"
   ]
  },
  {
   "cell_type": "code",
   "execution_count": 19,
   "metadata": {},
   "outputs": [
    {
     "name": "stdout",
     "output_type": "stream",
     "text": [
      "[5, 4, 3, 2, 1]\n"
     ]
    }
   ],
   "source": [
    "ex_032()"
   ]
  },
  {
   "cell_type": "code",
   "execution_count": 24,
   "metadata": {},
   "outputs": [],
   "source": [
    "b = [1,2,3,4,5]\n",
    "b.reverse()"
   ]
  },
  {
   "cell_type": "code",
   "execution_count": 25,
   "metadata": {},
   "outputs": [
    {
     "data": {
      "text/plain": [
       "[5, 4, 3, 2, 1]"
      ]
     },
     "execution_count": 25,
     "metadata": {},
     "output_type": "execute_result"
    }
   ],
   "source": [
    "b"
   ]
  },
  {
   "cell_type": "code",
   "execution_count": 26,
   "metadata": {},
   "outputs": [],
   "source": [
    "c = [1,2,3,4,5]\n",
    "c.sort(reverse=True)"
   ]
  },
  {
   "cell_type": "code",
   "execution_count": 28,
   "metadata": {},
   "outputs": [
    {
     "data": {
      "text/plain": [
       "[5, 4, 3, 2, 1]"
      ]
     },
     "execution_count": 28,
     "metadata": {},
     "output_type": "execute_result"
    }
   ],
   "source": [
    "c"
   ]
  },
  {
   "cell_type": "markdown",
   "metadata": {},
   "source": [
    "**题目033：**\n",
    "\n",
    "按逗号分隔列表。"
   ]
  },
  {
   "cell_type": "code",
   "execution_count": 33,
   "metadata": {},
   "outputs": [],
   "source": [
    "def ex_033():\n",
    "    a = ['a','b','c','d','e']\n",
    "    print(','.join(a))"
   ]
  },
  {
   "cell_type": "code",
   "execution_count": 34,
   "metadata": {},
   "outputs": [
    {
     "name": "stdout",
     "output_type": "stream",
     "text": [
      "a,b,c,d,e\n"
     ]
    }
   ],
   "source": [
    "ex_033()"
   ]
  },
  {
   "cell_type": "markdown",
   "metadata": {},
   "source": [
    "**题目036**：\n",
    "\n",
    "求100之内的素数。"
   ]
  },
  {
   "cell_type": "code",
   "execution_count": 39,
   "metadata": {},
   "outputs": [],
   "source": [
    "def ex_036():\n",
    "    arr = [2]\n",
    "    for i in range(3, 100):\n",
    "        for j in arr:\n",
    "            if i%j ==0:\n",
    "                break\n",
    "        else:\n",
    "            arr.append(i)\n",
    "    print(arr)"
   ]
  },
  {
   "cell_type": "code",
   "execution_count": 40,
   "metadata": {},
   "outputs": [
    {
     "name": "stdout",
     "output_type": "stream",
     "text": [
      "[2, 3, 5, 7, 11, 13, 17, 19, 23, 29, 31, 37, 41, 43, 47, 53, 59, 61, 67, 71, 73, 79, 83, 89, 97]\n"
     ]
    }
   ],
   "source": [
    "ex_036()"
   ]
  },
  {
   "cell_type": "markdown",
   "metadata": {},
   "source": [
    "**题目037：**\n",
    "\n",
    "对10个数进行排序。"
   ]
  },
  {
   "cell_type": "code",
   "execution_count": 42,
   "metadata": {},
   "outputs": [],
   "source": [
    "def ex_037():\n",
    "    a = [1, 2, 4, 5, 3, 10, 9, 7, 8, 6]\n",
    "    a.sort()\n",
    "    print(a)"
   ]
  },
  {
   "cell_type": "code",
   "execution_count": 43,
   "metadata": {},
   "outputs": [
    {
     "name": "stdout",
     "output_type": "stream",
     "text": [
      "[1, 2, 3, 4, 5, 6, 7, 8, 9, 10]\n"
     ]
    }
   ],
   "source": [
    "ex_037()"
   ]
  },
  {
   "cell_type": "code",
   "execution_count": 49,
   "metadata": {},
   "outputs": [],
   "source": [
    "def ex_037_2nd():\n",
    "    a = [1, 2, 4, 5, 3, 10, 9, 7, 8, 6]\n",
    "    b = [a[0]]\n",
    "    for num in a[1:]:\n",
    "        for i in range(len(b)):\n",
    "            if num < b[i]:\n",
    "                b.insert(i, num)\n",
    "                break\n",
    "        else:\n",
    "            b.append(num)\n",
    "    print(b)"
   ]
  },
  {
   "cell_type": "code",
   "execution_count": 50,
   "metadata": {},
   "outputs": [
    {
     "name": "stdout",
     "output_type": "stream",
     "text": [
      "[1, 2, 3, 4, 5, 6, 7, 8, 9, 10]\n"
     ]
    }
   ],
   "source": [
    "ex_037_2nd()"
   ]
  },
  {
   "cell_type": "markdown",
   "metadata": {},
   "source": [
    "**题目038：**\n",
    "\n",
    "求一个3*3矩阵主对角线元素之和"
   ]
  },
  {
   "cell_type": "code",
   "execution_count": 52,
   "metadata": {},
   "outputs": [],
   "source": [
    "def ex_038():\n",
    "    '''\n",
    "  【个人备注】：思路比较简单，n*n的矩阵都可以用这个求解。\n",
    "    '''\n",
    "    a = [[1,2,3], [4,5,6], [7,8,9]]\n",
    "    s = 0\n",
    "    n = len(a)\n",
    "    for i in range(n):  # 左上到右下一条线\n",
    "        s += a[i][i]\n",
    "    for i in range(n): # 右上到左下一条线\n",
    "        s += a[i][n-i-1]\n",
    "    if n%2 == 1:  # 如果是奇数，删掉重复计算的中间点\n",
    "        s -= a[n//2][n//2]\n",
    "    print(s)"
   ]
  },
  {
   "cell_type": "code",
   "execution_count": 53,
   "metadata": {},
   "outputs": [
    {
     "name": "stdout",
     "output_type": "stream",
     "text": [
      "25\n"
     ]
    }
   ],
   "source": [
    "ex_038()"
   ]
  },
  {
   "cell_type": "markdown",
   "metadata": {},
   "source": [
    "**题目039：**\n",
    "\n",
    "有一个已经排好序的数组。现输入一个数，要求按原来的规律将它插入数组中。"
   ]
  },
  {
   "cell_type": "code",
   "execution_count": 59,
   "metadata": {},
   "outputs": [],
   "source": [
    "def ex_039():\n",
    "    lst = [1,5,8,14,28,47,60,89,134,324,612,922]\n",
    "    n = 777\n",
    "    for i in lst:\n",
    "        if n < i:\n",
    "            lst.insert(lst.index(i), n)\n",
    "            break\n",
    "    else:\n",
    "        lst.append(n)\n",
    "    print(lst)"
   ]
  },
  {
   "cell_type": "code",
   "execution_count": 60,
   "metadata": {},
   "outputs": [
    {
     "name": "stdout",
     "output_type": "stream",
     "text": [
      "[1, 5, 8, 14, 28, 47, 60, 89, 134, 324, 612, 777, 922]\n"
     ]
    }
   ],
   "source": [
    "ex_039()"
   ]
  },
  {
   "cell_type": "markdown",
   "metadata": {},
   "source": [
    "**题目041：**\n",
    "\n",
    "模仿静态变量的用法。"
   ]
  },
  {
   "cell_type": "code",
   "execution_count": 70,
   "metadata": {},
   "outputs": [],
   "source": [
    "def ex_041(): \n",
    "    '''\n",
    "  【个人备注】：不是很清楚什么意思，直接看了官网的解答。\n",
    "  如果是函数中的局部变量，每次调用函数都会初始化。\n",
    "  而类中的变量，创建类的时候初始化，每次执行类中的函数的时候，不会初始化类变量。\n",
    "  看起来是想说这么个意思。\n",
    "    '''\n",
    "    def varfunc():\n",
    "        var = 0\n",
    "        print('var = %d' % var)\n",
    "        var += 1\n",
    "    if __name__ == '__main__':\n",
    "        for i in range(3):\n",
    "            varfunc()\n",
    "    \n",
    "    # StaticVar作为类的一个属性，相当于静态变量\n",
    "    class Static:\n",
    "        StaticVar = 5\n",
    "        def varfunc(self):\n",
    "            self.StaticVar += 1\n",
    "            print(self.StaticVar)\n",
    "            \n",
    "    print(Static.StaticVar)\n",
    "    a = Static()\n",
    "    for i in range(3):\n",
    "        a.varfunc()"
   ]
  },
  {
   "cell_type": "code",
   "execution_count": 71,
   "metadata": {},
   "outputs": [
    {
     "name": "stdout",
     "output_type": "stream",
     "text": [
      "var = 0\n",
      "var = 0\n",
      "var = 0\n",
      "5\n",
      "6\n",
      "7\n",
      "8\n"
     ]
    }
   ],
   "source": [
    "ex_041()"
   ]
  },
  {
   "cell_type": "markdown",
   "metadata": {},
   "source": [
    "**题目042：**\n",
    "\n",
    "学习使用auto定义变量的用法"
   ]
  },
  {
   "cell_type": "code",
   "execution_count": 73,
   "metadata": {},
   "outputs": [],
   "source": [
    "def ex_042():\n",
    "    '''\n",
    "  【个人备注】：同样没看懂题意，看了下官网答案\n",
    "  发现实际是想说变量作用域， python是有分局部变量、全局变量的等区分的。\n",
    "    '''\n",
    "    num = 2\n",
    "    def autofunc():\n",
    "        num = 1\n",
    "        print('internal block num = %d' % num)\n",
    "        num += 1\n",
    "    \n",
    "    for i in range(3):\n",
    "        print('The num = %d' % num)\n",
    "        num += 1\n",
    "        autofunc()"
   ]
  },
  {
   "cell_type": "code",
   "execution_count": 74,
   "metadata": {},
   "outputs": [
    {
     "name": "stdout",
     "output_type": "stream",
     "text": [
      "The num = 2\n",
      "internal block num = 1\n",
      "The num = 3\n",
      "internal block num = 1\n",
      "The num = 4\n",
      "internal block num = 1\n"
     ]
    }
   ],
   "source": [
    "ex_042()"
   ]
  },
  {
   "cell_type": "code",
   "execution_count": null,
   "metadata": {},
   "outputs": [],
   "source": [
    "'''\n",
    "题目044：两个3*3的矩阵，实现其对应位置的数据相加，并返回一个新矩阵：\n",
    "X = [[12,7,3],\n",
    "  [ 4,5,6],\n",
    "  [ 7,8,9]]\n",
    "Y = [[5,8,1],\n",
    "  [ 6,7,3],\n",
    "  [ 4,5,9]]\n",
    "'''"
   ]
  },
  {
   "cell_type": "code",
   "execution_count": 76,
   "metadata": {},
   "outputs": [],
   "source": [
    "def ex_044():\n",
    "    '''\n",
    "  【个人备注】：自己写了一个，但是印象里python是有矩阵计算工具的。\n",
    "  官网就有人用该工具numpy写了一下，很简洁。\n",
    "    '''\n",
    "    x = [[12, 7, 3], [4, 5, 6], [7, 8, 9]]\n",
    "    y = [[5, 8, 1], [6, 7, 3], [4, 5, 9]]\n",
    "    z = x[:]\n",
    "    for i in range(3):\n",
    "        for j in range(3):\n",
    "            z[i][j] = x[i][j] + y[i][j]\n",
    "    print(z)"
   ]
  },
  {
   "cell_type": "code",
   "execution_count": 77,
   "metadata": {},
   "outputs": [
    {
     "name": "stdout",
     "output_type": "stream",
     "text": [
      "[[17, 15, 4], [10, 12, 9], [11, 13, 18]]\n"
     ]
    }
   ],
   "source": [
    "ex_044()"
   ]
  },
  {
   "cell_type": "code",
   "execution_count": 79,
   "metadata": {},
   "outputs": [],
   "source": [
    "def ex_044_2nd():\n",
    "    import numpy as np\n",
    "    x = np.array([[12,7,3], [4,5,6], [7,8,9]])\n",
    "    y = np.array([[5,8,1], [6,7,3], [4,5,9]])\n",
    "    z = x + y\n",
    "    print(z)"
   ]
  },
  {
   "cell_type": "code",
   "execution_count": 81,
   "metadata": {},
   "outputs": [
    {
     "name": "stdout",
     "output_type": "stream",
     "text": [
      "[[17 15  4]\n",
      " [10 12  9]\n",
      " [11 13 18]]\n"
     ]
    }
   ],
   "source": [
    "ex_044_2nd()"
   ]
  },
  {
   "cell_type": "markdown",
   "metadata": {},
   "source": [
    "**题目045：**\n",
    "\n",
    "统计 1 到 100 之和"
   ]
  },
  {
   "cell_type": "code",
   "execution_count": 82,
   "metadata": {},
   "outputs": [],
   "source": [
    "def ex_045():\n",
    "    s = 0\n",
    "    for i in range(1, 101):\n",
    "        s += i\n",
    "    print(s)"
   ]
  },
  {
   "cell_type": "code",
   "execution_count": 83,
   "metadata": {},
   "outputs": [
    {
     "name": "stdout",
     "output_type": "stream",
     "text": [
      "5050\n"
     ]
    }
   ],
   "source": [
    "ex_045()"
   ]
  },
  {
   "cell_type": "code",
   "execution_count": 84,
   "metadata": {},
   "outputs": [
    {
     "name": "stdout",
     "output_type": "stream",
     "text": [
      "5050\n"
     ]
    }
   ],
   "source": [
    "print(sum(range(1,101)))"
   ]
  },
  {
   "cell_type": "markdown",
   "metadata": {},
   "source": [
    "**题目046：**\n",
    "\n",
    "求输入数字的平方，如果平方运算后小于 50 则退出。"
   ]
  },
  {
   "cell_type": "code",
   "execution_count": 94,
   "metadata": {},
   "outputs": [],
   "source": [
    "def ex_046():\n",
    "    while 1:\n",
    "        x = int(input(\"输入数字得到平方值: \"))\n",
    "        print(x*x)\n",
    "        if x*x < 50:\n",
    "            break"
   ]
  },
  {
   "cell_type": "code",
   "execution_count": 95,
   "metadata": {},
   "outputs": [
    {
     "name": "stdout",
     "output_type": "stream",
     "text": [
      "输入数字得到平方值: 55\n",
      "3025\n",
      "输入数字得到平方值: 49\n",
      "2401\n",
      "输入数字得到平方值: 7\n",
      "49\n"
     ]
    }
   ],
   "source": [
    "ex_046()"
   ]
  },
  {
   "cell_type": "markdown",
   "metadata": {},
   "source": [
    "**题目047：**\n",
    "\n",
    "两个变量值互换。"
   ]
  },
  {
   "cell_type": "code",
   "execution_count": 96,
   "metadata": {},
   "outputs": [],
   "source": [
    "def ex_047():\n",
    "    a, b = 1, 2\n",
    "    a, b = b, a\n",
    "    print(a,b)"
   ]
  },
  {
   "cell_type": "code",
   "execution_count": 97,
   "metadata": {},
   "outputs": [
    {
     "name": "stdout",
     "output_type": "stream",
     "text": [
      "2 1\n"
     ]
    }
   ],
   "source": [
    "ex_047()"
   ]
  },
  {
   "cell_type": "markdown",
   "metadata": {},
   "source": [
    "**题目048：**\n",
    "\n",
    "数字比较"
   ]
  },
  {
   "cell_type": "code",
   "execution_count": 99,
   "metadata": {},
   "outputs": [],
   "source": [
    "def ex_048():\n",
    "    i = 10\n",
    "    j = 20\n",
    "    if i > j:\n",
    "        print('%d great than %d' %(i,j))\n",
    "    elif i == j:\n",
    "        print('%d equal %d' %(i,j))\n",
    "    elif i < j:\n",
    "        print('%d less than %d' %(i,j))\n",
    "    else:\n",
    "        print('Unknown')"
   ]
  },
  {
   "cell_type": "code",
   "execution_count": 100,
   "metadata": {},
   "outputs": [
    {
     "name": "stdout",
     "output_type": "stream",
     "text": [
      "10 less than 20\n"
     ]
    }
   ],
   "source": [
    "ex_048()"
   ]
  },
  {
   "cell_type": "markdown",
   "metadata": {},
   "source": [
    "**题目049：**\n",
    "\n",
    "使用lambda来创建匿名函数"
   ]
  },
  {
   "cell_type": "code",
   "execution_count": 102,
   "metadata": {},
   "outputs": [
    {
     "name": "stdout",
     "output_type": "stream",
     "text": [
      "16\n"
     ]
    }
   ],
   "source": [
    "def ex_049():\n",
    "    def f(x):\n",
    "        return x**2\n",
    "    print(f(4))\n",
    "    \n",
    "ex_049()"
   ]
  },
  {
   "cell_type": "code",
   "execution_count": 104,
   "metadata": {},
   "outputs": [
    {
     "name": "stdout",
     "output_type": "stream",
     "text": [
      "16\n"
     ]
    }
   ],
   "source": [
    "g = lambda x : x**2\n",
    "print(g(4))"
   ]
  },
  {
   "cell_type": "code",
   "execution_count": 105,
   "metadata": {},
   "outputs": [],
   "source": [
    "#lambda存在意义就是对简单函数的简洁表示。\n",
    "#lambda语句中，冒号前是参数，可以有多个，用逗号隔开，冒号右边的返回值。\n",
    "#常搭配内置函数map、filter、reduce，都是应用于序列的内置函数。常见的序列包括list、tuple、str。\n",
    "#map(func, *iterables) --> map object\n",
    "#filter(function or None, iterable) --> filter object\n",
    "#reduce(function, sequence[, initial]) -> value"
   ]
  },
  {
   "cell_type": "code",
   "execution_count": 106,
   "metadata": {},
   "outputs": [
    {
     "name": "stdout",
     "output_type": "stream",
     "text": [
      "[14, 46, 28, 54, 44, 58, 26, 34, 64]\n"
     ]
    }
   ],
   "source": [
    "foo = [2, 18, 9, 22, 17, 24, 8, 12, 27]\n",
    "print(list(map(lambda x:x*2 + 10, foo)))"
   ]
  },
  {
   "cell_type": "code",
   "execution_count": 107,
   "metadata": {},
   "outputs": [
    {
     "name": "stdout",
     "output_type": "stream",
     "text": [
      "[18, 9, 24, 12, 27]\n"
     ]
    }
   ],
   "source": [
    "print(list(filter(lambda x:x%3 == 0, foo)))"
   ]
  },
  {
   "cell_type": "code",
   "execution_count": 108,
   "metadata": {},
   "outputs": [
    {
     "name": "stdout",
     "output_type": "stream",
     "text": [
      "139\n"
     ]
    }
   ],
   "source": [
    "from functools import reduce # 在Python 3里,reduce()函数已经被从全局名字空间里移除了,它现在被放置在fucntools模块里\n",
    "print(reduce(lambda x,y: x + y, foo)) #(sum of foo)"
   ]
  },
  {
   "cell_type": "markdown",
   "metadata": {},
   "source": [
    "**题目050：**\n",
    "\n",
    "输出一个随机数"
   ]
  },
  {
   "cell_type": "code",
   "execution_count": 118,
   "metadata": {},
   "outputs": [
    {
     "data": {
      "text/plain": [
       "0.6247700518462037"
      ]
     },
     "execution_count": 118,
     "metadata": {},
     "output_type": "execute_result"
    }
   ],
   "source": [
    "# ex_050()\n",
    "import random\n",
    "random.random()"
   ]
  },
  {
   "cell_type": "code",
   "execution_count": 119,
   "metadata": {},
   "outputs": [
    {
     "data": {
      "text/plain": [
       "92.94377518137524"
      ]
     },
     "execution_count": 119,
     "metadata": {},
     "output_type": "execute_result"
    }
   ],
   "source": [
    "random.uniform(0, 100)"
   ]
  },
  {
   "cell_type": "code",
   "execution_count": 120,
   "metadata": {},
   "outputs": [
    {
     "data": {
      "text/plain": [
       "42"
      ]
     },
     "execution_count": 120,
     "metadata": {},
     "output_type": "execute_result"
    }
   ],
   "source": [
    "random.randrange(0, 100, 2)"
   ]
  },
  {
   "cell_type": "code",
   "execution_count": 121,
   "metadata": {},
   "outputs": [
    {
     "data": {
      "text/plain": [
       "84"
      ]
     },
     "execution_count": 121,
     "metadata": {},
     "output_type": "execute_result"
    }
   ],
   "source": [
    "random.randint(0, 100)"
   ]
  },
  {
   "cell_type": "code",
   "execution_count": 124,
   "metadata": {},
   "outputs": [],
   "source": [
    "seed = \"1234567890abcdefghijklmnopqrstuvwxyzABCDEFGHIJKLMNOPQRSTUVWXYZ!@#$%^&*()_+=-\" # 任意字符串（作为随机字符种子库）\""
   ]
  },
  {
   "cell_type": "code",
   "execution_count": 125,
   "metadata": {},
   "outputs": [
    {
     "data": {
      "text/plain": [
       "'F'"
      ]
     },
     "execution_count": 125,
     "metadata": {},
     "output_type": "execute_result"
    }
   ],
   "source": [
    "random.choice(seed)"
   ]
  },
  {
   "cell_type": "code",
   "execution_count": 128,
   "metadata": {},
   "outputs": [
    {
     "data": {
      "text/plain": [
       "['U', '0', 'a']"
      ]
     },
     "execution_count": 128,
     "metadata": {},
     "output_type": "execute_result"
    }
   ],
   "source": [
    "random.sample(seed,3)"
   ]
  },
  {
   "cell_type": "code",
   "execution_count": 130,
   "metadata": {},
   "outputs": [
    {
     "data": {
      "text/plain": [
       "'0gx'"
      ]
     },
     "execution_count": 130,
     "metadata": {},
     "output_type": "execute_result"
    }
   ],
   "source": [
    "''.join(random.sample(seed,3))"
   ]
  },
  {
   "cell_type": "code",
   "execution_count": 137,
   "metadata": {},
   "outputs": [],
   "source": [
    "lst = ['a', 4, 7, 3, \"*\", 'f']\n",
    "random.shuffle(lst)"
   ]
  },
  {
   "cell_type": "code",
   "execution_count": 138,
   "metadata": {},
   "outputs": [
    {
     "data": {
      "text/plain": [
       "[4, 'f', 'a', 3, '*', 7]"
      ]
     },
     "execution_count": 138,
     "metadata": {},
     "output_type": "execute_result"
    }
   ],
   "source": [
    "lst"
   ]
  },
  {
   "cell_type": "code",
   "execution_count": 142,
   "metadata": {},
   "outputs": [
    {
     "data": {
      "text/plain": [
       "2"
      ]
     },
     "execution_count": 142,
     "metadata": {},
     "output_type": "execute_result"
    }
   ],
   "source": [
    "len(\"\\t\\n\") # t and n "
   ]
  },
  {
   "cell_type": "markdown",
   "metadata": {},
   "source": [
    "**题目051~053、055：**\n",
    "\n",
    "学习使用按位与 &\n",
    "学习使用按位或 |\n",
    "学习使用按位异或 ^\n",
    "学习使用按位取反 ~"
   ]
  },
  {
   "cell_type": "code",
   "execution_count": 145,
   "metadata": {},
   "outputs": [],
   "source": [
    "def ex_051():\n",
    "    '''\n",
    "  【个人备注】：大概看了一下资料，按位操作可以通过bin()函数转换为二进制从而实现。\n",
    "  感觉二进制的计算如果不是学加密之类的基本用不上。\n",
    "  所以这一题，大概写了集合的用法，&、|在python中是集合set()才用的符号\n",
    "  两个列表求交集并集，通常也都是转换为集合，然后进行计算的。\n",
    "    '''\n",
    "    x = set('runoob')\n",
    "    y = set('google')\n",
    "    print(x,y)"
   ]
  },
  {
   "cell_type": "code",
   "execution_count": 147,
   "metadata": {},
   "outputs": [
    {
     "name": "stdout",
     "output_type": "stream",
     "text": [
      "{'b', 'o', 'r', 'n', 'u'} {'e', 'l', 'o', 'g'}\n"
     ]
    }
   ],
   "source": [
    "ex_051() # 可迭代变量转换为集合形式"
   ]
  },
  {
   "cell_type": "code",
   "execution_count": 151,
   "metadata": {},
   "outputs": [
    {
     "name": "stdout",
     "output_type": "stream",
     "text": [
      "{'o'}\n"
     ]
    }
   ],
   "source": [
    "x = set('runoob')\n",
    "y = set('google')\n",
    "print(x&y)"
   ]
  },
  {
   "cell_type": "code",
   "execution_count": 152,
   "metadata": {},
   "outputs": [
    {
     "name": "stdout",
     "output_type": "stream",
     "text": [
      "{'b', 'o', 'r', 'l', 'n', 'u', 'e', 'g'}\n"
     ]
    }
   ],
   "source": [
    "print(x|y)  # 并集"
   ]
  },
  {
   "cell_type": "code",
   "execution_count": 153,
   "metadata": {},
   "outputs": [
    {
     "name": "stdout",
     "output_type": "stream",
     "text": [
      "{'n', 'b', 'r', 'u'}\n"
     ]
    }
   ],
   "source": [
    "print(x - y) # 差集"
   ]
  },
  {
   "cell_type": "code",
   "execution_count": 154,
   "metadata": {},
   "outputs": [
    {
     "name": "stdout",
     "output_type": "stream",
     "text": [
      "{'o'}\n",
      "{'b', 'o', 'r', 'l', 'n', 'u', 'e', 'g'}\n",
      "{'n', 'b', 'r', 'u'}\n"
     ]
    }
   ],
   "source": [
    "# more methods\n",
    "print(x.intersection(y))\n",
    "print(x.union(y))\n",
    "print(x.difference(y))"
   ]
  },
  {
   "cell_type": "markdown",
   "metadata": {},
   "source": [
    "**题目054：**\n",
    "\n",
    "取一个整数a从右端开始的4-7位"
   ]
  },
  {
   "cell_type": "code",
   "execution_count": 155,
   "metadata": {},
   "outputs": [],
   "source": [
    "def ex_054():\n",
    "    a = 123456789\n",
    "    b = str(a)\n",
    "    print(b[-7:-3])\n",
    "    # 写的时候注意一下python切片是[-7:-4)左闭右开的，不包含[-4]的，所以要写成-3才能取到"
   ]
  },
  {
   "cell_type": "code",
   "execution_count": 156,
   "metadata": {},
   "outputs": [
    {
     "name": "stdout",
     "output_type": "stream",
     "text": [
      "3456\n"
     ]
    }
   ],
   "source": [
    "ex_054()"
   ]
  },
  {
   "cell_type": "markdown",
   "metadata": {},
   "source": [
    "**题目060：**\n",
    "\n",
    "计算字符串长度。"
   ]
  },
  {
   "cell_type": "code",
   "execution_count": 157,
   "metadata": {},
   "outputs": [],
   "source": [
    "def ex_060():\n",
    "    a = 'aedfdss'\n",
    "    print(len(a))"
   ]
  },
  {
   "cell_type": "code",
   "execution_count": 158,
   "metadata": {},
   "outputs": [
    {
     "name": "stdout",
     "output_type": "stream",
     "text": [
      "7\n"
     ]
    }
   ],
   "source": [
    "ex_060()"
   ]
  },
  {
   "cell_type": "code",
   "execution_count": null,
   "metadata": {},
   "outputs": [],
   "source": [
    "'''\n",
    "题目061：\n",
    "\n",
    "打印出杨辉三角形（要求打印出10行如下图）\n",
    "\n",
    "1 \n",
    "1 1 \n",
    "1 2 1 \n",
    "1 3 3 1 \n",
    "1 4 6 4 1 \n",
    "1 5 10 10 5 1 \n",
    "1 6 15 20 15 6 1 \n",
    "1 7 21 35 35 21 7 1 \n",
    "1 8 28 56 70 56 28 8 1 \n",
    "1 9 36 84 126 126 84 36 9 1\n",
    "'''"
   ]
  },
  {
   "cell_type": "code",
   "execution_count": 161,
   "metadata": {},
   "outputs": [],
   "source": [
    "def ex_061():\n",
    "    arr = [1]\n",
    "    print(1)\n",
    "    while len(arr)<10: # [1,1]\n",
    "        a = [0] + arr   # [0,1,1]\n",
    "        b = arr + [0]   # [1,1,0]\n",
    "        arr = [a[i] + b[i] for i in range(len(a))] # [1 2 1]\n",
    "        s = [str(i) for i in arr]\n",
    "        print(' '.join(s))"
   ]
  },
  {
   "cell_type": "code",
   "execution_count": 162,
   "metadata": {},
   "outputs": [
    {
     "name": "stdout",
     "output_type": "stream",
     "text": [
      "1\n",
      "1 1\n",
      "1 2 1\n",
      "1 3 3 1\n",
      "1 4 6 4 1\n",
      "1 5 10 10 5 1\n",
      "1 6 15 20 15 6 1\n",
      "1 7 21 35 35 21 7 1\n",
      "1 8 28 56 70 56 28 8 1\n",
      "1 9 36 84 126 126 84 36 9 1\n"
     ]
    }
   ],
   "source": [
    "ex_061()"
   ]
  },
  {
   "cell_type": "markdown",
   "metadata": {},
   "source": [
    "**题目062：**\n",
    "\n",
    "查找字符串"
   ]
  },
  {
   "cell_type": "code",
   "execution_count": 163,
   "metadata": {},
   "outputs": [],
   "source": [
    "def ex_062():\n",
    "    s = 'abcdef'\n",
    "    print(s.find('d'))"
   ]
  },
  {
   "cell_type": "code",
   "execution_count": 164,
   "metadata": {
    "scrolled": true
   },
   "outputs": [
    {
     "name": "stdout",
     "output_type": "stream",
     "text": [
      "3\n"
     ]
    }
   ],
   "source": [
    "ex_062()"
   ]
  },
  {
   "cell_type": "markdown",
   "metadata": {},
   "source": [
    "**题目067：**\n",
    "\n",
    "输入数组，最大的与第一个元素交换，最小的与最后一个元素交换，输出数组"
   ]
  },
  {
   "cell_type": "code",
   "execution_count": 1,
   "metadata": {},
   "outputs": [],
   "source": [
    "def ex_067():\n",
    "    a = [6,3,10,2,5,1,4,7,9,8]\n",
    "    i = a.index(max(a))\n",
    "    a[0], a[i] = a[i],a[0]\n",
    "    i = a.index(min(a))\n",
    "    a[-1],a[i] = a[i],a[-1]\n",
    "    print(a)"
   ]
  },
  {
   "cell_type": "code",
   "execution_count": 2,
   "metadata": {},
   "outputs": [
    {
     "name": "stdout",
     "output_type": "stream",
     "text": [
      "[10, 3, 6, 2, 5, 8, 4, 7, 9, 1]\n"
     ]
    }
   ],
   "source": [
    "ex_067()"
   ]
  },
  {
   "cell_type": "markdown",
   "metadata": {},
   "source": [
    "**题目068：**\n",
    "\n",
    "有n个整数，使其前面各数顺序向后移m个位置，最后m个数变成最前面的m个数"
   ]
  },
  {
   "cell_type": "code",
   "execution_count": 3,
   "metadata": {},
   "outputs": [],
   "source": [
    "def ex_068():\n",
    "    a = [1,2,3,4,5,6,7,8,9,10]\n",
    "    m = 3\n",
    "    b = a[-m:] + a[:-m]\n",
    "    print(b)"
   ]
  },
  {
   "cell_type": "code",
   "execution_count": 4,
   "metadata": {},
   "outputs": [
    {
     "name": "stdout",
     "output_type": "stream",
     "text": [
      "[8, 9, 10, 1, 2, 3, 4, 5, 6, 7]\n"
     ]
    }
   ],
   "source": [
    "ex_068()"
   ]
  },
  {
   "cell_type": "markdown",
   "metadata": {},
   "source": [
    "**题目069：**\n",
    "\n",
    "有n个人围成一圈，顺序排号。\n",
    "从第一个人开始报数（从1到3报数），凡报到3的人退出圈子，问最后留下的是原来第几号的那位。"
   ]
  },
  {
   "cell_type": "code",
   "execution_count": 6,
   "metadata": {},
   "outputs": [],
   "source": [
    "def ex_069():\n",
    "    '''\n",
    "  【个人备注】：python基础变量没有这种圈状循环的。\n",
    "  最直接的方法是列表，点队尾再从头开始。\n",
    "  缺点是列表删除中间项，后面的索引值都会变，需要计算。\n",
    "  所以我换了种方法，\n",
    "  把问题抽象成排队进门的问题\n",
    "  完全不考虑索引问题。\n",
    "    '''\n",
    "    n = 34\n",
    "    arr = list(range(1, n+1)) # 所有人门外站成一队【a】,进门后依旧按序站好【b】\n",
    "    count, a, b = 0, arr, []\n",
    "    \n",
    "    while len(a+b)>1: # 循环直到只剩1人\n",
    "        num, count = a.pop(0), count+1 # 排队进门，每进一人【a.pop】，按一下计数器\n",
    "        if count % 3 !=0 : b.append(num) # 进门后依旧按序站好【b.append】，计数器逢3淘汰。\n",
    "        if a == []: a,b = b, [] # 如果门外没人了【a=[]】，所有人重新到门外站好【a=b】\n",
    "    print(a[0])"
   ]
  },
  {
   "cell_type": "code",
   "execution_count": 7,
   "metadata": {},
   "outputs": [
    {
     "name": "stdout",
     "output_type": "stream",
     "text": [
      "10\n"
     ]
    }
   ],
   "source": [
    "ex_069()"
   ]
  },
  {
   "cell_type": "markdown",
   "metadata": {},
   "source": [
    "**题目070：**\n",
    "\n",
    "写一个函数，求一个字符串的长度，在main函数中输入字符串，并输出其长度"
   ]
  },
  {
   "cell_type": "code",
   "execution_count": 8,
   "metadata": {},
   "outputs": [
    {
     "name": "stdout",
     "output_type": "stream",
     "text": [
      "5\n"
     ]
    }
   ],
   "source": [
    "def getlength(string):\n",
    "    return len(string)\n",
    "\n",
    "if __name__ == '__main__':\n",
    "    x = 'abcde'\n",
    "    print(getlength(x))"
   ]
  },
  {
   "cell_type": "markdown",
   "metadata": {},
   "source": [
    "**题目071：**\n",
    "\n",
    "编写input()和output()函数输入，输出5个学生的数据记录。"
   ]
  },
  {
   "cell_type": "code",
   "execution_count": 9,
   "metadata": {},
   "outputs": [],
   "source": [
    "def ex_071():\n",
    "    def inp(data):\n",
    "        name = input('輸入學生姓名: ')\n",
    "        score = input('輸入學生成績: ')\n",
    "        data[name] = score\n",
    "        print('成功錄入')\n",
    "        return data\n",
    "    \n",
    "    def outp(data):\n",
    "        name = input('輸入學生姓名: ')\n",
    "        print('該學生的成績是: ', data.get(name))\n",
    "        return data\n",
    "    \n",
    "    if __name__ == '__main__':\n",
    "        data = {}\n",
    "        while 1:\n",
    "            a = input('輸入/輸出學生成績(i/o): ')\n",
    "            if a == 'i':\n",
    "                data = inp(data)\n",
    "            elif a == 'o':\n",
    "                data = outp(data)\n",
    "            else:\n",
    "                print('輸入值不對')"
   ]
  },
  {
   "cell_type": "code",
   "execution_count": null,
   "metadata": {},
   "outputs": [
    {
     "name": "stdout",
     "output_type": "stream",
     "text": [
      "輸入/輸出學生成績(i/o): 100\n",
      "輸入值不對\n",
      "輸入/輸出學生成績(i/o): 88\n",
      "輸入值不對\n",
      "輸入/輸出學生成績(i/o): i\n",
      "輸入學生姓名: Peter\n",
      "輸入學生成績: 100\n",
      "成功錄入\n",
      "輸入/輸出學生成績(i/o): o\n",
      "輸入學生姓名: Tom\n",
      "該學生的成績是:  None\n",
      "輸入/輸出學生成績(i/o): o\n",
      "輸入學生姓名: Peter\n",
      "該學生的成績是:  100\n",
      "輸入/輸出學生成績(i/o): a\n",
      "輸入值不對\n"
     ]
    }
   ],
   "source": [
    "ex_071()"
   ]
  },
  {
   "cell_type": "markdown",
   "metadata": {},
   "source": [
    "**题目074：**\n",
    "\n",
    "列表排序及连接"
   ]
  },
  {
   "cell_type": "code",
   "execution_count": 1,
   "metadata": {},
   "outputs": [],
   "source": [
    "def ex_074():\n",
    "    a = [3,2,1]\n",
    "    b = [4,5,6]\n",
    "    a.sort()\n",
    "    print(a)\n",
    "    print(a+b)"
   ]
  },
  {
   "cell_type": "code",
   "execution_count": 2,
   "metadata": {},
   "outputs": [
    {
     "name": "stdout",
     "output_type": "stream",
     "text": [
      "[1, 2, 3]\n",
      "[1, 2, 3, 4, 5, 6]\n"
     ]
    }
   ],
   "source": [
    "ex_074()"
   ]
  },
  {
   "cell_type": "markdown",
   "metadata": {},
   "source": [
    "**题目076：**\n",
    "\n",
    "编写一个函数，输入n为偶数时，调用函数求1/2+1/4+...+1/n,当输入n为奇数时，调用函数1/1+1/3+...+1/n"
   ]
  },
  {
   "cell_type": "code",
   "execution_count": 7,
   "metadata": {},
   "outputs": [],
   "source": [
    "def ex_076():\n",
    "    n = 17\n",
    "    fenmu = (2, n+1, 2) if n%2==0 else range(1, n+1, 2)\n",
    "    s = sum(map(lambda x: 1/x, fenmu))\n",
    "    return s"
   ]
  },
  {
   "cell_type": "code",
   "execution_count": 8,
   "metadata": {},
   "outputs": [
    {
     "data": {
      "text/plain": [
       "2.080623951212186"
      ]
     },
     "execution_count": 8,
     "metadata": {},
     "output_type": "execute_result"
    }
   ],
   "source": [
    "ex_076()"
   ]
  },
  {
   "cell_type": "code",
   "execution_count": 9,
   "metadata": {},
   "outputs": [],
   "source": [
    "def ex_076_2nd():\n",
    "    n = 17\n",
    "    ls = sum([1/i for i in range(n, 0, -2)])\n",
    "    return ls"
   ]
  },
  {
   "cell_type": "code",
   "execution_count": 10,
   "metadata": {},
   "outputs": [
    {
     "data": {
      "text/plain": [
       "2.0806239512121865"
      ]
     },
     "execution_count": 10,
     "metadata": {},
     "output_type": "execute_result"
    }
   ],
   "source": [
    "ex_076_2nd()"
   ]
  },
  {
   "cell_type": "markdown",
   "metadata": {},
   "source": [
    "**题目077：**\n",
    "\n",
    "循环输出列表"
   ]
  },
  {
   "cell_type": "code",
   "execution_count": 12,
   "metadata": {},
   "outputs": [],
   "source": [
    "def ex_077():\n",
    "    l = [2,3,4,5,6,7,8]\n",
    "    for i in l:\n",
    "        print(i)"
   ]
  },
  {
   "cell_type": "code",
   "execution_count": 13,
   "metadata": {},
   "outputs": [
    {
     "name": "stdout",
     "output_type": "stream",
     "text": [
      "2\n",
      "3\n",
      "4\n",
      "5\n",
      "6\n",
      "7\n",
      "8\n"
     ]
    }
   ],
   "source": [
    "ex_077()"
   ]
  },
  {
   "cell_type": "markdown",
   "metadata": {},
   "source": [
    "**题目078：**\n",
    "\n",
    "找到年龄最大的人，并输出。\n",
    "\n",
    "person = {\"li\":18,\"wang\":50,\"zhang\":20,\"sun\":22}"
   ]
  },
  {
   "cell_type": "code",
   "execution_count": 14,
   "metadata": {},
   "outputs": [],
   "source": [
    "def ex_078():\n",
    "    person = {\"li\":18,\"wang\":50,\"zhang\":20,\"sun\":22}\n",
    "    name, age = '', 0\n",
    "    for p in person.keys():\n",
    "        if person.get(p) > age:\n",
    "            name, age = p, person.get(p)\n",
    "    print(name, age)"
   ]
  },
  {
   "cell_type": "code",
   "execution_count": 15,
   "metadata": {},
   "outputs": [
    {
     "name": "stdout",
     "output_type": "stream",
     "text": [
      "wang 50\n"
     ]
    }
   ],
   "source": [
    "ex_078()"
   ]
  },
  {
   "cell_type": "markdown",
   "metadata": {},
   "source": [
    "**题目080：**\n",
    "\n",
    "海滩上有一堆桃子，五只猴子来分。\n",
    "\n",
    "第一只猴子把这堆桃子平均分为五份，多了一个，\n",
    "\n",
    "这只猴子把多的一个扔入海中，拿走了一份。\n",
    "\n",
    "第二只猴子把剩下的桃子又平均分成五份，又多了一个，\n",
    "\n",
    "它同样把多的一个扔入海中，拿走了一份，\n",
    "\n",
    "第三、第四、第五只猴子都是这样做的，\n",
    "\n",
    "问海滩上原来最少有多少个桃子？"
   ]
  },
  {
   "cell_type": "code",
   "execution_count": null,
   "metadata": {},
   "outputs": [],
   "source": []
  }
 ],
 "metadata": {
  "kernelspec": {
   "display_name": "Python 3",
   "language": "python",
   "name": "python3"
  },
  "language_info": {
   "codemirror_mode": {
    "name": "ipython",
    "version": 3
   },
   "file_extension": ".py",
   "mimetype": "text/x-python",
   "name": "python",
   "nbconvert_exporter": "python",
   "pygments_lexer": "ipython3",
   "version": "3.7.6"
  }
 },
 "nbformat": 4,
 "nbformat_minor": 4
}
