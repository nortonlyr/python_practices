{
 "cells": [
  {
   "cell_type": "code",
   "execution_count": null,
   "id": "83a9e585-4853-4e9c-9bbd-657b5aecb384",
   "metadata": {},
   "outputs": [],
   "source": []
  }
 ],
 "metadata": {
  "kernelspec": {
   "display_name": "",
   "name": ""
  },
  "language_info": {
   "name": ""
  }
 },
 "nbformat": 4,
 "nbformat_minor": 5
}
