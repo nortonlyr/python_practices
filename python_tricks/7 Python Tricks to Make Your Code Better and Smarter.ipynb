{
 "cells": [
  {
   "cell_type": "markdown",
   "metadata": {},
   "source": [
    "refernece: https://towardsdatascience.com/7-python-tricks-to-make-my-code-better-and-smarter-60dfde0b6c49"
   ]
  },
  {
   "cell_type": "markdown",
   "metadata": {},
   "source": [
    "### 1. List comprehension\n",
    "\n",
    "List comprehension saves time and codes. It is a simple way to generate a list comparing to using loops."
   ]
  },
  {
   "cell_type": "code",
   "execution_count": 13,
   "metadata": {},
   "outputs": [
    {
     "name": "stdout",
     "output_type": "stream",
     "text": [
      "[1, 4, 9, 16, 25]\n"
     ]
    }
   ],
   "source": [
    "# Ex\n",
    "x = [1,2,3,4,5]\n",
    "x_square = []\n",
    "\n",
    "for i in x:\n",
    "    x_square.append(i**2)\n",
    "    \n",
    "print(x_square)"
   ]
  },
  {
   "cell_type": "code",
   "execution_count": 14,
   "metadata": {},
   "outputs": [
    {
     "name": "stdout",
     "output_type": "stream",
     "text": [
      "[1, 4, 9, 16, 25]\n"
     ]
    }
   ],
   "source": [
    "x_square_lc = [i**2 for i in x]\n",
    "print(x_square_lc)"
   ]
  },
  {
   "cell_type": "code",
   "execution_count": 6,
   "metadata": {},
   "outputs": [
    {
     "name": "stdout",
     "output_type": "stream",
     "text": [
      "[9, 16, 25]\n"
     ]
    }
   ],
   "source": [
    "# condition\n",
    "x = [1,2,3,4,5]\n",
    "x_square_con = []\n",
    "\n",
    "for i in x:\n",
    "    if i > 2:\n",
    "        x_square_con.append(i**2)\n",
    "print(x_square_con)"
   ]
  },
  {
   "cell_type": "code",
   "execution_count": 7,
   "metadata": {},
   "outputs": [],
   "source": [
    "x = [1,2,3,4,5]\n",
    "x_square_con2 = [ i**2 for i in x if i > 2 ]"
   ]
  },
  {
   "cell_type": "markdown",
   "metadata": {},
   "source": [
    "### 2. Lambda function\n",
    "\n",
    "lambda is a small anonymous function that behaves like a normal function."
   ]
  },
  {
   "cell_type": "code",
   "execution_count": 8,
   "metadata": {},
   "outputs": [],
   "source": [
    "def cal_square(x):\n",
    "    return x**2"
   ]
  },
  {
   "cell_type": "code",
   "execution_count": 9,
   "metadata": {},
   "outputs": [
    {
     "data": {
      "text/plain": [
       "9"
      ]
     },
     "execution_count": 9,
     "metadata": {},
     "output_type": "execute_result"
    }
   ],
   "source": [
    "cal_square(3)"
   ]
  },
  {
   "cell_type": "code",
   "execution_count": 11,
   "metadata": {},
   "outputs": [],
   "source": [
    "cal_square2 = lambda x:x**2"
   ]
  },
  {
   "cell_type": "code",
   "execution_count": 12,
   "metadata": {},
   "outputs": [
    {
     "data": {
      "text/plain": [
       "16"
      ]
     },
     "execution_count": 12,
     "metadata": {},
     "output_type": "execute_result"
    }
   ],
   "source": [
    "cal_square2(4)"
   ]
  },
  {
   "cell_type": "code",
   "execution_count": 13,
   "metadata": {},
   "outputs": [
    {
     "data": {
      "text/plain": [
       "['a1', 'a33', 'b78', 'd99', 'a128', 'z782']"
      ]
     },
     "execution_count": 13,
     "metadata": {},
     "output_type": "execute_result"
    }
   ],
   "source": [
    "a = ['a1', 'a128', 'a33', 'b78', 'd99', 'z782']\n",
    "sorted(a, key = lambda x: int(x[1:]))"
   ]
  },
  {
   "cell_type": "code",
   "execution_count": 17,
   "metadata": {},
   "outputs": [
    {
     "data": {
      "text/html": [
       "<div>\n",
       "<style scoped>\n",
       "    .dataframe tbody tr th:only-of-type {\n",
       "        vertical-align: middle;\n",
       "    }\n",
       "\n",
       "    .dataframe tbody tr th {\n",
       "        vertical-align: top;\n",
       "    }\n",
       "\n",
       "    .dataframe thead th {\n",
       "        text-align: right;\n",
       "    }\n",
       "</style>\n",
       "<table border=\"1\" class=\"dataframe\">\n",
       "  <thead>\n",
       "    <tr style=\"text-align: right;\">\n",
       "      <th></th>\n",
       "      <th>a</th>\n",
       "      <th>b</th>\n",
       "      <th>c</th>\n",
       "    </tr>\n",
       "  </thead>\n",
       "  <tbody>\n",
       "    <tr>\n",
       "      <th>0</th>\n",
       "      <td>1</td>\n",
       "      <td>4</td>\n",
       "      <td>7</td>\n",
       "    </tr>\n",
       "    <tr>\n",
       "      <th>1</th>\n",
       "      <td>2</td>\n",
       "      <td>5</td>\n",
       "      <td>8</td>\n",
       "    </tr>\n",
       "    <tr>\n",
       "      <th>2</th>\n",
       "      <td>3</td>\n",
       "      <td>6</td>\n",
       "      <td>9</td>\n",
       "    </tr>\n",
       "  </tbody>\n",
       "</table>\n",
       "</div>"
      ],
      "text/plain": [
       "   a  b  c\n",
       "0  1  4  7\n",
       "1  2  5  8\n",
       "2  3  6  9"
      ]
     },
     "execution_count": 17,
     "metadata": {},
     "output_type": "execute_result"
    }
   ],
   "source": [
    "# for manipulate pandas dataframe\n",
    "import pandas as pd\n",
    "df = pd.DataFrame({'a':[1,2,3], 'b':[4,5,6], 'c':[7,8,9]})\n",
    "df"
   ]
  },
  {
   "cell_type": "code",
   "execution_count": 18,
   "metadata": {},
   "outputs": [
    {
     "data": {
      "text/html": [
       "<div>\n",
       "<style scoped>\n",
       "    .dataframe tbody tr th:only-of-type {\n",
       "        vertical-align: middle;\n",
       "    }\n",
       "\n",
       "    .dataframe tbody tr th {\n",
       "        vertical-align: top;\n",
       "    }\n",
       "\n",
       "    .dataframe thead th {\n",
       "        text-align: right;\n",
       "    }\n",
       "</style>\n",
       "<table border=\"1\" class=\"dataframe\">\n",
       "  <thead>\n",
       "    <tr style=\"text-align: right;\">\n",
       "      <th></th>\n",
       "      <th>a</th>\n",
       "      <th>b</th>\n",
       "      <th>c</th>\n",
       "      <th>sum_abc</th>\n",
       "    </tr>\n",
       "  </thead>\n",
       "  <tbody>\n",
       "    <tr>\n",
       "      <th>0</th>\n",
       "      <td>1</td>\n",
       "      <td>4</td>\n",
       "      <td>7</td>\n",
       "      <td>12</td>\n",
       "    </tr>\n",
       "    <tr>\n",
       "      <th>1</th>\n",
       "      <td>2</td>\n",
       "      <td>5</td>\n",
       "      <td>8</td>\n",
       "      <td>15</td>\n",
       "    </tr>\n",
       "    <tr>\n",
       "      <th>2</th>\n",
       "      <td>3</td>\n",
       "      <td>6</td>\n",
       "      <td>9</td>\n",
       "      <td>18</td>\n",
       "    </tr>\n",
       "  </tbody>\n",
       "</table>\n",
       "</div>"
      ],
      "text/plain": [
       "   a  b  c  sum_abc\n",
       "0  1  4  7       12\n",
       "1  2  5  8       15\n",
       "2  3  6  9       18"
      ]
     },
     "execution_count": 18,
     "metadata": {},
     "output_type": "execute_result"
    }
   ],
   "source": [
    "df['sum_abc']=df.apply(lambda x:x.a + x.b + x.c, axis = 1)\n",
    "df"
   ]
  },
  {
   "cell_type": "markdown",
   "metadata": {},
   "source": [
    "### 3. map()"
   ]
  },
  {
   "cell_type": "markdown",
   "metadata": {},
   "source": [
    "map take a function and a list as parameters, it applies the function to every item in the list. It is really handy because it avoids using loops, and it is faster."
   ]
  },
  {
   "cell_type": "code",
   "execution_count": 19,
   "metadata": {},
   "outputs": [],
   "source": [
    "def cal_square(x):\n",
    "    return x**2\n",
    "\n",
    "x = [1,2,3,4,5]"
   ]
  },
  {
   "cell_type": "code",
   "execution_count": 21,
   "metadata": {},
   "outputs": [
    {
     "data": {
      "text/plain": [
       "[1, 4, 9, 16, 25]"
      ]
     },
     "execution_count": 21,
     "metadata": {},
     "output_type": "execute_result"
    }
   ],
   "source": [
    "list(map(cal_square,x))"
   ]
  },
  {
   "cell_type": "markdown",
   "metadata": {},
   "source": [
    "### 4. filter()\n",
    "\n",
    "As suggested by the name, filter apply a filter to a list and return items that satisfied the conditions. If we want only the positive items in a list, we can define a filter function and then apply filter to the list"
   ]
  },
  {
   "cell_type": "code",
   "execution_count": 22,
   "metadata": {},
   "outputs": [],
   "source": [
    "def filter_pos(x):\n",
    "    return x>0\n",
    "\n",
    "x = [1, 2, 3, 5, 6, -1, -3, -6, -8, -9]"
   ]
  },
  {
   "cell_type": "code",
   "execution_count": 23,
   "metadata": {},
   "outputs": [
    {
     "data": {
      "text/plain": [
       "[1, 2, 3, 5, 6]"
      ]
     },
     "execution_count": 23,
     "metadata": {},
     "output_type": "execute_result"
    }
   ],
   "source": [
    "list(filter(filter_pos, x))"
   ]
  },
  {
   "cell_type": "code",
   "execution_count": 24,
   "metadata": {},
   "outputs": [
    {
     "data": {
      "text/plain": [
       "[1, 2, 3, 5, 6]"
      ]
     },
     "execution_count": 24,
     "metadata": {},
     "output_type": "execute_result"
    }
   ],
   "source": [
    "# also, use lambda here to make it simpler\n",
    "x = [1, 2, 3, 5, 6, -1, -3, -6, -8, -9]\n",
    "list(filter(lambda i:i>0, x))"
   ]
  },
  {
   "cell_type": "markdown",
   "metadata": {},
   "source": [
    "### 5.join()\n",
    "\n",
    "join is a way to concatenate strings together. The straightforward way to join strings is to use +, for example:"
   ]
  },
  {
   "cell_type": "code",
   "execution_count": 25,
   "metadata": {},
   "outputs": [
    {
     "name": "stdout",
     "output_type": "stream",
     "text": [
      " 7 Python Tricks to Make Your Code Better and Smarter\n"
     ]
    }
   ],
   "source": [
    "x = ['7', 'Python', 'Tricks', 'to', 'Make', 'Your', 'Code', 'Better', 'and', 'Smarter']\n",
    "\n",
    "title = ''\n",
    "for i in x:\n",
    "    title = title + ' '+ i\n",
    "\n",
    "print(title)"
   ]
  },
  {
   "cell_type": "code",
   "execution_count": 26,
   "metadata": {},
   "outputs": [
    {
     "name": "stdout",
     "output_type": "stream",
     "text": [
      "7 Python Tricks to Make Your Code Better and Smarter\n"
     ]
    }
   ],
   "source": [
    "# join\n",
    "x = ['7', 'Python', 'Tricks', 'to', 'Make', 'Your', 'Code', 'Better', 'and', 'Smarter']\n",
    "title = ' '.join(x)\n",
    "print(title)"
   ]
  },
  {
   "cell_type": "markdown",
   "metadata": {},
   "source": [
    "### 6.enumerate()\n",
    "\n",
    "enumerate adds counters to the data. For example:"
   ]
  },
  {
   "cell_type": "code",
   "execution_count": 29,
   "metadata": {},
   "outputs": [
    {
     "name": "stdout",
     "output_type": "stream",
     "text": [
      "[(0, '7'), (1, 'Python'), (2, 'Tricks'), (3, 'to'), (4, 'Make'), (5, 'Your'), (6, 'Code'), (7, 'Better'), (8, 'and'), (9, 'Smarter')]\n"
     ]
    }
   ],
   "source": [
    "x = ['7', 'Python', 'Tricks', 'to', 'Make', 'Your', 'Code', 'Better', 'and', 'Smarter']\n",
    "obj1 = enumerate(x, start=0)\n",
    "print(list(obj1))"
   ]
  },
  {
   "cell_type": "code",
   "execution_count": 30,
   "metadata": {},
   "outputs": [
    {
     "name": "stdout",
     "output_type": "stream",
     "text": [
      "0 7\n",
      "1 Python\n",
      "2 Tricks\n",
      "3 to\n",
      "4 Make\n",
      "5 Your\n",
      "6 Code\n",
      "7 Better\n",
      "8 and\n",
      "9 Smarter\n"
     ]
    }
   ],
   "source": [
    "# It is useful to use in a loop:\n",
    "x = ['7', 'Python', 'Tricks', 'to', 'Make', 'Your', 'Code', 'Better', 'and', 'Smarter']\n",
    "for count, ele in enumerate(x, start=0):\n",
    "    print(count, ele)"
   ]
  },
  {
   "cell_type": "markdown",
   "metadata": {},
   "source": [
    "### 7. format()\n",
    "\n",
    "format() is a string formatting method in Python3. It is convenient to generate or print strings with multiple variables."
   ]
  },
  {
   "cell_type": "code",
   "execution_count": 31,
   "metadata": {},
   "outputs": [
    {
     "name": "stdout",
     "output_type": "stream",
     "text": [
      "7 Python Tricks to Make Your Code Better and Smarter\n"
     ]
    }
   ],
   "source": [
    "# For example:\n",
    "a = '{0} {1} Tricks to Make Your Code Better and {2}'.format(7, 'Python', 'Smarter')\n",
    "print(a)"
   ]
  },
  {
   "cell_type": "code",
   "execution_count": 32,
   "metadata": {},
   "outputs": [
    {
     "name": "stdout",
     "output_type": "stream",
     "text": [
      "7 Python Ticks to Make Your Code Better and Smarter\n",
      "7 Python Ticks to Make Your Code Better and Cooler\n",
      "7 MATLAB Ticks to Make Your Code Better and Smarter\n",
      "7 MATLAB Ticks to Make Your Code Better and Cooler\n",
      "7 C++ Ticks to Make Your Code Better and Smarter\n",
      "7 C++ Ticks to Make Your Code Better and Cooler\n",
      "8 Python Ticks to Make Your Code Better and Smarter\n",
      "8 Python Ticks to Make Your Code Better and Cooler\n",
      "8 MATLAB Ticks to Make Your Code Better and Smarter\n",
      "8 MATLAB Ticks to Make Your Code Better and Cooler\n",
      "8 C++ Ticks to Make Your Code Better and Smarter\n",
      "8 C++ Ticks to Make Your Code Better and Cooler\n",
      "9 Python Ticks to Make Your Code Better and Smarter\n",
      "9 Python Ticks to Make Your Code Better and Cooler\n",
      "9 MATLAB Ticks to Make Your Code Better and Smarter\n",
      "9 MATLAB Ticks to Make Your Code Better and Cooler\n",
      "9 C++ Ticks to Make Your Code Better and Smarter\n",
      "9 C++ Ticks to Make Your Code Better and Cooler\n"
     ]
    }
   ],
   "source": [
    "num = [7,8,9]\n",
    "program = ['Python', 'MATLAB', 'C++']\n",
    "adj = ['Smarter', 'Cooler']\n",
    "\n",
    "for i in num:\n",
    "    for pro in program:\n",
    "        for a in adj:\n",
    "            a = '{0} {1} Ticks to Make Your Code Better and {2}'.format(i, pro, a)\n",
    "            print(a)"
   ]
  },
  {
   "cell_type": "code",
   "execution_count": 34,
   "metadata": {},
   "outputs": [
    {
     "name": "stdout",
     "output_type": "stream",
     "text": [
      "7 Python Tricks to Make Your Code Better and Smarter\n"
     ]
    }
   ],
   "source": [
    "# F-string is another way of playing around with string and it is even smarter and avoids a long line.\n",
    "num = 7\n",
    "program = 'Python'\n",
    "adj = 'Smarter'\n",
    "print(f'{num} {program} Tricks to Make Your Code Better and {adj}')"
   ]
  },
  {
   "cell_type": "code",
   "execution_count": null,
   "metadata": {},
   "outputs": [],
   "source": []
  }
 ],
 "metadata": {
  "kernelspec": {
   "display_name": "Python 3",
   "language": "python",
   "name": "python3"
  },
  "language_info": {
   "codemirror_mode": {
    "name": "ipython",
    "version": 3
   },
   "file_extension": ".py",
   "mimetype": "text/x-python",
   "name": "python",
   "nbconvert_exporter": "python",
   "pygments_lexer": "ipython3",
   "version": "3.7.6"
  }
 },
 "nbformat": 4,
 "nbformat_minor": 4
}
