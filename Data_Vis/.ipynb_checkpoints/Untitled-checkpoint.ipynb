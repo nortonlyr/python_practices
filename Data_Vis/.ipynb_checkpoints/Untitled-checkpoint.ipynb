{
 "cells": [
  {
   "cell_type": "code",
   "execution_count": 1,
   "id": "dc49a0ee-fec1-471a-bbd0-a22e67bdc5f2",
   "metadata": {},
   "outputs": [],
   "source": [
    "# https://www.kaggle.com/code/kanncaa1/feature-selection-and-data-visualization"
   ]
  },
  {
   "cell_type": "markdown",
   "id": "d73745b8-d4d0-41af-9a39-94e09d09729b",
   "metadata": {},
   "source": [
    "#### Feature Selection and Data Visualization"
   ]
  },
  {
   "cell_type": "code",
   "execution_count": null,
   "id": "97775e8d-f74a-4d4a-90d8-39d0be5df924",
   "metadata": {},
   "outputs": [],
   "source": []
  }
 ],
 "metadata": {
  "kernelspec": {
   "display_name": "Python 3 (ipykernel)",
   "language": "python",
   "name": "python3"
  },
  "language_info": {
   "codemirror_mode": {
    "name": "ipython",
    "version": 3
   },
   "file_extension": ".py",
   "mimetype": "text/x-python",
   "name": "python",
   "nbconvert_exporter": "python",
   "pygments_lexer": "ipython3",
   "version": "3.9.12"
  }
 },
 "nbformat": 4,
 "nbformat_minor": 5
}
