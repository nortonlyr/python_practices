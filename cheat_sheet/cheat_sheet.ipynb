{
 "cells": [
  {
   "cell_type": "markdown",
   "id": "d4dd82c9",
   "metadata": {},
   "source": [
    "#### Note: This notebook is built to be a quick reference/cheetsheet notebook. Many cells are not meant to run, but for checking documentations using shift+tab. For more details or examples, check the links that point to the detailed documentation. A commented cell is left in each package sections for the convenience of checking available method/attribute of the class object."
   ]
  },
  {
   "cell_type": "markdown",
   "id": "6ee11a8e",
   "metadata": {},
   "source": [
    "refernce:https://github.com/liyadi81/Practice/blob/master/my%20notebook/cheat%20sheet/Yadi's%20Python%20Notebook.ipynb"
   ]
  },
  {
   "cell_type": "markdown",
   "id": "8f7bd89e",
   "metadata": {},
   "source": [
    "### 1. Basics: datatypes, opertions"
   ]
  },
  {
   "cell_type": "markdown",
   "id": "48489a7a",
   "metadata": {},
   "source": [
    "##### 1.1 Numeric tyoe: int, float, complex"
   ]
  },
  {
   "cell_type": "code",
   "execution_count": null,
   "id": "57f5a84d",
   "metadata": {},
   "outputs": [],
   "source": [
    "int()\n",
    "float()\n",
    "complex()\n",
    "abs()\n",
    "divmod()\n",
    "pow()\n",
    "round()"
   ]
  },
  {
   "cell_type": "markdown",
   "id": "31628548",
   "metadata": {},
   "source": [
    "##### 1.2 String"
   ]
  },
  {
   "cell_type": "code",
   "execution_count": null,
   "id": "0a621136",
   "metadata": {},
   "outputs": [],
   "source": [
    "str()\n",
    "str()+str()\n",
    "str()*n\n",
    "str[:]\n",
    "str[::-1]"
   ]
  },
  {
   "cell_type": "code",
   "execution_count": null,
   "id": "3300a1cc",
   "metadata": {},
   "outputs": [],
   "source": [
    "# str."
   ]
  },
  {
   "cell_type": "code",
   "execution_count": null,
   "id": "7cc4ae5e",
   "metadata": {},
   "outputs": [],
   "source": [
    "str.lower()\n",
    "str.upper()\n",
    "str.capitalize()\n",
    "str.swapcase()\n",
    "str.count()\n",
    "str.find()\n",
    "str.startswith()\n",
    "str.endswith()\n",
    "str.format()\n",
    "str.index()\n",
    "str.join()\n",
    "str.partition()\n",
    "str.replace()\n",
    "str.split()\n",
    "str.strip()\n",
    "# rfind, rindex, rjust, rpartition, rsplit"
   ]
  },
  {
   "cell_type": "code",
   "execution_count": null,
   "id": "7b193f39",
   "metadata": {},
   "outputs": [],
   "source": []
  },
  {
   "cell_type": "code",
   "execution_count": null,
   "id": "3143f2c5",
   "metadata": {},
   "outputs": [],
   "source": []
  },
  {
   "cell_type": "markdown",
   "id": "42f643bf",
   "metadata": {},
   "source": [
    "### 2. Functions"
   ]
  },
  {
   "cell_type": "code",
   "execution_count": null,
   "id": "19b2b03f",
   "metadata": {},
   "outputs": [],
   "source": []
  },
  {
   "cell_type": "code",
   "execution_count": null,
   "id": "2cbed93b",
   "metadata": {},
   "outputs": [],
   "source": []
  },
  {
   "cell_type": "markdown",
   "id": "9d0eabdf",
   "metadata": {},
   "source": [
    "### 3. Built-in package"
   ]
  },
  {
   "cell_type": "markdown",
   "id": "7c784bca",
   "metadata": {},
   "source": [
    "#### 3.4 Regular Expression"
   ]
  },
  {
   "cell_type": "markdown",
   "id": "b783832f",
   "metadata": {},
   "source": [
    "| expression | explaination |\n",
    "| ------------------ | ------------------ | \n",
    "|. | matches any character except a newline |\n",
    "|^ | matches the start of the string |\n",
    "| $\t| matches the end of the string or just before the newline at the end of the string |\n",
    "| *\t| match 0 or more repetitions of the preceding RE, as many repetitions as are possible |\n",
    "| +\t| match 1 or more repetitions of the preceding RE |\n",
    "| ?\t| match 0 or 1 repetitions of the preceding RE |\n",
    "|*?, +?, ??\t| The '*', '+', and '?' qualifiers are all greedy; they match as much text as possible.Adding ? after the qualifier makes it perform the match in non-greedy or minimal fashion |\n",
    "|{m} | exactly m copies of the previous RE should be matched |\n",
    "|{m,n} |\tmatch from m to n repetitions of the preceding RE, attempting to match as many repetitions as possible. |\n",
    "| {m,n}? |\tmatch from m to n repetitions of the preceding RE, attempting to match as few repetitions as possible. |\n",
    "| [ ] |\tindicate a set of characters. |\n",
    "| A or B\t| match either A or B |\n",
    "| (...) | matches whatever regular expression is inside the parentheses, and indicates the start and end of a group. the contents of a group can be retrieved after a match has been performed, and can be matched later in the string with the \\number special sequence\n",
    "|(?:...)| Matches whatever regular expression is inside the parentheses, but the substring matched by the group cannot be retrieved after performing a match or referenced later in the pattern.|\n",
    "| (?=...) |\tMatches if ... matches next, but doesn’t consume any of the string. This is called a lookahead assertion.|\n",
    "| \\number |\tMatches the contents of the group of the same number. Groups are numbered starting from 1. |\n",
    "|\\d\t| Matches any decimal digit; this is equivalent to the class [0-9]. |\n",
    "|\\D\t| Matches any non-digit character; this is equivalent to the class [^0-9].|\n",
    "|\\w\t| Matches any alphanumeric character; this is equivalent to the class [a-zA-Z0-9_].|\n",
    "|\\W\t| Matches any non-alphanumeric character; this is equivalent to the class [^a-zA-Z0-9_].|\n",
    "|\\s\t| Matches any whitespace character; this is equivalent to the class [ \\t\\n\\r\\f\\v]. |\n",
    "| \\S | Matches any non-whitespace character; this is equivalent to the class [^ \\t\\n\\r\\f\\v]. |"
   ]
  },
  {
   "cell_type": "code",
   "execution_count": null,
   "id": "dd6952e9",
   "metadata": {},
   "outputs": [],
   "source": [
    "import re"
   ]
  },
  {
   "cell_type": "code",
   "execution_count": null,
   "id": "71f63771",
   "metadata": {},
   "outputs": [],
   "source": [
    "re.findall()\n",
    "re.finditer()      # return iterator\n",
    "re.I               # for flags=re.I case insensitive\n",
    "re.search()        # return match object, None if not found\n",
    "re.match()         # return match object, None if not found\n",
    "re.sub()           # can apply function in sencond argument"
   ]
  },
  {
   "cell_type": "code",
   "execution_count": null,
   "id": "54c44c4a",
   "metadata": {},
   "outputs": [],
   "source": [
    "r'([A-Za-z0-9])\\1+'   # consecutive repeating character\n",
    "r'(?<=['+consonants+'])(['+vowels+']{2,})(?=['+consonants+'])'     # the substrings of  that contains 2 or more vowels, and lie in between 2 consonants\n",
    "r'(?=('+k+'))'        # all the k in string (can overlap)\n",
    "r'(I[VX]|V?I{0,3})'   # Roman Numbers 1-9\n",
    "'(.*[A-Z]){2,}'       # at least 2 uppercase English alphabet characters\n",
    "'(.*[0-9]){3,}'       # at least 3 digits\n",
    "r'.*(.).*\\1+.*'       # repeating character"
   ]
  },
  {
   "cell_type": "markdown",
   "id": "408988fb",
   "metadata": {},
   "source": [
    "### functools -- Higher-order functions and operations on callable objects"
   ]
  },
  {
   "cell_type": "code",
   "execution_count": 1,
   "id": "30e2ea7f",
   "metadata": {},
   "outputs": [],
   "source": [
    "from functools import reduce"
   ]
  },
  {
   "cell_type": "code",
   "execution_count": null,
   "id": "7c13806a",
   "metadata": {},
   "outputs": [],
   "source": [
    "reduce(func, sequence, initial)   # Apply a function of two arguments cumulatively to the items of a sequence, \n",
    "                                  # from left to right"
   ]
  },
  {
   "cell_type": "markdown",
   "id": "42a2fbd2",
   "metadata": {},
   "source": [
    "### html.parser -- Simple HTML and XHTML parser\n",
    "\n",
    "https://docs.python.org/3.6/library/html.parser.html#module-html.parser"
   ]
  },
  {
   "cell_type": "code",
   "execution_count": 3,
   "id": "bccf062a",
   "metadata": {},
   "outputs": [
    {
     "name": "stdout",
     "output_type": "stream",
     "text": [
      "Encountered a start tag: html\n",
      "Encountered a start tag: head\n",
      "Encountered a start tag: title\n",
      "Data     : Test\n",
      "Encountered an end tag : title\n",
      "Encountered an end tag : head\n",
      "Encountered a start tag: body\n",
      "Encountered a start tag: h1\n",
      "Data     : Parse me!\n",
      "Encountered an end tag : h1\n",
      "Encountered an end tag : body\n",
      "Encountered an end tag : html\n"
     ]
    }
   ],
   "source": [
    "from html.parser import HTMLParser\n",
    "\n",
    "class MyHTMLParser(HTMLParser):\n",
    "    def handle_starttag(self, tag, attrs):\n",
    "        print(\"Encountered a start tag:\", tag)\n",
    "\n",
    "    def handle_endtag(self, tag):\n",
    "        print(\"Encountered an end tag :\", tag)\n",
    "\n",
    "    def handle_data(self, data):\n",
    "        print(\"Encountered some data  :\", data)\n",
    "        \n",
    "    def handle_data(self, data):\n",
    "        print(\"Data     :\", data)\n",
    "\n",
    "    def handle_comment(self, data):\n",
    "        print(\"Comment  :\", data)\n",
    "\n",
    "parser = MyHTMLParser()\n",
    "parser.feed('<html><head><title>Test</title></head>'\n",
    "            '<body><h1>Parse me!</h1></body></html>')"
   ]
  },
  {
   "cell_type": "markdown",
   "id": "2c99d801",
   "metadata": {},
   "source": []
  },
  {
   "cell_type": "markdown",
   "id": "77712ce2",
   "metadata": {},
   "source": [
    "### 4. Data science packages"
   ]
  },
  {
   "cell_type": "code",
   "execution_count": null,
   "id": "a14d3743",
   "metadata": {},
   "outputs": [],
   "source": [
    "import numpy as np"
   ]
  },
  {
   "cell_type": "code",
   "execution_count": null,
   "id": "42d587fd",
   "metadata": {},
   "outputs": [],
   "source": [
    "# creating np array\n",
    "arr = np.array([], int)\n",
    "arr.dtype\n",
    "arr.shape\n",
    "mat = np.matrix()\n",
    "mat.shape\n",
    "\n",
    "np.zeros(shape, dtype=int)     # dtype = np.int8 or np.float64  \n",
    "np.ones(shape, dtype=float)\n",
    "np.arange()    # Return evenly spaced values within a given interval.\n",
    "np.linspace()    # Return evenly spaced numbers over a specified interval\n",
    "\n",
    "np.identity()             # Return the identity array.\n",
    "np.diag()                 # Extract a diagonal or construct a diagonal array\n",
    "np.eye()                  # Return a 2-D array with ones on the diagonal and zeros elsewhere.\n",
    "\n",
    "np.concatenate((a1, a2, ...), axis=0)    # Join a sequence of arrays along an existing axis.\n",
    "\n",
    "# modify np array\n",
    "arr.reshape()             # Returns an array containing the same data with a new shape.\n",
    "np.reshape()              # equivalent to arr.reshape()\n",
    "arr.shape = (a, b)        # change the shape of arr itself\n",
    "\n",
    "arr.transpose()           # Returns a view of the array with axes transposed. equivalet to arr.T. arr needs to be 2-d array\n",
    "np.transpose()            # see above\n",
    "\n",
    "arr.flatten()             # Return a copy of the array collapsed into one dimension."
   ]
  },
  {
   "cell_type": "markdown",
   "id": "86681433",
   "metadata": {},
   "source": [
    "Basic mathematical functions operate element-wise on arrays. They are available both as operator overloads and as functions in the NumPy module.\n",
    "Broadcasting describes the situation where a unary operator, or binary operator paired with a scalar, is distributed to every element in an array."
   ]
  },
  {
   "cell_type": "markdown",
   "id": "073e301a",
   "metadata": {},
   "source": [
    "a,b = np.array([]), np.array([])\n",
    "c = np.matrix([])\n",
    "\n",
    "c.T\n",
    "c.I\n",
    "\n",
    "a+b == np.add(a,b)\n",
    "a-b == np.subtract(a,b)\n",
    "a*b == np.multiply(a,b)      # for array multiply works element wise, but matrix multiplication works differently\n",
    "a/b == np.divide(a,b)        # this is not floor division\n",
    "a//b == np.floor_divide(a,b)\n",
    "a%b == np.mod(a,b)\n",
    "a**b == np.power(a,b)\n",
    "\n",
    "a & b == np.logical_and(a,b)   # The logical operators and,or (&,|) work pointwise when acting between two boolean arrays of thew same shape.\n",
    "a | b == np.logical_or(a,b)\n",
    "\n",
    "np.floor()\n",
    "np.ceil()\n",
    "np.rint()                # Round elements of the array to the nearest integer.\n",
    "\n",
    "a.sum(axis=None) == np.sum(a, axis=None)     # Sum of array elements over a given axis. axis= 0 or 1\n",
    "a.prod(axis=None) == np.prod(a, axis=None)    # Return the product of array elements over a given axis.\n",
    "a.min() == np.min(a)\n",
    "a.max() == np.max(a)\n",
    "a.mean() == np.mean(a)\n",
    "a.std() == np.std(a)\n",
    "a.var() == np.var(a)\n",
    "\n",
    "a.all() == np.all(a)\n",
    "a.any() == np.any(a)\n",
    "\n",
    "a.dot(b) == np.dot(a,b)   # dot product\n",
    "np.inner(a,b)    # Inner product of two arrays\n",
    "np.outer(a,b)    # Compute the outer product of two vectors\n",
    "np.cross(a,b)    # Return the cross product of two (arrays of) vectors\n",
    "\n",
    "np.poly()        #polynomial related methods\n",
    "np.roots()\n",
    "np.polyint()\n",
    "np.polyder()\n",
    "np.polyval()\n",
    "np.polyfit()\n",
    "\n",
    "np.linalg.det()    # Compute the determinant of an array\n",
    "np.linalg.eig()    # Compute the eigenvalues and right eigenvectors of a square array\n",
    "np.linalg.inv()    # inverse of matrix"
   ]
  },
  {
   "cell_type": "markdown",
   "id": "6a2ac18c",
   "metadata": {},
   "source": [
    "Random Sampling"
   ]
  },
  {
   "cell_type": "code",
   "execution_count": null,
   "id": "38e1eba2",
   "metadata": {},
   "outputs": [],
   "source": [
    "np.random.seed(1)\n",
    "np.random.randn()    # Return a sample (or samples) from the \"standard normal\" distribution.\n",
    "np.random.rand()    # random samples from a uniform distribution\n",
    "np.random.randint()    # Return random integers from `low` (inclusive) to `high` (exclusive)\n",
    "np.random.choice()    # Generates a random sample from a given 1-D array"
   ]
  },
  {
   "cell_type": "code",
   "execution_count": null,
   "id": "22335908",
   "metadata": {},
   "outputs": [],
   "source": []
  },
  {
   "cell_type": "code",
   "execution_count": null,
   "id": "97276829",
   "metadata": {},
   "outputs": [],
   "source": []
  }
 ],
 "metadata": {
  "kernelspec": {
   "display_name": "Python 3",
   "language": "python",
   "name": "python3"
  },
  "language_info": {
   "codemirror_mode": {
    "name": "ipython",
    "version": 3
   },
   "file_extension": ".py",
   "mimetype": "text/x-python",
   "name": "python",
   "nbconvert_exporter": "python",
   "pygments_lexer": "ipython3",
   "version": "3.8.8"
  }
 },
 "nbformat": 4,
 "nbformat_minor": 5
}
