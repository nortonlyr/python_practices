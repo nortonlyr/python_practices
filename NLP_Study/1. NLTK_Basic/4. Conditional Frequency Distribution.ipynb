{
 "cells": [
  {
   "cell_type": "code",
   "execution_count": 10,
   "metadata": {},
   "outputs": [],
   "source": [
    "import nltk"
   ]
  },
  {
   "cell_type": "code",
   "execution_count": 11,
   "metadata": {},
   "outputs": [],
   "source": [
    "names = [(\"Group A\", \"Paul\"),(\"Group A\", \"Mike\"),(\"Group A\", \"Katy\"),(\"Group B\", \"Amy\"),(\"Group B\", \"Joe\"),(\"Group B\", \"Amy\")]"
   ]
  },
  {
   "cell_type": "code",
   "execution_count": 12,
   "metadata": {},
   "outputs": [
    {
     "data": {
      "text/plain": [
       "[('Group A', 'Paul'),\n",
       " ('Group A', 'Mike'),\n",
       " ('Group A', 'Katy'),\n",
       " ('Group B', 'Amy'),\n",
       " ('Group B', 'Joe'),\n",
       " ('Group B', 'Amy')]"
      ]
     },
     "execution_count": 12,
     "metadata": {},
     "output_type": "execute_result"
    }
   ],
   "source": [
    "names"
   ]
  },
  {
   "cell_type": "code",
   "execution_count": 13,
   "metadata": {},
   "outputs": [
    {
     "data": {
      "text/plain": [
       "FreqDist({('Group B', 'Amy'): 2, ('Group A', 'Paul'): 1, ('Group A', 'Mike'): 1, ('Group A', 'Katy'): 1, ('Group B', 'Joe'): 1})"
      ]
     },
     "execution_count": 13,
     "metadata": {},
     "output_type": "execute_result"
    }
   ],
   "source": [
    "# running a regular frequency distribution on the list ...\n",
    "nltk.FreqDist(names)"
   ]
  },
  {
   "cell_type": "code",
   "execution_count": 15,
   "metadata": {},
   "outputs": [
    {
     "data": {
      "text/plain": [
       "<ConditionalFreqDist with 2 conditions>"
      ]
     },
     "execution_count": 15,
     "metadata": {},
     "output_type": "execute_result"
    }
   ],
   "source": [
    "# Running a conditional frequency distribution on the list...\n",
    "nltk.ConditionalFreqDist(names)"
   ]
  },
  {
   "cell_type": "code",
   "execution_count": null,
   "metadata": {},
   "outputs": [],
   "source": []
  }
 ],
 "metadata": {
  "kernelspec": {
   "display_name": "Python 3",
   "language": "python",
   "name": "python3"
  },
  "language_info": {
   "codemirror_mode": {
    "name": "ipython",
    "version": 3
   },
   "file_extension": ".py",
   "mimetype": "text/x-python",
   "name": "python",
   "nbconvert_exporter": "python",
   "pygments_lexer": "ipython3",
   "version": "3.7.6"
  }
 },
 "nbformat": 4,
 "nbformat_minor": 4
}
