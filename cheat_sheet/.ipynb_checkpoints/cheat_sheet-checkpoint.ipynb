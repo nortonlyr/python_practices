{
 "cells": [
  {
   "cell_type": "markdown",
   "id": "d4dd82c9",
   "metadata": {},
   "source": [
    "#### Note: This notebook is built to be a quick reference/cheetsheet notebook. Many cells are not meant to run, but for checking documentations using shift+tab. For more details or examples, check the links that point to the detailed documentation. A commented cell is left in each package sections for the convenience of checking available method/attribute of the class object."
   ]
  },
  {
   "cell_type": "markdown",
   "id": "6ee11a8e",
   "metadata": {},
   "source": [
    "refernce:https://github.com/liyadi81/Practice/blob/master/my%20notebook/cheat%20sheet/Yadi's%20Python%20Notebook.ipynb"
   ]
  },
  {
   "cell_type": "markdown",
   "id": "8f7bd89e",
   "metadata": {},
   "source": [
    "### 1. Basics: datatypes, opertions"
   ]
  },
  {
   "cell_type": "markdown",
   "id": "48489a7a",
   "metadata": {},
   "source": [
    "##### 1.1 Numeric tyoe: int, float, complex"
   ]
  },
  {
   "cell_type": "code",
   "execution_count": null,
   "id": "57f5a84d",
   "metadata": {},
   "outputs": [],
   "source": [
    "int()\n",
    "float()\n",
    "complex()\n",
    "abs()\n",
    "divmod()\n",
    "pow()\n",
    "round()"
   ]
  },
  {
   "cell_type": "markdown",
   "id": "31628548",
   "metadata": {},
   "source": [
    "##### 1.2 String"
   ]
  },
  {
   "cell_type": "code",
   "execution_count": null,
   "id": "0a621136",
   "metadata": {},
   "outputs": [],
   "source": [
    "str()\n",
    "str()+str()\n",
    "str()*n\n",
    "str[:]\n",
    "str[::-1]"
   ]
  },
  {
   "cell_type": "code",
   "execution_count": null,
   "id": "3300a1cc",
   "metadata": {},
   "outputs": [],
   "source": [
    "# str."
   ]
  },
  {
   "cell_type": "code",
   "execution_count": null,
   "id": "7cc4ae5e",
   "metadata": {},
   "outputs": [],
   "source": [
    "str.lower()\n",
    "str.upper()\n",
    "str.capitalize()\n",
    "str.swapcase()\n",
    "str.count()\n",
    "str.find()\n",
    "str.startswith()\n",
    "str.endswith()\n",
    "str.format()\n",
    "str.index()\n",
    "str.join()\n",
    "str.partition()\n",
    "str.replace()\n",
    "str.split()\n",
    "str.strip()\n",
    "# rfind, rindex, rjust, rpartition, rsplit"
   ]
  },
  {
   "cell_type": "code",
   "execution_count": null,
   "id": "7b193f39",
   "metadata": {},
   "outputs": [],
   "source": []
  },
  {
   "cell_type": "code",
   "execution_count": null,
   "id": "3143f2c5",
   "metadata": {},
   "outputs": [],
   "source": []
  },
  {
   "cell_type": "markdown",
   "id": "42f643bf",
   "metadata": {},
   "source": [
    "### 2. Functions"
   ]
  },
  {
   "cell_type": "code",
   "execution_count": null,
   "id": "19b2b03f",
   "metadata": {},
   "outputs": [],
   "source": []
  },
  {
   "cell_type": "code",
   "execution_count": null,
   "id": "2cbed93b",
   "metadata": {},
   "outputs": [],
   "source": []
  },
  {
   "cell_type": "markdown",
   "id": "9d0eabdf",
   "metadata": {},
   "source": [
    "### 3. Built-in package"
   ]
  },
  {
   "cell_type": "markdown",
   "id": "edee15ee",
   "metadata": {},
   "source": [
    "#### 3.4 Regular Expression"
   ]
  },
  {
   "cell_type": "code",
   "execution_count": null,
   "id": "194031b9",
   "metadata": {},
   "outputs": [],
   "source": []
  },
  {
   "cell_type": "code",
   "execution_count": null,
   "id": "c14a7519",
   "metadata": {},
   "outputs": [],
   "source": []
  },
  {
   "cell_type": "code",
   "execution_count": null,
   "id": "cea6397f",
   "metadata": {},
   "outputs": [],
   "source": []
  },
  {
   "cell_type": "code",
   "execution_count": null,
   "id": "5cae1769",
   "metadata": {},
   "outputs": [],
   "source": []
  },
  {
   "cell_type": "code",
   "execution_count": null,
   "id": "ac6446d4",
   "metadata": {},
   "outputs": [],
   "source": []
  },
  {
   "cell_type": "code",
   "execution_count": null,
   "id": "e9069ada",
   "metadata": {},
   "outputs": [],
   "source": []
  },
  {
   "cell_type": "markdown",
   "id": "77712ce2",
   "metadata": {},
   "source": [
    "### 4. Data science packages"
   ]
  },
  {
   "cell_type": "code",
   "execution_count": null,
   "id": "a14d3743",
   "metadata": {},
   "outputs": [],
   "source": []
  },
  {
   "cell_type": "code",
   "execution_count": null,
   "id": "42d587fd",
   "metadata": {},
   "outputs": [],
   "source": []
  },
  {
   "cell_type": "code",
   "execution_count": null,
   "id": "d96c81f8",
   "metadata": {},
   "outputs": [],
   "source": []
  },
  {
   "cell_type": "code",
   "execution_count": null,
   "id": "7cc407b0",
   "metadata": {},
   "outputs": [],
   "source": []
  }
 ],
 "metadata": {
  "kernelspec": {
   "display_name": "Python 3",
   "language": "python",
   "name": "python3"
  },
  "language_info": {
   "codemirror_mode": {
    "name": "ipython",
    "version": 3
   },
   "file_extension": ".py",
   "mimetype": "text/x-python",
   "name": "python",
   "nbconvert_exporter": "python",
   "pygments_lexer": "ipython3",
   "version": "3.8.8"
  }
 },
 "nbformat": 4,
 "nbformat_minor": 5
}
