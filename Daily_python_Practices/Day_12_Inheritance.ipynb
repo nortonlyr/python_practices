{
 "cells": [
  {
   "cell_type": "markdown",
   "metadata": {},
   "source": [
    "Objective Today, we're delving into Inheritance. Check out the attached tutorial for learning materials and an instructional video!\n",
    "\n",
    "Task You are given two classes, Person and Student, where Person is the base class and Student is the derived class. Completed code for Person and a declaration for Student are provided for you in the editor. Observe that Student inherits all the properties of Person.\n",
    "\n",
    "Complete the Student class by writing the following:\n",
    "\n",
    "A Student class constructor, which has parameters: A string, . A string, . An integer, . An integer array (or vector) of test scores, . A char calculate() method that calculates a Student object's average and returns the grade character representative of their calculated average: Grading.png\n",
    "\n",
    "Input Format\n",
    "\n",
    "The locked stub code in your editor calls your Student class constructor and passes it the necessary arguments. It also calls the calculate method (which takes no arguments).\n",
    "\n",
    "You are not responsible for reading the following input from stdin: The first line contains , , and , respectively. The second line contains the number of test scores. The third line of space-separated integers describes .\n",
    "\n",
    "Constraints\n",
    "\n",
    "**Output Format**\n",
    "\n",
    "This is handled by the locked stub code in your editor. Your output will be correct if your Student class constructor and calculate() method are properly implemented.\n",
    "\n",
    "**Sample Input**\n",
    "\n",
    "Heraldo Memelli 8135627 2 100 80 \n",
    "\n",
    "**Sample Output**\n",
    "\n",
    "Name: Memelli, Heraldo ID: 8135627 Grade: O Explanation\n",
    "\n",
    "This student had scores to average: and . The student's average grade is . An average grade of corresponds to the letter grade , so our calculate() method should return the character'O'.\n",
    "\n",
    "https://www.hackerrank.com/challenges/30-inheritance/problem"
   ]
  },
  {
   "cell_type": "code",
   "execution_count": 1,
   "metadata": {},
   "outputs": [],
   "source": [
    "class Person:\n",
    "    def __init__(self, firstName, lastName):\n",
    "        self.firstName = firstName\n",
    "        self.lastName = lastName\n",
    "        self.idNumber = idNumber\n",
    "    \n",
    "    def printPerson(self):\n",
    "        print(\"Name:\", self.lastName + \",\", self.firstName)\n",
    "        print(\"ID:\", self.idNumber)"
   ]
  },
  {
   "cell_type": "code",
   "execution_count": 2,
   "metadata": {},
   "outputs": [],
   "source": [
    "class Student(Person):\n",
    "    def __init__(self, firstName, lastName, idNum, scores):\n",
    "        self.firstName = firstName\n",
    "        self.lastName = lastName\n",
    "        self.idNumber = int(idNum)\n",
    "        self.scores = [int(val) for val in scores]\n",
    "        \n",
    "    def calculate(self):\n",
    "        avg = sum(self.scores)/len(self.scores)\n",
    "        if (90<=avg<=100):\n",
    "            return('0')\n",
    "        elif (80<=avg<=90):\n",
    "            return('E')\n",
    "        elif (70<=avg<=80):\n",
    "            return('A')\n",
    "        elif (55<=avg<=70):\n",
    "            return('P')\n",
    "        elif (40<=avg<=55):\n",
    "            return('D')\n",
    "        else:\n",
    "            return('T')"
   ]
  },
  {
   "cell_type": "code",
   "execution_count": 6,
   "metadata": {},
   "outputs": [
    {
     "name": "stdout",
     "output_type": "stream",
     "text": [
      "Heraldo Memelli 8135627\n",
      "2\n",
      "100 80 \n",
      "Name: Memelli, Heraldo\n",
      "ID: 8135627\n",
      "Grade: 0\n"
     ]
    }
   ],
   "source": [
    "line = input().split()\n",
    "firstName = line[0]\n",
    "lastName = line[1]\n",
    "idNum = line[2]\n",
    "numScores = int(input()) # not needed for python\n",
    "scores = list(map(int, input().split()))\n",
    "s = Student(firstName, lastName, idNum, scores)\n",
    "s.printPerson()\n",
    "print(\"Grade:\", s.calculate())"
   ]
  },
  {
   "cell_type": "code",
   "execution_count": null,
   "metadata": {},
   "outputs": [],
   "source": []
  },
  {
   "cell_type": "code",
   "execution_count": null,
   "metadata": {},
   "outputs": [],
   "source": []
  },
  {
   "cell_type": "code",
   "execution_count": null,
   "metadata": {},
   "outputs": [],
   "source": []
  }
 ],
 "metadata": {
  "kernelspec": {
   "display_name": "Python 3",
   "language": "python",
   "name": "python3"
  },
  "language_info": {
   "codemirror_mode": {
    "name": "ipython",
    "version": 3
   },
   "file_extension": ".py",
   "mimetype": "text/x-python",
   "name": "python",
   "nbconvert_exporter": "python",
   "pygments_lexer": "ipython3",
   "version": "3.7.6"
  }
 },
 "nbformat": 4,
 "nbformat_minor": 4
}
