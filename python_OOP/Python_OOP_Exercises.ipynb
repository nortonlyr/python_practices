{
 "cells": [
  {
   "cell_type": "markdown",
   "metadata": {},
   "source": [
    "refernece: https://www.twblogs.net/a/5caffc3bbd9eee48d7884091"
   ]
  },
  {
   "cell_type": "code",
   "execution_count": 8,
   "metadata": {},
   "outputs": [
    {
     "name": "stdout",
     "output_type": "stream",
     "text": [
      "name:\n",
      "age:0\n"
     ]
    }
   ],
   "source": [
    "class Student():\n",
    "    name = ''\n",
    "    age = 0\n",
    "\n",
    "    def print_file(self):\n",
    "        print('name:' + self.name)\n",
    "        print('age:' + str(self.age))\n",
    "    \n",
    "student = Student()\n",
    "student.print_file()"
   ]
  },
  {
   "cell_type": "code",
   "execution_count": 9,
   "metadata": {},
   "outputs": [
    {
     "name": "stdout",
     "output_type": "stream",
     "text": [
      "<__main__.Cat object at 0x000001A8E24BDC48>\n"
     ]
    }
   ],
   "source": [
    "class Cat():\n",
    "    def eat(self,name):\n",
    "        self.name = name\n",
    "        print('%s love eating fish' %self.name)\n",
    "        \n",
    "    def drink(self):\n",
    "        print('Cat drinks water')\n",
    "        \n",
    "tom = Cat()\n",
    "tom.name = 'Tom'\n",
    "print(tom)"
   ]
  },
  {
   "cell_type": "code",
   "execution_count": 10,
   "metadata": {},
   "outputs": [
    {
     "data": {
      "text/plain": [
       "<__main__.Cat at 0x1a8e24bdc48>"
      ]
     },
     "execution_count": 10,
     "metadata": {},
     "output_type": "execute_result"
    }
   ],
   "source": [
    "tom"
   ]
  },
  {
   "cell_type": "code",
   "execution_count": null,
   "metadata": {},
   "outputs": [],
   "source": []
  }
 ],
 "metadata": {
  "kernelspec": {
   "display_name": "Python 3",
   "language": "python",
   "name": "python3"
  },
  "language_info": {
   "codemirror_mode": {
    "name": "ipython",
    "version": 3
   },
   "file_extension": ".py",
   "mimetype": "text/x-python",
   "name": "python",
   "nbconvert_exporter": "python",
   "pygments_lexer": "ipython3",
   "version": "3.7.6"
  }
 },
 "nbformat": 4,
 "nbformat_minor": 4
}
