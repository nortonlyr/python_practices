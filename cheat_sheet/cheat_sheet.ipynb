{
 "cells": [
  {
   "cell_type": "markdown",
   "id": "6ccf693c",
   "metadata": {},
   "source": [
    "#### Note: This notebook is built to be a quick reference/cheetsheet notebook. Many cells are not meant to run, but for checking documentations using shift+tab. For more details or examples, check the links that point to the detailed documentation. A commented cell is left in each package sections for the convenience of checking available method/attribute of the class object."
   ]
  },
  {
   "cell_type": "markdown",
   "id": "9f613408",
   "metadata": {},
   "source": [
    "refernce:https://github.com/liyadi81/Practice/blob/master/my%20notebook/cheat%20sheet/Yadi's%20Python%20Notebook.ipynb"
   ]
  },
  {
   "cell_type": "markdown",
   "id": "c16a116b",
   "metadata": {},
   "source": [
    "### 1. Basics: datatypes, opertions"
   ]
  },
  {
   "cell_type": "code",
   "execution_count": null,
   "id": "040380fc",
   "metadata": {},
   "outputs": [],
   "source": []
  },
  {
   "cell_type": "code",
   "execution_count": null,
   "id": "3d75b180",
   "metadata": {},
   "outputs": [],
   "source": []
  },
  {
   "cell_type": "code",
   "execution_count": null,
   "id": "75217c3c",
   "metadata": {},
   "outputs": [],
   "source": []
  }
 ],
 "metadata": {
  "kernelspec": {
   "display_name": "Python 3",
   "language": "python",
   "name": "python3"
  },
  "language_info": {
   "codemirror_mode": {
    "name": "ipython",
    "version": 3
   },
   "file_extension": ".py",
   "mimetype": "text/x-python",
   "name": "python",
   "nbconvert_exporter": "python",
   "pygments_lexer": "ipython3",
   "version": "3.8.8"
  }
 },
 "nbformat": 4,
 "nbformat_minor": 5
}
