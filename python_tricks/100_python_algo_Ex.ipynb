{
 "cells": [
  {
   "cell_type": "markdown",
   "metadata": {},
   "source": [
    "Reference: https://blog.csdn.net/qq_43468607/article/details/103205745"
   ]
  },
  {
   "cell_type": "markdown",
   "metadata": {},
   "source": [
    "题目1：有四个数字：1、2、3、4，能组成多少个互不相同且无重复数字的三位数？各是多少？"
   ]
  },
  {
   "cell_type": "markdown",
   "metadata": {},
   "source": [
    "程序分析：<br>\n",
    "可填在百位、十位、个位的数字都是1、2、3、4。组成所有的排列后再去 掉不满足条件的排列。**<br>\n",
    "思路解析：<br>\n",
    "用三个for循环嵌套输出，并用range（）函数进行划定范围1到4，外加if条件语句进行判断三个数字不相等"
   ]
  },
  {
   "cell_type": "code",
   "execution_count": 2,
   "metadata": {},
   "outputs": [
    {
     "name": "stdout",
     "output_type": "stream",
     "text": [
      "1 3 2\n",
      "1 4 2\n",
      "1 2 3\n",
      "1 4 3\n",
      "1 2 4\n",
      "1 3 4\n",
      "2 3 1\n",
      "2 4 1\n",
      "2 1 3\n",
      "2 4 3\n",
      "2 1 4\n",
      "2 3 4\n",
      "3 2 1\n",
      "3 4 1\n",
      "3 1 2\n",
      "3 4 2\n",
      "3 1 4\n",
      "3 2 4\n",
      "4 2 1\n",
      "4 3 1\n",
      "4 1 2\n",
      "4 3 2\n",
      "4 1 3\n",
      "4 2 3\n"
     ]
    }
   ],
   "source": [
    "for i in range(1,5):\n",
    "    for k in range(1,5):\n",
    "        for j in range(1,5):\n",
    "            if (i != k) and (i != j) and (k != j):\n",
    "                print(i, j, k)"
   ]
  },
  {
   "cell_type": "markdown",
   "metadata": {},
   "source": [
    "题目2：输入某年某月某日，判断这一天是这一年的第几天？"
   ]
  },
  {
   "cell_type": "markdown",
   "metadata": {},
   "source": [
    "程序分析：<br>\n",
    "以3月5日为例，应该先把前两个月的加起来，然后再加上5天即本年的第几天，特殊情况，闰年且输入月份大于2时需考虑多加一天：<br>\n",
    "思路解析：<br>\n",
    "用列表存储每一个月份到12月份的天数，逐渐递增，用if条件判断语句判断月份，取列表的下表，下面对年份进行判断，如果为闰年，且输入的月份大于2月份，则将算出的天数加1<br>\n",
    "代码解析："
   ]
  },
  {
   "cell_type": "code",
   "execution_count": null,
   "metadata": {},
   "outputs": [],
   "source": []
  }
 ],
 "metadata": {
  "kernelspec": {
   "display_name": "Python 3",
   "language": "python",
   "name": "python3"
  },
  "language_info": {
   "codemirror_mode": {
    "name": "ipython",
    "version": 3
   },
   "file_extension": ".py",
   "mimetype": "text/x-python",
   "name": "python",
   "nbconvert_exporter": "python",
   "pygments_lexer": "ipython3",
   "version": "3.7.6"
  }
 },
 "nbformat": 4,
 "nbformat_minor": 4
}
