{
 "cells": [
  {
   "cell_type": "code",
   "execution_count": 1,
   "id": "7fb0a6f8-e735-4feb-8df0-b805dbcce2b7",
   "metadata": {},
   "outputs": [],
   "source": [
    "# 给定两个字符串 s 和 t ，编写一个函数来判断 t 是否是 s 的字母异位词。\n",
    "\n",
    "# 示例 1: 输入: s = \"anagram\", t = \"nagaram\" 输出: true\n",
    "\n",
    "# 示例 2: 输入: s = \"rat\", t = \"car\" 输出: false"
   ]
  },
  {
   "cell_type": "code",
   "execution_count": null,
   "id": "af2cb4eb-952e-43ab-a774-b13be3997504",
   "metadata": {},
   "outputs": [],
   "source": []
  },
  {
   "cell_type": "code",
   "execution_count": null,
   "id": "ee66c7e1-0442-47d2-b559-b8942b3047ee",
   "metadata": {},
   "outputs": [],
   "source": []
  }
 ],
 "metadata": {
  "kernelspec": {
   "display_name": "Python 3 (ipykernel)",
   "language": "python",
   "name": "python3"
  },
  "language_info": {
   "codemirror_mode": {
    "name": "ipython",
    "version": 3
   },
   "file_extension": ".py",
   "mimetype": "text/x-python",
   "name": "python",
   "nbconvert_exporter": "python",
   "pygments_lexer": "ipython3",
   "version": "3.9.12"
  }
 },
 "nbformat": 4,
 "nbformat_minor": 5
}
