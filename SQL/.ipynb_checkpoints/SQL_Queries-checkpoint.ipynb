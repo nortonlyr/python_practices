{
 "cells": [
  {
   "cell_type": "markdown",
   "id": "8c12b6cb-d4cf-4df9-a15f-80fddb042c99",
   "metadata": {},
   "source": [
    "SQL Lesson 17: Altering tables\n",
    "\n",
    "ALTER TABLE mytable\n",
    "\n",
    "ADD column DataType OptionalTableConstraint \n",
    "    DEFAULT default_value;"
   ]
  },
  {
   "cell_type": "markdown",
   "id": "22be4a35-fbbf-4bcb-98c8-d0c24ebc47ec",
   "metadata": {},
   "source": [
    "ALTER TABLE mytable\n",
    "\n",
    "DROP column_to_be_deleted;"
   ]
  },
  {
   "cell_type": "code",
   "execution_count": 2,
   "id": "b980e4b5-3552-4924-82a5-81c3e3a2bee9",
   "metadata": {},
   "outputs": [],
   "source": [
    "# ALTER TABLE mytable\n",
    "# ADD column DataType OptionalTableConstraint \n",
    "    # DEFAULT default_value;"
   ]
  },
  {
   "cell_type": "code",
   "execution_count": null,
   "id": "cea5fa4a-1620-47fd-b256-10d7eb7005bd",
   "metadata": {},
   "outputs": [],
   "source": [
    "# FROM sales_associates\n",
    "# WHERE salary > \n",
    " #  (SELECT AVG(revenue_generated)\n",
    " #  FROM sales_associates);"
   ]
  },
  {
   "cell_type": "code",
   "execution_count": null,
   "id": "e78ee8b8-b1ef-4424-96a8-d6b734649e25",
   "metadata": {},
   "outputs": [],
   "source": []
  }
 ],
 "metadata": {
  "kernelspec": {
   "display_name": "Python 3 (ipykernel)",
   "language": "python",
   "name": "python3"
  },
  "language_info": {
   "codemirror_mode": {
    "name": "ipython",
    "version": 3
   },
   "file_extension": ".py",
   "mimetype": "text/x-python",
   "name": "python",
   "nbconvert_exporter": "python",
   "pygments_lexer": "ipython3",
   "version": "3.9.12"
  }
 },
 "nbformat": 4,
 "nbformat_minor": 5
}
