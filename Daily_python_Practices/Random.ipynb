{
 "cells": [
  {
   "cell_type": "code",
   "execution_count": 52,
   "id": "07dc4c1a-d4f2-4b50-9983-4b18e6f162bd",
   "metadata": {},
   "outputs": [],
   "source": [
    "def rotate(nums, k):\n",
    "    n = len(nums)\n",
    "    k = k % n\n",
    "    nums[:] = nums[n-k:] + nums[:n-k]\n",
    "    return nums"
   ]
  },
  {
   "cell_type": "code",
   "execution_count": 53,
   "id": "66607755-4b5a-49c0-8779-4b4436881204",
   "metadata": {},
   "outputs": [
    {
     "data": {
      "text/plain": [
       "[5, 6, 7, 1, 2, 3, 4]"
      ]
     },
     "execution_count": 53,
     "metadata": {},
     "output_type": "execute_result"
    }
   ],
   "source": [
    "rotate([1,2,3, 4, 5, 6, 7], 3)"
   ]
  },
  {
   "cell_type": "code",
   "execution_count": 66,
   "id": "04b8d095-95c4-4662-be17-09fb769bea77",
   "metadata": {},
   "outputs": [],
   "source": [
    "nums = [1,2,3,4,5,6,7]\n",
    "n = 7\n",
    "k = 3 % n  # k=3\n",
    "nums[:] = nums[n-k:] + nums[:n-k]"
   ]
  },
  {
   "cell_type": "code",
   "execution_count": 67,
   "id": "47de640d-5132-4389-8e25-65e85f15f2b5",
   "metadata": {},
   "outputs": [
    {
     "data": {
      "text/plain": [
       "[5, 6, 7, 1, 2, 3, 4]"
      ]
     },
     "execution_count": 67,
     "metadata": {},
     "output_type": "execute_result"
    }
   ],
   "source": [
    "nums"
   ]
  },
  {
   "cell_type": "code",
   "execution_count": 68,
   "id": "3810e86f-b74f-418b-b31e-8143a2673412",
   "metadata": {},
   "outputs": [
    {
     "data": {
      "text/plain": [
       "[5, 6, 7, 1, 2, 3, 4]"
      ]
     },
     "execution_count": 68,
     "metadata": {},
     "output_type": "execute_result"
    }
   ],
   "source": [
    "nums[:]"
   ]
  },
  {
   "cell_type": "code",
   "execution_count": 72,
   "id": "dee755f1-019d-4fce-923e-fe6c9be2f43d",
   "metadata": {},
   "outputs": [],
   "source": [
    "nums = [1,2,3,4,5,6,7]"
   ]
  },
  {
   "cell_type": "code",
   "execution_count": 73,
   "id": "bca099bb-6717-4e68-851e-71d581db6d86",
   "metadata": {},
   "outputs": [
    {
     "data": {
      "text/plain": [
       "[5, 6, 7]"
      ]
     },
     "execution_count": 73,
     "metadata": {},
     "output_type": "execute_result"
    }
   ],
   "source": [
    "nums[7-3:]"
   ]
  },
  {
   "cell_type": "code",
   "execution_count": 74,
   "id": "5fbe86e3-46f9-4fce-bfb4-7f46d9a22a9b",
   "metadata": {},
   "outputs": [
    {
     "data": {
      "text/plain": [
       "[1, 2, 3, 4]"
      ]
     },
     "execution_count": 74,
     "metadata": {},
     "output_type": "execute_result"
    }
   ],
   "source": [
    "nums[:7-3]"
   ]
  },
  {
   "cell_type": "code",
   "execution_count": 75,
   "id": "7cd623fe-56ce-4116-9688-e4f7eb1f74aa",
   "metadata": {},
   "outputs": [
    {
     "data": {
      "text/plain": [
       "[5, 6, 7, 1, 2, 3, 4]"
      ]
     },
     "execution_count": 75,
     "metadata": {},
     "output_type": "execute_result"
    }
   ],
   "source": [
    "nums[7-3:] + nums[:7-3]"
   ]
  },
  {
   "cell_type": "code",
   "execution_count": null,
   "id": "2f06a47a-7674-4353-bb1e-0cdd804f063c",
   "metadata": {},
   "outputs": [],
   "source": []
  },
  {
   "cell_type": "code",
   "execution_count": null,
   "id": "a21504a5-60c9-46e4-82b4-6eee5bb0047a",
   "metadata": {},
   "outputs": [],
   "source": []
  },
  {
   "cell_type": "code",
   "execution_count": null,
   "id": "6ca41877-5cba-4e10-9baa-a6af74876283",
   "metadata": {},
   "outputs": [],
   "source": []
  },
  {
   "cell_type": "code",
   "execution_count": 76,
   "id": "c21cb27f-56d2-4ffa-a5ee-dc0c307e427b",
   "metadata": {},
   "outputs": [],
   "source": [
    "letters = [\"a\", \"b\", \"c\", \"e\", \"l\", \"l\", \"t\"]\n",
    "words = [\"ball\",\"dog\",\"cat\",\"pet\"]"
   ]
  },
  {
   "cell_type": "code",
   "execution_count": 84,
   "id": "fb5ca499-1f43-478e-bafa-efd14f15a99c",
   "metadata": {},
   "outputs": [
    {
     "data": {
      "text/plain": [
       "['b', 'a', 'l', 'l']"
      ]
     },
     "execution_count": 84,
     "metadata": {},
     "output_type": "execute_result"
    }
   ],
   "source": [
    "list(\"ball\")"
   ]
  },
  {
   "cell_type": "code",
   "execution_count": 85,
   "id": "1273203d-b8de-4399-827e-f6f7baa2e8c0",
   "metadata": {},
   "outputs": [
    {
     "name": "stdout",
     "output_type": "stream",
     "text": [
      "c\n",
      "e\n",
      "t\n"
     ]
    }
   ],
   "source": [
    "for i in letters:\n",
    "    if i in list(\"ball\"):\n",
    "        letters.remove(i)\n",
    "    print (i)"
   ]
  },
  {
   "cell_type": "code",
   "execution_count": null,
   "id": "4f49d6b4-e16f-4521-a7aa-d41f59a31432",
   "metadata": {},
   "outputs": [],
   "source": []
  },
  {
   "cell_type": "code",
   "execution_count": null,
   "id": "ba06fb43-5482-4e5e-85cd-5be17399b94a",
   "metadata": {},
   "outputs": [],
   "source": []
  }
 ],
 "metadata": {
  "kernelspec": {
   "display_name": "Python 3 (ipykernel)",
   "language": "python",
   "name": "python3"
  },
  "language_info": {
   "codemirror_mode": {
    "name": "ipython",
    "version": 3
   },
   "file_extension": ".py",
   "mimetype": "text/x-python",
   "name": "python",
   "nbconvert_exporter": "python",
   "pygments_lexer": "ipython3",
   "version": "3.9.12"
  }
 },
 "nbformat": 4,
 "nbformat_minor": 5
}
