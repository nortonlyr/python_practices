{
 "cells": [
  {
   "cell_type": "code",
   "execution_count": 27,
   "metadata": {},
   "outputs": [
    {
     "data": {
      "text/plain": [
       "'nt'"
      ]
     },
     "execution_count": 27,
     "metadata": {},
     "output_type": "execute_result"
    }
   ],
   "source": [
    "import os\n",
    "os.name"
   ]
  },
  {
   "cell_type": "code",
   "execution_count": 28,
   "metadata": {},
   "outputs": [
    {
     "data": {
      "text/plain": [
       "'E:\\\\dev\\\\python_practices\\\\OS'"
      ]
     },
     "execution_count": 28,
     "metadata": {},
     "output_type": "execute_result"
    }
   ],
   "source": [
    "os.getcwd()"
   ]
  },
  {
   "cell_type": "code",
   "execution_count": 29,
   "metadata": {},
   "outputs": [
    {
     "data": {
      "text/plain": [
       "'E:\\\\dev\\\\python_practices\\\\OS\\\\logging\\\\Logs'"
      ]
     },
     "execution_count": 29,
     "metadata": {},
     "output_type": "execute_result"
    }
   ],
   "source": [
    "path1 = '.\\logging\\Logs'\n",
    "os.path.abspath(path)"
   ]
  },
  {
   "cell_type": "code",
   "execution_count": 37,
   "metadata": {},
   "outputs": [
    {
     "data": {
      "text/plain": [
       "('E:\\\\dev\\\\python_practices\\\\logging\\\\Logs', '202104251528.log')"
      ]
     },
     "execution_count": 37,
     "metadata": {},
     "output_type": "execute_result"
    }
   ],
   "source": [
    "path2 = 'E:\\\\dev\\\\python_practices\\\\logging\\\\Logs\\\\202104251528.log'\n",
    "os.path.split(path2)"
   ]
  },
  {
   "cell_type": "code",
   "execution_count": 42,
   "metadata": {},
   "outputs": [
    {
     "data": {
      "text/plain": [
       "'E:\\\\'"
      ]
     },
     "execution_count": 42,
     "metadata": {},
     "output_type": "execute_result"
    }
   ],
   "source": [
    "path3 = 'E:\\\\my_project\\\\darknet\\\\darknet-master\\\\keras-yolo3\\\\keras-yolo3-master\\\\train.py'\n",
    "os.path.dirname(path3)\n",
    "# only directory, not includes file 返回path的目录，其实就是返回os.path.split(path)元组的第一个元素\n",
    "path3_2 = 'E:\\\\my_project'\n",
    "os.path.dirname(path3_2)"
   ]
  },
  {
   "cell_type": "code",
   "execution_count": 46,
   "metadata": {},
   "outputs": [
    {
     "data": {
      "text/plain": [
       "'my_project'"
      ]
     },
     "execution_count": 46,
     "metadata": {},
     "output_type": "execute_result"
    }
   ],
   "source": [
    "path4 = 'E:\\\\my_project\\\\darknet\\\\darknet-master\\\\keras-yolo3\\\\keras-yolo3-master\\\\train.py'\n",
    "os.path.basename(path4)\n",
    "path4_2 = 'E:\\\\my_project'\n",
    "os.path.basename(path4_2)\n",
    "# 返回path的文件名，其实就是返回os.path.split(path)元组的第二个元素"
   ]
  },
  {
   "cell_type": "code",
   "execution_count": null,
   "metadata": {},
   "outputs": [],
   "source": []
  },
  {
   "cell_type": "code",
   "execution_count": 48,
   "metadata": {},
   "outputs": [
    {
     "data": {
      "text/plain": [
       "'E:\\\\my_project'"
      ]
     },
     "execution_count": 48,
     "metadata": {},
     "output_type": "execute_result"
    }
   ],
   "source": [
    "lst = [\"E:\\\\my_project\",\"E:\\\\my_project\\\\darknet\",\"E:\\\\my_project\\\\darknet\\\\darknet-master\"]\n",
    "#list里面每一个元素都是一个路径，然后这个函数返回路径中的公共路径\n",
    "os.path.commonprefix(lst)"
   ]
  },
  {
   "cell_type": "code",
   "execution_count": null,
   "metadata": {},
   "outputs": [],
   "source": []
  },
  {
   "cell_type": "code",
   "execution_count": 52,
   "metadata": {},
   "outputs": [
    {
     "data": {
      "text/plain": [
       "False"
      ]
     },
     "execution_count": 52,
     "metadata": {},
     "output_type": "execute_result"
    }
   ],
   "source": [
    "os.path.exists('E:\\\\my_project\\\\darknet\\\\darknet-master\\\\keras-yolo3\\\\keras-yolo3-master\\\\train.py')\n",
    "# 如果path是一个存在的路径，返回True，否则（otherwise） 返回 False"
   ]
  },
  {
   "cell_type": "code",
   "execution_count": 54,
   "metadata": {},
   "outputs": [
    {
     "data": {
      "text/plain": [
       "True"
      ]
     },
     "execution_count": 54,
     "metadata": {},
     "output_type": "execute_result"
    }
   ],
   "source": [
    "os.path.exists('E:\\\\dev\\\\python_practices\\\\logging\\\\Logs\\\\202104251528.log')"
   ]
  },
  {
   "cell_type": "code",
   "execution_count": null,
   "metadata": {},
   "outputs": [],
   "source": []
  },
  {
   "cell_type": "code",
   "execution_count": null,
   "metadata": {},
   "outputs": [],
   "source": []
  },
  {
   "cell_type": "code",
   "execution_count": 55,
   "metadata": {},
   "outputs": [],
   "source": [
    "# os.environment"
   ]
  },
  {
   "cell_type": "code",
   "execution_count": 63,
   "metadata": {},
   "outputs": [],
   "source": [
    "import os\n",
    "\n",
    "def set_env():\n",
    "    # 設置環境變量\n",
    "    os.environ.setdefault('test', 'case')\n",
    "\n",
    "def get_env():\n",
    "    # 獲取環境變量\n",
    "    if os.environ.get('test'):\n",
    "        print(os.environ['test'])\n",
    "    else:\n",
    "        print(None)\n",
    "        \n",
    "def del_env():\n",
    "    # 刪除環境變量\n",
    "    del os.environ['test']\n",
    "    \n",
    "set_env()"
   ]
  },
  {
   "cell_type": "code",
   "execution_count": 64,
   "metadata": {},
   "outputs": [
    {
     "name": "stdout",
     "output_type": "stream",
     "text": [
      "case\n"
     ]
    }
   ],
   "source": [
    "get_env()"
   ]
  },
  {
   "cell_type": "code",
   "execution_count": 65,
   "metadata": {},
   "outputs": [],
   "source": [
    "del_env()"
   ]
  },
  {
   "cell_type": "code",
   "execution_count": 66,
   "metadata": {},
   "outputs": [
    {
     "name": "stdout",
     "output_type": "stream",
     "text": [
      "None\n"
     ]
    }
   ],
   "source": [
    "get_env()"
   ]
  },
  {
   "cell_type": "code",
   "execution_count": 68,
   "metadata": {
    "scrolled": false
   },
   "outputs": [
    {
     "data": {
      "text/plain": [
       "KeysView(environ({'AGSDESKTOPJAVA': 'C:\\\\Program Files (x86)\\\\ArcGIS\\\\Desktop10.7\\\\', 'ALLUSERSPROFILE': 'C:\\\\ProgramData', 'APPDATA': 'C:\\\\Users\\\\Norto\\\\AppData\\\\Roaming', 'ASL.LOG': 'Destination=file', 'COMMONPROGRAMFILES': 'C:\\\\Program Files\\\\Common Files', 'COMMONPROGRAMFILES(X86)': 'C:\\\\Program Files (x86)\\\\Common Files', 'COMMONPROGRAMW6432': 'C:\\\\Program Files\\\\Common Files', 'COMPUTERNAME': 'LAPTOP-9TKMURJT', 'COMSPEC': 'C:\\\\WINDOWS\\\\system32\\\\cmd.exe', 'CONFIGSETROOT': 'C:\\\\WINDOWS\\\\ConfigSetRoot', 'FPS_BROWSER_APP_PROFILE_STRING': 'Internet Explorer', 'FPS_BROWSER_USER_PROFILE_STRING': 'Default', 'HADOOP_HOME': 'E:\\\\spark\\\\spark-3.0.1-bin-hadoop2.7\\\\hadoop', 'HOMEDRIVE': 'C:', 'HOMEPATH': '\\\\Users\\\\Norto', 'INTELLIJ IDEA': 'e:\\\\Program Files\\\\JetBrains\\\\IntelliJ IDEA 2020.1\\\\bin;', 'INTELLIJ IDEA COMMUNITY EDITION': 'E:\\\\Program Files\\\\JetBrains\\\\IntelliJ IDEA Community Edition 2020.3.1\\\\bin;', 'JAVA_HOME': 'C:\\\\Program Files\\\\Java\\\\jdk1.8.0_271', 'LOCALAPPDATA': 'C:\\\\Users\\\\Norto\\\\AppData\\\\Local', 'LOGONSERVER': '\\\\\\\\LAPTOP-9TKMURJT', 'MAVEN_HOME': 'D:\\\\Maven\\\\apache-maven-3.6.3-bin', 'MSMPI_BIN': 'C:\\\\Program Files\\\\Microsoft MPI\\\\Bin\\\\', 'NUMBER_OF_PROCESSORS': '8', 'ONEDRIVE': 'C:\\\\Users\\\\Norto\\\\OneDrive', 'ONEDRIVECONSUMER': 'C:\\\\Users\\\\Norto\\\\OneDrive', 'OS': 'Windows_NT', 'PATH': 'C:\\\\Users\\\\Norto\\\\anaconda3;C:\\\\Users\\\\Norto\\\\anaconda3\\\\Library\\\\mingw-w64\\\\bin;C:\\\\Users\\\\Norto\\\\anaconda3\\\\Library\\\\usr\\\\bin;C:\\\\Users\\\\Norto\\\\anaconda3\\\\Library\\\\bin;C:\\\\Users\\\\Norto\\\\anaconda3\\\\Scripts;C:\\\\Users\\\\Norto\\\\anaconda3\\\\Scripts;C:\\\\Users\\\\Norto\\\\anaconda3;C:\\\\Program Files (x86)\\\\Common Files\\\\Oracle\\\\Java\\\\javapath;C:\\\\Program Files\\\\Microsoft MPI\\\\Bin\\\\;C:\\\\ProgramData\\\\Oracle\\\\Java\\\\javapath;C:\\\\WINDOWS\\\\system32;C:\\\\WINDOWS;C:\\\\WINDOWS\\\\System32\\\\Wbem;C:\\\\WINDOWS\\\\System32\\\\WindowsPowerShell\\\\v1.0\\\\;C:\\\\PROGRA~2\\\\PEAKFI~1.12;.\\\\Plugins;C:\\\\Program Files (x86)\\\\Gatan\\\\DigitalMicrograph\\\\Plugins;C:\\\\Program Files\\\\Java\\\\jdk1.8.0_144\\\\bin;C:\\\\Program Files\\\\Intel\\\\WiFi\\\\bin\\\\;C:\\\\Program Files\\\\Common Files\\\\Intel\\\\WirelessCommon\\\\;C:\\\\Program Files (x86)\\\\Microsoft SQL Server\\\\Client SDK\\\\ODBC\\\\130\\\\Tools\\\\Binn\\\\;C:\\\\Program Files (x86)\\\\Microsoft SQL Server\\\\140\\\\Tools\\\\Binn\\\\;C:\\\\Program Files (x86)\\\\Microsoft SQL Server\\\\140\\\\DTS\\\\Binn\\\\;C:\\\\Program Files (x86)\\\\Microsoft SQL Server\\\\140\\\\Tools\\\\Binn\\\\ManagementStudio\\\\;C:\\\\Program Files\\\\dotnet\\\\;C:\\\\Program Files\\\\Microsoft SQL Server\\\\130\\\\Tools\\\\Binn\\\\;C:\\\\Program Files\\\\Git\\\\cmd;c:\\\\Program Files (x86)\\\\Intel\\\\Intel(R) Management Engine Components\\\\DAL;c:\\\\Program Files\\\\Intel\\\\Intel(R) Management Engine Components\\\\DAL;C:\\\\Program Files\\\\nodejs\\\\;C:\\\\Program Files (x86)\\\\mingw-w64\\\\i686-8.1.0-posix-dwarf-rt_v6-rev0\\\\mingw32\\\\bin;C:\\\\Program Files\\\\PuTTY\\\\;;C:\\\\Program Files\\\\Docker\\\\Docker\\\\resources\\\\bin;C:\\\\ProgramData\\\\DockerDesktop\\\\version-bin;E:\\\\spark\\\\spark-3.0.1-bin-hadoop2.7\\\\bin;C:\\\\Users\\\\Norto\\\\AppData\\\\Local\\\\Programs\\\\Microsoft VS Code\\\\bin', 'PATHEXT': '.COM;.EXE;.BAT;.CMD;.VBS;.VBE;.JS;.JSE;.WSF;.WSH;.MSC', 'PROCESSOR_ARCHITECTURE': 'AMD64', 'PROCESSOR_IDENTIFIER': 'Intel64 Family 6 Model 94 Stepping 3, GenuineIntel', 'PROCESSOR_LEVEL': '6', 'PROCESSOR_REVISION': '5e03', 'PROGRAMDATA': 'C:\\\\ProgramData', 'PROGRAMFILES': 'C:\\\\Program Files', 'PROGRAMFILES(X86)': 'C:\\\\Program Files (x86)', 'PROGRAMW6432': 'C:\\\\Program Files', 'PROJ_LIB': 'C:\\\\Program Files (x86)\\\\Microsoft Visual Studio\\\\Shared\\\\Anaconda3_64\\\\share\\\\proj', 'PSMODULEPATH': 'C:\\\\Program Files\\\\WindowsPowerShell\\\\Modules;C:\\\\WINDOWS\\\\system32\\\\WindowsPowerShell\\\\v1.0\\\\Modules', 'PUBLIC': 'C:\\\\Users\\\\Public', 'PYCHARM COMMUNITY EDITION': 'd:\\\\Program Files\\\\JetBrains\\\\PyCharm Community Edition 2019.2\\\\bin;', 'PYTHONPATH': 'E:\\\\spark\\\\spark-3.0.1-bin-hadoop2.7\\\\python\\\\lib\\\\pyspark.zip;E:\\\\spark\\\\spark-3.0.1-bin-hadoop2.7\\\\python\\\\lib\\\\py4j-0.10.9-src.zip;C:\\\\Users\\\\Norto\\\\anaconda3\\\\DLLs;C:\\\\Users\\\\Norto\\\\anaconda3\\\\Lib;C:\\\\Users\\\\Norto\\\\anaconda3\\\\tcl;E:\\\\spark\\\\spark-3.0.1-bin-hadoop2.7\\\\python\\\\lib;E:\\\\spark\\\\spark-3.0.1-bin-hadoop2.7\\\\python\\\\lib\\\\py4j-0.10.9-src.zip;E:\\\\spark\\\\spark-3.0.1-bin-hadoop2.7\\\\python\\\\lib\\\\pyspark.zip;C:\\\\Users\\\\Norto\\\\anaconda3;', 'PYTHON_HOME': 'C:\\\\Users\\\\Norto\\\\anaconda3', 'SESSIONNAME': 'Console', 'SPARK_HOME': 'E:\\\\spark\\\\spark-3.0.1-bin-hadoop2.7', 'SYSTEMDRIVE': 'C:', 'SYSTEMROOT': 'C:\\\\WINDOWS', 'TEMP': 'C:\\\\Users\\\\Norto\\\\AppData\\\\Local\\\\Temp', 'TMP': 'C:\\\\Users\\\\Norto\\\\AppData\\\\Local\\\\Temp', 'USERDOMAIN': 'LAPTOP-9TKMURJT', 'USERDOMAIN_ROAMINGPROFILE': 'LAPTOP-9TKMURJT', 'USERNAME': 'Norto', 'USERPROFILE': 'C:\\\\Users\\\\Norto', 'VS150COMCOMNTOOLS': 'C:\\\\Program Files (x86)\\\\Microsoft Visual Studio\\\\2017\\\\Community\\\\Common7\\\\Tools\\\\', 'WINDIR': 'C:\\\\WINDOWS', 'CONDA_PREFIX': 'C:\\\\Users\\\\Norto\\\\anaconda3', 'KERNEL_LAUNCH_TIMEOUT': '40', 'JPY_INTERRUPT_EVENT': '3604', 'IPY_INTERRUPT_EVENT': '3604', 'JPY_PARENT_PID': '3872', 'TERM': 'xterm-color', 'CLICOLOR': '1', 'PAGER': 'cat', 'GIT_PAGER': 'cat', 'MPLBACKEND': 'module://ipykernel.pylab.backend_inline'}))"
      ]
     },
     "execution_count": 68,
     "metadata": {},
     "output_type": "execute_result"
    }
   ],
   "source": [
    "import os\n",
    "os.environ.keys()"
   ]
  },
  {
   "cell_type": "code",
   "execution_count": 69,
   "metadata": {},
   "outputs": [
    {
     "data": {
      "text/plain": [
       "'\\\\Users\\\\Norto'"
      ]
     },
     "execution_count": 69,
     "metadata": {},
     "output_type": "execute_result"
    }
   ],
   "source": [
    "os.environ['HOMEPATH']"
   ]
  },
  {
   "cell_type": "code",
   "execution_count": 70,
   "metadata": {},
   "outputs": [
    {
     "data": {
      "text/plain": [
       "'C:\\\\Users\\\\Norto\\\\anaconda3'"
      ]
     },
     "execution_count": 70,
     "metadata": {},
     "output_type": "execute_result"
    }
   ],
   "source": [
    "os.environ['CONDA_PREFIX']"
   ]
  },
  {
   "cell_type": "code",
   "execution_count": 72,
   "metadata": {},
   "outputs": [
    {
     "data": {
      "text/plain": [
       "'C:\\\\Program Files\\\\Java\\\\jdk1.8.0_271'"
      ]
     },
     "execution_count": 72,
     "metadata": {},
     "output_type": "execute_result"
    }
   ],
   "source": [
    "os.environ['JAVA_HOME']"
   ]
  },
  {
   "cell_type": "code",
   "execution_count": 73,
   "metadata": {},
   "outputs": [
    {
     "data": {
      "text/plain": [
       "'C:\\\\Users\\\\Norto\\\\AppData\\\\Local\\\\Temp'"
      ]
     },
     "execution_count": 73,
     "metadata": {},
     "output_type": "execute_result"
    }
   ],
   "source": [
    "os.environ['TEMP']"
   ]
  },
  {
   "cell_type": "code",
   "execution_count": 75,
   "metadata": {},
   "outputs": [
    {
     "data": {
      "text/plain": [
       "'.COM;.EXE;.BAT;.CMD;.VBS;.VBE;.JS;.JSE;.WSF;.WSH;.MSC'"
      ]
     },
     "execution_count": 75,
     "metadata": {},
     "output_type": "execute_result"
    }
   ],
   "source": [
    "os.environ['PATHEXT']"
   ]
  },
  {
   "cell_type": "code",
   "execution_count": 76,
   "metadata": {},
   "outputs": [
    {
     "data": {
      "text/plain": [
       "'C:\\\\WINDOWS'"
      ]
     },
     "execution_count": 76,
     "metadata": {},
     "output_type": "execute_result"
    }
   ],
   "source": [
    "os.environ['SYSTEMROOT']"
   ]
  },
  {
   "cell_type": "code",
   "execution_count": null,
   "metadata": {},
   "outputs": [],
   "source": [
    "os.environ['LOGONSERVER']"
   ]
  },
  {
   "cell_type": "code",
   "execution_count": null,
   "metadata": {},
   "outputs": [],
   "source": [
    "path_os1 = 'E:\\\\dev\\\\ipython_practices\\\\OS\\\\test'\n",
    "os.makedirs(path_os1)"
   ]
  },
  {
   "cell_type": "code",
   "execution_count": 90,
   "metadata": {},
   "outputs": [
    {
     "data": {
      "text/plain": [
       "'C:\\\\Users\\\\Norto\\\\AppData\\\\Local\\\\Temp'"
      ]
     },
     "execution_count": 90,
     "metadata": {},
     "output_type": "execute_result"
    }
   ],
   "source": [
    "os.environ.get('TEMP')"
   ]
  },
  {
   "cell_type": "markdown",
   "metadata": {},
   "source": [
    "reference: https://blog.csdn.net/zhucaipeng/article/details/89323883?utm_medium=distribute.pc_relevant_t0.none-task-blog-2%7Edefault%7EBlogCommendFromMachineLearnPai2%7Edefault-1.control&dist_request_id=1332049.5669.16193832516710119&depth_1-utm_source=distribute.pc_relevant_t0.none-task-blog-2%7Edefault%7EBlogCommendFromMachineLearnPai2%7Edefault-1.control\n",
    "\n",
    "1.os模块\n",
    "\n",
    "对于文件和目录进行处理\n",
    "\n",
    "目录：就是文件夹\n",
    "\n",
    "属性：\n",
    "\n",
    "os.name：查看当前系统的类型；\n",
    "\n",
    "如果是windows ---> nt\n",
    "\n",
    "如果是max ---> posix\n",
    "\n",
    "os.environ：返回当前系统的环境变量(所有)\n",
    "\n",
    "函数：\n",
    "\n",
    "os.environ.get()：获取指定的某一个环境变量\n",
    "\n",
    "路径分类：\n",
    "\n",
    "绝对路径：带盘符根目录的就是绝对路径\n",
    "\n",
    "相对路径：相对于某个文件(参照物)所得到的一个路径值; 特点：书写的时候不带盘符的\n",
    "\n",
    "os.getcwd()：返回当前正在执行的.py文件所对应的完整路径(绝对路径)\n",
    "\n",
    "os.listdir(path)：将path路径下的所有文件和目录显示\n",
    "\n",
    "os.mkdir(path)：创建单层文件夹,此方法只能创建目录，如果目录已经存在，创建失败，报错\n",
    "\n",
    "os.makedirs(path)：创建多层文件夹(级联新建)，此方法也只能创建目录，如果目录已经存在，创建失败，报错\n",
    "\n",
    "os.rmdir(path)：删除单层文件夹,此方法只能删除目录，如果目录不存在，删除失败，报错：FileNotFoundError\n",
    "\n",
    "os.removedirs(path)：删除多层文件夹(级联删除)，此方法也只能删除目录，如果目录不存在，创建失败，报错\n",
    "\n",
    "os.remove(path)：删除文件，如果文件不存在，报错！【注意】这个方法只能删除文件不能删除目录\n",
    "\n",
    "os.rename(old, new)：可以给文件或者目录重命名\n",
    "\n",
    "os.system()：执行系统指令：cls、ipconfig、dir。。。\n",
    "\n",
    "os.path.join(path, fileName)：将path和fileName中的数据拼接称为一个新的路径，以字符串的形式返回\n",
    "\n",
    "os.path.isdir(path)：判断path对应的路径内容是否为一个目录，如果是，返回True；反之，返回False\n",
    "\n",
    "os.path.isfile(path)：判断path对应的路径内容是否为一个文件，如果是，返回True；反之，返回False\n",
    "\n",
    "os.path.exists(path)：判断path对应的路径内容是否存在，如果存在，返回True；反之，返回False\n",
    "\n",
    "os.path.getsize(path)：对path对应的路径内容进行容量检测，并且返回字节量\n",
    "\n",
    "os.path.basename(path)：传入一个路径值，将此路径的最后一个/后面的部分返回\n",
    "\n",
    "os.path.dirname(path):传入一个路径值，将此路径的最后一个/前面的部分返回\n",
    "\n",
    "os.path.split(path)：传入一个路径值，将此路径的最后一个/的前面部分放入到元祖的第一个元素中，\n",
    "\n",
    "/后面的部分放入到元祖的第二个元素中\n",
    "\n",
    "os.path.splitext(path)：传入一个路径值，将此路径的最后一个.的前面部分放入到元祖的第一个元素中\n"
   ]
  },
  {
   "cell_type": "code",
   "execution_count": null,
   "metadata": {},
   "outputs": [],
   "source": []
  }
 ],
 "metadata": {
  "kernelspec": {
   "display_name": "Python 3",
   "language": "python",
   "name": "python3"
  },
  "language_info": {
   "codemirror_mode": {
    "name": "ipython",
    "version": 3
   },
   "file_extension": ".py",
   "mimetype": "text/x-python",
   "name": "python",
   "nbconvert_exporter": "python",
   "pygments_lexer": "ipython3",
   "version": "3.7.6"
  }
 },
 "nbformat": 4,
 "nbformat_minor": 4
}
