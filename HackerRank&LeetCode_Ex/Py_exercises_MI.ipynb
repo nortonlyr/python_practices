{
 "cells": [
  {
   "cell_type": "markdown",
   "metadata": {},
   "source": [
    "## Python Exercise"
   ]
  },
  {
   "cell_type": "markdown",
   "metadata": {},
   "source": [
    "* append() - adds an element at the end of the list \n",
    "* copy() - returns a copy of the list\n",
    "* count() - returns the number of elements with specific value\n",
    "* clear() - removes all the elements from the list\n",
    "* extend() - adds the elements of a list (or any iterable), to the end of current list\n",
    "* index() - returns the index of the first element with the specific value\n",
    "* insert() - Adds an element at the specific position\n",
    "* pop() - removes the elements at the specific position\n",
    "* remove() - removes the first item with the specific value\n",
    "* reverse() - removes the order of the list\n",
    "* sort() - sorts the list"
   ]
  },
  {
   "cell_type": "code",
   "execution_count": 5,
   "metadata": {},
   "outputs": [],
   "source": [
    "# 1. Write a Python program to sum all the items in a list\n",
    "def sum_list(items):\n",
    "    sum_numbers = 0\n",
    "    for x in items:\n",
    "        sum_numbers += x   # -> *= x mutiplies all the items in a list\n",
    "    return sum_numbers"
   ]
  },
  {
   "cell_type": "code",
   "execution_count": 6,
   "metadata": {},
   "outputs": [
    {
     "data": {
      "text/plain": [
       "13"
      ]
     },
     "execution_count": 6,
     "metadata": {},
     "output_type": "execute_result"
    }
   ],
   "source": [
    "sum_list([1, 3, 4, 5])"
   ]
  },
  {
   "cell_type": "code",
   "execution_count": 10,
   "metadata": {},
   "outputs": [],
   "source": [
    "# 2. Write a python program to get the larget number from a list\n",
    "def max_num_list(lst):\n",
    "    max = lst[0]\n",
    "    for x in lst:\n",
    "        if x > max:\n",
    "            max = x\n",
    "    return max"
   ]
  },
  {
   "cell_type": "code",
   "execution_count": 11,
   "metadata": {},
   "outputs": [
    {
     "data": {
      "text/plain": [
       "8"
      ]
     },
     "execution_count": 11,
     "metadata": {},
     "output_type": "execute_result"
    }
   ],
   "source": [
    "max_num_list([2,4,6,8])"
   ]
  },
  {
   "cell_type": "code",
   "execution_count": 17,
   "metadata": {},
   "outputs": [],
   "source": [
    "# 3. MIN in a list\n",
    "def min_num_list(lst):\n",
    "    min = lst[0]\n",
    "    for x in lst:\n",
    "        if x < min:\n",
    "            min = x\n",
    "    return min"
   ]
  },
  {
   "cell_type": "code",
   "execution_count": 18,
   "metadata": {},
   "outputs": [
    {
     "data": {
      "text/plain": [
       "2"
      ]
     },
     "execution_count": 18,
     "metadata": {},
     "output_type": "execute_result"
    }
   ],
   "source": [
    "min_num_list([2,4,6,8])"
   ]
  },
  {
   "cell_type": "code",
   "execution_count": 19,
   "metadata": {},
   "outputs": [],
   "source": [
    "# 4. Write a Python to count number of strings where the string length is 2 or more the first and last character are same\n",
    "# from a given list of string\n",
    "\n",
    "def match_words(words):\n",
    "    count = 0\n",
    "    for x in words:\n",
    "        if len(x) > 2 and x[0] == x[-1]:\n",
    "            count +=1\n",
    "    return count"
   ]
  },
  {
   "cell_type": "code",
   "execution_count": 21,
   "metadata": {},
   "outputs": [
    {
     "data": {
      "text/plain": [
       "2"
      ]
     },
     "execution_count": 21,
     "metadata": {},
     "output_type": "execute_result"
    }
   ],
   "source": [
    "match_words(['abc', 'xyz', 'aba', '1221'])"
   ]
  },
  {
   "cell_type": "code",
   "execution_count": 25,
   "metadata": {},
   "outputs": [],
   "source": [
    "# 5. Write a python program to get a list, sorted in increasing order by the last element in each tuple from a given list\n",
    "# of non-empty tuples\n",
    "def last(n):\n",
    "    return n[-1]\n",
    "\n",
    "def sort_list(tuples):\n",
    "    return sorted(tuples, key = last)"
   ]
  },
  {
   "cell_type": "code",
   "execution_count": 26,
   "metadata": {},
   "outputs": [
    {
     "data": {
      "text/plain": [
       "[(2, 1), (1, 2), (2, 3), (4, 4), (2, 5)]"
      ]
     },
     "execution_count": 26,
     "metadata": {},
     "output_type": "execute_result"
    }
   ],
   "source": [
    "sort_list([(2, 5), (1, 2), (4, 4), (2, 3), (2, 1)])"
   ]
  },
  {
   "cell_type": "code",
   "execution_count": 33,
   "metadata": {},
   "outputs": [
    {
     "data": {
      "text/plain": [
       "[[1, 43], [2, 3], [3, 34], [6, 7], [24, 64]]"
      ]
     },
     "execution_count": 33,
     "metadata": {},
     "output_type": "execute_result"
    }
   ],
   "source": [
    "# with first value\n",
    "def getkey(item):\n",
    "    return item[0]\n",
    "l = [[2, 3], [6, 7], [3, 34], [24, 64], [1, 43]]\n",
    "sorted(l, key = getkey)"
   ]
  },
  {
   "cell_type": "code",
   "execution_count": 46,
   "metadata": {},
   "outputs": [],
   "source": [
    "# 6. Write a Python program to remove duplicates from a list.\n",
    "a = [10, 20, 30, 20, 10, 50, 60, 40, 80, 50, 40, 40]\n",
    "\n",
    "\n",
    "dup = []\n",
    "uni = []\n",
    "for x in a:\n",
    "    if x in uni:\n",
    "        dup.append(x)\n",
    "    if x not in uni:\n",
    "        uni.append(x)"
   ]
  },
  {
   "cell_type": "code",
   "execution_count": 47,
   "metadata": {},
   "outputs": [
    {
     "name": "stdout",
     "output_type": "stream",
     "text": [
      "[20, 10, 50, 40, 40]\n"
     ]
    }
   ],
   "source": [
    "print(dup)"
   ]
  },
  {
   "cell_type": "code",
   "execution_count": 48,
   "metadata": {},
   "outputs": [
    {
     "name": "stdout",
     "output_type": "stream",
     "text": [
      "[10, 20, 30, 50, 60, 40, 80]\n"
     ]
    }
   ],
   "source": [
    "print(uni)"
   ]
  },
  {
   "cell_type": "code",
   "execution_count": 50,
   "metadata": {},
   "outputs": [
    {
     "name": "stdout",
     "output_type": "stream",
     "text": [
      "[10, 20, 30, 40, 50, 60, 80]\n"
     ]
    }
   ],
   "source": [
    "b = sorted(list(set(a)))\n",
    "print (b)"
   ]
  },
  {
   "cell_type": "code",
   "execution_count": 51,
   "metadata": {},
   "outputs": [
    {
     "name": "stdout",
     "output_type": "stream",
     "text": [
      "Empty list\n"
     ]
    }
   ],
   "source": [
    "# 7. Wrrite a python program to check a list is empty or not\n",
    "a = []\n",
    "if len(a) == 0:\n",
    "    print('Empty list')\n",
    "else:\n",
    "    print('not empty')"
   ]
  },
  {
   "cell_type": "code",
   "execution_count": 53,
   "metadata": {},
   "outputs": [
    {
     "name": "stdout",
     "output_type": "stream",
     "text": [
      "[1, 2, 3, 4, 5]\n",
      "[1, 2, 3, 4, 5]\n"
     ]
    }
   ],
   "source": [
    "# 8. Write a python program to clone or copy a list\n",
    "o_list = [1,2,3,4,5]\n",
    "n_list = o_list\n",
    "print(o_list)\n",
    "print(n_list)"
   ]
  },
  {
   "cell_type": "code",
   "execution_count": 55,
   "metadata": {},
   "outputs": [],
   "source": [
    "# 9. spliting\n",
    "txt = \"The quick brown fox jumps over the lazy dog\"\n",
    "new_txt = str.split(txt)"
   ]
  },
  {
   "cell_type": "code",
   "execution_count": 56,
   "metadata": {},
   "outputs": [
    {
     "name": "stdout",
     "output_type": "stream",
     "text": [
      "['The', 'quick', 'brown', 'fox', 'jumps', 'over', 'the', 'lazy', 'dog']\n"
     ]
    }
   ],
   "source": [
    "print(new_txt)"
   ]
  },
  {
   "cell_type": "code",
   "execution_count": 69,
   "metadata": {},
   "outputs": [],
   "source": [
    "# method 2:\n",
    "txt2 = \"The quick brown fox jumps over the lazy dog\"\n",
    "def split_words(n, str):\n",
    "    new_lst = []\n",
    "    new_txt = str.split(\" \")\n",
    "    for x in new_txt:\n",
    "        if len(x) > n:\n",
    "            new_lst.append(x)\n",
    "    return new_lst"
   ]
  },
  {
   "cell_type": "code",
   "execution_count": 70,
   "metadata": {},
   "outputs": [
    {
     "data": {
      "text/plain": [
       "['quick', 'brown', 'jumps', 'over', 'lazy']"
      ]
     },
     "execution_count": 70,
     "metadata": {},
     "output_type": "execute_result"
    }
   ],
   "source": [
    "split_words(3, txt2)"
   ]
  },
  {
   "cell_type": "markdown",
   "metadata": {},
   "source": [
    "### some example on lists"
   ]
  },
  {
   "cell_type": "code",
   "execution_count": 73,
   "metadata": {},
   "outputs": [
    {
     "name": "stdout",
     "output_type": "stream",
     "text": [
      "121517"
     ]
    }
   ],
   "source": [
    "lst = [12, 15, 17]\n",
    "\n",
    "# iterating each element/combine the elements\n",
    "for i in lst:\n",
    "    print(i, end=\"\")"
   ]
  },
  {
   "cell_type": "code",
   "execution_count": 80,
   "metadata": {},
   "outputs": [],
   "source": [
    "# changing int to string\n",
    "a = [4, 2, 3]\n",
    "x0 = map(str, a)"
   ]
  },
  {
   "cell_type": "code",
   "execution_count": 81,
   "metadata": {},
   "outputs": [
    {
     "data": {
      "text/plain": [
       "['4', '2', '3']"
      ]
     },
     "execution_count": 81,
     "metadata": {},
     "output_type": "execute_result"
    }
   ],
   "source": [
    "list(x0)"
   ]
  },
  {
   "cell_type": "code",
   "execution_count": 95,
   "metadata": {},
   "outputs": [],
   "source": [
    "# Write a python function that takes two lists and returns True if they have at least one common member\n",
    "def common_mem(lst1, lst2):\n",
    "    result = False\n",
    "    for x in lst1:\n",
    "        for y in lst2:\n",
    "            if x == y:\n",
    "                result = True\n",
    "    return result"
   ]
  },
  {
   "cell_type": "code",
   "execution_count": 96,
   "metadata": {},
   "outputs": [
    {
     "data": {
      "text/plain": [
       "True"
      ]
     },
     "execution_count": 96,
     "metadata": {},
     "output_type": "execute_result"
    }
   ],
   "source": [
    "common_mem([1,2,3,4,5], [5,6,7,8,9])"
   ]
  },
  {
   "cell_type": "code",
   "execution_count": 97,
   "metadata": {},
   "outputs": [
    {
     "data": {
      "text/plain": [
       "False"
      ]
     },
     "execution_count": 97,
     "metadata": {},
     "output_type": "execute_result"
    }
   ],
   "source": [
    "common_mem([1,2,3,4,5], [6,7,8,9])"
   ]
  },
  {
   "cell_type": "code",
   "execution_count": null,
   "metadata": {},
   "outputs": [],
   "source": []
  },
  {
   "cell_type": "code",
   "execution_count": null,
   "metadata": {},
   "outputs": [],
   "source": []
  }
 ],
 "metadata": {
  "kernelspec": {
   "display_name": "Python 3",
   "language": "python",
   "name": "python3"
  },
  "language_info": {
   "codemirror_mode": {
    "name": "ipython",
    "version": 3
   },
   "file_extension": ".py",
   "mimetype": "text/x-python",
   "name": "python",
   "nbconvert_exporter": "python",
   "pygments_lexer": "ipython3",
   "version": "3.7.6"
  }
 },
 "nbformat": 4,
 "nbformat_minor": 4
}
