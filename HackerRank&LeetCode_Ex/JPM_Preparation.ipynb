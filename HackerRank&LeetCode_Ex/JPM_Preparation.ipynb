{
 "cells": [
  {
   "cell_type": "markdown",
   "metadata": {},
   "source": [
    "### Happy Number\n",
    "\n",
    "https://www.geeksforgeeks.org/happy-number/\n",
    "\n",
    "A number is called happy if it leads to 1 after a sequence of steps wherein each step number is replaced by the sum of squares of its digit that is if we start with Happy Number and keep replacing it with digits square sum, we reach 1."
   ]
  },
  {
   "cell_type": "markdown",
   "metadata": {},
   "source": [
    "Input: n = 19\n",
    "<br>Output: True\n",
    "<br>19 is Happy Number,\n",
    "<br>1^2 + 9^2 = 82\n",
    "<br>8^2 + 2^2 = 68\n",
    "<br>6^2 + 8^2 = 100\n",
    "<br>1^2 + 0^2 + 0^2 = 1\n",
    "<br>As we reached to 1, 19 is a Happy Number.\n",
    "<br>Input: n = 20\n",
    "<br>Output: False"
   ]
  },
  {
   "cell_type": "code",
   "execution_count": 55,
   "metadata": {},
   "outputs": [],
   "source": [
    "# define square sum function, 1^2 + 9^2 = 82\n",
    "def numSquareSum(n):\n",
    "    squareSum = 0\n",
    "    while(n):\n",
    "        squareSum += (n%10)*(n%10);\n",
    "        n = int(n/10)\n",
    "    return squareSum"
   ]
  },
  {
   "cell_type": "code",
   "execution_count": 58,
   "metadata": {},
   "outputs": [],
   "source": [
    "def isHappyNumber(n):\n",
    "    \n",
    "    # initialize slow and fast by n\n",
    "    slow = n\n",
    "    fast = n\n",
    "    while(True):\n",
    "        \n",
    "        # move slow number by one iteration\n",
    "        slow = numSquareSum(slow)\n",
    "        \n",
    "        # move fast number by two iteration\n",
    "        fast = numSquareSum(numSquareSum(fast));\n",
    "        if(slow != fast):\n",
    "            continue;\n",
    "        else:\n",
    "            break;\n",
    "    \n",
    "    # if both number meet at 1, then return true\n",
    "    return (slow == 1)"
   ]
  },
  {
   "cell_type": "code",
   "execution_count": 63,
   "metadata": {},
   "outputs": [
    {
     "name": "stdout",
     "output_type": "stream",
     "text": [
      "19 is a Happy number\n"
     ]
    }
   ],
   "source": [
    "n = 19\n",
    "if (isHappyNumber(n)):\n",
    "    print(n, \"is a Happy number\")\n",
    "else:\n",
    "    print(n, \"is not a Happy number\")"
   ]
  },
  {
   "cell_type": "code",
   "execution_count": 64,
   "metadata": {},
   "outputs": [
    {
     "name": "stdout",
     "output_type": "stream",
     "text": [
      "64 is not a Happy number\n"
     ]
    }
   ],
   "source": [
    "n = 64\n",
    "if (isHappyNumber(n)):\n",
    "    print(n, \"is a Happy number\")\n",
    "else:\n",
    "    print(n, \"is not a Happy number\")"
   ]
  },
  {
   "cell_type": "code",
   "execution_count": 44,
   "metadata": {},
   "outputs": [
    {
     "data": {
      "text/plain": [
       "6"
      ]
     },
     "execution_count": 44,
     "metadata": {},
     "output_type": "execute_result"
    }
   ],
   "source": [
    "# Extract the tens\n",
    "int(63/10)"
   ]
  },
  {
   "cell_type": "code",
   "execution_count": 45,
   "metadata": {},
   "outputs": [
    {
     "data": {
      "text/plain": [
       "3"
      ]
     },
     "execution_count": 45,
     "metadata": {},
     "output_type": "execute_result"
    }
   ],
   "source": [
    "# Extra the single \n",
    "63%10"
   ]
  },
  {
   "cell_type": "code",
   "execution_count": 71,
   "metadata": {},
   "outputs": [],
   "source": [
    "# method 2 From youtube\n",
    "def isHappy(n):\n",
    "    temp = set()\n",
    "    while n != 1:\n",
    "        n = sum([int(i)**2 for i in str(n)])\n",
    "        if n in temp: # here equal to slow = fast\n",
    "            return False\n",
    "        else: \n",
    "            temp.add(n)\n",
    "    return True"
   ]
  },
  {
   "cell_type": "code",
   "execution_count": 72,
   "metadata": {},
   "outputs": [
    {
     "data": {
      "text/plain": [
       "True"
      ]
     },
     "execution_count": 72,
     "metadata": {},
     "output_type": "execute_result"
    }
   ],
   "source": [
    "isHappy(19)"
   ]
  },
  {
   "cell_type": "markdown",
   "metadata": {},
   "source": [
    "https://www.geeksforgeeks.org/jp-morgan-chase-co-internship-interview-experience-on-campus-2020/\n",
    "\n",
    "First question: A string in the form of a sentence will be given. The string should be reversed word-wise i.e., the first word will be the last word of the new string etc. Also, the first letter of the sentence should be upper case and the string should end with a full stop. The function should return the modified string."
   ]
  },
  {
   "cell_type": "code",
   "execution_count": null,
   "metadata": {},
   "outputs": [],
   "source": []
  },
  {
   "cell_type": "markdown",
   "metadata": {},
   "source": [
    "Second question: An incomplete sudoku will be given with 0’s in the unfilled places. The task is to print solved sudoku."
   ]
  },
  {
   "cell_type": "code",
   "execution_count": null,
   "metadata": {},
   "outputs": [],
   "source": []
  },
  {
   "cell_type": "markdown",
   "metadata": {},
   "source": [
    "https://www.geeksforgeeks.org/jp-morgan-chase-co-interview-experience-off-campus-internship-drive-2020/?ref=rp\n",
    "\n",
    "**Program to convert first character uppercase in a sentence**\n",
    "\n",
    "Input : gEEKs\n",
    "Output :Geeks\n",
    "\n",
    "Input :GFG\n",
    "Output :Gfg\n",
    "\n",
    "\n",
    "Input : GeeksforGeeks\n",
    "Output : Geeksforgeeks\n"
   ]
  },
  {
   "cell_type": "code",
   "execution_count": 2,
   "metadata": {},
   "outputs": [],
   "source": [
    "def convert_upper():\n",
    "    s = str(input())\n",
    "    return s.title()"
   ]
  },
  {
   "cell_type": "code",
   "execution_count": 2,
   "metadata": {},
   "outputs": [
    {
     "name": "stdout",
     "output_type": "stream",
     "text": [
      "gEEKs\n"
     ]
    },
    {
     "data": {
      "text/plain": [
       "'Geeks'"
      ]
     },
     "execution_count": 2,
     "metadata": {},
     "output_type": "execute_result"
    }
   ],
   "source": [
    "convert_upper()"
   ]
  },
  {
   "cell_type": "code",
   "execution_count": 3,
   "metadata": {},
   "outputs": [
    {
     "name": "stdout",
     "output_type": "stream",
     "text": [
      "GFG\n"
     ]
    },
    {
     "data": {
      "text/plain": [
       "'Gfg'"
      ]
     },
     "execution_count": 3,
     "metadata": {},
     "output_type": "execute_result"
    }
   ],
   "source": [
    "convert_upper()"
   ]
  },
  {
   "cell_type": "code",
   "execution_count": 3,
   "metadata": {},
   "outputs": [
    {
     "name": "stdout",
     "output_type": "stream",
     "text": [
      "GeeksforGeeks\n"
     ]
    },
    {
     "data": {
      "text/plain": [
       "'Geeksforgeeks'"
      ]
     },
     "execution_count": 3,
     "metadata": {},
     "output_type": "execute_result"
    }
   ],
   "source": [
    "convert_upper()"
   ]
  },
  {
   "cell_type": "markdown",
   "metadata": {},
   "source": [
    "### **Count Possible Decodings of a given Digit Sequence**\n",
    "\n",
    "https://www.geeksforgeeks.org/count-possible-decodings-given-digit-sequence/\n",
    "\n",
    "Input:  digits[] = \"121\"\n",
    "Output: 3\n",
    "\n",
    "// The possible decodings are \"ABA\", \"AU\", \"LA\"\n",
    "\n",
    "Input: digits[] = \"1234\"\n",
    "Output: 3\n",
    "\n",
    "// The possible decodings are \"ABCD\", \"LCD\", \"AWD\""
   ]
  },
  {
   "cell_type": "code",
   "execution_count": 7,
   "metadata": {},
   "outputs": [
    {
     "name": "stdout",
     "output_type": "stream",
     "text": [
      "3\n"
     ]
    }
   ],
   "source": [
    "# Dynamic Programming Based\n",
    "def numCodingDP(digits, n):\n",
    "    count = [0]*(n+1) # a table to store results of subproblems\n",
    "    count[0] = 1 # first and second position\n",
    "    count[1] = 1\n",
    "    \n",
    "    for i in range(2, n+1):\n",
    "        count[i] = 0\n",
    "    \n",
    "    #if the last digit is not 0, then last digit must add to the number of words\n",
    "        if (digits[i-1]> '0'):\n",
    "            count[i] = count[i-1]\n",
    "    \n",
    "    # if second last digit is smaller than 2 and last digit is smaller than 7. then last two digit form a valid character\n",
    "        if (digits[i-2] == '1' or (digits[i-2] == '2' and digits[i-1] < '7')):\n",
    "            count[i] += count[i-2]\n",
    "    return count[n]\n",
    "\n",
    "digits = '1234'\n",
    "n = len(digits)\n",
    "print(numCodingDP(digits, n))"
   ]
  },
  {
   "cell_type": "code",
   "execution_count": 63,
   "metadata": {},
   "outputs": [],
   "source": [
    "# method 2 top to bottom recrusion and memoization\n",
    "def numCodingDP2(s:str)->int:\n",
    "    dp = [-1 for i in range(len(s)+1)] # -1 just for default value, then can be replaced by memory\n",
    "    dp[0] = 1\n",
    "    def helper(n):\n",
    "        if dp[n] != -1:\n",
    "            return dp[n]\n",
    "        \n",
    "        ans = 0\n",
    "        if n>=1 and s[n-1] != '0':\n",
    "            ans += helper(n-1)\n",
    "        if n>=2 and 10<=int(s[n-2:n])<=26:\n",
    "            ans += helper(n-2)\n",
    "        dp[n] = ans\n",
    "        return ans\n",
    "    return helper(len(s))\n",
    "    "
   ]
  },
  {
   "cell_type": "code",
   "execution_count": 15,
   "metadata": {},
   "outputs": [
    {
     "data": {
      "text/plain": [
       "3"
      ]
     },
     "execution_count": 15,
     "metadata": {},
     "output_type": "execute_result"
    }
   ],
   "source": [
    " numCodingDP2('1234')"
   ]
  },
  {
   "cell_type": "code",
   "execution_count": 21,
   "metadata": {},
   "outputs": [],
   "source": [
    "# method 3, Recursive implementation\n",
    "def numDecodings3(s:str)-> int:\n",
    "    return numDecodingsHelper(s, len(s))\n",
    "\n",
    "def numDecodingsHelper(s:str, n:int) -> int:\n",
    "    if n == 0 or n == 1:\n",
    "        return 1\n",
    "    count = 0\n",
    "    if s[n-1] > '0':\n",
    "        count = numDecodingsHelper(s, n-1)\n",
    "    if (s[n-2] == '1' or (s[n-2] == '2' and s[n-1] < '7')):\n",
    "        count += numDecodingsHelper(s, n-2)\n",
    "    return count"
   ]
  },
  {
   "cell_type": "code",
   "execution_count": 22,
   "metadata": {},
   "outputs": [
    {
     "name": "stdout",
     "output_type": "stream",
     "text": [
      "3\n"
     ]
    }
   ],
   "source": [
    "ss = '1234'\n",
    "print(numDecodings3(ss))"
   ]
  },
  {
   "cell_type": "markdown",
   "metadata": {},
   "source": [
    "### Trapping Rain Water\n",
    "\n",
    "https://www.geeksforgeeks.org/trapping-rain-water/\n",
    "\n",
    "Given n non-negative integers representing an elevation map where the width of each bar is 1, compute how much water it is able to trap after raining.\n",
    "\n",
    "Input: arr[]   = {2, 0, 2}\n",
    "\n",
    "Output: 2\n",
    "\n",
    "Explanation:\n",
    "The structure is like below\n",
    "\n",
    "![title](img/trapping_rain_water1.png)\n",
    "\n",
    "We can trap 2 units of water in the middle gap.\n",
    "\n",
    "Input: arr[]   = {3, 0, 2, 0, 4}\n",
    "\n",
    "Output: 7\n",
    "\n",
    "Explanation:\n",
    "Structure is like below\n",
    "![title](img/trapping_rain_water2.png)\n",
    "\n",
    "We can trap \"3 units\" of water between 3 and 2,\n",
    "\"1 unit\" on top of bar 2 and \"3 units\" between 2 \n",
    "and 4.  See below diagram also.\n",
    "\n",
    "Input: arr[] = [0, 1, 0, 2, 1, 0, 1, 3, 2, 1, 2, 1]\n",
    "\n",
    "Output: 6\n",
    "\n",
    "Explanation:\n",
    "The structure is like below\n",
    "![title](img/trapping_rain_water3.png)"
   ]
  },
  {
   "cell_type": "markdown",
   "metadata": {},
   "source": [
    "For Array[] = [3, 0, 2, 0, 4]\n",
    "\n",
    "Water Stored = 0 + 3 + 1 + 3 + 0 = 7\n",
    "\n",
    "**Approach:** \n",
    "The idea is to traverse every array element and find the highest bars on left and right sides. Take the smaller of two heights. The difference between the smaller height and height of the current element is the amount of water that can be stored in this array element.\n",
    "\n",
    "**Algorithm:** \n",
    "1. Traverse the array from start to end.\n",
    "2. For every element, traverse the array from start to that index and find the maximum height (a) and traverse the array from the current index to end and find the maximum height (b).\n",
    "3. The amount of water that will be stored in this column is min(a,b) – array[i], add this value to total amount of water stored\n",
    "4. Print the total amount of water stored."
   ]
  },
  {
   "cell_type": "code",
   "execution_count": 58,
   "metadata": {},
   "outputs": [
    {
     "name": "stdout",
     "output_type": "stream",
     "text": [
      "1\n",
      "0\n",
      "2\n",
      "1\n",
      "0\n",
      "1\n",
      "3\n",
      "2\n",
      "1\n",
      "2\n",
      "6\n"
     ]
    }
   ],
   "source": [
    "def maxRainWater(arr, n):\n",
    "    # to store the maximum water that can be stored\n",
    "    res = 0\n",
    "    \n",
    "    # For every element of the array\n",
    "    for i in range (1, n-1):\n",
    "        \n",
    "        #Find the maximum element on its left\n",
    "        left = arr[i]\n",
    "        for j in range (i):\n",
    "            left = max(left, arr[j])\n",
    "#         print(left) # 1, 1, 2, 2, 2, 2, 3, 3, 3, 3\n",
    "            \n",
    "        #Find the mxaimum element on its right\n",
    "        right = arr[i]\n",
    "        for j in range(i+1, n):\n",
    "            right = max(right, arr[j])\n",
    "#         print (right) # 3, 3, 3, 3, 3, 3, 3, 2, 2, 2\n",
    "            \n",
    "        #Updated the maxium water\n",
    "        res = res + (min(left, right) - arr[i])\n",
    "#         print(min(left, right)) # 1, 1, 2, 2, 2, 2, 3, 2, 2, 2\n",
    "        print(arr[i])\n",
    "#         print('*'*10)\n",
    "#         print(min(left,right)-arr[i])\n",
    "#         print (res)\n",
    "    return res\n",
    "\n",
    "if __name__ == \"__main__\":\n",
    "    \n",
    "    arr = [0, 1, 0, 2, 1, 0, 1, 3, 2, 1, 2, 1]\n",
    "    n = len(arr)\n",
    "    print(maxRainWater(arr, n))"
   ]
  },
  {
   "cell_type": "markdown",
   "metadata": {},
   "source": [
    "**Complexity Analysis:**\n",
    "Time Complexity: O(n2). \n",
    "\n",
    "There are two nested loops traversing the array, So time Complexity is O(n2).\n",
    "\n",
    "Space Complexity: O(1). \n",
    "\n",
    "No extra space required."
   ]
  },
  {
   "cell_type": "markdown",
   "metadata": {},
   "source": [
    "#### method 2, more efficient solution"
   ]
  },
  {
   "cell_type": "markdown",
   "metadata": {},
   "source": [
    "**Approach:** In the previous solution, to find the highest bar on the left and right, array traversal is needed which reduces the efficiency of the solution. To make this efficient one must pre-compute the highest bar on the left and right of every bar in linear time. Then use these pre-computed values to find the amount of water in every array element.\n",
    "\n",
    "**Algorithm:**\n",
    "1. Create two array left and right of size n. create a variable max_ = INT_MIN.\n",
    "2. Run one loop from start to end. In each iteration update max_ as max_ = max(max_, arr[i]) and also assign left[i] = max_\n",
    "3. Update max_ = INT_MIN.\n",
    "4. Run another loop from end to start. In each iteration update max_ as max_ = max(max_, arr[i]) and also assign right[i] = max_\n",
    "5. Traverse the array from start to end.\n",
    "6. The amount of water that will be stored in this column is min(a,b) – array[i],(where a = left[i] and b = right[i]) add this value to total amount of water stored\n",
    "7. Print the total amount of water stored."
   ]
  },
  {
   "cell_type": "code",
   "execution_count": 61,
   "metadata": {},
   "outputs": [],
   "source": [
    "def findWater(arr, n):\n",
    "    \n",
    "    #left[i] contains height of tallest bar to the left of i'th bar including itself\n",
    "    left = [0]*n\n",
    "    \n",
    "    #right[i] contains height of tallest bar to the right of i'th bar including itself\n",
    "    right = [0]*n\n",
    "    \n",
    "    # Initialize result\n",
    "    water = 0\n",
    "    \n",
    "    # Fill left array\n",
    "    left[0] = arr[0]\n",
    "    for i in range(1, n):\n",
    "        left[i] = max(left[i-1], arr[i])\n",
    "    \n",
    "    # Fill right array\n",
    "    right[n-1] = arr[n-1]\n",
    "    for i in range(n-2, -1, -1):\n",
    "        right[i] = max(right[i+1], arr[i])\n",
    "        \n",
    "    # Calculate the accumulated water element by element consider the amount of water on i'th bar, the amount of water\n",
    "    # accumulated on this particular bar will be equal to min(left[i], right[i]) - arr[i].\n",
    "    for i in range(0, n):\n",
    "        water += min(left[i], right[i])-arr[i]\n",
    "    \n",
    "    return water"
   ]
  },
  {
   "cell_type": "code",
   "execution_count": 62,
   "metadata": {},
   "outputs": [
    {
     "name": "stdout",
     "output_type": "stream",
     "text": [
      "Max water amount:  6\n"
     ]
    }
   ],
   "source": [
    "arr = [0, 1, 0, 2, 1, 0, 1, 3, 2, 1, 2, 1]\n",
    "n = len(arr)\n",
    "print(\"Max water amount: \", findWater(arr, n))"
   ]
  },
  {
   "cell_type": "markdown",
   "metadata": {},
   "source": [
    "Complexity Analysis: \n",
    "\n",
    "**Time Complexity: O(n).** \n",
    "Only one traversal of the array is needed, So time Complexity is O(n).\n",
    "\n",
    "**Space Complexity: O(n).**\n",
    "Two extra array is needed each of size n."
   ]
  },
  {
   "cell_type": "markdown",
   "metadata": {},
   "source": [
    "### 0-1 Knapsack Problem | DP-10\n",
    "\n",
    "https://www.geeksforgeeks.org/0-1-knapsack-problem-dp-10/\n",
    "\n",
    "Given weights and values of n items, put these items in a knapsack of capacity W to get the maximum total value in the knapsack. In other words, given two integer arrays val[0..n-1] and wt[0..n-1] which represent values and weights associated with n items respectively. Also given an integer W which represents knapsack capacity, find out the maximum value subset of val[] such that sum of the weights of this subset is smaller than or equal to W. You cannot break an item, either pick the complete item or don’t pick it (0-1 property)."
   ]
  },
  {
   "cell_type": "markdown",
   "metadata": {},
   "source": [
    "Recursion\n",
    "\n",
    "Case 1: The item is included in the optimal subset.\n",
    "\n",
    "Case 2: The item is not included in the optimal set."
   ]
  },
  {
   "cell_type": "code",
   "execution_count": 66,
   "metadata": {},
   "outputs": [],
   "source": [
    "def knapSack(W, wt, val, n):\n",
    "    \n",
    "    # base case\n",
    "    if n == 0 or W == 0:\n",
    "        return 0\n",
    "    \n",
    "    # if weight of nth item is more than knapsack of capacity W, then this item cannot be included in the optimal solution\n",
    "    if(wt[n-1]>W):\n",
    "        return knapSack(W, wt, val, n-1)\n",
    "    \n",
    "    # return the maximum of two cases:\n",
    "    # (1) nth item included\n",
    "    # (2) not included\n",
    "    else:\n",
    "        return max(val[n-1] + knapSack(W-wt[n-1], wt, val, n-1), knapSack(W, wt, val, n-1))\n",
    "    "
   ]
  },
  {
   "cell_type": "code",
   "execution_count": 67,
   "metadata": {},
   "outputs": [
    {
     "name": "stdout",
     "output_type": "stream",
     "text": [
      "220\n"
     ]
    }
   ],
   "source": [
    "val = [60, 100, 120]\n",
    "wt = [10, 20, 30]\n",
    "W = 50\n",
    "n = len(val)\n",
    "print(knapSack(W, wt, val, n))\n",
    "\n",
    "# 20 + 30 -> 100 + 120 max val 220"
   ]
  },
  {
   "cell_type": "markdown",
   "metadata": {},
   "source": [
    "more sources: https://www.youtube.com/watch?v=Vz6uJ7iQaN0"
   ]
  },
  {
   "cell_type": "markdown",
   "metadata": {},
   "source": [
    "### Given a sequence of words, print all anagrams together\n",
    "\n",
    "https://www.geeksforgeeks.org/given-a-sequence-of-words-print-all-anagrams-together/\n",
    "\n",
    "Given an array of words, print all anagrams together. For example, if the given array is {“cat”, “dog”, “tac”, “god”, “act”}, then output may be “cat tac act dog god”."
   ]
  },
  {
   "cell_type": "code",
   "execution_count": 82,
   "metadata": {},
   "outputs": [
    {
     "name": "stdout",
     "output_type": "stream",
     "text": [
      "cat\n",
      "tac\n",
      "act\n",
      "dog\n",
      "god\n"
     ]
    }
   ],
   "source": [
    "class Word(object):\n",
    "    def __init__(self, string, index):\n",
    "        self.string = string\n",
    "        self.index = index\n",
    "        \n",
    "# Create a DupArray object that contains an array of words\n",
    "def createDupArray(string, size):\n",
    "    dupArray = []\n",
    "        \n",
    "    # One by one copy words from the given wordArray to dupArray\n",
    "    for i in range(size):\n",
    "        dupArray.append(Word(string[i], i))\n",
    "    return dupArray\n",
    "    \n",
    "# Given a list of words in wordArr[]\n",
    "def printAnagramsTogether(wordArr, size):\n",
    "    # Step 1: Create a copy of all words present in given wordArr. The copy will also have original indexes of words\n",
    "    dupArray = createDupArray(wordArr, size)\n",
    "        \n",
    "    # Step 2: Iterate through all words in dupArray and sort individual words\n",
    "    for i in range(size):\n",
    "        dupArray[i].string = ''.join(sorted(dupArray[i].string))\n",
    "        \n",
    "    # Step 3: Now sort the array of words in dupArray\n",
    "    dupArray = sorted(dupArray, key = lambda k: k.string)\n",
    "        \n",
    "    # Step 4: Now all words in dupArray are together, but these words are changed. Use the index member of \n",
    "    # word struct to get the corresponding original word\n",
    "    for word in dupArray:\n",
    "        print (wordArr[word.index])\n",
    "            \n",
    "            \n",
    "wordArr = ['cat', 'dog', 'tac', 'god', 'act']\n",
    "size = len(wordArr)\n",
    "printAnagramsTogether(wordArr, size)"
   ]
  },
  {
   "cell_type": "markdown",
   "metadata": {},
   "source": [
    "### Find minimum number of coins that make a given value"
   ]
  },
  {
   "cell_type": "markdown",
   "metadata": {},
   "source": [
    "https://www.geeksforgeeks.org/find-minimum-number-of-coins-that-make-a-change/\n",
    "\n",
    "Given a value V, if we want to make change for V cents, and we have infinite supply of each of C = { C1, C2, .. , Cm} valued coins, what is the minimum number of coins to make the change?"
   ]
  },
  {
   "cell_type": "markdown",
   "metadata": {},
   "source": [
    "**Example**\n",
    "\n",
    "Input: coins[] = {25, 10, 5}, V = 30\n",
    "\n",
    "Output: Minimum 2 coins required\n",
    "\n",
    "We can use one coin of 25 cents and one of 5 cents \n",
    "\n",
    "Input: coins[] = {9, 6, 5, 1}, V = 11\n",
    "\n",
    "Output: Minimum 2 coins required\n",
    "\n",
    "We can use one coin of 6 cents and 1 coin of 5 cents"
   ]
  },
  {
   "cell_type": "code",
   "execution_count": 22,
   "metadata": {},
   "outputs": [],
   "source": [
    "# Recrusive method\n",
    "\n",
    "import sys\n",
    "\n",
    "def minCoins(coins, m, V) -> int:\n",
    "    \n",
    "    # base case\n",
    "    if (V == 0):\n",
    "        return 0\n",
    "    \n",
    "    # Initialize result\n",
    "    res = sys.maxsize\n",
    "    \n",
    "    # Try every coin that has smaller value than V\n",
    "    for i in range(0, m):\n",
    "        if (coins[i] <= V):\n",
    "            sub_res = minCoins(coins, m, V - coins[i])\n",
    "            \n",
    "            # Check for TNT_MAX to avoid overflow and see if\n",
    "            # result can minimized\n",
    "            if (sub_res != sys.maxsize and sub_res + 1 < res):\n",
    "                res = sub_res + 1\n",
    "    return res\n",
    "    "
   ]
  },
  {
   "cell_type": "code",
   "execution_count": 24,
   "metadata": {},
   "outputs": [
    {
     "name": "stdout",
     "output_type": "stream",
     "text": [
      "Min Coins required:  3\n"
     ]
    }
   ],
   "source": [
    "coins = [9, 6, 5, 1]\n",
    "m = len(coins)\n",
    "V = 16\n",
    "print('Min Coins required: ', minCoins(coins, m, V))\n",
    "\n",
    "# we can observer that many subproblems are solved again and again. For example, when we start \n",
    "# from V = 11, we can reach 6 by subtracting one 5 times and by subtracting 5 one times. \n",
    "# So the subproblem for 6 is called twice."
   ]
  },
  {
   "cell_type": "code",
   "execution_count": 30,
   "metadata": {},
   "outputs": [
    {
     "name": "stdout",
     "output_type": "stream",
     "text": [
      "Min coins required:  2\n"
     ]
    }
   ],
   "source": [
    "# Dynamic Programming\n",
    "import sys\n",
    "\n",
    "def minCoins2(coins, m, V):\n",
    "    \n",
    "    # table[i] will be storing the minimum number of coins required for i value. So table[V] will have result\n",
    "    table = [0 for i in range(V+1)]\n",
    "    \n",
    "    # Base case (If given value V is 0)\n",
    "    table[0] = 0\n",
    "    \n",
    "    # Initialize all table values as infinite\n",
    "    for i in range(1, V+1):\n",
    "        table[i] = sys.maxsize\n",
    "        \n",
    "    # Compute minimum coins required for all values from 1 to V\n",
    "    for i in range(1, V+1):\n",
    "        \n",
    "        # Go through all coins smaller than i\n",
    "        for j in range(m):\n",
    "            if (coins[j] <= i):\n",
    "                sub_res = table[i - coins[j]]\n",
    "                if(sub_res != sys.maxsize and sub_res + 1 < table[i]):\n",
    "                    table[i] = sub_res + 1\n",
    "    return table[V]\n",
    "\n",
    "# Driver code\n",
    "if __name__ == \"__main__\":\n",
    "    \n",
    "    coins = [9, 6, 5, 1]\n",
    "    m = len(coins)\n",
    "    V = 11\n",
    "    print('Min coins required: ', minCoins2(coins, m, V))"
   ]
  },
  {
   "cell_type": "markdown",
   "metadata": {},
   "source": [
    "### Reverse and Add Function\n",
    "\n",
    "https://www.geeksforgeeks.org/reverse-and-add-function/\n",
    "\n",
    "The reverse and add function starts with a number, reverses its digits, and adds the reverse to the original. If the sum is not a palindrome, repeat this procedure until it does.\n",
    "\n",
    "Write a program that takes number and gives the resulting palindrome (if one exists). If it took more than 1,000 iterations (additions) or yield a palindrome that is greater than 4,294,967,295, assume that no palindrome exist for the given number."
   ]
  },
  {
   "cell_type": "markdown",
   "metadata": {},
   "source": [
    "Example:\n",
    "\n",
    "Input : 195<br>\n",
    "Output : 9339\n",
    "\n",
    "Input : 265<br>\n",
    "Output: 45254\n",
    "\n",
    "Input : 196<br>\n",
    "Output : No palindrome exist  \n"
   ]
  },
  {
   "cell_type": "code",
   "execution_count": 1,
   "metadata": {},
   "outputs": [],
   "source": [
    "def reverseDigits(num):\n",
    "    rev_num = 0\n",
    "    while (num > 0):\n",
    "        rev_num = rev_num*10 + num%10\n",
    "        num = num/10\n",
    "    return rev_num\n",
    "\n",
    "#Function to check whether the number is palindrome or not\n",
    "def isPalindrome(num): \n",
    "    return (reversDigits(num) == num) \n",
    "\n",
    "# Reverse and Add Function\n",
    "def ReverseandAdd(num):\n",
    "    rev_num = 0\n",
    "    while (num <= 4294967295):\n",
    "        # Reversing the digits of the number\n",
    "        rev_num = reverseDigits(num)\n",
    "        \n",
    "        # Adding the reversed number with the original \n",
    "        num = num + rev_num\n",
    "        \n",
    "        # Checking whether the number is palindrome or not\n",
    "        if(isPalindrome(num)):\n",
    "            print (num)\n",
    "            break\n",
    "        else:\n",
    "            if (num > 4294967295):\n",
    "                print (\"No palindrome exist\")"
   ]
  },
  {
   "cell_type": "code",
   "execution_count": null,
   "metadata": {},
   "outputs": [],
   "source": [
    " ReverseandAdd(196)"
   ]
  },
  {
   "cell_type": "code",
   "execution_count": 9,
   "metadata": {},
   "outputs": [
    {
     "data": {
      "text/plain": [
       "2"
      ]
     },
     "execution_count": 9,
     "metadata": {},
     "output_type": "execute_result"
    }
   ],
   "source": [
    "int(1002%10)"
   ]
  },
  {
   "cell_type": "code",
   "execution_count": 8,
   "metadata": {},
   "outputs": [
    {
     "data": {
      "text/plain": [
       "(102, 10, 1)"
      ]
     },
     "execution_count": 8,
     "metadata": {},
     "output_type": "execute_result"
    }
   ],
   "source": [
    "int(1022/10), int(1022/100), int(1022/1000)"
   ]
  },
  {
   "cell_type": "code",
   "execution_count": null,
   "metadata": {},
   "outputs": [],
   "source": []
  }
 ],
 "metadata": {
  "kernelspec": {
   "display_name": "Python 3",
   "language": "python",
   "name": "python3"
  },
  "language_info": {
   "codemirror_mode": {
    "name": "ipython",
    "version": 3
   },
   "file_extension": ".py",
   "mimetype": "text/x-python",
   "name": "python",
   "nbconvert_exporter": "python",
   "pygments_lexer": "ipython3",
   "version": "3.7.6"
  }
 },
 "nbformat": 4,
 "nbformat_minor": 4
}
