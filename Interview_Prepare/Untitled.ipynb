{
 "cells": [
  {
   "cell_type": "code",
   "execution_count": 1,
   "id": "5bdc39f1-5891-4df0-8da7-2ffd9ed6c75b",
   "metadata": {},
   "outputs": [],
   "source": [
    "# https://github.com/youngyangyang04/leetcode-master/blob/master/problems/0704.%E4%BA%8C%E5%88%86%E6%9F%A5%E6%89%BE.md"
   ]
  },
  {
   "cell_type": "code",
   "execution_count": null,
   "id": "cefb45eb-5947-4385-b155-1739d705dbbb",
   "metadata": {},
   "outputs": [],
   "source": []
  },
  {
   "cell_type": "code",
   "execution_count": null,
   "id": "d48be7df-f726-4aa3-9a53-155e9247a54a",
   "metadata": {},
   "outputs": [],
   "source": []
  },
  {
   "cell_type": "code",
   "execution_count": null,
   "id": "d41dd2d8-29b0-4f59-afd6-7ee4b72192bf",
   "metadata": {},
   "outputs": [],
   "source": []
  }
 ],
 "metadata": {
  "kernelspec": {
   "display_name": "Python 3 (ipykernel)",
   "language": "python",
   "name": "python3"
  },
  "language_info": {
   "codemirror_mode": {
    "name": "ipython",
    "version": 3
   },
   "file_extension": ".py",
   "mimetype": "text/x-python",
   "name": "python",
   "nbconvert_exporter": "python",
   "pygments_lexer": "ipython3",
   "version": "3.9.12"
  }
 },
 "nbformat": 4,
 "nbformat_minor": 5
}
