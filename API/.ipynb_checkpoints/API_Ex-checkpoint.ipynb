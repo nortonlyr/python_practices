{
 "cells": [
  {
   "cell_type": "code",
   "execution_count": 12,
   "id": "59e2d926-7516-4d04-8412-457f4f20adc6",
   "metadata": {},
   "outputs": [],
   "source": [
    "# https://api.github.com/search/repositories?q=language:python&sort=stars"
   ]
  },
  {
   "cell_type": "code",
   "execution_count": null,
   "id": "2b2c3fb6-ad90-4f83-8f4e-3269c7d17b5a",
   "metadata": {},
   "outputs": [],
   "source": []
  },
  {
   "cell_type": "code",
   "execution_count": 4,
   "id": "d9977167-240c-494e-8892-9a0c4f0d5011",
   "metadata": {},
   "outputs": [],
   "source": [
    "import requests"
   ]
  },
  {
   "cell_type": "code",
   "execution_count": 5,
   "id": "ee00d983-5c86-4460-b1bc-2857b93ddda7",
   "metadata": {},
   "outputs": [],
   "source": [
    "url = 'https://api.github.com/search/repositories?q=language:python&sort=stars'"
   ]
  },
  {
   "cell_type": "code",
   "execution_count": 7,
   "id": "8c8d7b72-3a62-4427-8418-3c7ca50127d8",
   "metadata": {},
   "outputs": [],
   "source": [
    "r = requests.get(url)"
   ]
  },
  {
   "cell_type": "code",
   "execution_count": 13,
   "id": "49683758-24d0-49e9-8f74-c9fb7f778322",
   "metadata": {},
   "outputs": [
    {
     "name": "stdout",
     "output_type": "stream",
     "text": [
      "<Response [200]>\n"
     ]
    }
   ],
   "source": [
    "print (r)"
   ]
  },
  {
   "cell_type": "code",
   "execution_count": 9,
   "id": "8772aa3f-864e-4675-b693-f075ba97ade5",
   "metadata": {},
   "outputs": [
    {
     "name": "stdout",
     "output_type": "stream",
     "text": [
      "Status_code: 200\n"
     ]
    }
   ],
   "source": [
    "print('Status_code:', r.status_code)"
   ]
  },
  {
   "cell_type": "code",
   "execution_count": 14,
   "id": "427972b9-cfa3-46df-bf48-3c0d5228fa2b",
   "metadata": {},
   "outputs": [],
   "source": [
    "response_dict = r.json()"
   ]
  },
  {
   "cell_type": "code",
   "execution_count": 18,
   "id": "c6920340-8519-432e-8611-aa54c0d19757",
   "metadata": {},
   "outputs": [
    {
     "data": {
      "text/plain": [
       "dict_keys(['total_count', 'incomplete_results', 'items'])"
      ]
     },
     "execution_count": 18,
     "metadata": {},
     "output_type": "execute_result"
    }
   ],
   "source": [
    "response_dict.keys()"
   ]
  },
  {
   "cell_type": "code",
   "execution_count": null,
   "id": "621da723-68ef-425f-997c-de2ea46d2d31",
   "metadata": {},
   "outputs": [],
   "source": [
    "response_dict"
   ]
  },
  {
   "cell_type": "code",
   "execution_count": 22,
   "id": "c9582f42-6540-494f-a2da-3d8774a985a3",
   "metadata": {},
   "outputs": [
    {
     "name": "stdout",
     "output_type": "stream",
     "text": [
      "9964885\n"
     ]
    }
   ],
   "source": [
    "print(response_dict['total_count'])"
   ]
  },
  {
   "cell_type": "code",
   "execution_count": null,
   "id": "2f5311c7-7e94-4a39-a963-bce9007281f8",
   "metadata": {},
   "outputs": [],
   "source": []
  },
  {
   "cell_type": "code",
   "execution_count": 25,
   "id": "edd0af2b-2380-4b7f-beab-f3f0463793b0",
   "metadata": {},
   "outputs": [
    {
     "name": "stdout",
     "output_type": "stream",
     "text": [
      "Repositories returned: 30\n"
     ]
    }
   ],
   "source": [
    "repo_dicts = response_dict['items']\n",
    "print(\"Repositories returned:\", len(repo_dicts))"
   ]
  },
  {
   "cell_type": "code",
   "execution_count": 32,
   "id": "4b880ce9-d978-4ec3-a9f8-bc2f6e9be940",
   "metadata": {},
   "outputs": [
    {
     "name": "stdout",
     "output_type": "stream",
     "text": [
      "\n",
      "Name: public-apis\n",
      "Owner: public-apis\n",
      "Stars: 202676\n",
      "\n",
      "Name: system-design-primer\n",
      "Owner: donnemartin\n",
      "Stars: 190894\n",
      "\n",
      "Name: Python\n",
      "Owner: TheAlgorithms\n",
      "Stars: 140825\n",
      "\n",
      "Name: awesome-python\n",
      "Owner: vinta\n",
      "Stars: 135706\n",
      "\n",
      "Name: Python-100-Days\n",
      "Owner: jackfrued\n",
      "Stars: 121095\n",
      "\n",
      "Name: youtube-dl\n",
      "Owner: ytdl-org\n",
      "Stars: 111974\n",
      "\n",
      "Name: models\n",
      "Owner: tensorflow\n",
      "Stars: 74110\n",
      "\n",
      "Name: thefuck\n",
      "Owner: nvbn\n",
      "Stars: 72549\n",
      "\n",
      "Name: transformers\n",
      "Owner: huggingface\n",
      "Stars: 67643\n",
      "\n",
      "Name: django\n",
      "Owner: django\n",
      "Stars: 65400\n",
      "\n",
      "Name: flask\n",
      "Owner: pallets\n",
      "Stars: 60036\n",
      "\n",
      "Name: HelloGitHub\n",
      "Owner: 521xueweihan\n",
      "Stars: 57771\n",
      "\n",
      "Name: keras\n",
      "Owner: keras-team\n",
      "Stars: 55791\n",
      "\n",
      "Name: awesome-machine-learning\n",
      "Owner: josephmisiti\n",
      "Stars: 55058\n",
      "\n",
      "Name: core\n",
      "Owner: home-assistant\n",
      "Stars: 54201\n",
      "\n",
      "Name: ansible\n",
      "Owner: ansible\n",
      "Stars: 53981\n",
      "\n",
      "Name: scikit-learn\n",
      "Owner: scikit-learn\n",
      "Stars: 50894\n",
      "\n",
      "Name: requests\n",
      "Owner: psf\n",
      "Stars: 47931\n",
      "\n",
      "Name: fastapi\n",
      "Owner: tiangolo\n",
      "Stars: 47737\n",
      "\n",
      "Name: cpython\n",
      "Owner: python\n",
      "Stars: 46588\n",
      "\n",
      "Name: manim\n",
      "Owner: 3b1b\n",
      "Stars: 46028\n",
      "\n",
      "Name: face_recognition\n",
      "Owner: ageitgey\n",
      "Stars: 45324\n",
      "\n",
      "Name: you-get\n",
      "Owner: soimort\n",
      "Stars: 45059\n",
      "\n",
      "Name: scrapy\n",
      "Owner: scrapy\n",
      "Stars: 44120\n",
      "\n",
      "Name: big-list-of-naughty-strings\n",
      "Owner: minimaxir\n",
      "Stars: 42666\n",
      "\n",
      "Name: localstack\n",
      "Owner: localstack\n",
      "Stars: 42446\n",
      "\n",
      "Name: funNLP\n",
      "Owner: fighting41love\n",
      "Stars: 42035\n",
      "\n",
      "Name: faceswap\n",
      "Owner: deepfakes\n",
      "Stars: 41857\n",
      "\n",
      "Name: PayloadsAllTheThings\n",
      "Owner: swisskyrepo\n",
      "Stars: 39632\n",
      "\n",
      "Name: rich\n",
      "Owner: Textualize\n",
      "Stars: 38745\n"
     ]
    }
   ],
   "source": [
    "for repo_dict in repo_dicts:\n",
    "    print('\\nName:', repo_dict['name'])\n",
    "    print('Owner:', repo_dict['owner']['login'])\n",
    "    print('Stars:', repo_dict['stargazers_count'])"
   ]
  },
  {
   "cell_type": "code",
   "execution_count": 34,
   "id": "abea3109-a877-4049-a932-ffcaf5a457af",
   "metadata": {},
   "outputs": [
    {
     "name": "stdout",
     "output_type": "stream",
     "text": [
      "Collecting pygal\n",
      "  Downloading pygal-3.0.0-py2.py3-none-any.whl (129 kB)\n",
      "\u001b[2K     \u001b[90m━━━━━━━━━━━━━━━━━━━━━━━━━━━━━━━━━━━━━━━\u001b[0m \u001b[32m129.4/129.4 KB\u001b[0m \u001b[31m4.5 MB/s\u001b[0m eta \u001b[36m0:00:00\u001b[0m\n",
      "\u001b[?25hInstalling collected packages: pygal\n",
      "Successfully installed pygal-3.0.0\n"
     ]
    }
   ],
   "source": [
    "!pip install pygal"
   ]
  },
  {
   "cell_type": "code",
   "execution_count": 37,
   "id": "c0a99b02-9369-47a0-b832-724a8cb9772e",
   "metadata": {},
   "outputs": [],
   "source": [
    "import pygal\n",
    "from pygal.style import LightColorizedStyle as LCS, LightenStyle as LS"
   ]
  },
  {
   "cell_type": "code",
   "execution_count": 38,
   "id": "5dbd7a82-4b68-48fe-9a42-2d64bcf5bc4c",
   "metadata": {},
   "outputs": [],
   "source": [
    "url = 'https://api.github.com/search/repositories?q=language:python&sort=stars'\n",
    "r = requests.get(url)"
   ]
  },
  {
   "cell_type": "code",
   "execution_count": 41,
   "id": "b7a3fb76-11d0-4236-bbd6-a9c110e09eff",
   "metadata": {},
   "outputs": [
    {
     "name": "stdout",
     "output_type": "stream",
     "text": [
      "Status code: 200\n"
     ]
    }
   ],
   "source": [
    "print(\"Status code:\", r.status_code)"
   ]
  },
  {
   "cell_type": "code",
   "execution_count": null,
   "id": "d669aa05-3563-4878-93be-49430e4b7c14",
   "metadata": {},
   "outputs": [],
   "source": []
  },
  {
   "cell_type": "code",
   "execution_count": null,
   "id": "c16cbfac-c27a-402d-9684-b65856789ded",
   "metadata": {},
   "outputs": [],
   "source": []
  },
  {
   "cell_type": "code",
   "execution_count": null,
   "id": "73794964-76fb-4c82-9ff6-15a83f4d9652",
   "metadata": {},
   "outputs": [],
   "source": []
  },
  {
   "cell_type": "code",
   "execution_count": null,
   "id": "8c957ef9-5ab1-48c5-8c90-2347ac2e9b8b",
   "metadata": {},
   "outputs": [],
   "source": []
  },
  {
   "cell_type": "code",
   "execution_count": null,
   "id": "f7d30b9b-5871-4624-b661-97a542d429e9",
   "metadata": {},
   "outputs": [],
   "source": []
  },
  {
   "cell_type": "code",
   "execution_count": null,
   "id": "4591a442-2cb9-49f3-8fd2-b34070a791ba",
   "metadata": {},
   "outputs": [],
   "source": []
  }
 ],
 "metadata": {
  "kernelspec": {
   "display_name": "Python 3 (ipykernel)",
   "language": "python",
   "name": "python3"
  },
  "language_info": {
   "codemirror_mode": {
    "name": "ipython",
    "version": 3
   },
   "file_extension": ".py",
   "mimetype": "text/x-python",
   "name": "python",
   "nbconvert_exporter": "python",
   "pygments_lexer": "ipython3",
   "version": "3.9.12"
  }
 },
 "nbformat": 4,
 "nbformat_minor": 5
}
