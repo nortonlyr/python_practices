{
 "cells": [
  {
   "cell_type": "markdown",
   "metadata": {},
   "source": [
    "refernece: https://www.twblogs.net/a/5caffc3bbd9eee48d7884091"
   ]
  },
  {
   "cell_type": "code",
   "execution_count": 8,
   "metadata": {},
   "outputs": [
    {
     "name": "stdout",
     "output_type": "stream",
     "text": [
      "name:\n",
      "age:0\n"
     ]
    }
   ],
   "source": [
    "class Student():\n",
    "    name = ''\n",
    "    age = 0\n",
    "\n",
    "    def print_file(self):\n",
    "        print('name:' + self.name)\n",
    "        print('age:' + str(self.age))\n",
    "    \n",
    "student = Student()\n",
    "student.print_file()"
   ]
  },
  {
   "cell_type": "code",
   "execution_count": 9,
   "metadata": {},
   "outputs": [
    {
     "name": "stdout",
     "output_type": "stream",
     "text": [
      "<__main__.Cat object at 0x000001A8E24BDC48>\n"
     ]
    }
   ],
   "source": [
    "class Cat():\n",
    "    def eat(self,name):\n",
    "        self.name = name\n",
    "        print('%s love eating fish' %self.name)\n",
    "        \n",
    "    def drink(self):\n",
    "        print('Cat drinks water')\n",
    "        \n",
    "tom = Cat()\n",
    "tom.name = 'Tom'\n",
    "print(tom)"
   ]
  },
  {
   "cell_type": "code",
   "execution_count": 10,
   "metadata": {},
   "outputs": [
    {
     "data": {
      "text/plain": [
       "<__main__.Cat at 0x1a8e24bdc48>"
      ]
     },
     "execution_count": 10,
     "metadata": {},
     "output_type": "execute_result"
    }
   ],
   "source": [
    "tom"
   ]
  },
  {
   "cell_type": "code",
   "execution_count": 15,
   "metadata": {},
   "outputs": [
    {
     "name": "stdout",
     "output_type": "stream",
     "text": [
      "student\n",
      "Mr. Chen\n",
      "30\n"
     ]
    }
   ],
   "source": [
    "class Student():\n",
    "    name = ''\n",
    "    age = 0\n",
    "    \n",
    "    def __init__(self, name, age):\n",
    "        self.name = name\n",
    "        self.age = age\n",
    "        print('student')\n",
    "    \n",
    "    def do_homework(self):\n",
    "        print('homework')\n",
    "\n",
    "student1 = Student(\"Mr. Chen\", 30)\n",
    "print(student1.name)\n",
    "print(student1.age)"
   ]
  },
  {
   "cell_type": "code",
   "execution_count": 18,
   "metadata": {},
   "outputs": [
    {
     "name": "stdout",
     "output_type": "stream",
     "text": [
      "這是 旺財\n"
     ]
    }
   ],
   "source": [
    "class Dog():\n",
    "    \n",
    "    def __init__(self, name):\n",
    "        self.name = name\n",
    "        \n",
    "    def __str__(self):\n",
    "        #必須返回一個數字\n",
    "        return '這是 %s' %(self.name)\n",
    "    \n",
    "dog1 = Dog('旺財')\n",
    "print(dog1)"
   ]
  },
  {
   "cell_type": "code",
   "execution_count": 23,
   "metadata": {},
   "outputs": [
    {
     "data": {
      "text/plain": [
       "True"
      ]
     },
     "execution_count": 23,
     "metadata": {},
     "output_type": "execute_result"
    }
   ],
   "source": [
    "class Stack():\n",
    "    \n",
    "    def __init__(self):\n",
    "        self.stack = []\n",
    "    \n",
    "    def push(self, value):\n",
    "        self.stack.append(value)\n",
    "        return True\n",
    "    \n",
    "    def pop(self):\n",
    "        #先判斷棧是否爲空\n",
    "        if self.stack:\n",
    "            item = self.stack.pop()\n",
    "            return item\n",
    "        else:\n",
    "            return False\n",
    "        \n",
    "    def top(self):\n",
    "        if self.stack:\n",
    "            return self.stack[-1]\n",
    "        else:\n",
    "            return False\n",
    "        \n",
    "    def length(self):\n",
    "        return len(self.stack)\n",
    "    \n",
    "    def view(self):\n",
    "        return ','.join(self.stack)\n",
    "    \n",
    "s = Stack()\n",
    "s.push('1')\n",
    "s.push('2')\n"
   ]
  },
  {
   "cell_type": "code",
   "execution_count": 25,
   "metadata": {},
   "outputs": [
    {
     "ename": "SyntaxError",
     "evalue": "invalid character in identifier (<ipython-input-25-3be0b9c7eca9>, line 8)",
     "output_type": "error",
     "traceback": [
      "\u001b[1;36m  File \u001b[1;32m\"<ipython-input-25-3be0b9c7eca9>\"\u001b[1;36m, line \u001b[1;32m8\u001b[0m\n\u001b[1;33m    print('%s 愛吃魚' %（self.name))\u001b[0m\n\u001b[1;37m                        ^\u001b[0m\n\u001b[1;31mSyntaxError\u001b[0m\u001b[1;31m:\u001b[0m invalid character in identifier\n"
     ]
    }
   ],
   "source": [
    "class Cat():\n",
    "    def __init__(self, new_name):\n",
    "        #print('這是一個初始化方法')\n",
    "        self.name = new_name\n",
    "    # self.name 在類中的任何方法中都可以使用\n",
    "    \n",
    "    def eat(self):\n",
    "        print('%s 愛吃魚' %(self.name))\n",
    "        \n",
    "    def drink(self):\n",
    "        print('%s 要喝水' %(self.name))\n",
    "\n",
    "#使用類名()創建對象的時候，會自動調用初始化方法__init__\n",
    "hello_kitty = Cat('hk')\n",
    "hello_kitty.eat()\n",
    "hello_kitty.drink()\n",
    "tom = Cat('tom')\n",
    "tom.eat()\n",
    "tom.drink()"
   ]
  },
  {
   "cell_type": "code",
   "execution_count": null,
   "metadata": {},
   "outputs": [],
   "source": []
  }
 ],
 "metadata": {
  "kernelspec": {
   "display_name": "Python 3",
   "language": "python",
   "name": "python3"
  },
  "language_info": {
   "codemirror_mode": {
    "name": "ipython",
    "version": 3
   },
   "file_extension": ".py",
   "mimetype": "text/x-python",
   "name": "python",
   "nbconvert_exporter": "python",
   "pygments_lexer": "ipython3",
   "version": "3.7.6"
  }
 },
 "nbformat": 4,
 "nbformat_minor": 4
}
