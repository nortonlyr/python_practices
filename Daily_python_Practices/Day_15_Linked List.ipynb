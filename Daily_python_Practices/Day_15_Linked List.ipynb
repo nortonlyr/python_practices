{
 "cells": [
  {
   "cell_type": "markdown",
   "metadata": {},
   "source": [
    "Objective Today we're working with Linked Lists. Check out the Tutorial tab for learning materials and an instructional video!\n",
    "\n",
    "A Node class is provided for you in the editor. A Node object has an integer data field, , and a Node instance pointer, , pointing to another node (i.e.: the next node in a list).\n",
    "\n",
    "A Node insert function is also declared in your editor. It has two parameters: a pointer, , pointing to the first node of a linked list, and an integer value that must be added to the end of the list as a new Node object.\n",
    "\n",
    "Task Complete the insert function in your editor so that it creates a new Node (pass as the Node constructor argument) and inserts it at the tail of the linked list referenced by the parameter. Once the new node is added, return the reference to the node.\n",
    "\n",
    "Note: If the argument passed to the insert function is null, then the initial list is empty.\n",
    "\n",
    "Input Format\n",
    "\n",
    "The insert function has parameters: a pointer to a Node named , and an integer value, . The constructor for Node has parameter: an integer value for the field.\n",
    "\n",
    "You do not need to read anything from stdin.\n",
    "\n",
    "Output Format\n",
    "\n",
    "Your insert function should return a reference to the node of the linked list.\n",
    "\n",
    "Sample Input\n",
    "\n",
    "The following input is handled for you by the locked code in the editor: The first line contains T, the number of test cases. The subsequent lines of test cases each contain an integer to be inserted at the list's tail.\n",
    "\n",
    "4 2 3 4 1\n",
    "\n",
    "Sample Output\n",
    "\n",
    "The locked code in your editor prints the ordered data values for each element in your list as a single line of space-separated integers:\n",
    "\n",
    "2 3 4 1\n",
    "\n",
    "Explanation\n",
    "\n",
    ", so the locked code in the editor will be inserting nodes. The list is initially empty, so is null; accounting for this, our code returns a new node containing the data value as the of our list. We then create and insert nodes , , and at the tail of our list. The resulting list returned by the last call to is , so the printed output is 2 3 4 1.\n",
    "\n",
    "[LinkedListExplanation.png]\n",
    "\n",
    "https://www.hackerrank.com/challenges/30-linked-list/problem"
   ]
  },
  {
   "cell_type": "code",
   "execution_count": 1,
   "metadata": {},
   "outputs": [],
   "source": [
    "class Node():\n",
    "    \n",
    "    def __init__(self, data):\n",
    "        self.data = data\n",
    "        self.next= None\n",
    "    \n",
    "class Solution():\n",
    "    \n",
    "    def display(self, head):\n",
    "        current = head\n",
    "        while current:\n",
    "            print(current.data, end=' ')\n",
    "            current = current.next\n",
    "    \n",
    "    def insert(self, head, data):\n",
    "        if head == None:\n",
    "            head = Node(data)\n",
    "    \n",
    "        else:\n",
    "            current = head\n",
    "            while current.next != None:\n",
    "                current = current.next\n",
    "            current.next = Node(data)\n",
    "        \n",
    "        return(head)"
   ]
  },
  {
   "cell_type": "code",
   "execution_count": 4,
   "metadata": {},
   "outputs": [
    {
     "name": "stdout",
     "output_type": "stream",
     "text": [
      "8\n",
      "5\n",
      "6\n",
      "4\n",
      "3\n",
      "2\n",
      "4\n",
      "4\n",
      "1\n",
      "5 6 4 3 2 4 4 1 "
     ]
    }
   ],
   "source": [
    "mylist = Solution()\n",
    "T = int(input())\n",
    "head = None\n",
    "\n",
    "for i in range(T):\n",
    "    data = int(input())\n",
    "    head=mylist.insert(head, data)\n",
    "mylist.display(head)"
   ]
  },
  {
   "cell_type": "code",
   "execution_count": null,
   "metadata": {},
   "outputs": [],
   "source": []
  }
 ],
 "metadata": {
  "kernelspec": {
   "display_name": "Python 3",
   "language": "python",
   "name": "python3"
  },
  "language_info": {
   "codemirror_mode": {
    "name": "ipython",
    "version": 3
   },
   "file_extension": ".py",
   "mimetype": "text/x-python",
   "name": "python",
   "nbconvert_exporter": "python",
   "pygments_lexer": "ipython3",
   "version": "3.7.6"
  }
 },
 "nbformat": 4,
 "nbformat_minor": 4
}
