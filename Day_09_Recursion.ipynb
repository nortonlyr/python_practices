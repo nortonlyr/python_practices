{
 "cells": [
  {
   "cell_type": "markdown",
   "metadata": {},
   "source": [
    "Objective Today, we're learning and practicing an algorithmic concept called Recursion. Check out the Tutorial tab for learning materials and an instructional video!\n",
    "\n",
    "Recursive Method for Calculating Factorial\n",
    "\n",
    "Task Write a factorial function that takes a positive integer, as a parameter and prints the result of ( factorial).\n",
    "\n",
    "Note: If you fail to use recursion or fail to name your recursive function factorial or Factorial, you will get a score of .\n",
    "\n",
    "Input Format\n",
    "\n",
    "A single integer, (the argument to pass to factorial).\n",
    "\n",
    "Constraints\n",
    "\n",
    "Your submission must contain a recursive function named factorial.\n",
    "\n",
    "Output Format\n",
    "\n",
    "Print a single integer denoting .\n",
    "\n",
    "**Sample Input**\n",
    "\n",
    "3\n",
    "\n",
    "**Sample Output**\n",
    "\n",
    "6\n",
    "\n",
    "Explanation\n",
    "\n",
    "Consider the following steps:\n",
    "\n",
    "From steps and , we can say ; then when we apply the value from to step , we get . Thus, we print as our answer.\n",
    "\n",
    "https://www.hackerrank.com/challenges/30-recursion/problem"
   ]
  },
  {
   "cell_type": "code",
   "execution_count": 3,
   "metadata": {},
   "outputs": [
    {
     "name": "stdout",
     "output_type": "stream",
     "text": [
      "5\n",
      "120\n"
     ]
    }
   ],
   "source": [
    "def factorial(n):\n",
    "    if n<=1:\n",
    "        return(1)\n",
    "    else:\n",
    "        return(factorial(n-1)*n)\n",
    "\n",
    "if __name__ == \"__main__\":\n",
    "    n = int(input().strip())\n",
    "    result=factorial(n)\n",
    "    print(result)"
   ]
  },
  {
   "cell_type": "code",
   "execution_count": null,
   "metadata": {},
   "outputs": [],
   "source": []
  }
 ],
 "metadata": {
  "kernelspec": {
   "display_name": "Python 3",
   "language": "python",
   "name": "python3"
  },
  "language_info": {
   "codemirror_mode": {
    "name": "ipython",
    "version": 3
   },
   "file_extension": ".py",
   "mimetype": "text/x-python",
   "name": "python",
   "nbconvert_exporter": "python",
   "pygments_lexer": "ipython3",
   "version": "3.7.6"
  }
 },
 "nbformat": 4,
 "nbformat_minor": 4
}
