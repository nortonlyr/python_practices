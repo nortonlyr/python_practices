{
 "cells": [
  {
   "cell_type": "markdown",
   "metadata": {},
   "source": [
    "Reference: https://blog.csdn.net/qq_43468607/article/details/103205745"
   ]
  },
  {
   "cell_type": "markdown",
   "metadata": {},
   "source": [
    "题目1：有四个数字：1、2、3、4，能组成多少个互不相同且无重复数字的三位数？各是多少？"
   ]
  },
  {
   "cell_type": "markdown",
   "metadata": {},
   "source": [
    "程序分析：<br>\n",
    "可填在百位、十位、个位的数字都是1、2、3、4。组成所有的排列后再去 掉不满足条件的排列。**<br>\n",
    "思路解析：<br>\n",
    "用三个for循环嵌套输出，并用range（）函数进行划定范围1到4，外加if条件语句进行判断三个数字不相等"
   ]
  },
  {
   "cell_type": "code",
   "execution_count": 2,
   "metadata": {},
   "outputs": [
    {
     "name": "stdout",
     "output_type": "stream",
     "text": [
      "1 3 2\n",
      "1 4 2\n",
      "1 2 3\n",
      "1 4 3\n",
      "1 2 4\n",
      "1 3 4\n",
      "2 3 1\n",
      "2 4 1\n",
      "2 1 3\n",
      "2 4 3\n",
      "2 1 4\n",
      "2 3 4\n",
      "3 2 1\n",
      "3 4 1\n",
      "3 1 2\n",
      "3 4 2\n",
      "3 1 4\n",
      "3 2 4\n",
      "4 2 1\n",
      "4 3 1\n",
      "4 1 2\n",
      "4 3 2\n",
      "4 1 3\n",
      "4 2 3\n"
     ]
    }
   ],
   "source": [
    "for i in range(1,5):\n",
    "    for k in range(1,5):\n",
    "        for j in range(1,5):\n",
    "            if (i != k) and (i != j) and (k != j):\n",
    "                print(i, j, k)"
   ]
  },
  {
   "cell_type": "markdown",
   "metadata": {},
   "source": [
    "题目2：输入某年某月某日，判断这一天是这一年的第几天？"
   ]
  },
  {
   "cell_type": "markdown",
   "metadata": {},
   "source": [
    "程序分析：<br>\n",
    "以3月5日为例，应该先把前两个月的加起来，然后再加上5天即本年的第几天，特殊情况，闰年且输入月份大于2时需考虑多加一天：<br>\n",
    "思路解析：<br>\n",
    "用列表存储每一个月份到12月份的天数，逐渐递增，用if条件判断语句判断月份，取列表的下表，下面对年份进行判断，如果为闰年，且输入的月份大于2月份，则将算出的天数加1<br>\n",
    "代码解析："
   ]
  },
  {
   "cell_type": "code",
   "execution_count": 4,
   "metadata": {},
   "outputs": [
    {
     "name": "stdout",
     "output_type": "stream",
     "text": [
      "請輸入年份: 2020\n",
      "請輸入月份: 10\n",
      "請輸入某一個月份的天數: 31\n",
      "這一天是這一年的305天\n"
     ]
    }
   ],
   "source": [
    "year = int(input(\"請輸入年份: \"))\n",
    "month = int(input(\"請輸入月份: \"))\n",
    "day = int(input(\"請輸入某一個月份的天數: \"))\n",
    "\n",
    "# 將月份逐漸添加到列表\n",
    "months = [0, 31, 59, 90, 210, 151, 181, 212, 243, 273, 304, 334]\n",
    "if 0 < month <= 12:\n",
    "    sum = months[month - 1]\n",
    "else:\n",
    "    print(\"輸入超出範圍，請重新輸入\")\n",
    "\n",
    "sum += day\n",
    "if ((year % 400 == 0) or (year % 4 == 0) and (year % 100 != 0)):\n",
    "    if (month > 2): \n",
    "        sum += 1\n",
    "print(\"這一天是這一年的%d天\"%sum)\n",
    "    "
   ]
  },
  {
   "cell_type": "markdown",
   "metadata": {},
   "source": [
    "题目3：输入三个整数x,y,z，请把这三个数由小到大输出。"
   ]
  },
  {
   "cell_type": "markdown",
   "metadata": {},
   "source": [
    "程序分析：<br>\n",
    "我们想办法把最小的数放到x上，先将x与y进行比较，如果x>y则将x与y的值进行交换，然后再用x与z进行比较，如果x>z则将x与z的值进行交换，这样能使x最小。<br>\n",
    "特别麻烦的思路一般是将一个值与另外两个值进行比较，代码如下，非常不建议："
   ]
  },
  {
   "cell_type": "code",
   "execution_count": 6,
   "metadata": {},
   "outputs": [
    {
     "name": "stdout",
     "output_type": "stream",
     "text": [
      "请输入第一个数：8\n",
      "请输入第二个数字：5\n",
      "请输入第三个数字：7\n"
     ]
    }
   ],
   "source": [
    "first = int(input(\"请输入第一个数：\"))\n",
    "second = int(input(\"请输入第二个数字：\"))\n",
    "last = int(input(\"请输入第三个数字：\"))\n",
    "\n",
    "if((first > second) and (first > last) and (second > last)):\n",
    "    print(first,second,last)\n",
    "if((last > second) and (last > first) and (second > last)):\n",
    "    print(last,second,last)\n",
    "if((second > first) and (second > last) and (first > last)):\n",
    "    print(second,first,last)"
   ]
  },
  {
   "cell_type": "markdown",
   "metadata": {},
   "source": [
    "简单的代码实现（优化）实现了可以控制比较数字大小的个数，个人思想：<br>\n",
    "放上一个列表，采用sort()方法加上for循环比较后放入列表中"
   ]
  },
  {
   "cell_type": "code",
   "execution_count": 7,
   "metadata": {},
   "outputs": [
    {
     "name": "stdout",
     "output_type": "stream",
     "text": [
      "請輸入比較的數字數目: 8\n",
      "慶祝個輸入比較的數字: 6\n",
      "慶祝個輸入比較的數字: 4\n",
      "慶祝個輸入比較的數字: 5\n",
      "慶祝個輸入比較的數字: 2\n",
      "慶祝個輸入比較的數字: 1\n",
      "慶祝個輸入比較的數字: 3\n",
      "慶祝個輸入比較的數字: 7\n",
      "慶祝個輸入比較的數字: 9\n",
      "比較后從小到大排序為: [1, 2, 3, 4, 5, 6, 7, 9]\n"
     ]
    }
   ],
   "source": [
    "len = []\n",
    "k = int(input(\"請輸入比較的數字數目: \"))\n",
    "for i in range(k):\n",
    "    k = int(input(\"慶祝個輸入比較的數字: \"))\n",
    "    len.append(k)\n",
    "len.sort()\n",
    "print(\"比較后從小到大排序為: \" + str(len))"
   ]
  },
  {
   "cell_type": "code",
   "execution_count": 8,
   "metadata": {},
   "outputs": [
    {
     "data": {
      "text/plain": [
       "[1, 2, 3, 4, 5, 7, 9]"
      ]
     },
     "execution_count": 8,
     "metadata": {},
     "output_type": "execute_result"
    }
   ],
   "source": [
    "sorted([2,5,9,7,3,1,4])"
   ]
  },
  {
   "cell_type": "markdown",
   "metadata": {},
   "source": [
    "题目5：将一个列表的数据复制到另一个列表中。<br>\n",
    "\n",
    "程序分析：使用列表[:]** <br>\n",
    "方式一：<br>\n",
    "直接使用copy()方法进行列表的复制即可 <br>\n",
    "代码实现："
   ]
  },
  {
   "cell_type": "code",
   "execution_count": 4,
   "metadata": {},
   "outputs": [
    {
     "name": "stdout",
     "output_type": "stream",
     "text": [
      "[0, 1, 2, 3, 4, 5, 6, 7, 8, 9]\n",
      "[0, 1, 2, 3, 4, 5, 6, 7, 8, 9]\n"
     ]
    }
   ],
   "source": [
    "cla = [0,1,2,3,4,5,6,7,8,9]\n",
    "alc = []\n",
    "alc = cla.copy()\n",
    "print(cla)\n",
    "print(alc)"
   ]
  },
  {
   "cell_type": "markdown",
   "metadata": {},
   "source": [
    "方式二：<br>\n",
    "首先我们需要注意，在Python中是没有i++之列的，这个原因自行上网上搜索，所以只能用i =i + 1<br>\n",
    "代码实现："
   ]
  },
  {
   "cell_type": "code",
   "execution_count": 5,
   "metadata": {},
   "outputs": [
    {
     "name": "stdout",
     "output_type": "stream",
     "text": [
      "[1, 2, 3, 4, 5, 6, 7, 8, 9]\n"
     ]
    }
   ],
   "source": [
    "cla = [1,2,3,4,5,6,7,8,9]\n",
    "alc = []\n",
    "i = 0\n",
    "while (len(alc) < len(cla)):\n",
    "    alc.append(cla[i])\n",
    "    i += 1\n",
    "print(alc)"
   ]
  },
  {
   "cell_type": "markdown",
   "metadata": {},
   "source": [
    "此处为什么i变量为全局变量不能为局部变量那？<br>\n",
    "方式三："
   ]
  },
  {
   "cell_type": "code",
   "execution_count": 6,
   "metadata": {},
   "outputs": [
    {
     "name": "stdout",
     "output_type": "stream",
     "text": [
      "[1, 2, 3, 4, 5, 6, 7, 8, 9]\n"
     ]
    }
   ],
   "source": [
    "a = [1,2,3,4,5,6,7,8,9]\n",
    "b = a[:]\n",
    "print(b)"
   ]
  },
  {
   "cell_type": "markdown",
   "metadata": {},
   "source": [
    "题目6：输出 9*9 乘法口诀表。 程序分析：分行与列考虑，共9行9列，i控制行，j控制列。<br>\n",
    "代码实现之一："
   ]
  },
  {
   "cell_type": "code",
   "execution_count": 9,
   "metadata": {},
   "outputs": [
    {
     "name": "stdout",
     "output_type": "stream",
     "text": [
      "1*1=1 \n",
      "2*1=2 2*2=4 \n",
      "3*1=3 3*2=6 3*3=9 \n",
      "4*1=4 4*2=8 4*3=12 4*4=16 \n",
      "5*1=5 5*2=10 5*3=15 5*4=20 5*5=25 \n",
      "6*1=6 6*2=12 6*3=18 6*4=24 6*5=30 6*6=36 \n",
      "7*1=7 7*2=14 7*3=21 7*4=28 7*5=35 7*6=42 7*7=49 \n",
      "8*1=8 8*2=16 8*3=24 8*4=32 8*5=40 8*6=48 8*7=56 8*8=64 \n",
      "9*1=9 9*2=18 9*3=27 9*4=36 9*5=45 9*6=54 9*7=63 9*8=72 9*9=81 \n"
     ]
    }
   ],
   "source": [
    "for i in range(1, 10):\n",
    "    for j in range(1, i+1):\n",
    "        print(\"%d*%d=%d\" % (i, j, i*j), end = \" \")\n",
    "    print()"
   ]
  },
  {
   "cell_type": "markdown",
   "metadata": {},
   "source": [
    "题目7：暂停一秒输出。 程序分析：使用 time 模块的 sleep() 函数。<br>\n",
    "代码实现："
   ]
  },
  {
   "cell_type": "code",
   "execution_count": 10,
   "metadata": {},
   "outputs": [
    {
     "name": "stdout",
     "output_type": "stream",
     "text": [
      "1 a\n",
      "2 b\n",
      "3 c\n",
      "4 d\n"
     ]
    }
   ],
   "source": [
    "import time\n",
    "\n",
    "myD = {1: 'a', 2: 'b', 3: 'c', 4: 'd'}\n",
    "for key, value in dict.items(myD):\n",
    "    print(key, value)\n",
    "    time.sleep(2)"
   ]
  },
  {
   "cell_type": "markdown",
   "metadata": {},
   "source": [
    "2+22+222+2222+22222(此时共有5个数相加)，几个数相加由键盘控制。<br>\n",
    "思路解析：此题的解法有很多，这里我只说两种<br>\n",
    "方式一：<br>\n",
    "简单粗暴的方式，就是对个位数，十位数，百位数，，，，进行下一次对前面的所有的数进行相加，例如2222，实际上就是2+20+200+2000来进行计算的，所以这里我们必须要有循环，并设置一个初始值为0的变量，对数值进行循环相加<br>\n",
    "代码解析："
   ]
  },
  {
   "cell_type": "code",
   "execution_count": 11,
   "metadata": {},
   "outputs": [
    {
     "name": "stdout",
     "output_type": "stream",
     "text": [
      "請輸入多少次: 5\n",
      "請輸入單個數字是多少: 2\n",
      "24690\n"
     ]
    }
   ],
   "source": [
    "n = int(input('請輸入多少次: '))\n",
    "a = int(input('請輸入單個數字是多少: '))\n",
    "sum = 0\n",
    "total = 0\n",
    "for i in range(n):\n",
    "    sum += pow(10,i)\n",
    "    total += sum * a\n",
    "print(total)"
   ]
  },
  {
   "cell_type": "markdown",
   "metadata": {},
   "source": [
    "题目19，输出以下图形: "
   ]
  },
  {
   "cell_type": "markdown",
   "metadata": {},
   "source": [
    "![Q19](img/Q19.png)"
   ]
  },
  {
   "cell_type": "markdown",
   "metadata": {},
   "source": [
    "这一道题很经典，我见过很多这样的的形式，有的是让输出半边的金字塔，有的是让输出倒立的金字塔，但是这道题就包含着前面的两道，<br>\n",
    "思路解析：<br>\n",
    "首先，利用循环是肯定的，而且肯定是嵌套循环，一个循环控制的是空格的输出，一个循环是控制的是*符号的输出，将这个图形拆开，实际上就是正着输出一遍，然后再倒着输出一遍，这里的循环采用的for循环，比较方便<br>\n",
    "方式一：<br>\n",
    "代码解析"
   ]
  },
  {
   "cell_type": "code",
   "execution_count": 7,
   "metadata": {},
   "outputs": [
    {
     "name": "stdout",
     "output_type": "stream",
     "text": [
      "   *\n",
      "  ***\n",
      " *****\n",
      "*******\n",
      " *****\n",
      "  ***\n",
      "   *\n"
     ]
    }
   ],
   "source": [
    "for i in range(1,5):\n",
    "    print(' ' * (4-i), end=\"\")\n",
    "    for j in range(1, 2 * i):\n",
    "        print('*', end=\"\")\n",
    "    print()\n",
    "for i in range(3, 0, -1):\n",
    "    print(' ' * (4-i), end=\"\")\n",
    "    for j in range(1, 2 * i):\n",
    "        print('*', end=\"\")\n",
    "    print()\n",
    "# 此种写法，可以说是别具一格，巧妙在没有将空格进行循环输出，而真正核心的地方在于循环*的时候对于符号的控制，细细品来，别有一番风味。\n",
    "# 此处的end=“”意思是以什么样的符号结尾，什么都不写会有结尾，但是看不见罢了，如果换成其他的符号看看效果如何。"
   ]
  },
  {
   "cell_type": "code",
   "execution_count": null,
   "metadata": {},
   "outputs": [],
   "source": []
  }
 ],
 "metadata": {
  "kernelspec": {
   "display_name": "Python 3",
   "language": "python",
   "name": "python3"
  },
  "language_info": {
   "codemirror_mode": {
    "name": "ipython",
    "version": 3
   },
   "file_extension": ".py",
   "mimetype": "text/x-python",
   "name": "python",
   "nbconvert_exporter": "python",
   "pygments_lexer": "ipython3",
   "version": "3.7.6"
  }
 },
 "nbformat": 4,
 "nbformat_minor": 4
}
