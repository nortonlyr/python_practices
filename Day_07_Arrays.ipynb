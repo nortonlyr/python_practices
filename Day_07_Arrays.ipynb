{
 "cells": [
  {
   "cell_type": "markdown",
   "metadata": {},
   "source": [
    "Objective Today, we're learning about the Array data structure. Check out the Tutorial tab for learning materials and an instructional video!\n",
    "\n",
    "Task Given an array, , of integers, print 's elements in reverse order as a single line of space-separated numbers.\n",
    "\n",
    "Input Format\n",
    "\n",
    "The first line contains an integer, (the size of our array). The second line contains space-separated integers describing array 's elements.\n",
    "\n",
    "Constraints\n",
    "\n",
    ", where is the integer in the array. Output Format\n",
    "\n",
    "Print the elements of array in reverse order as a single line of space-separated numbers.\n",
    "\n",
    "**Sample Input**\n",
    "\n",
    "4 1 4 3 2 \n",
    "\n",
    "**Sample Output**\n",
    "\n",
    "2 3 4 1\n",
    "\n",
    "https://www.hackerrank.com/challenges/30-arrays/problem"
   ]
  },
  {
   "cell_type": "code",
   "execution_count": 1,
   "metadata": {},
   "outputs": [
    {
     "name": "stdout",
     "output_type": "stream",
     "text": [
      "5\n",
      "1 4 6 8 0\n",
      "0 8 6 4 1\n"
     ]
    }
   ],
   "source": [
    "n = int(input().strip())\n",
    "arr = [int(arr_temp) for arr_temp in input().strip().split(' ')]\n",
    "print(*reversed(arr))"
   ]
  }
 ],
 "metadata": {
  "kernelspec": {
   "display_name": "Python 3",
   "language": "python",
   "name": "python3"
  },
  "language_info": {
   "codemirror_mode": {
    "name": "ipython",
    "version": 3
   },
   "file_extension": ".py",
   "mimetype": "text/x-python",
   "name": "python",
   "nbconvert_exporter": "python",
   "pygments_lexer": "ipython3",
   "version": "3.7.6"
  }
 },
 "nbformat": 4,
 "nbformat_minor": 4
}
