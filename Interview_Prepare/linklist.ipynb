{
 "cells": [
  {
   "cell_type": "code",
   "execution_count": 1,
   "id": "cd621645-7e65-4b8d-a55c-d674a96af876",
   "metadata": {},
   "outputs": [],
   "source": [
    "class ListNode:\n",
    "    def __init__(self, val, next=None):\n",
    "        self.val = val\n",
    "        self.next = next"
   ]
  },
  {
   "cell_type": "code",
   "execution_count": null,
   "id": "a639f68d-4894-4ca6-8383-d7ae97770f5a",
   "metadata": {},
   "outputs": [],
   "source": [
    "# 题意：删除链表中等于给定值 val 的所有节点。\n",
    "\n",
    "# 示例 1：\n",
    "# 输入：head = [1,2,6,3,4,5,6], val = 6\n",
    "# 输出：[1,2,3,4,5]\n",
    "\n",
    "# 示例 2：\n",
    "# 输入：head = [], val = 1\n",
    "# 输出：[]\n",
    "\n",
    "# 示例 3：\n",
    "# 输入：head = [7,7,7,7], val = 7\n",
    "# 输出：[]"
   ]
  },
  {
   "cell_type": "code",
   "execution_count": null,
   "id": "b1a02d23-4527-43bf-9623-18537c106c8c",
   "metadata": {},
   "outputs": [],
   "source": []
  },
  {
   "cell_type": "code",
   "execution_count": 23,
   "id": "51dfba59-00dc-422c-82bd-91911e559319",
   "metadata": {},
   "outputs": [],
   "source": [
    "class ListNode:\n",
    "    def __init__(self, val=0, next=None):\n",
    "            self.val = val\n",
    "            self.next = next\n",
    "            \n",
    "class Solution:       \n",
    "    def removeElements(self, head: ListNode, val: int) -> ListNode:\n",
    "        dummy_head = ListNode(next=head) #添加一个虚拟节点\n",
    "        cur = dummy_head\n",
    "        while(cur.next!=None):\n",
    "            if(cur.next.val == val):\n",
    "                cur.next = cur.next.next #删除cur.next节点\n",
    "            else:\n",
    "                cur = cur.next\n",
    "        return dumy_head.next"
   ]
  },
  {
   "cell_type": "code",
   "execution_count": 24,
   "id": "5f3dcd73-8cd2-4eab-94a8-ca0f83b6f593",
   "metadata": {},
   "outputs": [],
   "source": [
    "head = [4,5,6,7,8]\n",
    "val = 7"
   ]
  },
  {
   "cell_type": "code",
   "execution_count": 25,
   "id": "abaa5613-661c-4cbf-a3bf-a3b853c4c0bd",
   "metadata": {},
   "outputs": [
    {
     "ename": "AttributeError",
     "evalue": "'list' object has no attribute 'val'",
     "output_type": "error",
     "traceback": [
      "\u001b[0;31m---------------------------------------------------------------------------\u001b[0m",
      "\u001b[0;31mAttributeError\u001b[0m                            Traceback (most recent call last)",
      "Input \u001b[0;32mIn [25]\u001b[0m, in \u001b[0;36m<cell line: 1>\u001b[0;34m()\u001b[0m\n\u001b[0;32m----> 1\u001b[0m \u001b[43mremoveELement\u001b[49m\u001b[43m(\u001b[49m\u001b[43mhead\u001b[49m\u001b[43m,\u001b[49m\u001b[43m \u001b[49m\u001b[43mval\u001b[49m\u001b[43m)\u001b[49m\n",
      "Input \u001b[0;32mIn [14]\u001b[0m, in \u001b[0;36mremoveELement\u001b[0;34m(head, val)\u001b[0m\n\u001b[1;32m      7\u001b[0m cur \u001b[38;5;241m=\u001b[39m dummy_head\n\u001b[1;32m      8\u001b[0m \u001b[38;5;28;01mwhile\u001b[39;00m(cur\u001b[38;5;241m.\u001b[39mnext\u001b[38;5;241m!=\u001b[39m\u001b[38;5;28;01mNone\u001b[39;00m):\n\u001b[0;32m----> 9\u001b[0m     \u001b[38;5;28;01mif\u001b[39;00m(\u001b[43mcur\u001b[49m\u001b[38;5;241;43m.\u001b[39;49m\u001b[43mnext\u001b[49m\u001b[38;5;241;43m.\u001b[39;49m\u001b[43mval\u001b[49m \u001b[38;5;241m==\u001b[39m val):\n\u001b[1;32m     10\u001b[0m         cur\u001b[38;5;241m.\u001b[39mnext \u001b[38;5;241m=\u001b[39m cur\u001b[38;5;241m.\u001b[39mnext\u001b[38;5;241m.\u001b[39mnext \u001b[38;5;66;03m#删除cur.next节点\u001b[39;00m\n\u001b[1;32m     11\u001b[0m     \u001b[38;5;28;01melse\u001b[39;00m:\n",
      "\u001b[0;31mAttributeError\u001b[0m: 'list' object has no attribute 'val'"
     ]
    }
   ],
   "source": [
    "removeELement(head, val)"
   ]
  },
  {
   "cell_type": "code",
   "execution_count": null,
   "id": "522748fb-a212-4243-a78a-62023bbbd602",
   "metadata": {},
   "outputs": [],
   "source": []
  },
  {
   "cell_type": "code",
   "execution_count": null,
   "id": "e3043bc4-833a-4a7e-a613-93e11f434540",
   "metadata": {},
   "outputs": [],
   "source": []
  }
 ],
 "metadata": {
  "kernelspec": {
   "display_name": "Python 3 (ipykernel)",
   "language": "python",
   "name": "python3"
  },
  "language_info": {
   "codemirror_mode": {
    "name": "ipython",
    "version": 3
   },
   "file_extension": ".py",
   "mimetype": "text/x-python",
   "name": "python",
   "nbconvert_exporter": "python",
   "pygments_lexer": "ipython3",
   "version": "3.9.12"
  }
 },
 "nbformat": 4,
 "nbformat_minor": 5
}
