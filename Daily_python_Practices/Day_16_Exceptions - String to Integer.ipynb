{
 "cells": [
  {
   "cell_type": "markdown",
   "metadata": {},
   "source": [
    "Objective Today, we're getting started with Exceptions by learning how to parse an integer from a string and print a custom error message. Check out the Tutorial tab for learning materials and an instructional video!\n",
    "\n",
    "Task Read a string, , and print its integer value; if cannot be converted to an integer, print Bad String.\n",
    "\n",
    "Note: You must use the String-to-Integer and exception handling constructs built into your submission language. If you attempt to use loops/conditional statements, you will get a score.\n",
    "\n",
    "Input Format\n",
    "\n",
    "A single string, .\n",
    "\n",
    "Constraints\n",
    "\n",
    ", where is the length of string .\n",
    "is composed of either lowercase letters () or decimal digits ().\n",
    "\n",
    "Output Format\n",
    "\n",
    "Print the parsed integer value of , or Bad String if cannot be converted to an integer.\n",
    "\n",
    "Sample Input 0\n",
    "\n",
    "3\n",
    "\n",
    "Sample Output 0\n",
    "\n",
    "3\n",
    "\n",
    "Sample Input 1\n",
    "\n",
    "za\n",
    "\n",
    "Sample Output 1\n",
    "\n",
    "Bad String\n",
    "\n",
    "Explanation\n",
    "\n",
    "Sample Case contains an integer, so it should not raise an exception when we attempt to convert it to an integer. Thus, we print the . Sample Case does not contain any integers, so an attempt to convert it to an integer will raise an exception. Thus, our exception handler prints Bad String.\n",
    "\n",
    "https://www.hackerrank.com/challenges/30-exceptions-string-to-integer/problem"
   ]
  },
  {
   "cell_type": "code",
   "execution_count": 4,
   "metadata": {},
   "outputs": [
    {
     "name": "stdout",
     "output_type": "stream",
     "text": [
      "123\n",
      "123\n"
     ]
    }
   ],
   "source": [
    "S = input().strip()\n",
    "try:\n",
    "    print(int(S))\n",
    "except:\n",
    "    print(\"Bad String\")"
   ]
  },
  {
   "cell_type": "code",
   "execution_count": 5,
   "metadata": {},
   "outputs": [
    {
     "name": "stdout",
     "output_type": "stream",
     "text": [
      "za\n",
      "Bad String\n"
     ]
    }
   ],
   "source": [
    "S = input().strip()\n",
    "try:\n",
    "    print(int(S))\n",
    "except:\n",
    "    print(\"Bad String\")"
   ]
  },
  {
   "cell_type": "code",
   "execution_count": null,
   "metadata": {},
   "outputs": [],
   "source": []
  }
 ],
 "metadata": {
  "kernelspec": {
   "display_name": "Python 3",
   "language": "python",
   "name": "python3"
  },
  "language_info": {
   "codemirror_mode": {
    "name": "ipython",
    "version": 3
   },
   "file_extension": ".py",
   "mimetype": "text/x-python",
   "name": "python",
   "nbconvert_exporter": "python",
   "pygments_lexer": "ipython3",
   "version": "3.7.6"
  }
 },
 "nbformat": 4,
 "nbformat_minor": 4
}
