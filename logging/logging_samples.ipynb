{
 "cells": [
  {
   "cell_type": "code",
   "execution_count": 1,
   "metadata": {},
   "outputs": [],
   "source": [
    "import logging"
   ]
  },
  {
   "cell_type": "code",
   "execution_count": 6,
   "metadata": {},
   "outputs": [
    {
     "name": "stderr",
     "output_type": "stream",
     "text": [
      "WARNING:root:你好3\n",
      "ERROR:root:你好4\n",
      "CRITICAL:root:你好5\n"
     ]
    }
   ],
   "source": [
    "logging.debug(u'你好1')\n",
    "logging.info(u'你好2')\n",
    "logging.warning(u'你好3')\n",
    "logging.error(u'你好4')\n",
    "logging.critical(u'你好5')\n",
    "\n",
    "#上面可以看到只有后面三个能打印出来\n",
    "\n",
    "#默认生成的root logger的level是logging.WARNING,低于该级别的就不输出了\n",
    "\n",
    "#级别排序:CRITICAL > ERROR > WARNING > INFO > DEBUG"
   ]
  },
  {
   "cell_type": "code",
   "execution_count": 12,
   "metadata": {},
   "outputs": [],
   "source": [
    "import logging\n",
    "logging.basicConfig(level=logging.NOTSET) #設置日志級別"
   ]
  },
  {
   "cell_type": "code",
   "execution_count": 13,
   "metadata": {},
   "outputs": [],
   "source": [
    "logging.debug(u'如果设置了日志级别为NOTSET,那么这里可以采取debug、info的级别的内容也可以显示在控制台上了')"
   ]
  },
  {
   "cell_type": "code",
   "execution_count": 11,
   "metadata": {},
   "outputs": [],
   "source": [
    "logging.basicConfig(level=logging.INFO) \n",
    "logger = logging.getLogger(__name__)"
   ]
  },
  {
   "cell_type": "code",
   "execution_count": null,
   "metadata": {},
   "outputs": [],
   "source": []
  },
  {
   "cell_type": "code",
   "execution_count": null,
   "metadata": {},
   "outputs": [],
   "source": []
  },
  {
   "cell_type": "code",
   "execution_count": 14,
   "metadata": {},
   "outputs": [
    {
     "name": "stderr",
     "output_type": "stream",
     "text": [
      "WARNING:root:this is loggging a warning message\n",
      "ERROR:root:this is an loggging error message\n",
      "CRITICAL:root:this is a loggging critical message\n"
     ]
    }
   ],
   "source": [
    "import logging  # 引入logging模块\n",
    "logging.basicConfig(level=logging.DEBUG,\n",
    "                    format='%(asctime)s - %(filename)s[line:%(lineno)d] - %(levelname)s: %(message)s')  # logging.basicConfig函数对日志的输出格式及方式做相关配置\n",
    "# 由于日志基本配置中级别设置为DEBUG，所以一下打印信息将会全部显示在控制台上\n",
    "logging.info('this is a loggging info message')\n",
    "logging.debug('this is a loggging debug message')\n",
    "logging.warning('this is loggging a warning message')\n",
    "logging.error('this is an loggging error message')\n",
    "logging.critical('this is a loggging critical message')"
   ]
  },
  {
   "cell_type": "code",
   "execution_count": null,
   "metadata": {},
   "outputs": [],
   "source": []
  }
 ],
 "metadata": {
  "kernelspec": {
   "display_name": "Python 3",
   "language": "python",
   "name": "python3"
  },
  "language_info": {
   "codemirror_mode": {
    "name": "ipython",
    "version": 3
   },
   "file_extension": ".py",
   "mimetype": "text/x-python",
   "name": "python",
   "nbconvert_exporter": "python",
   "pygments_lexer": "ipython3",
   "version": "3.7.6"
  }
 },
 "nbformat": 4,
 "nbformat_minor": 4
}
