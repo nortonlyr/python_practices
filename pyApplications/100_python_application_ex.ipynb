{
 "cells": [
  {
   "cell_type": "markdown",
   "metadata": {},
   "source": [
    "**题目001**：\n",
    "\n",
    "有四个数字：1、2、3、4，能组成多少个互不相同且无重复数字的三位数？各是多少？"
   ]
  },
  {
   "cell_type": "code",
   "execution_count": 1,
   "metadata": {},
   "outputs": [
    {
     "name": "stdout",
     "output_type": "stream",
     "text": [
      "(24, [123, 124, 132, 134, 142, 143, 213, 214, 231, 234, 241, 243, 312, 314, 321, 324, 341, 342, 412, 413, 421, 423, 431, 432])\n"
     ]
    }
   ],
   "source": [
    "def ex_001():\n",
    "    array = []\n",
    "    for i in range(1,5):\n",
    "        for j in range(1,5):\n",
    "            for k  in range (1,5):\n",
    "                number = 100*i + 10*j + k\n",
    "                if i!=j and j!=k and i!=k and number not in array: # no repeat \n",
    "                    array.append(number)\n",
    "    return (len(array), array)\n",
    "\n",
    "print(ex_001())"
   ]
  },
  {
   "cell_type": "code",
   "execution_count": 4,
   "metadata": {},
   "outputs": [
    {
     "name": "stdout",
     "output_type": "stream",
     "text": [
      "(24, [123, 124, 132, 134, 142, 143, 213, 214, 231, 234, 241, 243, 312, 314, 321, 324, 341, 342, 412, 413, 421, 423, 431, 432])\n"
     ]
    }
   ],
   "source": [
    "# Method 2 - Use itertools\n",
    "import itertools\n",
    "\n",
    "def ex_001_2nd():\n",
    "    temp_arr = list(itertools.permutations([1,2,3,4], 3)) # A_4^3 = (4)!/(4-3)! = (4*3*2*1)/1 = 24\n",
    "    arr = [100*i[0] + 10*i[1] + i[2] for i in temp_arr]\n",
    "    return (len(arr), arr)\n",
    "\n",
    "print(ex_001_2nd())"
   ]
  },
  {
   "cell_type": "markdown",
   "metadata": {},
   "source": [
    "**题目002：**\n",
    "\n",
    "企业发放的奖金根据利润(I)的多少来提成：\n",
    "\n",
    "低于或等于10万元时，奖金可提10%；\n",
    "\n",
    "利润高于10万元，低于20万元时，低于10万元的部分按10%提成，高于10万元的部分，可提成7.5%；\n",
    "\n",
    "20万到40万之间时，高于20万元的部分，可提成5%；\n",
    "\n",
    "40万到60万之间时高于40万元的部分，可提成3%；\n",
    "\n",
    "60万到100万之间时，高于60万元的部分，可提成1.5%；\n",
    "\n",
    "高于100万元时，超过100万元的部分按1%提成。\n",
    "\n",
    "从键盘输入当月利润I，求应发放奖金总数？"
   ]
  },
  {
   "cell_type": "code",
   "execution_count": 11,
   "metadata": {},
   "outputs": [
    {
     "name": "stdout",
     "output_type": "stream",
     "text": [
      "净利潤: 210000\n",
      "18000.0\n"
     ]
    }
   ],
   "source": [
    "def ex_002():\n",
    "    '''\n",
    "    程序分析：请利用数轴来分界，定位。\n",
    "    【个人备注】：这种处理数轴问题的写法，值得参考。比elif的写法，简洁方便的多。\n",
    "    '''\n",
    "    profit = int(input('净利潤: '))\n",
    "    array = [1000000, 600000, 400000, 200000, 100000, 0]\n",
    "    rate = [0.01, 0.015, 0.03, 0.05, 0.075, 0.1]\n",
    "    bonus = 0\n",
    "    for i in range(len(array)):\n",
    "        if profit > array[i]:\n",
    "            bonus += (profit - array[i])*rate[i]\n",
    "            profit = array[i]\n",
    "    return bonus\n",
    "\n",
    "print(ex_002())"
   ]
  },
  {
   "cell_type": "markdown",
   "metadata": {},
   "source": [
    "**题目003**\n",
    "\n",
    "一个整数，它加上100后是一个完全平方数，再加上168又是一个完全平方数，请问该数是多少？"
   ]
  },
  {
   "cell_type": "code",
   "execution_count": 35,
   "metadata": {},
   "outputs": [
    {
     "name": "stdout",
     "output_type": "stream",
     "text": [
      "-100\n"
     ]
    }
   ],
   "source": [
    "import math\n",
    "def ex_003():\n",
    "    '''\n",
    "    【个人备注】：网站上是求了一下方程，没细看。\n",
    "    python又不是没有开方函数，直接按字面意思解了。\n",
    "    2019-8-20 感谢Xueyang_Liu指出取值区间问题，进行修改。满足题意的数值不止一个两个。\n",
    "    考虑到取值区间，根据题意：\n",
    "        一个整数（m）加上100后是一个完全平方数 => m+100>=0，所以m>=-100，m取值下限为-100;\n",
    "        两个完全平方数的差是168，由于y=x**2这样的二次函数的图象是开口向上的抛物线，\n",
    "        函数在x>0区间内单调递增，其导数可知两个相邻值y2-y1差值会越来越大 => (x+1)**2-x**2<=168，\n",
    "        得x<=83.5。由于m=x**2-100，所以大约是m<7000的样子。\n",
    "    这样整数m的取值范围可以限定为[-100,7000]\n",
    "    '''\n",
    "    for i in range(-100, 7000):\n",
    "        m = math.sqrt(i+100)\n",
    "        n = math.sqrt(i+100+168)\n",
    "        if m % 1 == 0 and n % 1 == 0:\n",
    "            return i\n",
    "print (ex_003())\n",
    "#最终会得到4个满足条件的整数: -99, 21, 261, 1581"
   ]
  },
  {
   "cell_type": "code",
   "execution_count": 37,
   "metadata": {},
   "outputs": [
    {
     "name": "stdout",
     "output_type": "stream",
     "text": [
      "[1581]\n"
     ]
    }
   ],
   "source": [
    "def ex_003_2nd():\n",
    "    '''\n",
    "    如果不想使用开方函数，也可以使用Xueyang_Liu的方法也行。根据之前的推论x<=83.5，所以实际取值范围可以写成x<84。\n",
    "    '''\n",
    "    arr = []\n",
    "    result = []\n",
    "    for i in range(84):\n",
    "        arr +=[i**2]\n",
    "    for elem in arr:\n",
    "        if elem + 168 in arr:\n",
    "            result = [elem - 100]\n",
    "    return result\n",
    "\n",
    "print(ex_003_2nd())"
   ]
  },
  {
   "cell_type": "markdown",
   "metadata": {},
   "source": [
    "**题目004：** \n",
    "\n",
    "输入某年某月某日，判断这一天是这一年的第几天？"
   ]
  },
  {
   "cell_type": "code",
   "execution_count": 40,
   "metadata": {},
   "outputs": [
    {
     "name": "stdout",
     "output_type": "stream",
     "text": [
      "enter date (eg, 2020-01-10): 2020-08-07\n",
      "220\n"
     ]
    }
   ],
   "source": [
    "def ex_004():\n",
    "    '''\n",
    "    【个人备注】：知道python有时间元组这一概念，这道题完全不需要计算。\n",
    "    时间元组包含九个属性\n",
    "    tm_year     年\n",
    "    tm_mon      月(1~12)\n",
    "    tm_mday     日(1~31)\n",
    "    tm_hour     时(0~23)\n",
    "    tm_min      分(0~59)\n",
    "    tm_sec      秒(0~61, 60或61是闰秒)\n",
    "    tm_wday     星期(0~6, 0是周一)\n",
    "    tm_yday     第几天(1~366, 366是儒略历)\n",
    "    tm_isdst    夏令时(平时用不到)\n",
    "    '''\n",
    "    import time\n",
    "    date = input('enter date (eg, 2020-01-10): ')\n",
    "    st = time.strptime(date, '%Y-%m-%d')\n",
    "    num = st.tm_yday\n",
    "    return num\n",
    "\n",
    "print(ex_004())"
   ]
  },
  {
   "cell_type": "code",
   "execution_count": null,
   "metadata": {},
   "outputs": [],
   "source": []
  }
 ],
 "metadata": {
  "kernelspec": {
   "display_name": "Python 3",
   "language": "python",
   "name": "python3"
  },
  "language_info": {
   "codemirror_mode": {
    "name": "ipython",
    "version": 3
   },
   "file_extension": ".py",
   "mimetype": "text/x-python",
   "name": "python",
   "nbconvert_exporter": "python",
   "pygments_lexer": "ipython3",
   "version": "3.7.6"
  }
 },
 "nbformat": 4,
 "nbformat_minor": 4
}
