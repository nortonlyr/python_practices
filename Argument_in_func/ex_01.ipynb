{
 "cells": [
  {
   "cell_type": "code",
   "execution_count": 10,
   "metadata": {},
   "outputs": [],
   "source": [
    "# reference: https://blog.csdn.net/sihai12345/article/details/87188413"
   ]
  },
  {
   "cell_type": "code",
   "execution_count": 5,
   "metadata": {},
   "outputs": [],
   "source": [
    "def test(*param, **param2):\n",
    "    print(param)\n",
    "    print(param2)\n",
    "\n",
    "#加一个*的不定长参数，会接收没有命名的实参，且会转为元祖tuple。\n",
    "#加两个*的不定长参数，会接受有命名的实参，且转化为字典dictionary。"
   ]
  },
  {
   "cell_type": "code",
   "execution_count": 6,
   "metadata": {},
   "outputs": [
    {
     "name": "stdout",
     "output_type": "stream",
     "text": [
      "('one', 'three', 'five')\n",
      "{'four': '4', 'six': '6'}\n"
     ]
    }
   ],
   "source": [
    "test('one', 'three', 'five', four='4', six='6')"
   ]
  },
  {
   "cell_type": "code",
   "execution_count": null,
   "metadata": {},
   "outputs": [],
   "source": []
  },
  {
   "cell_type": "code",
   "execution_count": 8,
   "metadata": {},
   "outputs": [
    {
     "name": "stdout",
     "output_type": "stream",
     "text": [
      "我是： 欧阳思海\n",
      "我： 18\n",
      "我是： 欧阳思海\n",
      "我： 15\n"
     ]
    }
   ],
   "source": [
    "# 定义函数：使用默认值 age=15\n",
    "def printName(name, age=15):\n",
    "    print('我是：', name)\n",
    "    print('我：', age)\n",
    "\n",
    "\n",
    "# 调用函数\n",
    "printName(age=18, name='欧阳思海')  # 名字跟形参对应，但是位置可以不对应\n",
    "printName(name='欧阳思海')  # age有默认值，不赋值，默认15"
   ]
  },
  {
   "cell_type": "code",
   "execution_count": null,
   "metadata": {},
   "outputs": [],
   "source": []
  },
  {
   "cell_type": "code",
   "execution_count": 9,
   "metadata": {},
   "outputs": [
    {
     "name": "stdout",
     "output_type": "stream",
     "text": [
      "我是： 欧阳思海\n",
      "我： 18\n"
     ]
    }
   ],
   "source": [
    "# 关键字参数 - 定义函数\n",
    "def printName(name, age):\n",
    "    print('我是：', name)\n",
    "    print('我：', age)\n",
    "\n",
    "\n",
    "# 调用函数\n",
    "printName(age=18, name='欧阳思海') # 名字跟形参对应，但是位置可以不对应"
   ]
  },
  {
   "cell_type": "code",
   "execution_count": 11,
   "metadata": {},
   "outputs": [
    {
     "name": "stdout",
     "output_type": "stream",
     "text": [
      "3\n"
     ]
    }
   ],
   "source": [
    "# 匿名函数 - lambda\n",
    "res = lambda a, b: a + b\n",
    "\n",
    "print(res(1, 2)) # 输出3"
   ]
  },
  {
   "cell_type": "code",
   "execution_count": 12,
   "metadata": {},
   "outputs": [],
   "source": [
    "# 高阶函数\n",
    "#map()函数接收两个参数，一个是函数，一个是序列，map将传入的函数依次作用到序列的每个元素，并把结果作为新的list返回。\n",
    "#举例说明，比如我们有一个函数f(x)=x2，要把这个函数作用在一个list [1, 2, 3, 4, 5, 6, 7, 8, 9]上，就可以用map()实现如下\n",
    "\n",
    "def f(x):\n",
    "    return x*x\n"
   ]
  },
  {
   "cell_type": "code",
   "execution_count": 16,
   "metadata": {},
   "outputs": [],
   "source": [
    "my_map = map(f, [1,2,3,4,5,6])"
   ]
  },
  {
   "cell_type": "code",
   "execution_count": 17,
   "metadata": {},
   "outputs": [
    {
     "data": {
      "text/plain": [
       "<map at 0x1a12785e188>"
      ]
     },
     "execution_count": 17,
     "metadata": {},
     "output_type": "execute_result"
    }
   ],
   "source": [
    "my_map"
   ]
  },
  {
   "cell_type": "code",
   "execution_count": null,
   "metadata": {},
   "outputs": [],
   "source": []
  }
 ],
 "metadata": {
  "kernelspec": {
   "display_name": "Python 3",
   "language": "python",
   "name": "python3"
  },
  "language_info": {
   "codemirror_mode": {
    "name": "ipython",
    "version": 3
   },
   "file_extension": ".py",
   "mimetype": "text/x-python",
   "name": "python",
   "nbconvert_exporter": "python",
   "pygments_lexer": "ipython3",
   "version": "3.7.6"
  }
 },
 "nbformat": 4,
 "nbformat_minor": 4
}
