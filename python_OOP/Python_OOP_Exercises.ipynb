{
 "cells": [
  {
   "cell_type": "markdown",
   "metadata": {},
   "source": [
    "refernece: https://www.twblogs.net/a/5caffc3bbd9eee48d7884091"
   ]
  },
  {
   "cell_type": "code",
   "execution_count": 8,
   "metadata": {},
   "outputs": [
    {
     "name": "stdout",
     "output_type": "stream",
     "text": [
      "name:\n",
      "age:0\n"
     ]
    }
   ],
   "source": [
    "class Student():\n",
    "    name = ''\n",
    "    age = 0\n",
    "\n",
    "    def print_file(self):\n",
    "        print('name:' + self.name)\n",
    "        print('age:' + str(self.age))\n",
    "    \n",
    "student = Student()\n",
    "student.print_file()"
   ]
  },
  {
   "cell_type": "code",
   "execution_count": 9,
   "metadata": {},
   "outputs": [
    {
     "name": "stdout",
     "output_type": "stream",
     "text": [
      "<__main__.Cat object at 0x000001A8E24BDC48>\n"
     ]
    }
   ],
   "source": [
    "class Cat():\n",
    "    def eat(self,name):\n",
    "        self.name = name\n",
    "        print('%s love eating fish' %self.name)\n",
    "        \n",
    "    def drink(self):\n",
    "        print('Cat drinks water')\n",
    "        \n",
    "tom = Cat()\n",
    "tom.name = 'Tom'\n",
    "print(tom)"
   ]
  },
  {
   "cell_type": "code",
   "execution_count": 10,
   "metadata": {},
   "outputs": [
    {
     "data": {
      "text/plain": [
       "<__main__.Cat at 0x1a8e24bdc48>"
      ]
     },
     "execution_count": 10,
     "metadata": {},
     "output_type": "execute_result"
    }
   ],
   "source": [
    "tom"
   ]
  },
  {
   "cell_type": "code",
   "execution_count": 15,
   "metadata": {},
   "outputs": [
    {
     "name": "stdout",
     "output_type": "stream",
     "text": [
      "student\n",
      "Mr. Chen\n",
      "30\n"
     ]
    }
   ],
   "source": [
    "class Student():\n",
    "    name = ''\n",
    "    age = 0\n",
    "    \n",
    "    def __init__(self, name, age):\n",
    "        self.name = name\n",
    "        self.age = age\n",
    "        print('student')\n",
    "    \n",
    "    def do_homework(self):\n",
    "        print('homework')\n",
    "\n",
    "student1 = Student(\"Mr. Chen\", 30)\n",
    "print(student1.name)\n",
    "print(student1.age)"
   ]
  },
  {
   "cell_type": "code",
   "execution_count": 18,
   "metadata": {},
   "outputs": [
    {
     "name": "stdout",
     "output_type": "stream",
     "text": [
      "這是 旺財\n"
     ]
    }
   ],
   "source": [
    "class Dog():\n",
    "    \n",
    "    def __init__(self, name):\n",
    "        self.name = name\n",
    "        \n",
    "    def __str__(self):\n",
    "        #必須返回一個數字\n",
    "        return '這是 %s' %(self.name)\n",
    "    \n",
    "dog1 = Dog('旺財')\n",
    "print(dog1)"
   ]
  },
  {
   "cell_type": "code",
   "execution_count": 23,
   "metadata": {},
   "outputs": [
    {
     "data": {
      "text/plain": [
       "True"
      ]
     },
     "execution_count": 23,
     "metadata": {},
     "output_type": "execute_result"
    }
   ],
   "source": [
    "class Stack():\n",
    "    \n",
    "    def __init__(self):\n",
    "        self.stack = []\n",
    "    \n",
    "    def push(self, value):\n",
    "        self.stack.append(value)\n",
    "        return True\n",
    "    \n",
    "    def pop(self):\n",
    "        #先判斷棧是否爲空\n",
    "        if self.stack:\n",
    "            item = self.stack.pop()\n",
    "            return item\n",
    "        else:\n",
    "            return False\n",
    "        \n",
    "    def top(self):\n",
    "        if self.stack:\n",
    "            return self.stack[-1]\n",
    "        else:\n",
    "            return False\n",
    "        \n",
    "    def length(self):\n",
    "        return len(self.stack)\n",
    "    \n",
    "    def view(self):\n",
    "        return ','.join(self.stack)\n",
    "    \n",
    "s = Stack()\n",
    "s.push('1')\n",
    "s.push('2')\n"
   ]
  },
  {
   "cell_type": "code",
   "execution_count": 26,
   "metadata": {},
   "outputs": [
    {
     "name": "stdout",
     "output_type": "stream",
     "text": [
      "hk 愛吃魚\n",
      "hk 要喝水\n",
      "tom 愛吃魚\n",
      "tom 要喝水\n"
     ]
    }
   ],
   "source": [
    "class Cat():\n",
    "    def __init__(self, new_name):\n",
    "        #print('這是一個初始化方法')\n",
    "        self.name = new_name\n",
    "    # self.name 在類中的任何方法中都可以使用\n",
    "    \n",
    "    def eat(self):\n",
    "        print('%s 愛吃魚' %(self.name))\n",
    "        \n",
    "    def drink(self):\n",
    "        print('%s 要喝水' %(self.name))\n",
    "\n",
    "#使用類名()創建對象的時候，會自動調用初始化方法__init__\n",
    "hello_kitty = Cat('hk')\n",
    "hello_kitty.eat()\n",
    "hello_kitty.drink()\n",
    "tom = Cat('tom')\n",
    "tom.eat()\n",
    "tom.drink()"
   ]
  },
  {
   "cell_type": "code",
   "execution_count": null,
   "metadata": {},
   "outputs": [],
   "source": [
    "#三種方法\n",
    "\n",
    "# 1. __del__\n",
    "# 2. __str__\n",
    "# 3. _del__\n",
    "\n",
    "'''\n",
    "在python中\n",
    "當使用類名()創建對象時，爲對象分配完空間後，自動調用__init__方法\n",
    "當一個對象被從內存中銷燬前(把這個對象從內存中刪除掉)，會自動調用__del__方法\n",
    "應用場景\n",
    "__init__改造初始化方法，可以讓創建對象更加靈活\n",
    "__del__如果希望在對象被銷燬前，再做一些事情，可以考慮一下__del__方法\n",
    "\n",
    "'''"
   ]
  },
  {
   "cell_type": "code",
   "execution_count": 36,
   "metadata": {},
   "outputs": [
    {
     "name": "stdout",
     "output_type": "stream",
     "text": [
      "tom 來了\n",
      "tom\n",
      "**************************************************\n"
     ]
    },
    {
     "name": "stderr",
     "output_type": "stream",
     "text": [
      "Exception ignored in: <function Cat.__del__ at 0x000001A8E25191F8>\n",
      "Traceback (most recent call last):\n",
      "  File \"<ipython-input-36-d8025fddf32e>\", line 7, in __del__\n",
      "ValueError: unsupported format character 'S' (0x53) at index 1\n"
     ]
    },
    {
     "ename": "NameError",
     "evalue": "name 'tom' is not defined",
     "output_type": "error",
     "traceback": [
      "\u001b[1;31m---------------------------------------------------------------------------\u001b[0m",
      "\u001b[1;31mNameError\u001b[0m                                 Traceback (most recent call last)",
      "\u001b[1;32m<ipython-input-36-d8025fddf32e>\u001b[0m in \u001b[0;36m<module>\u001b[1;34m\u001b[0m\n\u001b[0;32m     11\u001b[0m \u001b[1;32mdel\u001b[0m \u001b[0mtom\u001b[0m\u001b[1;33m\u001b[0m\u001b[1;33m\u001b[0m\u001b[0m\n\u001b[0;32m     12\u001b[0m \u001b[0mprint\u001b[0m\u001b[1;33m(\u001b[0m\u001b[1;34m'*'\u001b[0m \u001b[1;33m*\u001b[0m\u001b[1;36m50\u001b[0m\u001b[1;33m)\u001b[0m\u001b[1;33m\u001b[0m\u001b[1;33m\u001b[0m\u001b[0m\n\u001b[1;32m---> 13\u001b[1;33m \u001b[0mprint\u001b[0m\u001b[1;33m(\u001b[0m\u001b[0mtom\u001b[0m\u001b[1;33m.\u001b[0m\u001b[0mname\u001b[0m\u001b[1;33m)\u001b[0m\u001b[1;33m\u001b[0m\u001b[1;33m\u001b[0m\u001b[0m\n\u001b[0m",
      "\u001b[1;31mNameError\u001b[0m: name 'tom' is not defined"
     ]
    }
   ],
   "source": [
    "class Cat():\n",
    "    def __init__(self, name):\n",
    "        self.name = name\n",
    "        print('%s 來了' %(self.name))\n",
    "    \n",
    "    def __del__(self):\n",
    "        print('%S 走了' %(self.name))\n",
    "        \n",
    "tom = Cat('tom')\n",
    "print(tom.name)\n",
    "del tom\n",
    "print('*' *50)\n",
    "print(tom.name)"
   ]
  },
  {
   "cell_type": "markdown",
   "metadata": {},
   "source": [
    "練習一\n",
    "\n",
    "需求：\n",
    "\n",
    "1.房子有戶型，總面積和傢俱名稱列表\n",
    "新房子沒有任何的傢俱\n",
    "\n",
    "2.傢俱有名字和佔地面積，其中\n",
    "牀：佔4平米\n",
    "衣櫃：佔2平米\n",
    "餐桌：佔1.5平米\n",
    "\n",
    "3.將以上三件傢俱添加到房子中\n",
    "\n",
    "4.打印房子時，要求輸出:戶型，總面積，剩餘面積，傢俱名稱列表"
   ]
  },
  {
   "cell_type": "code",
   "execution_count": 41,
   "metadata": {},
   "outputs": [
    {
     "name": "stdout",
     "output_type": "stream",
     "text": [
      "[bed]佔地: 4.00\n",
      "[closet]佔地: 200.00\n",
      "[table]佔地: 1.50\n",
      "戶型: 獨門獨棟\n",
      "總面積: 400.00,[剩餘面積: 194.50]\n",
      "傢俱:['bed', 'closet', 'table']\n"
     ]
    }
   ],
   "source": [
    "class Furniture():\n",
    "    \n",
    "    def __init__(self, name, area):\n",
    "        self.name = name\n",
    "        self.area = area\n",
    "    \n",
    "    def __str__(self):\n",
    "        return '[%s]佔地: %.2f' %(self.name, self.area)\n",
    "    \n",
    "\n",
    "class House():\n",
    "    \n",
    "    def __init__(self, house_type, area):\n",
    "        self.house_type = house_type\n",
    "        self.area = area\n",
    "        #剩餘面積\n",
    "        self.free_area = area\n",
    "        self.item_list = []\n",
    "    \n",
    "    def __str__(self):\n",
    "        return ('戶型: %s\\n總面積: %.2f,[剩餘面積: %.2f]\\n傢俱:%s' \n",
    "                %(self.house_type, self.area, self.free_area, self.item_list))\n",
    "    \n",
    "    def add_item(self, item):\n",
    "        #1.判斷傢俱的面積\n",
    "        if item.area > self.free_area:\n",
    "            print('%s 的面積太大， 無法添加' %item.name)\n",
    "            \n",
    "        #2.添加傢俱\n",
    "        self.item_list.append(item.name)\n",
    "        \n",
    "        #3.計算剩餘面積\n",
    "        self.free_area -= item.area\n",
    "        \n",
    "        \n",
    "bed = Furniture('bed', 4)\n",
    "print(bed)\n",
    "closet = Furniture('closet', 200)\n",
    "print(closet)\n",
    "table = Furniture('table', 1.5)\n",
    "print(table)\n",
    "\n",
    "my_house = House('獨門獨棟', 400)\n",
    "my_house.add_item(bed)\n",
    "my_house.add_item(closet)\n",
    "my_house.add_item(table)\n",
    "print(my_house)"
   ]
  },
  {
   "cell_type": "markdown",
   "metadata": {},
   "source": [
    "練習二\n",
    "\n",
    "1.士兵瑞恩有一把AK47\n",
    "\n",
    "2.士兵可以開火(士兵開火扣動的是扳機)\n",
    "\n",
    "3.槍 能夠 發射子彈(把子彈發射出去)\n",
    "\n",
    "4.槍 能夠 裝填子彈 --增加子彈的數量\n"
   ]
  },
  {
   "cell_type": "code",
   "execution_count": 54,
   "metadata": {},
   "outputs": [
    {
     "name": "stdout",
     "output_type": "stream",
     "text": [
      "ak47 ... 19\n",
      "ak47 ... 23\n"
     ]
    }
   ],
   "source": [
    "class Gun():\n",
    "    \n",
    "    def __init__(self, model):\n",
    "        self.model = model\n",
    "        self.bullet_count = 0\n",
    "        \n",
    "    def add_bullet(self,count):\n",
    "        self.bullet_count += count\n",
    "        \n",
    "    def shoot(self):\n",
    "        if self.bullet_count <= 0:\n",
    "            print('%s沒有子彈了...' %self.model)\n",
    "            \n",
    "        self.bullet_count -= 1\n",
    "        print('%s ... %s' %(self.model, self.bullet_count))\n",
    "        \n",
    "\n",
    "class Soldier():\n",
    "    \n",
    "    def __init__(self, name):\n",
    "        self.game = name\n",
    "        self.gun = None\n",
    "    \n",
    "    def fire(self):\n",
    "        if self.gun == None:\n",
    "            print('%s還沒槍...' %self.name)\n",
    "\n",
    "        self.gun.add_bullet(5)\n",
    "        self.gun.shoot()\n",
    "\n",
    "ak47 = Gun('ak47')\n",
    "ak47.add_bullet(20)\n",
    "ak47.shoot()\n",
    "\n",
    "ryan = Soldier('Ryan')\n",
    "ryan.gun = ak47\n",
    "ryan.fire()"
   ]
  },
  {
   "cell_type": "code",
   "execution_count": null,
   "metadata": {},
   "outputs": [],
   "source": []
  }
 ],
 "metadata": {
  "kernelspec": {
   "display_name": "Python 3",
   "language": "python",
   "name": "python3"
  },
  "language_info": {
   "codemirror_mode": {
    "name": "ipython",
    "version": 3
   },
   "file_extension": ".py",
   "mimetype": "text/x-python",
   "name": "python",
   "nbconvert_exporter": "python",
   "pygments_lexer": "ipython3",
   "version": "3.7.6"
  }
 },
 "nbformat": 4,
 "nbformat_minor": 4
}
