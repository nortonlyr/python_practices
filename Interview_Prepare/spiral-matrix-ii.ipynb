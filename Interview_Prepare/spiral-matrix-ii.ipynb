{
 "cells": [
  {
   "cell_type": "code",
   "execution_count": 1,
   "id": "ce7fd2bc-c975-490f-ab31-7e30977715b7",
   "metadata": {},
   "outputs": [],
   "source": [
    "# 给定一个正整数 n，生成一个包含 1 到 n^2 所有元素，且元素按顺时针顺序螺旋排列的正方形矩阵。\n",
    "\n",
    "#示例:\n",
    "\n",
    "#输入: 3 输出: [ [ 1, 2, 3 ], [ 8, 9, 4 ], [ 7, 6, 5 ] ]"
   ]
  },
  {
   "cell_type": "code",
   "execution_count": null,
   "id": "b79bec39-6905-4dbd-a515-dda5071fca68",
   "metadata": {},
   "outputs": [],
   "source": []
  },
  {
   "cell_type": "code",
   "execution_count": 16,
   "id": "15249ecd-00ad-4409-8a34-5ed87b4d85fb",
   "metadata": {},
   "outputs": [],
   "source": [
    "def generateMatrix(n): # -> List[List[int]]\n",
    "    nums = [[0]*n for _ in range(n)]\n",
    "    x_start, y_start = 0, 0  # staring point\n",
    "    loop, mid = n//2, n//2 # 迭代次数，n为奇数时候，矩阵的中心点\n",
    "    count = 1             # 计数\n",
    "    for offset in range(1, loop + 1): #没循环一层偏移量+1， 偏移量从1开始\n",
    "        for i in range(y_start, n - offset):  #从左到右， 左闭右开\n",
    "            nums[x_start][i] = count\n",
    "            count += 1\n",
    "        for i in range(x_start, n - offset): # 从上到下\n",
    "            nums[i][n - offset] = count\n",
    "            count += 1\n",
    "        for i in range(n-offset, y_start, -1): # 从右到左\n",
    "            nums[n-offset][i] = count\n",
    "            count += 1\n",
    "        for i in range(n -offset, x_start, -1): # 从下到上\n",
    "            nums[i][y_start] = count\n",
    "            count += 1\n",
    "        x_start += 1 #更新起始点\n",
    "        y_start += 1\n",
    "        \n",
    "    if n% 2 != 0:   # n为奇数时，填充中心点ß\n",
    "        nums[mid][mid] = count\n",
    "    return nums"
   ]
  },
  {
   "cell_type": "code",
   "execution_count": 17,
   "id": "aa952b7a-41d7-4b36-8854-d3a461a7ecec",
   "metadata": {},
   "outputs": [
    {
     "data": {
      "text/plain": [
       "[[1, 2, 3], [8, 9, 4], [7, 6, 5]]"
      ]
     },
     "execution_count": 17,
     "metadata": {},
     "output_type": "execute_result"
    }
   ],
   "source": [
    "generateMatrix(3)"
   ]
  },
  {
   "cell_type": "code",
   "execution_count": 18,
   "id": "f67f5080-4621-4b2e-999c-748b480f27f7",
   "metadata": {},
   "outputs": [
    {
     "data": {
      "text/plain": [
       "[[1, 2, 3, 4], [12, 13, 14, 5], [11, 16, 15, 6], [10, 9, 8, 7]]"
      ]
     },
     "execution_count": 18,
     "metadata": {},
     "output_type": "execute_result"
    }
   ],
   "source": [
    "generateMatrix(4)"
   ]
  },
  {
   "cell_type": "code",
   "execution_count": null,
   "id": "ef7f72c6-9b42-4f9e-ac82-08adc322827a",
   "metadata": {},
   "outputs": [],
   "source": []
  },
  {
   "cell_type": "code",
   "execution_count": null,
   "id": "2a73d0ef-af56-4bc8-afff-588127e685af",
   "metadata": {},
   "outputs": [],
   "source": []
  },
  {
   "cell_type": "code",
   "execution_count": null,
   "id": "3418b61a-eb1e-4bb6-b335-72dbc856fbf4",
   "metadata": {},
   "outputs": [],
   "source": []
  },
  {
   "cell_type": "code",
   "execution_count": null,
   "id": "16f77121-5c1c-439d-883a-ca56558e297c",
   "metadata": {},
   "outputs": [],
   "source": []
  }
 ],
 "metadata": {
  "kernelspec": {
   "display_name": "Python 3 (ipykernel)",
   "language": "python",
   "name": "python3"
  },
  "language_info": {
   "codemirror_mode": {
    "name": "ipython",
    "version": 3
   },
   "file_extension": ".py",
   "mimetype": "text/x-python",
   "name": "python",
   "nbconvert_exporter": "python",
   "pygments_lexer": "ipython3",
   "version": "3.9.12"
  }
 },
 "nbformat": 4,
 "nbformat_minor": 5
}
