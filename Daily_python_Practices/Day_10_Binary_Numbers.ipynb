{
 "cells": [
  {
   "cell_type": "markdown",
   "metadata": {},
   "source": [
    "Objective Today, we're working with binary numbers. Check out the Tutorial tab for learning materials and an instructional video!\n",
    "\n",
    "Task Given a base- integer, , convert it to binary (base-). Then find and print the base- integer denoting the maximum number of consecutive 's in 's binary representation.\n",
    "\n",
    "**Input Format**\n",
    "\n",
    "A single integer, .\n",
    "Constraints\n",
    "Output Format\n",
    "Print a single base- integer denoting the maximum number of consecutive 's in the binary representation of .\n",
    "\n",
    "**Sample Input 1**\n",
    "\n",
    "5\n",
    "\n",
    "**Sample Output 1**\n",
    "\n",
    "1\n",
    "\n",
    "**Sample Input 2**\n",
    "\n",
    "13\n",
    "\n",
    "**Sample Output 2**\n",
    "\n",
    "2\n",
    "\n",
    "Explanation\n",
    "Sample Case 1: The binary representation of is , so the maximum number of consecutive 's is .\n",
    "\n",
    "Sample Case 2: The binary representation of is , so the maximum number of consecutive 's is .\n",
    "\n",
    "https://www.hackerrank.com/challenges/30-binary-numbers/problem"
   ]
  },
  {
   "cell_type": "code",
   "execution_count": 2,
   "metadata": {},
   "outputs": [
    {
     "name": "stdout",
     "output_type": "stream",
     "text": [
      "65535\n",
      "16\n"
     ]
    }
   ],
   "source": [
    "import sys\n",
    "\n",
    "n = int(input().strip())\n",
    "n = bin(n)[2:]\n",
    "\n",
    "for i in range(1, len(n)+2):\n",
    "    if n.find('1'*i) >=0:\n",
    "        continue\n",
    "    else:\n",
    "        print(i-1)\n",
    "        break"
   ]
  },
  {
   "cell_type": "code",
   "execution_count": 3,
   "metadata": {},
   "outputs": [
    {
     "name": "stdout",
     "output_type": "stream",
     "text": [
      "65535\n",
      "16\n"
     ]
    }
   ],
   "source": [
    "import sys\n",
    "\n",
    "n = int(input().strip())\n",
    "print(len(max(bin(n)[2:].split('0'))))"
   ]
  },
  {
   "cell_type": "code",
   "execution_count": null,
   "metadata": {},
   "outputs": [],
   "source": []
  }
 ],
 "metadata": {
  "kernelspec": {
   "display_name": "Python 3",
   "language": "python",
   "name": "python3"
  },
  "language_info": {
   "codemirror_mode": {
    "name": "ipython",
    "version": 3
   },
   "file_extension": ".py",
   "mimetype": "text/x-python",
   "name": "python",
   "nbconvert_exporter": "python",
   "pygments_lexer": "ipython3",
   "version": "3.7.6"
  }
 },
 "nbformat": 4,
 "nbformat_minor": 4
}
