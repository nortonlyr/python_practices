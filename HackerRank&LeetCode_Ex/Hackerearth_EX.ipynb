{
 "cells": [
  {
   "cell_type": "code",
   "execution_count": 3,
   "metadata": {},
   "outputs": [
    {
     "name": "stdout",
     "output_type": "stream",
     "text": [
      "1\n",
      "abc\n",
      "cde\n",
      "4\n"
     ]
    }
   ],
   "source": [
    "'''\n",
    "# Sample code to perform I/O:\n",
    "\n",
    "name = input()                  # Reading input from STDIN\n",
    "print('Hi, %s.' % name)         # Writing output to STDOUT\n",
    "\n",
    "# Warning: Printing unwanted or ill-formatted data to output will cause the test cases to fail\n",
    "'''\n",
    "\n",
    "from collections import Counter\n",
    "\n",
    "for test_cases in range(int(input())):\n",
    "    s1 = list(input())\n",
    "    s2 = list(input())\n",
    "\n",
    "    x = Counter(s1)\n",
    "    y = Counter(s2)\n",
    "    x.subtract(y)\n",
    "\n",
    "    print(sum(abs(i) for i in x.values()))"
   ]
  },
  {
   "cell_type": "code",
   "execution_count": null,
   "metadata": {},
   "outputs": [],
   "source": []
  },
  {
   "cell_type": "code",
   "execution_count": null,
   "metadata": {},
   "outputs": [],
   "source": []
  }
 ],
 "metadata": {
  "kernelspec": {
   "display_name": "Python 3",
   "language": "python",
   "name": "python3"
  },
  "language_info": {
   "codemirror_mode": {
    "name": "ipython",
    "version": 3
   },
   "file_extension": ".py",
   "mimetype": "text/x-python",
   "name": "python",
   "nbconvert_exporter": "python",
   "pygments_lexer": "ipython3",
   "version": "3.7.6"
  }
 },
 "nbformat": 4,
 "nbformat_minor": 4
}
