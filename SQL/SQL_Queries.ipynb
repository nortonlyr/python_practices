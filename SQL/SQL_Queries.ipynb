{
 "cells": [
  {
   "cell_type": "markdown",
   "id": "8c12b6cb-d4cf-4df9-a15f-80fddb042c99",
   "metadata": {},
   "source": [
    "SQL Lesson 17: Altering tables\n",
    "\n",
    "ALTER TABLE mytable\n",
    "\n",
    "ADD column DataType OptionalTableConstraint \n",
    "    DEFAULT default_value;"
   ]
  },
  {
   "cell_type": "markdown",
   "id": "22be4a35-fbbf-4bcb-98c8-d0c24ebc47ec",
   "metadata": {},
   "source": [
    "ALTER TABLE mytable\n",
    "\n",
    "DROP column_to_be_deleted;"
   ]
  },
  {
   "cell_type": "code",
   "execution_count": 2,
   "id": "b980e4b5-3552-4924-82a5-81c3e3a2bee9",
   "metadata": {},
   "outputs": [],
   "source": [
    "# ALTER TABLE mytable\n",
    "# ADD column DataType OptionalTableConstraint \n",
    "    # DEFAULT default_value;"
   ]
  },
  {
   "cell_type": "code",
   "execution_count": null,
   "id": "cea5fa4a-1620-47fd-b256-10d7eb7005bd",
   "metadata": {},
   "outputs": [],
   "source": [
    "# FROM sales_associates\n",
    "# WHERE salary > \n",
    " #  (SELECT AVG(revenue_generated)\n",
    " #  FROM sales_associates);"
   ]
  },
  {
   "cell_type": "code",
   "execution_count": null,
   "id": "e78ee8b8-b1ef-4424-96a8-d6b734649e25",
   "metadata": {},
   "outputs": [],
   "source": []
  },
  {
   "cell_type": "code",
   "execution_count": 3,
   "id": "baa906e2-70ae-44da-90b9-855c238441b7",
   "metadata": {},
   "outputs": [],
   "source": [
    "# https://www.sqlservertutorial.net/sql-server-sample-database/"
   ]
  },
  {
   "cell_type": "code",
   "execution_count": null,
   "id": "c1cac666-4c16-4027-b8f9-517510dffabe",
   "metadata": {},
   "outputs": [],
   "source": []
  },
  {
   "cell_type": "code",
   "execution_count": null,
   "id": "66821739-a4e0-412b-bb16-7690be681211",
   "metadata": {},
   "outputs": [],
   "source": [
    "CREATE TABLE sales.stores (\n",
    "    store_id INT IDENTITY (1, 1) PRIMARY KEY,\n",
    "    store_name VARCHAR (255) NOT NULL,\n",
    "    phone VARCHAR (25),\n",
    "    email VARCHAR (255),\n",
    "    street VARCHAR (255),\n",
    "    city VARCHAR (255),\n",
    "    state VARCHAR (10),\n",
    "    zip_code VARCHAR (5)\n",
    ");"
   ]
  },
  {
   "cell_type": "code",
   "execution_count": null,
   "id": "312d1cc4-83d5-437f-abe6-4b29b1bb0617",
   "metadata": {},
   "outputs": [],
   "source": [
    "CREATE TABLE sales.staffs (\n",
    "    staff_id INT IDENTITY (1, 1) PRIMARY KEY,\n",
    "    first_name VARCHAR (50) NOT NULL,\n",
    "    last_name VARCHAR (50) NOT NULL,\n",
    "    email VARCHAR (255) NOT NULL UNIQUE,\n",
    "    phone VARCHAR (25),\n",
    "    active tinyint NOT NULL,\n",
    "    store_id INT NOT NULL,\n",
    "    manager_id INT,\n",
    "    FOREIGN KEY (store_id) \n",
    "        REFERENCES sales.stores (store_id) \n",
    "        ON DELETE CASCADE ON UPDATE CASCADE,\n",
    "    FOREIGN KEY (manager_id) \n",
    "        REFERENCES sales.staffs (staff_id) \n",
    "        ON DELETE NO ACTION ON UPDATE NO ACTION\n",
    ");"
   ]
  },
  {
   "cell_type": "code",
   "execution_count": null,
   "id": "969004f1-a979-478a-98fc-c8a75fc722c9",
   "metadata": {},
   "outputs": [],
   "source": []
  },
  {
   "cell_type": "code",
   "execution_count": null,
   "id": "78216026-a5be-4eaa-88bd-2de1e18f1f61",
   "metadata": {},
   "outputs": [],
   "source": []
  },
  {
   "cell_type": "code",
   "execution_count": null,
   "id": "76ad7fd7-1f1c-4df7-a7e0-067307e12dc8",
   "metadata": {},
   "outputs": [],
   "source": []
  },
  {
   "cell_type": "code",
   "execution_count": null,
   "id": "132d9a49-7653-4fdb-bf61-1944a91ec9a7",
   "metadata": {},
   "outputs": [],
   "source": [
    "https://www.softwaretestinghelp.com/data-warehouse-modeling-star-schema-snowflake-schema/"
   ]
  },
  {
   "cell_type": "code",
   "execution_count": 5,
   "id": "26bcb48f-a465-476a-aeee-b9e80d0735cc",
   "metadata": {},
   "outputs": [],
   "source": [
    "# Example of star Schema "
   ]
  },
  {
   "cell_type": "code",
   "execution_count": null,
   "id": "d12c51e2-6ba1-4454-ac79-44cd4fb6f440",
   "metadata": {},
   "outputs": [],
   "source": []
  },
  {
   "cell_type": "code",
   "execution_count": null,
   "id": "05b7dcda-a45c-487d-af69-822c6c7eff1a",
   "metadata": {},
   "outputs": [],
   "source": []
  },
  {
   "cell_type": "code",
   "execution_count": null,
   "id": "11b98024-ccdd-4757-b9d8-6c44b59caa33",
   "metadata": {},
   "outputs": [],
   "source": []
  }
 ],
 "metadata": {
  "kernelspec": {
   "display_name": "Python 3 (ipykernel)",
   "language": "python",
   "name": "python3"
  },
  "language_info": {
   "codemirror_mode": {
    "name": "ipython",
    "version": 3
   },
   "file_extension": ".py",
   "mimetype": "text/x-python",
   "name": "python",
   "nbconvert_exporter": "python",
   "pygments_lexer": "ipython3",
   "version": "3.9.12"
  }
 },
 "nbformat": 4,
 "nbformat_minor": 5
}
