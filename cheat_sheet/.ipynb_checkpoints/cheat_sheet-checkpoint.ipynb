{
 "cells": [
  {
   "cell_type": "markdown",
   "id": "d4dd82c9",
   "metadata": {},
   "source": [
    "#### Note: This notebook is built to be a quick reference/cheetsheet notebook. Many cells are not meant to run, but for checking documentations using shift+tab. For more details or examples, check the links that point to the detailed documentation. A commented cell is left in each package sections for the convenience of checking available method/attribute of the class object."
   ]
  },
  {
   "cell_type": "markdown",
   "id": "6ee11a8e",
   "metadata": {},
   "source": [
    "refernce:https://github.com/liyadi81/Practice/blob/master/my%20notebook/cheat%20sheet/Yadi's%20Python%20Notebook.ipynb"
   ]
  },
  {
   "cell_type": "markdown",
   "id": "8f7bd89e",
   "metadata": {},
   "source": [
    "### 1. Basics: datatypes, opertions"
   ]
  },
  {
   "cell_type": "markdown",
   "id": "48489a7a",
   "metadata": {},
   "source": [
    "##### 1.1 Numeric tyoe: int, float, complex"
   ]
  },
  {
   "cell_type": "code",
   "execution_count": null,
   "id": "57f5a84d",
   "metadata": {},
   "outputs": [],
   "source": [
    "int()\n",
    "float()\n",
    "complex()\n",
    "abs()\n",
    "divmod()\n",
    "pow()\n",
    "round()"
   ]
  },
  {
   "cell_type": "markdown",
   "id": "31628548",
   "metadata": {},
   "source": [
    "##### 1.2 String"
   ]
  },
  {
   "cell_type": "code",
   "execution_count": null,
   "id": "0a621136",
   "metadata": {},
   "outputs": [],
   "source": [
    "str()\n",
    "str()+str()\n",
    "str()*n\n",
    "str[:]\n",
    "str[::-1]"
   ]
  },
  {
   "cell_type": "code",
   "execution_count": null,
   "id": "3300a1cc",
   "metadata": {},
   "outputs": [],
   "source": [
    "# str."
   ]
  },
  {
   "cell_type": "code",
   "execution_count": null,
   "id": "7cc4ae5e",
   "metadata": {},
   "outputs": [],
   "source": [
    "str.lower()\n",
    "str.upper()\n",
    "str.capitalize()\n",
    "str.swapcase()\n",
    "str.count()\n",
    "str.find()\n",
    "str.startswith()\n",
    "str.endswith()\n",
    "str.format()\n",
    "str.index()\n",
    "str.join()\n",
    "str.partition()\n",
    "str.replace()\n",
    "str.split()\n",
    "str.strip()\n",
    "# rfind, rindex, rjust, rpartition, rsplit"
   ]
  },
  {
   "cell_type": "code",
   "execution_count": null,
   "id": "7b193f39",
   "metadata": {},
   "outputs": [],
   "source": []
  },
  {
   "cell_type": "code",
   "execution_count": null,
   "id": "3143f2c5",
   "metadata": {},
   "outputs": [],
   "source": []
  },
  {
   "cell_type": "markdown",
   "id": "42f643bf",
   "metadata": {},
   "source": [
    "### 2. Functions"
   ]
  },
  {
   "cell_type": "code",
   "execution_count": null,
   "id": "19b2b03f",
   "metadata": {},
   "outputs": [],
   "source": []
  },
  {
   "cell_type": "code",
   "execution_count": null,
   "id": "2cbed93b",
   "metadata": {},
   "outputs": [],
   "source": []
  },
  {
   "cell_type": "markdown",
   "id": "9d0eabdf",
   "metadata": {},
   "source": [
    "### 3. Built-in package"
   ]
  },
  {
   "cell_type": "markdown",
   "id": "7c784bca",
   "metadata": {},
   "source": [
    "#### 3.4 Regular Expression"
   ]
  },
  {
   "cell_type": "markdown",
   "id": "b783832f",
   "metadata": {},
   "source": [
    "| expression | explaination |\n",
    "| ------------------ | ------------------ | \n",
    "|. | matches any character except a newline |\n",
    "|^ | matches the start of the string |\n",
    "| $\t| matches the end of the string or just before the newline at the end of the string |\n",
    "| *\t| match 0 or more repetitions of the preceding RE, as many repetitions as are possible |\n",
    "| +\t| match 1 or more repetitions of the preceding RE |\n",
    "| ?\t| match 0 or 1 repetitions of the preceding RE |\n",
    "|*?, +?, ??\t| The '*', '+', and '?' qualifiers are all greedy; they match as much text as possible.Adding ? after the qualifier makes it perform the match in non-greedy or minimal fashion |\n",
    "|{m} | exactly m copies of the previous RE should be matched |\n",
    "|{m,n} |\tmatch from m to n repetitions of the preceding RE, attempting to match as many repetitions as possible. |\n",
    "| {m,n}? |\tmatch from m to n repetitions of the preceding RE, attempting to match as few repetitions as possible. |\n",
    "| [ ] |\tindicate a set of characters. |\n",
    "| A or B\t| match either A or B |\n",
    "| (...) | matches whatever regular expression is inside the parentheses, and indicates the start and end of a group. the contents of a group can be retrieved after a match has been performed, and can be matched later in the string with the \\number special sequence\n",
    "|(?:...)| Matches whatever regular expression is inside the parentheses, but the substring matched by the group cannot be retrieved after performing a match or referenced later in the pattern.|\n",
    "| (?=...) |\tMatches if ... matches next, but doesn’t consume any of the string. This is called a lookahead assertion.|\n",
    "| \\number |\tMatches the contents of the group of the same number. Groups are numbered starting from 1. |\n",
    "|\\d\t| Matches any decimal digit; this is equivalent to the class [0-9]. |\n",
    "|\\D\t| Matches any non-digit character; this is equivalent to the class [^0-9].|\n",
    "|\\w\t| Matches any alphanumeric character; this is equivalent to the class [a-zA-Z0-9_].|\n",
    "|\\W\t| Matches any non-alphanumeric character; this is equivalent to the class [^a-zA-Z0-9_].|\n",
    "|\\s\t| Matches any whitespace character; this is equivalent to the class [ \\t\\n\\r\\f\\v]. |\n",
    "| \\S | Matches any non-whitespace character; this is equivalent to the class [^ \\t\\n\\r\\f\\v]. |"
   ]
  },
  {
   "cell_type": "code",
   "execution_count": null,
   "id": "dd6952e9",
   "metadata": {},
   "outputs": [],
   "source": [
    "import re"
   ]
  },
  {
   "cell_type": "code",
   "execution_count": null,
   "id": "71f63771",
   "metadata": {},
   "outputs": [],
   "source": [
    "re.findall()\n",
    "re.finditer()      # return iterator\n",
    "re.I               # for flags=re.I case insensitive\n",
    "re.search()        # return match object, None if not found\n",
    "re.match()         # return match object, None if not found\n",
    "re.sub()           # can apply function in sencond argument"
   ]
  },
  {
   "cell_type": "code",
   "execution_count": null,
   "id": "54c44c4a",
   "metadata": {},
   "outputs": [],
   "source": []
  },
  {
   "cell_type": "code",
   "execution_count": null,
   "id": "e9069ada",
   "metadata": {},
   "outputs": [],
   "source": []
  },
  {
   "cell_type": "markdown",
   "id": "77712ce2",
   "metadata": {},
   "source": [
    "### 4. Data science packages"
   ]
  },
  {
   "cell_type": "code",
   "execution_count": null,
   "id": "a14d3743",
   "metadata": {},
   "outputs": [],
   "source": []
  },
  {
   "cell_type": "code",
   "execution_count": null,
   "id": "42d587fd",
   "metadata": {},
   "outputs": [],
   "source": []
  },
  {
   "cell_type": "code",
   "execution_count": null,
   "id": "d96c81f8",
   "metadata": {},
   "outputs": [],
   "source": []
  },
  {
   "cell_type": "code",
   "execution_count": null,
   "id": "7cc407b0",
   "metadata": {},
   "outputs": [],
   "source": []
  }
 ],
 "metadata": {
  "kernelspec": {
   "display_name": "Python 3",
   "language": "python",
   "name": "python3"
  },
  "language_info": {
   "codemirror_mode": {
    "name": "ipython",
    "version": 3
   },
   "file_extension": ".py",
   "mimetype": "text/x-python",
   "name": "python",
   "nbconvert_exporter": "python",
   "pygments_lexer": "ipython3",
   "version": "3.8.8"
  }
 },
 "nbformat": 4,
 "nbformat_minor": 5
}
