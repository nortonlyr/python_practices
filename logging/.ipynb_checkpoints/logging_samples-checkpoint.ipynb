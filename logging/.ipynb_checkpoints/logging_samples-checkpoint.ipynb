{
 "cells": [
  {
   "cell_type": "code",
   "execution_count": 1,
   "metadata": {},
   "outputs": [],
   "source": [
    "import logging"
   ]
  },
  {
   "cell_type": "code",
   "execution_count": 6,
   "metadata": {},
   "outputs": [
    {
     "name": "stderr",
     "output_type": "stream",
     "text": [
      "WARNING:root:你好3\n",
      "ERROR:root:你好4\n",
      "CRITICAL:root:你好5\n"
     ]
    }
   ],
   "source": [
    "logging.debug(u'你好1')\n",
    "logging.info(u'你好2')\n",
    "logging.warning(u'你好3')\n",
    "logging.error(u'你好4')\n",
    "logging.critical(u'你好5')\n",
    "\n",
    "#上面可以看到只有后面三个能打印出来\n",
    "\n",
    "#默认生成的root logger的level是logging.WARNING,低于该级别的就不输出了\n",
    "\n",
    "#级别排序:CRITICAL > ERROR > WARNING > INFO > DEBUG"
   ]
  },
  {
   "cell_type": "code",
   "execution_count": null,
   "metadata": {},
   "outputs": [],
   "source": [
    "logging.basicConfig(level=logging.NOTSET) #設置日志級別\n"
   ]
  }
 ],
 "metadata": {
  "kernelspec": {
   "display_name": "Python 3",
   "language": "python",
   "name": "python3"
  },
  "language_info": {
   "codemirror_mode": {
    "name": "ipython",
    "version": 3
   },
   "file_extension": ".py",
   "mimetype": "text/x-python",
   "name": "python",
   "nbconvert_exporter": "python",
   "pygments_lexer": "ipython3",
   "version": "3.7.6"
  }
 },
 "nbformat": 4,
 "nbformat_minor": 4
}
