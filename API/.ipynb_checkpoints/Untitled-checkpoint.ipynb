{
 "cells": [
  {
   "cell_type": "code",
   "execution_count": 1,
   "id": "59e2d926-7516-4d04-8412-457f4f20adc6",
   "metadata": {},
   "outputs": [],
   "source": [
    "# https://api.github.com/search/repositories?q=language:python&sort=stars"
   ]
  },
  {
   "cell_type": "code",
   "execution_count": null,
   "id": "2b2c3fb6-ad90-4f83-8f4e-3269c7d17b5a",
   "metadata": {},
   "outputs": [],
   "source": []
  },
  {
   "cell_type": "code",
   "execution_count": null,
   "id": "d9977167-240c-494e-8892-9a0c4f0d5011",
   "metadata": {},
   "outputs": [],
   "source": []
  }
 ],
 "metadata": {
  "kernelspec": {
   "display_name": "Python 3 (ipykernel)",
   "language": "python",
   "name": "python3"
  },
  "language_info": {
   "codemirror_mode": {
    "name": "ipython",
    "version": 3
   },
   "file_extension": ".py",
   "mimetype": "text/x-python",
   "name": "python",
   "nbconvert_exporter": "python",
   "pygments_lexer": "ipython3",
   "version": "3.9.12"
  }
 },
 "nbformat": 4,
 "nbformat_minor": 5
}
