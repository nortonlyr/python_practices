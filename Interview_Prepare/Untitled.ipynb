{
 "cells": [
  {
   "cell_type": "code",
   "execution_count": 1,
   "id": "5bdc39f1-5891-4df0-8da7-2ffd9ed6c75b",
   "metadata": {},
   "outputs": [],
   "source": [
    "# https://github.com/youngyangyang04/leetcode-master/blob/master/problems/0704.%E4%BA%8C%E5%88%86%E6%9F%A5%E6%89%BE.md"
   ]
  },
  {
   "cell_type": "code",
   "execution_count": null,
   "id": "cefb45eb-5947-4385-b155-1739d705dbbb",
   "metadata": {},
   "outputs": [],
   "source": [
    "# 二分法 Version 1 [] 左闭右闭区间"
   ]
  },
  {
   "cell_type": "code",
   "execution_count": 3,
   "id": "d48be7df-f726-4aa3-9a53-155e9247a54a",
   "metadata": {},
   "outputs": [
    {
     "ename": "NameError",
     "evalue": "name 'List' is not defined",
     "output_type": "error",
     "traceback": [
      "\u001b[0;31m---------------------------------------------------------------------------\u001b[0m",
      "\u001b[0;31mNameError\u001b[0m                                 Traceback (most recent call last)",
      "Input \u001b[0;32mIn [3]\u001b[0m, in \u001b[0;36m<cell line: 1>\u001b[0;34m()\u001b[0m\n\u001b[0;32m----> 1\u001b[0m \u001b[38;5;28;01mclass\u001b[39;00m \u001b[38;5;21;01mSolution\u001b[39;00m:\n\u001b[1;32m      2\u001b[0m     \u001b[38;5;28;01mdef\u001b[39;00m \u001b[38;5;21msearch\u001b[39m(\u001b[38;5;28mself\u001b[39m, nums:List[\u001b[38;5;28mint\u001b[39m], target:\u001b[38;5;28mint\u001b[39m) \u001b[38;5;241m-\u001b[39m\u001b[38;5;241m>\u001b[39m \u001b[38;5;28mint\u001b[39m:\n\u001b[1;32m      3\u001b[0m         left, right \u001b[38;5;241m=\u001b[39m\u001b[38;5;241m0\u001b[39m, \u001b[38;5;28mlen\u001b[39m(num) \u001b[38;5;241m-\u001b[39m \u001b[38;5;241m1\u001b[39m\n",
      "Input \u001b[0;32mIn [3]\u001b[0m, in \u001b[0;36mSolution\u001b[0;34m()\u001b[0m\n\u001b[1;32m      1\u001b[0m \u001b[38;5;28;01mclass\u001b[39;00m \u001b[38;5;21;01mSolution\u001b[39;00m:\n\u001b[0;32m----> 2\u001b[0m     \u001b[38;5;28;01mdef\u001b[39;00m \u001b[38;5;21msearch\u001b[39m(\u001b[38;5;28mself\u001b[39m, nums:\u001b[43mList\u001b[49m[\u001b[38;5;28mint\u001b[39m], target:\u001b[38;5;28mint\u001b[39m) \u001b[38;5;241m-\u001b[39m\u001b[38;5;241m>\u001b[39m \u001b[38;5;28mint\u001b[39m:\n\u001b[1;32m      3\u001b[0m         left, right \u001b[38;5;241m=\u001b[39m\u001b[38;5;241m0\u001b[39m, \u001b[38;5;28mlen\u001b[39m(num) \u001b[38;5;241m-\u001b[39m \u001b[38;5;241m1\u001b[39m\n\u001b[1;32m      5\u001b[0m         \u001b[38;5;28;01mwhile\u001b[39;00m left \u001b[38;5;241m<\u001b[39m\u001b[38;5;241m=\u001b[39m right:\n",
      "\u001b[0;31mNameError\u001b[0m: name 'List' is not defined"
     ]
    }
   ],
   "source": [
    "class Solution:\n",
    "    def search(self, nums:List[int], target:int) -> int:\n",
    "        left, right =0, len(num) - 1\n",
    "        \n",
    "        while left <= right:\n",
    "            middle = (left + right) //2\n",
    "            \n",
    "            if numbs[middle] < target:\n",
    "                left = middle + 1\n",
    "            elif nums[middle] > target:\n",
    "                right = middle - 1\n",
    "            else:\n",
    "                return middle\n",
    "        return -1"
   ]
  },
  {
   "cell_type": "code",
   "execution_count": 13,
   "id": "d41dd2d8-29b0-4f59-afd6-7ee4b72192bf",
   "metadata": {},
   "outputs": [],
   "source": [
    "def search(nums, target) -> int:\n",
    "        left, right = 0, len(nums) - 1\n",
    "        \n",
    "        while left <= right:\n",
    "            middle = (left + right) //2\n",
    "            \n",
    "            if nums[middle] < target:\n",
    "                left = middle + 1\n",
    "            elif nums[middle] > target:\n",
    "                right = middle - 1\n",
    "            else:\n",
    "                return middle\n",
    "        return -1"
   ]
  },
  {
   "cell_type": "code",
   "execution_count": 14,
   "id": "94436f5f-3d04-4c13-9e92-3e52d0a38c7c",
   "metadata": {},
   "outputs": [],
   "source": [
    "nums = [1, 2, 3, 4, 7, 9, 10]\n",
    "target = 7"
   ]
  },
  {
   "cell_type": "code",
   "execution_count": 15,
   "id": "bc9efe5d-d8ca-418d-8672-9e108b7b57f1",
   "metadata": {},
   "outputs": [
    {
     "data": {
      "text/plain": [
       "4"
      ]
     },
     "execution_count": 15,
     "metadata": {},
     "output_type": "execute_result"
    }
   ],
   "source": [
    "search(nums, target)"
   ]
  },
  {
   "cell_type": "code",
   "execution_count": 17,
   "id": "dac41851-8576-415d-8b74-b18845f6c223",
   "metadata": {},
   "outputs": [],
   "source": [
    "# [) 左闭右开区间\n",
    "def search2(nums, target):\n",
    "    left, right = 0, len(nums)\n",
    "    while left < right:\n",
    "        mid = (left + right) // 2\n",
    "        if nums[mid] < target:\n",
    "            left = mid + 1\n",
    "        elif nums[mid] > target:\n",
    "            right = mid\n",
    "        else:\n",
    "            return mid\n",
    "    return -1\n",
    "                    "
   ]
  },
  {
   "cell_type": "code",
   "execution_count": 18,
   "id": "beecd174-03fa-4feb-896c-4741c9e25664",
   "metadata": {},
   "outputs": [],
   "source": [
    "nums = [1, 2, 3, 4, 7, 9, 10]\n",
    "target = 7"
   ]
  },
  {
   "cell_type": "code",
   "execution_count": 19,
   "id": "05676bf2-d2ec-45c8-84c5-53713812c496",
   "metadata": {},
   "outputs": [
    {
     "data": {
      "text/plain": [
       "4"
      ]
     },
     "execution_count": 19,
     "metadata": {},
     "output_type": "execute_result"
    }
   ],
   "source": [
    "search2(nums, target)"
   ]
  },
  {
   "cell_type": "code",
   "execution_count": null,
   "id": "34c07615-b05e-4758-b410-ef8c38458e31",
   "metadata": {},
   "outputs": [],
   "source": []
  }
 ],
 "metadata": {
  "kernelspec": {
   "display_name": "Python 3 (ipykernel)",
   "language": "python",
   "name": "python3"
  },
  "language_info": {
   "codemirror_mode": {
    "name": "ipython",
    "version": 3
   },
   "file_extension": ".py",
   "mimetype": "text/x-python",
   "name": "python",
   "nbconvert_exporter": "python",
   "pygments_lexer": "ipython3",
   "version": "3.9.12"
  }
 },
 "nbformat": 4,
 "nbformat_minor": 5
}
