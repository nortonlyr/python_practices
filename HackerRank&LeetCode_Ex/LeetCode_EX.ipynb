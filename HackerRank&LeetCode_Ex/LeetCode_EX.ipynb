{
 "cells": [
  {
   "cell_type": "markdown",
   "metadata": {},
   "source": [
    "### 219. Contains Duplicate II\n",
    "\n",
    "Given an array of integers and an integer k, find out whether there are two distinct indices i and j in the array such that nums[i] = nums[j] and the absolute difference between i and j is at most k."
   ]
  },
  {
   "cell_type": "markdown",
   "metadata": {},
   "source": [
    "Input: nums = [1,2,3,1], k = 3<br>\n",
    "Output: true\n",
    "\n",
    "Input: nums = [1,0,1,1], k = 1<br>\n",
    "Output: true\n",
    "\n",
    "Input: nums = [1,2,3,1,2,3], k = 2<br>\n",
    "Output: false"
   ]
  },
  {
   "cell_type": "code",
   "execution_count": 1,
   "metadata": {},
   "outputs": [],
   "source": [
    "def containsNearbyDuplicate(nums, k) -> bool:\n",
    "        dic = {}\n",
    "        for i, v in enumerate(nums):\n",
    "            if v in dic and i - dic[v] <= k:\n",
    "                   return True\n",
    "            dic[v] = i\n",
    "        return False"
   ]
  },
  {
   "cell_type": "code",
   "execution_count": 2,
   "metadata": {},
   "outputs": [
    {
     "data": {
      "text/plain": [
       "True"
      ]
     },
     "execution_count": 2,
     "metadata": {},
     "output_type": "execute_result"
    }
   ],
   "source": [
    "containsNearbyDuplicate([1,2,3,1], 3)"
   ]
  },
  {
   "cell_type": "code",
   "execution_count": 4,
   "metadata": {},
   "outputs": [
    {
     "data": {
      "text/plain": [
       "False"
      ]
     },
     "execution_count": 4,
     "metadata": {},
     "output_type": "execute_result"
    }
   ],
   "source": [
    "containsNearbyDuplicate([1,2,3,1,2], 2)"
   ]
  },
  {
   "cell_type": "markdown",
   "metadata": {},
   "source": [
    "### 112. Path Sum\n",
    "\n",
    "Given a binary tree and a sum, determine if the tree has a root-to-leaf path such that adding up all the values along the path equals the given sum.\n",
    "\n",
    "Given the below binary tree and sum = 22,"
   ]
  },
  {
   "cell_type": "markdown",
   "metadata": {},
   "source": [
    "      5\n",
    "     / \\\n",
    "    4   8\n",
    "   /   / \\\n",
    "  11  13  4\n",
    " /  \\      \\\n",
    "7    2      1"
   ]
  },
  {
   "cell_type": "code",
   "execution_count": 9,
   "metadata": {},
   "outputs": [],
   "source": [
    "# Definition for a binary tree node.\n",
    "class TreeNode:\n",
    "    def __init__(self, val=0, left=None, right=None):\n",
    "        self.val = val\n",
    "        self.left = left\n",
    "        self.right = right\n",
    "        \n",
    "class Solution:\n",
    "    # @param root, a tree node\n",
    "    # @param sum, an integer\n",
    "    # @return a boolean\n",
    "    def hasPathSum(self, root: TreeNode, sum: int) -> bool:\n",
    "        if not root:\n",
    "            return False\n",
    "        \n",
    "        if not root.left and not root.right and root.val == sum:\n",
    "            return True\n",
    "        \n",
    "        sum = sum - root.val\n",
    "        \n",
    "        return self.hasPathSum(root.left, sum) or self.hasPathSum(root.right, sum)"
   ]
  },
  {
   "cell_type": "markdown",
   "metadata": {},
   "source": [
    "### 121. Best Time to Buy and Sell Stock\n",
    "\n",
    "Say you have an array for which the ith element is the price of a given stock on day i.\n",
    "\n",
    "If you were only permitted to complete at most one transaction (i.e., buy one and sell one share of the stock), design an algorithm to find the maximum profit.\n",
    "\n",
    "Note that you cannot sell a stock before you buy one."
   ]
  },
  {
   "cell_type": "markdown",
   "metadata": {},
   "source": [
    "Input: [7,1,5,3,6,4]<br>\n",
    "Output: 5<br>\n",
    "Explanation: Buy on day 2 (price = 1) and sell on day 5 (price = 6), profit = 6-1 = 5.<br>\n",
    "             Not 7-1 = 6, as selling price needs to be larger than buying price.\n",
    "             \n",
    "Input: [7,6,4,3,1]<br>\n",
    "Output: 0 <br>\n",
    "Explanation: In this case, no transaction is done, i.e. max profit = 0. <br>"
   ]
  },
  {
   "cell_type": "code",
   "execution_count": 27,
   "metadata": {},
   "outputs": [],
   "source": [
    "def maxProfit(prices) -> int:\n",
    "    max_profit = 0\n",
    "    min_price = float('inf') \n",
    "    for price in prices:\n",
    "        min_price = min(min_price, price)\n",
    "        profit = price - min_price\n",
    "        max_profit = max(max_profit, profit)\n",
    "    return max_profit\n",
    "\n",
    "# float('inf') acts as an unbounded upper value for comparison. This is useful for finding lowest values for something\n",
    "# float('Inf') removes this guesswork"
   ]
  },
  {
   "cell_type": "code",
   "execution_count": 28,
   "metadata": {},
   "outputs": [
    {
     "data": {
      "text/plain": [
       "5"
      ]
     },
     "execution_count": 28,
     "metadata": {},
     "output_type": "execute_result"
    }
   ],
   "source": [
    "maxProfit([7,1,5,3,6,4])"
   ]
  },
  {
   "cell_type": "code",
   "execution_count": null,
   "metadata": {},
   "outputs": [],
   "source": []
  },
  {
   "cell_type": "code",
   "execution_count": 56,
   "metadata": {},
   "outputs": [],
   "source": [
    "def isPalindrome(s: str) -> bool:\n",
    "    new_str = ''\n",
    "    for i in s:\n",
    "        if i.isalnum():\n",
    "            new_str += i.lower()\n",
    "    return new_str == new_str[::-1]"
   ]
  },
  {
   "cell_type": "code",
   "execution_count": 57,
   "metadata": {},
   "outputs": [
    {
     "data": {
      "text/plain": [
       "True"
      ]
     },
     "execution_count": 57,
     "metadata": {},
     "output_type": "execute_result"
    }
   ],
   "source": [
    "isPalindrome(\"A man, a plan, a canal: Panama\")"
   ]
  },
  {
   "cell_type": "code",
   "execution_count": 60,
   "metadata": {},
   "outputs": [],
   "source": [
    "def isPalindrome2(s: str) -> bool:\n",
    "    new_str = []\n",
    "    for i in s:\n",
    "        if i.isalnum():\n",
    "            new_str.append(i)\n",
    "    print (''.join(new_str).lower())"
   ]
  },
  {
   "cell_type": "code",
   "execution_count": 61,
   "metadata": {},
   "outputs": [
    {
     "name": "stdout",
     "output_type": "stream",
     "text": [
      "amanaplanacanalpanama\n"
     ]
    }
   ],
   "source": [
    "isPalindrome2(\"A man, a plan, a canal: Panama\")\n",
    "# After combining a list, it dones't have ''."
   ]
  },
  {
   "cell_type": "code",
   "execution_count": 50,
   "metadata": {},
   "outputs": [],
   "source": [
    "def isPalindrome3(s: str) -> bool:\n",
    "    s = ''.join(i for i in s if i.isalnum()).lower()\n",
    "    return s == s[::-1]"
   ]
  },
  {
   "cell_type": "code",
   "execution_count": 51,
   "metadata": {},
   "outputs": [
    {
     "data": {
      "text/plain": [
       "True"
      ]
     },
     "execution_count": 51,
     "metadata": {},
     "output_type": "execute_result"
    }
   ],
   "source": [
    "isPalindrome3(\"A man, a plan, a canal: Panama\")"
   ]
  },
  {
   "cell_type": "markdown",
   "metadata": {},
   "source": [
    "### 70. Climbing Stairs\n",
    "\n",
    "You are climbing a stair case. It takes n steps to reach to the top.\n",
    "\n",
    "Each time you can either climb 1 or 2 steps. In how many distinct ways can you climb to the top?\n",
    "\n",
    "Input: 2<br>\n",
    "Output: 2<br>\n",
    "Explanation: There are two ways to climb to the top.<br>\n",
    "1. 1 step + 1 step<br>\n",
    "2. 2 steps\n",
    "\n",
    "Input: 3<br>\n",
    "Output: 3<br>\n",
    "Explanation: There are three ways to climb to the top.<br>\n",
    "1. 1 step + 1 step + 1 step<br>\n",
    "2. 1 step + 2 steps<br>\n",
    "3. 2 steps + 1 step"
   ]
  },
  {
   "cell_type": "code",
   "execution_count": 239,
   "metadata": {},
   "outputs": [],
   "source": [
    "#Recrusive Method, #O(2^n)\n",
    "def climbStairs(n: int) -> int: \n",
    "    if n <= 2:\n",
    "        return n\n",
    "        \n",
    "    if n > 2:\n",
    "        return climbStairs(n-1) + climbStairs(n-2)"
   ]
  },
  {
   "cell_type": "code",
   "execution_count": 240,
   "metadata": {},
   "outputs": [
    {
     "data": {
      "text/plain": [
       "8"
      ]
     },
     "execution_count": 240,
     "metadata": {},
     "output_type": "execute_result"
    }
   ],
   "source": [
    "climbStairs(5)"
   ]
  },
  {
   "cell_type": "code",
   "execution_count": 241,
   "metadata": {},
   "outputs": [],
   "source": [
    "def climbStairs2(n: int) -> int: \n",
    "    if n == 1:   # Bottom up, O(n) space\n",
    "        return 1\n",
    "    res = [0 for i in range(n)]\n",
    "    res[0], res[1] = 1, 2\n",
    "    for i in range(2, n):\n",
    "        res[i] = res[i-1] + res[i-2]\n",
    "    return res[-1]"
   ]
  },
  {
   "cell_type": "code",
   "execution_count": 242,
   "metadata": {},
   "outputs": [
    {
     "data": {
      "text/plain": [
       "5"
      ]
     },
     "execution_count": 242,
     "metadata": {},
     "output_type": "execute_result"
    }
   ],
   "source": [
    "climbStairs2(4)"
   ]
  },
  {
   "cell_type": "code",
   "execution_count": 246,
   "metadata": {},
   "outputs": [],
   "source": [
    "# Bottom up, constant space\n",
    "def climbStairs3(n):\n",
    "    if n == 1:\n",
    "        return 1\n",
    "    a, b = 1, 2\n",
    "    for i in range(2, n):\n",
    "        tmp = b\n",
    "        b = a+b\n",
    "        a = tmp\n",
    "    return b"
   ]
  },
  {
   "cell_type": "code",
   "execution_count": 247,
   "metadata": {},
   "outputs": [
    {
     "data": {
      "text/plain": [
       "13"
      ]
     },
     "execution_count": 247,
     "metadata": {},
     "output_type": "execute_result"
    }
   ],
   "source": [
    "climbStairs3(6)"
   ]
  },
  {
   "cell_type": "markdown",
   "metadata": {},
   "source": [
    "### 69. Sqrt(x)"
   ]
  },
  {
   "cell_type": "code",
   "execution_count": 248,
   "metadata": {},
   "outputs": [],
   "source": [
    "def mySqrt(x: int) -> int:\n",
    "        lo, hi = 0, x\n",
    "        while lo < hi:\n",
    "            mid = lo + (hi - lo + 1) // 2\n",
    "            if mid*mid <= x:\n",
    "                lo = mid\n",
    "            else:\n",
    "                hi = mid - 1\n",
    "        return lo"
   ]
  },
  {
   "cell_type": "code",
   "execution_count": 249,
   "metadata": {},
   "outputs": [
    {
     "data": {
      "text/plain": [
       "2"
      ]
     },
     "execution_count": 249,
     "metadata": {},
     "output_type": "execute_result"
    }
   ],
   "source": [
    "mySqrt(8)"
   ]
  },
  {
   "cell_type": "markdown",
   "metadata": {},
   "source": [
    "### 83. Remove Duplicates from Sorted List"
   ]
  },
  {
   "cell_type": "code",
   "execution_count": 256,
   "metadata": {},
   "outputs": [],
   "source": [
    "# Definition for singly-linked list.\n",
    "def __init__(self, val=0, next=None):\n",
    "    self.val = val\n",
    "    self.next = next\n",
    "\n",
    "def deleteDuplicates(self,head):\n",
    "    cur = head\n",
    "    while cur:\n",
    "        while cur.next and cur.next.val == cur.val:\n",
    "            cur.next = cur.next.next     # skip duplicated node\n",
    "        cur = cur.next     # not duplicate of current node, move to next node\n",
    "    return head"
   ]
  },
  {
   "cell_type": "code",
   "execution_count": null,
   "metadata": {},
   "outputs": [],
   "source": [
    "# method 2\n",
    "def deleteDuplicates(self, head):\n",
    "    \"\"\"\n",
    "     :type head: ListNode\n",
    "     :rtype: ListNode\n",
    "    \"\"\"\n",
    "    first, second = head, head.next if head else None\n",
    "    while second:\n",
    "        if first.val == second.val:\n",
    "            second = second.next\n",
    "            first.next = second\n",
    "        else:\n",
    "            first = second\n",
    "            second = second.next\n",
    "                \n",
    "    return head"
   ]
  },
  {
   "cell_type": "code",
   "execution_count": null,
   "metadata": {},
   "outputs": [],
   "source": []
  },
  {
   "cell_type": "code",
   "execution_count": 284,
   "metadata": {},
   "outputs": [],
   "source": [
    "def merge(nums1, m, nums2, n):\n",
    "        \"\"\"\n",
    "        Do not return anything, modify nums1 in-place instead.\n",
    "        \"\"\"\n",
    "        while m > 0 and n > 0:\n",
    "            if nums1[m-1] > nums2[n-1]:\n",
    "                nums1[m+n-1] = nums1[m-1]\n",
    "                m = m - 1\n",
    "            else:\n",
    "                nums1[m+n-1] = nums2[n-1]\n",
    "                n = n -1\n",
    "        if n>0:\n",
    "            nums1[:n] = nums2[:n]"
   ]
  },
  {
   "cell_type": "code",
   "execution_count": 285,
   "metadata": {},
   "outputs": [],
   "source": [
    "merge([1,2,3,0,0,0],3,[2,5,6],3)"
   ]
  },
  {
   "cell_type": "code",
   "execution_count": 287,
   "metadata": {},
   "outputs": [],
   "source": [
    "def merge(nums1, m, nums2, n):\n",
    "        nums1[m:] = nums2[:n]\n",
    "        nums1.sort()"
   ]
  },
  {
   "cell_type": "markdown",
   "metadata": {},
   "source": [
    "### 100. Same Tree"
   ]
  },
  {
   "cell_type": "code",
   "execution_count": 292,
   "metadata": {},
   "outputs": [],
   "source": [
    "def isSameTree(p, q):\n",
    "        if p and q:\n",
    "            return p.val == q.val and isSameTree(p.left, q.left) and isSameTree(p.right, q.right)\n",
    "        else:\n",
    "            return p == q"
   ]
  },
  {
   "cell_type": "markdown",
   "metadata": {},
   "source": [
    "### 167. Two Sum II - Input array is sorted"
   ]
  },
  {
   "cell_type": "code",
   "execution_count": 294,
   "metadata": {},
   "outputs": [],
   "source": [
    "def twoSum(numbers, target):\n",
    "    l, r = 0, len(numbers)-1\n",
    "    while numbers[l] + numbers[r] != target:\n",
    "        if numbers[l] + numbers[r] > target:\n",
    "            r -= 1\n",
    "        else: \n",
    "            l += 1\n",
    "    return [l+1, r+1]"
   ]
  },
  {
   "cell_type": "code",
   "execution_count": 295,
   "metadata": {},
   "outputs": [
    {
     "data": {
      "text/plain": [
       "[1, 3]"
      ]
     },
     "execution_count": 295,
     "metadata": {},
     "output_type": "execute_result"
    }
   ],
   "source": [
    "twoSum([2,3,4], 6)"
   ]
  },
  {
   "cell_type": "code",
   "execution_count": 296,
   "metadata": {},
   "outputs": [
    {
     "data": {
      "text/plain": [
       "3"
      ]
     },
     "execution_count": 296,
     "metadata": {},
     "output_type": "execute_result"
    }
   ],
   "source": [
    "len([2,3,4])"
   ]
  },
  {
   "cell_type": "code",
   "execution_count": 298,
   "metadata": {},
   "outputs": [
    {
     "data": {
      "text/plain": [
       "[4, 5]"
      ]
     },
     "execution_count": 298,
     "metadata": {},
     "output_type": "execute_result"
    }
   ],
   "source": [
    "twoSum([2,3,4,8,8,10], 16)"
   ]
  },
  {
   "cell_type": "markdown",
   "metadata": {},
   "source": [
    "### 168. Excel Sheet Column Title\n",
    "\n",
    " 1 -> A\n",
    "    2 -> B\n",
    "    3 -> C\n",
    "    ...\n",
    "    26 -> Z\n",
    "    27 -> AA\n",
    "    28 -> AB "
   ]
  },
  {
   "cell_type": "code",
   "execution_count": 2,
   "metadata": {},
   "outputs": [],
   "source": [
    "def convertToTitle(n: int) -> str:\n",
    "    # return \"\" if n == 0 else self.convertToTitle((n-1)/26) + chr((n-1)%26 + ord('A'))\n",
    "    capitals = [chr(x) for x in range(ord('A'), ord('Z')+1)]\n",
    "    result = []\n",
    "    while n > 0:\n",
    "        result.append(capitals[(n-1)%26])\n",
    "        n = (n-1) // 26\n",
    "    result.reverse()\n",
    "    return ''.join(result)"
   ]
  },
  {
   "cell_type": "code",
   "execution_count": 5,
   "metadata": {},
   "outputs": [
    {
     "data": {
      "text/plain": [
       "'AA'"
      ]
     },
     "execution_count": 5,
     "metadata": {},
     "output_type": "execute_result"
    }
   ],
   "source": [
    "convertToTitle(27)"
   ]
  },
  {
   "cell_type": "markdown",
   "metadata": {},
   "source": [
    "### 189. Rotate Array\n",
    "\n",
    "Given an array, rotate the array to the right by k steps, where k is non-negative.\n",
    "\n",
    "Follow up:\n",
    "\n",
    "Try to come up as many solutions as you can, there are at least 3 different ways to solve this problem.\n",
    "Could you do it in-place with O(1) extra space?\n",
    " "
   ]
  },
  {
   "cell_type": "code",
   "execution_count": 10,
   "metadata": {},
   "outputs": [],
   "source": [
    "def rotate(nums:list, k: int) -> None:\n",
    "        \"\"\"\n",
    "        Do not return anything, modify nums in-place instead.\n",
    "        \"\"\"\n",
    "        n = len(nums)\n",
    "        k = k % n\n",
    "        nums[:] = nums[n-k:] + nums[:n-k]"
   ]
  },
  {
   "cell_type": "code",
   "execution_count": 11,
   "metadata": {},
   "outputs": [],
   "source": [
    "rotate([1,2,3,4,5,6,7], k = 3)\n",
    "# [5,6,7,1,2,3,4]"
   ]
  },
  {
   "cell_type": "markdown",
   "metadata": {},
   "source": [
    "### Tuple and list comprehension"
   ]
  },
  {
   "cell_type": "code",
   "execution_count": 14,
   "metadata": {},
   "outputs": [
    {
     "data": {
      "text/plain": [
       "[1, 2, 3, 4]"
      ]
     },
     "execution_count": 14,
     "metadata": {},
     "output_type": "execute_result"
    }
   ],
   "source": [
    "[i for i in [1, 2, 3, 4]]"
   ]
  },
  {
   "cell_type": "code",
   "execution_count": 64,
   "metadata": {},
   "outputs": [
    {
     "data": {
      "text/plain": [
       "(1, 2, 3, 4)"
      ]
     },
     "execution_count": 64,
     "metadata": {},
     "output_type": "execute_result"
    }
   ],
   "source": [
    "tuple(i for i in [1, 2, 3, 4])"
   ]
  },
  {
   "cell_type": "code",
   "execution_count": 65,
   "metadata": {},
   "outputs": [
    {
     "data": {
      "text/plain": [
       "[1, 2, 3, 4]"
      ]
     },
     "execution_count": 65,
     "metadata": {},
     "output_type": "execute_result"
    }
   ],
   "source": [
    "list(i for i in [1, 2, 3, 4])"
   ]
  },
  {
   "cell_type": "markdown",
   "metadata": {},
   "source": [
    "### 290. Word Pattern\n",
    "\n",
    "Given a pattern and a string s, find if s follows the same pattern.\n",
    "\n",
    "Here follow means a full match, such that there is a bijection between a letter in pattern and a non-empty word in s.\n",
    "\n",
    "Input: pattern = \"abba\", s = \"dog cat cat dog\"<br>\n",
    "Output: true\n",
    "\n",
    "Input: pattern = \"abba\", s = \"dog cat cat fish\"<br>\n",
    "Output: false"
   ]
  },
  {
   "cell_type": "code",
   "execution_count": 66,
   "metadata": {},
   "outputs": [],
   "source": [
    "def wordPattern(pattern: str, s: str) -> bool:\n",
    "    p = pattern\n",
    "    t = s.split()\n",
    "    return len(set(zip(p,t))) == len(set(p)) == len(set(t)) and len(p) == len(t)"
   ]
  },
  {
   "cell_type": "code",
   "execution_count": 67,
   "metadata": {},
   "outputs": [
    {
     "data": {
      "text/plain": [
       "True"
      ]
     },
     "execution_count": 67,
     "metadata": {},
     "output_type": "execute_result"
    }
   ],
   "source": [
    "wordPattern(\"abba\", \"dog cat cat dog\")"
   ]
  },
  {
   "cell_type": "code",
   "execution_count": 68,
   "metadata": {},
   "outputs": [
    {
     "data": {
      "text/plain": [
       "False"
      ]
     },
     "execution_count": 68,
     "metadata": {},
     "output_type": "execute_result"
    }
   ],
   "source": [
    "wordPattern(\"abba\", \"dog cat cat fish\")"
   ]
  },
  {
   "cell_type": "code",
   "execution_count": 73,
   "metadata": {},
   "outputs": [
    {
     "data": {
      "text/plain": [
       "2"
      ]
     },
     "execution_count": 73,
     "metadata": {},
     "output_type": "execute_result"
    }
   ],
   "source": [
    "s = \"dog cat cat dog\"\n",
    "p = \"abba\"\n",
    "t = s.split()\n",
    "len(set(zip(p,t)))"
   ]
  },
  {
   "cell_type": "code",
   "execution_count": 74,
   "metadata": {},
   "outputs": [
    {
     "data": {
      "text/plain": [
       "{('a', 'dog'), ('b', 'cat')}"
      ]
     },
     "execution_count": 74,
     "metadata": {},
     "output_type": "execute_result"
    }
   ],
   "source": [
    "set(zip(p,t))\n",
    "# The repeated pattern is 'a'->'dog' and 'b'-> 'cat'"
   ]
  },
  {
   "cell_type": "code",
   "execution_count": 75,
   "metadata": {},
   "outputs": [],
   "source": [
    " def addDigits(num: int) -> int:\n",
    "        if num == 0: \n",
    "            return 0\n",
    "        else:\n",
    "            return (num - 1) % 9 + 1"
   ]
  },
  {
   "cell_type": "code",
   "execution_count": 76,
   "metadata": {},
   "outputs": [
    {
     "data": {
      "text/plain": [
       "3"
      ]
     },
     "execution_count": 76,
     "metadata": {},
     "output_type": "execute_result"
    }
   ],
   "source": [
    "addDigits(39)"
   ]
  },
  {
   "cell_type": "code",
   "execution_count": 77,
   "metadata": {},
   "outputs": [],
   "source": [
    " def addDigits2(num: int) -> int:\n",
    "        while num > 9:\n",
    "            num = sum(int(c) for c in str(num))\n",
    "        return num"
   ]
  },
  {
   "cell_type": "code",
   "execution_count": 78,
   "metadata": {},
   "outputs": [
    {
     "data": {
      "text/plain": [
       "3"
      ]
     },
     "execution_count": 78,
     "metadata": {},
     "output_type": "execute_result"
    }
   ],
   "source": [
    "addDigits2(39)"
   ]
  },
  {
   "cell_type": "markdown",
   "metadata": {},
   "source": [
    "### 283. Move Zeroes"
   ]
  },
  {
   "cell_type": "code",
   "execution_count": 82,
   "metadata": {},
   "outputs": [],
   "source": [
    "def moveZeroes(nums) -> None:\n",
    "    \"\"\"\n",
    "    Do not return anything, modify nums in-place instead.\n",
    "    \"\"\"\n",
    "    zero = 0\n",
    "    for i in range(len(nums)):\n",
    "        if nums[i] != 0:\n",
    "            nums[i], nums[zero] = nums[zero], nums[i]\n",
    "            zero += 1\n",
    "    return nums"
   ]
  },
  {
   "cell_type": "code",
   "execution_count": 83,
   "metadata": {},
   "outputs": [
    {
     "data": {
      "text/plain": [
       "[1, 4, 12, 0, 0]"
      ]
     },
     "execution_count": 83,
     "metadata": {},
     "output_type": "execute_result"
    }
   ],
   "source": [
    "moveZeroes([0, 1, 0, 4, 12]) "
   ]
  },
  {
   "cell_type": "code",
   "execution_count": 88,
   "metadata": {},
   "outputs": [],
   "source": [
    "def moveZeroes2(nums) -> None:\n",
    "    \"\"\"\n",
    "    Do not return anything, modify nums in-place instead.\n",
    "    \"\"\"\n",
    "    for i in range(len(nums)):\n",
    "        if nums[i] == 0:\n",
    "            nums.pop(i)\n",
    "            nums.append(0)\n",
    "    return nums\n",
    "# This is NOT in-place method"
   ]
  },
  {
   "cell_type": "code",
   "execution_count": 89,
   "metadata": {},
   "outputs": [
    {
     "data": {
      "text/plain": [
       "[1, 4, 12, 0, 0]"
      ]
     },
     "execution_count": 89,
     "metadata": {},
     "output_type": "execute_result"
    }
   ],
   "source": [
    "moveZeroes2([0, 1, 0, 4, 12])"
   ]
  },
  {
   "cell_type": "markdown",
   "metadata": {},
   "source": [
    "### 326. Power of Three\n",
    "\n",
    "Given an integer, write a function to determine if it is a power of three."
   ]
  },
  {
   "cell_type": "code",
   "execution_count": 2,
   "metadata": {},
   "outputs": [],
   "source": [
    "# This method is time consuming\n",
    "def isPowerOfThree(n: int) -> bool:\n",
    "        if n < 0:\n",
    "            return False\n",
    "        \n",
    "        while n >= 0:\n",
    "            n /= 3\n",
    "            if n == 1:\n",
    "                return True"
   ]
  },
  {
   "cell_type": "code",
   "execution_count": 3,
   "metadata": {},
   "outputs": [
    {
     "data": {
      "text/plain": [
       "True"
      ]
     },
     "execution_count": 3,
     "metadata": {},
     "output_type": "execute_result"
    }
   ],
   "source": [
    "isPowerOfThree(27)"
   ]
  },
  {
   "cell_type": "code",
   "execution_count": 4,
   "metadata": {},
   "outputs": [],
   "source": [
    "def isPowerOfThree2(n: int) -> bool:\n",
    "    return n > 0 == 3**19 % n"
   ]
  },
  {
   "cell_type": "code",
   "execution_count": 5,
   "metadata": {},
   "outputs": [
    {
     "data": {
      "text/plain": [
       "True"
      ]
     },
     "execution_count": 5,
     "metadata": {},
     "output_type": "execute_result"
    }
   ],
   "source": [
    "isPowerOfThree2(81)"
   ]
  },
  {
   "cell_type": "code",
   "execution_count": 6,
   "metadata": {},
   "outputs": [
    {
     "data": {
      "text/plain": [
       "False"
      ]
     },
     "execution_count": 6,
     "metadata": {},
     "output_type": "execute_result"
    }
   ],
   "source": [
    "isPowerOfThree2(82)"
   ]
  },
  {
   "cell_type": "markdown",
   "metadata": {},
   "source": [
    "### 345. Reverse Vowels of a String\n",
    "\n",
    "Write a function that takes a string as input and reverse only the vowels of a string.\n",
    "\n",
    "Example 1:\n",
    "\n",
    "Input: \"hello\"<br>\n",
    "Output: \"holle\"\n",
    "\n",
    "Example 2:\n",
    "\n",
    "Input: \"leetcode\"<br>\n",
    "Output: \"leotcede\""
   ]
  },
  {
   "cell_type": "code",
   "execution_count": 8,
   "metadata": {},
   "outputs": [],
   "source": [
    "# Two pointers\n",
    "def reverseVowels(s):\n",
    "    s = list(s)\n",
    "    vows = set('aeiouAEIOU')\n",
    "    l,r = 0, len(s) -1\n",
    "    while l < r:\n",
    "        while l <= r and s[l] not in vows: l += 1\n",
    "        while l <= r and s[r] not in vows: r -= 1\n",
    "        if l > r:\n",
    "            break\n",
    "        s[l], s[r] = s[r], s[l]\n",
    "        l, r = l + 1, r - 1\n",
    "    return ''.join(s)"
   ]
  },
  {
   "cell_type": "code",
   "execution_count": 9,
   "metadata": {},
   "outputs": [
    {
     "data": {
      "text/plain": [
       "'leotcede'"
      ]
     },
     "execution_count": 9,
     "metadata": {},
     "output_type": "execute_result"
    }
   ],
   "source": [
    "reverseVowels('leetcode')"
   ]
  },
  {
   "cell_type": "code",
   "execution_count": 10,
   "metadata": {},
   "outputs": [
    {
     "data": {
      "text/plain": [
       "'congritalutaon'"
      ]
     },
     "execution_count": 10,
     "metadata": {},
     "output_type": "execute_result"
    }
   ],
   "source": [
    "reverseVowels('congratulation')"
   ]
  },
  {
   "cell_type": "markdown",
   "metadata": {},
   "source": [
    "### 349. Intersection of Two Arrays\n",
    "\n",
    "Given two arrays, write a function to compute their intersection.\n",
    "\n",
    "Example 1:\n",
    "\n",
    "Input: nums1 = [1,2,2,1], nums2 = [2,2]<br>\n",
    "Output: [2]<br>\n",
    "Example 2:\n",
    "\n",
    "Input: nums1 = [4,9,5], nums2 = [9,4,9,8,4]<br>\n",
    "Output: [9,4]"
   ]
  },
  {
   "cell_type": "code",
   "execution_count": 11,
   "metadata": {},
   "outputs": [],
   "source": [
    "def intersection(nums1, nums2):\n",
    "    nums1 = set(nums1)\n",
    "    nums2 = set(nums2)\n",
    "    return list(nums1&nums2)"
   ]
  },
  {
   "cell_type": "code",
   "execution_count": 12,
   "metadata": {},
   "outputs": [
    {
     "data": {
      "text/plain": [
       "[2]"
      ]
     },
     "execution_count": 12,
     "metadata": {},
     "output_type": "execute_result"
    }
   ],
   "source": [
    "intersection([1,2,2,1], [2,2])"
   ]
  },
  {
   "cell_type": "code",
   "execution_count": 20,
   "metadata": {},
   "outputs": [
    {
     "data": {
      "text/plain": [
       "[2]"
      ]
     },
     "execution_count": 20,
     "metadata": {},
     "output_type": "execute_result"
    }
   ],
   "source": [
    "nums1 = set([1,2,2,1])\n",
    "nums2 = set([2,2])\n",
    "list(nums1 & nums2) # list(set1 & set2)"
   ]
  },
  {
   "cell_type": "code",
   "execution_count": 1,
   "metadata": {},
   "outputs": [],
   "source": [
    "# Newton Method\n",
    "def isPerfectSquare(num):\n",
    "    r = num\n",
    "    while r*r > num:\n",
    "        r = (r + num/r) // 2\n",
    "    return r*r == num"
   ]
  },
  {
   "cell_type": "code",
   "execution_count": 2,
   "metadata": {},
   "outputs": [
    {
     "data": {
      "text/plain": [
       "False"
      ]
     },
     "execution_count": 2,
     "metadata": {},
     "output_type": "execute_result"
    }
   ],
   "source": [
    "isPerfectSquare(15)"
   ]
  },
  {
   "cell_type": "code",
   "execution_count": 3,
   "metadata": {},
   "outputs": [
    {
     "data": {
      "text/plain": [
       "True"
      ]
     },
     "execution_count": 3,
     "metadata": {},
     "output_type": "execute_result"
    }
   ],
   "source": [
    "isPerfectSquare(16)"
   ]
  },
  {
   "cell_type": "code",
   "execution_count": 5,
   "metadata": {},
   "outputs": [],
   "source": [
    "# Math Trick for Square number 1+3+5+7....+(2n+1)\n",
    "def Math(num):\n",
    "    i = 1\n",
    "    while (num>0):\n",
    "        num -= i\n",
    "        i += 2\n",
    "    return num == 0"
   ]
  },
  {
   "cell_type": "code",
   "execution_count": 6,
   "metadata": {},
   "outputs": [
    {
     "data": {
      "text/plain": [
       "False"
      ]
     },
     "execution_count": 6,
     "metadata": {},
     "output_type": "execute_result"
    }
   ],
   "source": [
    "Math(15)"
   ]
  },
  {
   "cell_type": "code",
   "execution_count": 7,
   "metadata": {},
   "outputs": [
    {
     "data": {
      "text/plain": [
       "True"
      ]
     },
     "execution_count": 7,
     "metadata": {},
     "output_type": "execute_result"
    }
   ],
   "source": [
    "Math(25)"
   ]
  },
  {
   "cell_type": "code",
   "execution_count": 8,
   "metadata": {},
   "outputs": [],
   "source": [
    "# Linear Method (Naive) - For comparison\n",
    "def linear(num):\n",
    "    i = 1\n",
    "    while i**2 <= num:\n",
    "        if i**2 == num:\n",
    "            return True\n",
    "        else:\n",
    "            i += 1\n",
    "    return False"
   ]
  },
  {
   "cell_type": "code",
   "execution_count": 9,
   "metadata": {},
   "outputs": [
    {
     "data": {
      "text/plain": [
       "False"
      ]
     },
     "execution_count": 9,
     "metadata": {},
     "output_type": "execute_result"
    }
   ],
   "source": [
    "linear(15)"
   ]
  },
  {
   "cell_type": "code",
   "execution_count": 10,
   "metadata": {},
   "outputs": [
    {
     "data": {
      "text/plain": [
       "True"
      ]
     },
     "execution_count": 10,
     "metadata": {},
     "output_type": "execute_result"
    }
   ],
   "source": [
    "linear(16)"
   ]
  },
  {
   "cell_type": "markdown",
   "metadata": {},
   "source": [
    "### 876. Middle of the Linked List\n",
    "\n",
    "Given a non-empty, singly linked list with head node head, return a middle node of linked list.\n",
    "\n",
    "If there are two middle nodes, return the second middle node.\n",
    "\n",
    "Example 1:\n",
    "\n",
    "Input: [1,2,3,4,5]\n",
    "Output: Node 3 from this list (Serialization: [3,4,5])\n",
    "The returned node has value 3.  (The judge's serialization of this node is [3,4,5]).\n",
    "Note that we returned a ListNode object ans, such that:\n",
    "ans.val = 3, ans.next.val = 4, ans.next.next.val = 5, and ans.next.next.next = NULL.\n",
    "\n",
    "Example 2:\n",
    "\n",
    "Input: [1,2,3,4,5,6]\n",
    "Output: Node 4 from this list (Serialization: [4,5,6])\n",
    "Since the list has two middle nodes with values 3 and 4, we return the second one"
   ]
  },
  {
   "cell_type": "code",
   "execution_count": 2,
   "metadata": {},
   "outputs": [],
   "source": [
    "class ListNode:\n",
    "    def __init__(self, val=0, next=None):\n",
    "        self.val = val\n",
    "        self.next = next\n",
    "class Solution:\n",
    "    def middleNode(self, head: ListNode) -> ListNode:\n",
    "        tmp = head\n",
    "        while tmp and tmp.next: \n",
    "            head = head.next\n",
    "            tmp = tmp.next.next\n",
    "        return head\n",
    "    \n",
    "#  #We need two pointers, one is head with one step each iteration, and the other is tmp with two steps each iteration. \n",
    "# So when the tmp reaches the end of the list, the head just reaches the half of it, which is exactly what we want."
   ]
  },
  {
   "cell_type": "markdown",
   "metadata": {},
   "source": [
    "### 374. Guess Number Higher or Lower"
   ]
  },
  {
   "cell_type": "markdown",
   "metadata": {},
   "source": [
    "We are playing the Guess Game. The game is as follows:\n",
    "\n",
    "I pick a number from 1 to n. You have to guess which number I picked.\n",
    "\n",
    "Every time you guess wrong, I will tell you whether the number I picked is higher or lower than your guess.\n",
    "\n",
    "You call a pre-defined API int guess(int num), which returns 3 possible results:\n",
    "\n",
    "-1: The number I picked is lower than your guess (i.e. pick < num).\n",
    "1: The number I picked is higher than your guess (i.e. pick > num).\n",
    "0: The number I picked is equal to your guess (i.e. pick == num).\n",
    "Return the number that I picked."
   ]
  },
  {
   "cell_type": "code",
   "execution_count": 2,
   "metadata": {},
   "outputs": [],
   "source": [
    "def guessNumber(n:int) -> int:\n",
    "    lo, hi = 1, n\n",
    "    while lo < hi:\n",
    "        mid = (lo + hi) // 2\n",
    "        if guess(mid) == 1:\n",
    "            lo = mid + 1\n",
    "        else:\n",
    "            hi = mid\n",
    "    return lo"
   ]
  },
  {
   "cell_type": "code",
   "execution_count": null,
   "metadata": {},
   "outputs": [],
   "source": []
  }
 ],
 "metadata": {
  "kernelspec": {
   "display_name": "Python 3",
   "language": "python",
   "name": "python3"
  },
  "language_info": {
   "codemirror_mode": {
    "name": "ipython",
    "version": 3
   },
   "file_extension": ".py",
   "mimetype": "text/x-python",
   "name": "python",
   "nbconvert_exporter": "python",
   "pygments_lexer": "ipython3",
   "version": "3.7.6"
  }
 },
 "nbformat": 4,
 "nbformat_minor": 4
}
