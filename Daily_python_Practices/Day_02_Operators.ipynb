{
 "cells": [
  {
   "cell_type": "markdown",
   "metadata": {},
   "source": [
    "Objective In this challenge, you'll work with arithmetic operators. Check out the Tutorial tab for learning materials and an instructional video!\n",
    "\n",
    "Task Given the meal price (base cost of a meal), tip percent (the percentage of the meal price being added as tip), and tax percent (the percentage of the meal price being added as tax) for a meal, find and print the meal's total cost.\n",
    "\n",
    "Note: Be sure to use precise values for your calculations, or you may end up with an incorrectly rounded result!\n",
    "\n",
    "Input Format\n",
    "\n",
    "There are lines of numeric input: The first line has a double, (the cost of the meal before tax and tip). The second line has an integer, (the percentage of being added as tip). The third line has an integer, (the percentage of being added as tax).\n",
    "\n",
    "Output Format\n",
    "\n",
    "Print The total meal cost is totalCost dollars., where is the rounded integer result of the entire bill ( with added tax and tip).\n",
    "\n",
    "Sample Input\n",
    "\n",
    "12.00 20 8\n",
    "\n",
    "Sample Output\n",
    "\n",
    "The total meal cost is 15 dollars.\n",
    "\n",
    "Explanation\n",
    "\n",
    "Given: , ,\n",
    "\n",
    "Calculations:\n",
    "\n",
    "We round to the nearest dollar (integer) and then print our result:\n",
    "\n",
    "The total meal cost is 15 dollars.\n",
    "\n",
    "https://www.hackerrank.com/challenges/30-operators/problem"
   ]
  },
  {
   "cell_type": "code",
   "execution_count": 6,
   "metadata": {},
   "outputs": [
    {
     "name": "stdout",
     "output_type": "stream",
     "text": [
      "10\n",
      "10\n",
      "10\n",
      "The total meal cost is 12 dollars.\n"
     ]
    }
   ],
   "source": [
    "def get_total_cost_of_meal():\n",
    "    # original meal price\n",
    "    meal_cost = float(input())\n",
    "    # tip percentage\n",
    "    tip_percent = int(input())\n",
    "    # tax_percentage\n",
    "    tax_percent = int(input())\n",
    "    \n",
    "    # Write your calculation code here\n",
    "    tip = meal_cost * tip_percent / 100\n",
    "    tax = meal_cost * tax_percent / 100\n",
    "    \n",
    "    # cast the result of the rounding operationto an int and save it as total_cost\n",
    "    total_cost = int(round(meal_cost + tip + tax))\n",
    "    \n",
    "    return str(total_cost)\n",
    "\n",
    "# Print the result\n",
    "print(\"The total meal cost is \" + get_total_cost_of_meal() + \" dollars.\")"
   ]
  },
  {
   "cell_type": "code",
   "execution_count": null,
   "metadata": {},
   "outputs": [],
   "source": []
  }
 ],
 "metadata": {
  "kernelspec": {
   "display_name": "Python 3",
   "language": "python",
   "name": "python3"
  },
  "language_info": {
   "codemirror_mode": {
    "name": "ipython",
    "version": 3
   },
   "file_extension": ".py",
   "mimetype": "text/x-python",
   "name": "python",
   "nbconvert_exporter": "python",
   "pygments_lexer": "ipython3",
   "version": "3.7.6"
  }
 },
 "nbformat": 4,
 "nbformat_minor": 4
}
