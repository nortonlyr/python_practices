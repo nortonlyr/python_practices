{
 "cells": [
  {
   "cell_type": "code",
   "execution_count": 2,
   "id": "ab13ad30-31a5-4bb1-94e0-3b7dd36fb00b",
   "metadata": {},
   "outputs": [],
   "source": [
    "# https://github.com/youngyangyang04/leetcode-master/blob/master/problems/0027.%E7%A7%BB%E9%99%A4%E5%85%83%E7%B4%A0.md"
   ]
  },
  {
   "cell_type": "code",
   "execution_count": null,
   "id": "39ee5c0b-8054-4c9e-8bbe-119fc55c81dd",
   "metadata": {},
   "outputs": [],
   "source": [
    "class Solution:\n",
    "    \"\"\"双指针法\n",
    "    时间复杂度：O(n)\n",
    "    空间复杂度：O(1)\n",
    "    \"\"\"\n",
    "\n",
    "    @classmethod\n",
    "    def removeElement(cls, nums: List[int], val: int) -> int:\n",
    "        fast = slow = 0\n",
    "\n",
    "        while fast < len(nums):\n",
    "\n",
    "            if nums[fast] != val:\n",
    "                nums[slow] = nums[fast]\n",
    "                slow += 1\n",
    "\n",
    "            # 当 fast 指针遇到要删除的元素时停止赋值\n",
    "            # slow 指针停止移动, fast 指针继续前进\n",
    "            fast += 1\n",
    "\n",
    "        return slow\n"
   ]
  },
  {
   "cell_type": "code",
   "execution_count": 8,
   "id": "7779b586-1e2a-426c-8ca5-58ba262f2ac8",
   "metadata": {},
   "outputs": [],
   "source": [
    "def removeElement(nums, val) -> int:\n",
    "    fast = slow = 0\n",
    "    while fast < len(nums):\n",
    "        if nums[fast] != val:\n",
    "            nums[slow]=nums[fast]\n",
    "            slow +=1\n",
    "        fast+=1\n",
    "    return slow\n",
    "        "
   ]
  },
  {
   "cell_type": "code",
   "execution_count": 11,
   "id": "44e9dfb4-a49a-4852-8a22-166402d73af3",
   "metadata": {},
   "outputs": [],
   "source": [
    "nums = [0, 1, 2, 3, 3, 0, 4, 2] \n",
    "val = 2"
   ]
  },
  {
   "cell_type": "code",
   "execution_count": 12,
   "id": "90cdfff1-735c-48af-a2c7-5147e53d0056",
   "metadata": {},
   "outputs": [
    {
     "data": {
      "text/plain": [
       "6"
      ]
     },
     "execution_count": 12,
     "metadata": {},
     "output_type": "execute_result"
    }
   ],
   "source": [
    "removeElement(nums, val)\n",
    "# remove 2, 2"
   ]
  },
  {
   "cell_type": "code",
   "execution_count": null,
   "id": "9c8a08a6-98bb-4e94-b1bc-1f0fb02c79d9",
   "metadata": {},
   "outputs": [],
   "source": []
  }
 ],
 "metadata": {
  "kernelspec": {
   "display_name": "Python 3 (ipykernel)",
   "language": "python",
   "name": "python3"
  },
  "language_info": {
   "codemirror_mode": {
    "name": "ipython",
    "version": 3
   },
   "file_extension": ".py",
   "mimetype": "text/x-python",
   "name": "python",
   "nbconvert_exporter": "python",
   "pygments_lexer": "ipython3",
   "version": "3.9.12"
  }
 },
 "nbformat": 4,
 "nbformat_minor": 5
}
