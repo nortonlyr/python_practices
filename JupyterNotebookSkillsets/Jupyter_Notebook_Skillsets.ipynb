{
 "cells": [
  {
   "cell_type": "markdown",
   "metadata": {},
   "source": [
    "reference: <br>\n",
    "https://blog.csdn.net/BF02jgtRS00XKtCx/article/details/107828698<br>\n",
    "https://blog.csdn.net/BF02jgtRS00XKtCx/article/details/107947646"
   ]
  },
  {
   "cell_type": "markdown",
   "metadata": {},
   "source": [
    "### 鍵盤快捷鍵\n",
    "Cmd + Shift + P（在 Linux 和 Windows 上面则是 Ctrl + Shift + P）。这个对话框可以帮助你通过名称运行任何命令——如果你不知道某个操作的键盘快捷键，或者你想要执行的操作没有快捷键，那么这个方法就会非常有用。它的功能类似于 Mac 上的 Spotlight search，一旦你开始使用它，你将难以想象没有它该如何生活。"
   ]
  },
  {
   "cell_type": "markdown",
   "metadata": {},
   "source": [
    "Esc 会使你进入命令模式，此时你可以通过方向键来导航你的 notebook。\n",
    "\n",
    "当在命令模式时：\n",
    "\n",
    "- A 键会在当前 cell 前面插入一个新的 cell，B 键则是在后面进行插入。\n",
    "\n",
    "- M 键改变当前的 cell 为 Markdown 格式，Y 键将其换回代码格式。\n",
    "\n",
    "- D + D（双击该键）可以删除当前的 cell\n",
    "\n",
    "Enter 可以从命令模式返回到当前 cell 的编辑模式，\n",
    "\n",
    "Shift + Tab 将会展示你刚刚输入的代码块的文档——你可以通过一直按这个快捷键来循环展示几种文档模式。\n",
    "\n",
    "Ctrl + Shift + - 可以将当前代码块从你的光标位置，拆分为两个。\n",
    "\n",
    "Esc + F 发现并替换你的代码，但是并不会输出。\n",
    "\n",
    "Esc + O 切换当前 cell 的输出。\n",
    "\n",
    "选择多个 cell：\n",
    "\n",
    "- Shift + J 或者 Shift + Down 向下选择下一个 cell。你也可以通过使用 Shift + K 或者 Shift + Up 来向上选择对应的 cell。\n",
    "\n",
    "- 当多个 cell 被选择时，你就可以一次性删除/复制/剪切/粘贴/运行它们。当你想要在 notebook 中移动一部分内容时，这就很有帮助。\n",
    "\n",
    "- 你也可以使用 Shift + M 来合并多个 cell。"
   ]
  },
  {
   "cell_type": "code",
   "execution_count": null,
   "metadata": {},
   "outputs": [],
   "source": [
    "print('num 1')\n",
    "\n",
    "print('num 2')\n",
    "\n",
    "print('num 3')"
   ]
  },
  {
   "cell_type": "markdown",
   "metadata": {},
   "source": [
    "### 2. 漂亮的展示變量"
   ]
  },
  {
   "cell_type": "markdown",
   "metadata": {},
   "source": [
    "关于漂亮的第一点是众所周知的。当完成一个 Jupyter cell 时，如果是一个变量名或者是一个没有将输出赋值的语句，Jupyter 在没有 print 语句的情况下依然会展示该变量。这一点在处理 Pandas 的 DataFrames 时尤其有用，对应的输出会被整齐的展示为一个表格。\n",
    "\n",
    "比较鲜为人知的是，你可以调整 ast_note_interactivity 内核选项，来使得 Jupyter 可以在自己的每行变量或语句上执行此操作，所以你可以一次性看到多个语句的变量值。"
   ]
  },
  {
   "cell_type": "code",
   "execution_count": null,
   "metadata": {},
   "outputs": [],
   "source": [
    "from IPython.core.interactiveshell import InteractiveShell\n",
    "InteractiveShell.ast_node_interactivity = \"all\""
   ]
  },
  {
   "cell_type": "code",
   "execution_count": null,
   "metadata": {},
   "outputs": [],
   "source": [
    "from pydataset import data\n",
    "quakes = data('quakes')\n",
    "quakes.head()\n",
    "quakes.tail()"
   ]
  },
  {
   "cell_type": "markdown",
   "metadata": {},
   "source": [
    "如果你想要在所有的 Jupyter（Notebook 和控制台）例子中设置这种形式，可以按照下面的方法简单的创建一个文件 ~/.ipython/profile_default/ipython_config.py。"
   ]
  },
  {
   "cell_type": "code",
   "execution_count": null,
   "metadata": {},
   "outputs": [],
   "source": [
    "c = get_config()\n",
    "\n",
    "# Run all nodes interactively\n",
    "c.InteractiveShell.ast_nonde_interactivity = \"all\""
   ]
  },
  {
   "cell_type": "markdown",
   "metadata": {},
   "source": [
    "### 3. 方便的鏈接文檔\n",
    "在内置的 Help 菜单中，你可以发现一些常见库在线文档的便捷链接，包括 NumPy，Pandas，SciPy 和 Matplotlib。\n",
    "\n",
    "不要忘记在一个库，方法或者变量前面附加 ?，你就可以访问文档来获取相应语法的快速参考。"
   ]
  },
  {
   "cell_type": "code",
   "execution_count": null,
   "metadata": {},
   "outputs": [],
   "source": [
    "?str.replace()"
   ]
  },
  {
   "cell_type": "markdown",
   "metadata": {},
   "source": [
    "### 4. 在Notebook中繪圖\n",
    "matplotlib（事实上已成为标准选项），通过  %matplotlib inline 来激活。这里推荐一个 Dataquest 上的  Matplotlib 教程[4]。\n",
    "\n",
    "%matplotlib notebook 提供了交互性，但是略微有点慢，因为渲染是在服务端完成的。\n",
    "\n",
    "Seaborn 是建立在 Matplotlib 之上的，可以非常容易的构建一些更具有吸引力的图形。只需要导入 Seaborn，无需任何代码上的修改，你的 matplotlib 图形就可以变得“更漂亮”。\n",
    "\n",
    "mpld3 提供了对 matplotlib 代码替代的渲染器（使用 d3）。很不错，尽管还不够完整。\n",
    "\n",
    "bokeh 是一个构建交互图形更好的选项。\n",
    "\n",
    "plot.ly 可以生成漂亮的图形——这在过去只是一个付费服务，但是最近开源了。\n",
    "\n",
    "Altair 是一个相对较新的 python 可视化库。它易于使用并且看一看做出很漂亮的图形，但是在自定义定制图形的能力上不如 Matplotlib 强大。"
   ]
  },
  {
   "cell_type": "markdown",
   "metadata": {},
   "source": [
    "### 5. IPython魔術命令\n",
    "\n",
    "上面我们提到的 %matplotlib inline 就是 IPython 魔术命令的一个例子。由于是基于 IPython 内核，Jupyter 可以从 IPython 内核中访问所有魔术命令，它们可以让你的生活轻松很多。"
   ]
  },
  {
   "cell_type": "code",
   "execution_count": null,
   "metadata": {},
   "outputs": [],
   "source": [
    "%lsmagic"
   ]
  },
  {
   "cell_type": "markdown",
   "metadata": {},
   "source": [
    "### 6. IPython Magic - %env：设置环境变量\n",
    "\n",
    "你可以在你的 notebook 中管理环境变量，而无需重启 jupyter 服务进程。一些库（例如 theano）使用环境变量来控制性能，%env 是最方便的方法。"
   ]
  },
  {
   "cell_type": "code",
   "execution_count": null,
   "metadata": {},
   "outputs": [],
   "source": [
    "# 不带任何参数运行 %env 会列出所有环境变量\n",
    "# 下面的语句设置环境变量\n",
    "%env OMP_NUM_THREADS=4"
   ]
  },
  {
   "cell_type": "markdown",
   "metadata": {},
   "source": [
    "### 7. IPython Magic - %run：执行 python 代码\n",
    "\n",
    "%run 可以从 .py 文件中执行 python 代码——这是大量文档证明的做法。事实上很少有人知道，它同样可以执行其它 jupyter notebook，这个相当有用。\n",
    "\n",
    "注意使用 %run 并不等同于导入一个 python 包。"
   ]
  },
  {
   "cell_type": "code",
   "execution_count": null,
   "metadata": {},
   "outputs": [],
   "source": [
    "# 这个方法会执行并且输出给定 notebook 中的所有代码块\n",
    "\n",
    "%run ./two-histograms.ipynb"
   ]
  },
  {
   "cell_type": "markdown",
   "metadata": {},
   "source": [
    "###  8. IPython Magic - %load：从一个外部脚本中插入代码"
   ]
  },
  {
   "cell_type": "code",
   "execution_count": null,
   "metadata": {},
   "outputs": [],
   "source": [
    "# Before Running\n",
    "%load ./hello_world.py\n",
    "\n",
    "if __name__ == \"__main__\":\n",
    "    print(\"Hello World!\")\n",
    "\n",
    "# Hello World"
   ]
  },
  {
   "cell_type": "markdown",
   "metadata": {},
   "source": [
    "### 9. IPython Magic - %store：在不同 notebook 中传递变量\n",
    "%store 命令可以让你在两个不同的 notebook 中传递变量。"
   ]
  },
  {
   "cell_type": "code",
   "execution_count": null,
   "metadata": {},
   "outputs": [],
   "source": [
    "data1 = 'this is the string I want to pass to different notebook'\n",
    "%store data1\n"
   ]
  },
  {
   "cell_type": "markdown",
   "metadata": {},
   "source": [
    "现在，在另外一个 notebook 中..."
   ]
  },
  {
   "cell_type": "code",
   "execution_count": null,
   "metadata": {},
   "outputs": [],
   "source": [
    "%store -r data1\n",
    "print(data1)"
   ]
  },
  {
   "cell_type": "markdown",
   "metadata": {},
   "source": [
    "### 10. IPython Magic - %who：展示全部变量\n",
    "\n",
    "不带任何参数的 %who 命令会展示所有全局作用域中的变量。传入一个参数例如 str 将会只列出对应的类型。"
   ]
  },
  {
   "cell_type": "code",
   "execution_count": null,
   "metadata": {},
   "outputs": [],
   "source": [
    "one = \"for th emoney\"\n",
    "two = \"for the show\"\n",
    "three = \"to get read now go cat go\"\n",
    "%who str"
   ]
  },
  {
   "cell_type": "markdown",
   "metadata": {},
   "source": [
    "### 11. IPython Magic - Timing\n",
    "\n",
    "关于时间方面有两个 IPython 魔术命令比较常用——%%time 和 %timeit。当你有一些运行比较慢的代码，你又尝试去定位问题时，这些就非常有用了。\n",
    "\n",
    "%%time 会为一个单独的代码块给出运行信息。"
   ]
  },
  {
   "cell_type": "code",
   "execution_count": null,
   "metadata": {},
   "outputs": [],
   "source": [
    "%%time\n",
    "import time\n",
    "for _ in range(1000):\n",
    "    time.sleep(0.01) # sleep for 0.01 seconds"
   ]
  },
  {
   "cell_type": "markdown",
   "metadata": {},
   "source": [
    "%%timeit 使用 python 的 timeit 模块，会运行一个语句 100,000 次（默认值）并且提供最快的三次运行的平均时间"
   ]
  },
  {
   "cell_type": "code",
   "execution_count": null,
   "metadata": {},
   "outputs": [],
   "source": [
    "import numpy\n",
    "%timeit numpy.random.normal(size=100)"
   ]
  },
  {
   "cell_type": "markdown",
   "metadata": {},
   "source": [
    "### 12. IPython Magic - %%writefile 和 %pycat：导出 cell 内容/展示外部脚本内容\n",
    "\n",
    "使用 %%writefile 魔术命令将 cell 中的内容保存到一个外部文件中。%pycat 恰恰相反，可以在语法高亮的基础上为你展示（以弹出的方式）外部文件的内容。"
   ]
  },
  {
   "cell_type": "code",
   "execution_count": null,
   "metadata": {},
   "outputs": [],
   "source": [
    "%%writefile pythoncode.py\n",
    "import numpy\n",
    "def append_if_not-exists(arr, x):\n",
    "    if x not in arr:\n",
    "        arr.append(x)\n",
    "        \n",
    "def some_useless_slow_function():\n",
    "    arr = list()\n",
    "    for i in range(10000):\n",
    "        x = numpy.random.randint(0, 10000)\n",
    "        append_if_not_exists(arr, x)"
   ]
  },
  {
   "cell_type": "code",
   "execution_count": null,
   "metadata": {},
   "outputs": [],
   "source": [
    "%pycat pythoncode.py"
   ]
  },
  {
   "cell_type": "markdown",
   "metadata": {},
   "source": [
    "### 13. IPython Magic - %prun：展示每个函数中你程序的消耗时间\n",
    "\n",
    "使用 %prun statement_name 会给你返回一个有序的表，内容包括语句中每个内部函数被调用的次数，每次调用所用的时间，以及所有函数运行的累计时间。"
   ]
  },
  {
   "cell_type": "code",
   "execution_count": null,
   "metadata": {},
   "outputs": [],
   "source": [
    "%prun some_useless_slow_function()"
   ]
  },
  {
   "cell_type": "markdown",
   "metadata": {},
   "source": [
    "### 14. IPython Magic - 用 %pdb 调试\n",
    "\n",
    "Jupyter 有自己的 The Python Debugger (`pdb`) 接口。这就使得它能够进入函数内部，并且挖掘具体发生了什么。\n",
    "\n",
    "你可以 在这里 浏览可用的 pdb 命令的具体内容。"
   ]
  },
  {
   "cell_type": "code",
   "execution_count": null,
   "metadata": {},
   "outputs": [],
   "source": [
    "%pdb\n",
    "def pick_and_take():\n",
    "    picked = numpy.random.randint(0, 1000)\n",
    "    raise NotImplementedError\n",
    "    pick_and_take()"
   ]
  },
  {
   "cell_type": "markdown",
   "metadata": {},
   "source": [
    "### 15.  IPython Magic - 高分辨率的图形输出\n",
    "IPython 的魔术命令只需要一行代码，就可以让你的图形输出在 Retina 屏幕（例如新款的 MacBook）上获得双倍的精度。「注意：下面这个例子在非 Retina 的屏幕上不会生效」"
   ]
  },
  {
   "cell_type": "code",
   "execution_count": null,
   "metadata": {},
   "outputs": [],
   "source": [
    "import matplotlib.pyplot as plt\n",
    "x = range(1000)\n",
    "y = [i ** 2 for i in x]\n",
    "plt.plot(x, y)\n",
    "plt.show()"
   ]
  },
  {
   "cell_type": "code",
   "execution_count": null,
   "metadata": {},
   "outputs": [],
   "source": [
    "%config InlineBackend.figure_format = 'retina'\n",
    "plt.plot(x,y)\n",
    "plt.show()"
   ]
  },
  {
   "cell_type": "markdown",
   "metadata": {},
   "source": [
    "### 16. 抑制函数的输出内容\n",
    "\n",
    "有时候在最后一行抑制函数的输出是很方便的，例如在绘图时。要实现整个目标，你只需要在最后添加一个分号就可以。"
   ]
  },
  {
   "cell_type": "code",
   "execution_count": null,
   "metadata": {},
   "outputs": [],
   "source": [
    "%matplotlib inline\n",
    "from matplotlib import pyplot as plt\n",
    "import numpy\n",
    "x = numpy.linspace(0, 1, 1000)**1.5"
   ]
  },
  {
   "cell_type": "code",
   "execution_count": null,
   "metadata": {},
   "outputs": [],
   "source": [
    "plt.hist(x)"
   ]
  },
  {
   "cell_type": "code",
   "execution_count": null,
   "metadata": {},
   "outputs": [],
   "source": [
    "# 通过添加一个分号在后面，就可以抑制这段输出。\n",
    "plt.hist(x);"
   ]
  },
  {
   "cell_type": "markdown",
   "metadata": {},
   "source": [
    "### 17. 执行 shell 命令\n",
    "从你的 notebook 中执行 shell 命令是很简单的。你可以直接使用下面的命令去检查当前文件夹中可用的数据集："
   ]
  },
  {
   "cell_type": "code",
   "execution_count": null,
   "metadata": {},
   "outputs": [],
   "source": [
    "# good for linux system\n",
    "!ls *.csv"
   ]
  },
  {
   "cell_type": "code",
   "execution_count": null,
   "metadata": {},
   "outputs": [],
   "source": [
    "!pip install numpy !pip list | grep pandas"
   ]
  },
  {
   "cell_type": "markdown",
   "metadata": {},
   "source": [
    "### 18. 使用 LaTeX 编辑公式\n",
    "当你在一个 Markdown 的块中写 LaTeX 代码时，它可以使用 MathJax 渲染成目标公式。\n",
    "这个："
   ]
  },
  {
   "cell_type": "markdown",
   "metadata": {},
   "source": [
    "$P(A \\mid B) = \\frac{P(B \\mid A)P(A)}{P(B)}$"
   ]
  },
  {
   "cell_type": "markdown",
   "metadata": {},
   "source": [
    "Markdown 在 notebook 中是很重要的一部分内容，所以不要忘记去使用它丰富的表现能力。"
   ]
  },
  {
   "cell_type": "markdown",
   "metadata": {},
   "source": [
    "### 19. 在 notebook 中使用不同的内核运行代码\n",
    "\n",
    "只要你想，你就可以将不同内核上的代码结合到一个 notebook 中来。\n",
    "\n",
    "你只需要在每个代码的开始处使用 IPython 的魔术命令，命令内容为你想要使用的内核的名称。"
   ]
  },
  {
   "cell_type": "code",
   "execution_count": null,
   "metadata": {},
   "outputs": [],
   "source": [
    "%%bash\n",
    "for i in {1..5}\n",
    "do echo \"i is $i\"\n",
    "done\n",
    "# only good for linux and MacOS"
   ]
  },
  {
   "cell_type": "code",
   "execution_count": null,
   "metadata": {},
   "outputs": [],
   "source": [
    "%%HTML\n",
    "%%python2\n",
    "%%python3\n",
    "%%ruby\n",
    "%%perl"
   ]
  },
  {
   "cell_type": "markdown",
   "metadata": {},
   "source": [
    "### 20. 为 Jupyter 安装其它内核\n",
    "Jupyter 有一个非常好的特性就是可以为不同语言运行内核。举个栗子，下面就是如何去安装和运行 R 内核。\n",
    "\n",
    "简单选项：使用 Anaconda 安装 R\n",
    "如果你是使用 Anaconda 来管理你的环境，那么安装 R 就是很简单的事情。只需要运行下面的代码就可以："
   ]
  },
  {
   "cell_type": "code",
   "execution_count": null,
   "metadata": {},
   "outputs": [],
   "source": [
    "conda install -c r r-essentials"
   ]
  },
  {
   "cell_type": "markdown",
   "metadata": {},
   "source": [
    "### 21. 在同一个 notebook 中同时运行 R 和 Python"
   ]
  },
  {
   "cell_type": "code",
   "execution_count": null,
   "metadata": {},
   "outputs": [],
   "source": [
    "pip install rpy2"
   ]
  },
  {
   "cell_type": "markdown",
   "metadata": {},
   "source": [
    "你可以同时使用两种语言，甚至在内部传递变量："
   ]
  },
  {
   "cell_type": "code",
   "execution_count": null,
   "metadata": {},
   "outputs": [],
   "source": [
    "%load_ext rpy2.ipython"
   ]
  },
  {
   "cell_type": "code",
   "execution_count": null,
   "metadata": {},
   "outputs": [],
   "source": [
    "%R require(ggplot2)"
   ]
  },
  {
   "cell_type": "markdown",
   "metadata": {},
   "source": [
    "### 22. 用另外一种语言写函数\n",
    "\n",
    "有时候 numpy 的速度还是不太够，我需要去写一些更快的代码。\n",
    "\n",
    "原则上，你可以在动态库中编译函数并编写 python 装饰器...\n",
    "\n",
    "但是当这个无聊的部分已经为你完成时，是不是会感觉非常棒？\n",
    "\n",
    "你可以在 cython 或者 fortran 中写你的函数，然后直接在 python 代码中使用它们。\n",
    "\n",
    "首先，你需要安装："
   ]
  },
  {
   "cell_type": "code",
   "execution_count": null,
   "metadata": {},
   "outputs": [],
   "source": [
    "!pip install cython fortran-magic"
   ]
  },
  {
   "cell_type": "code",
   "execution_count": null,
   "metadata": {},
   "outputs": [],
   "source": [
    "%load_ext Cython"
   ]
  },
  {
   "cell_type": "markdown",
   "metadata": {},
   "source": [
    "个人比较喜欢使用 fortran，因为当写一些数字运算的函数时非常方便。更多的fortran使用细节[2]你可以在这里查阅。"
   ]
  },
  {
   "cell_type": "markdown",
   "metadata": {},
   "source": [
    "### 23.  多行光标操作\n",
    "Jupyter 支持多光标操作，类似于 Sublime Text。按下 Alt 键的同时，直接点击并拖动鼠标选取"
   ]
  },
  {
   "cell_type": "markdown",
   "metadata": {},
   "source": [
    "### 24. Jupyter-contrib extensions\n",
    "\n",
    "Jupyter-contrib extensions[4] 是一个扩展包集合，给 Jupyter 提供了更多的功能，例如包括拼写检查和代码格式。\n",
    "\n",
    "下面的命令将会安装扩展包，和一个基于菜单的配置程序，帮助你在 Jupyter 的主屏幕浏览和启动扩展包。"
   ]
  },
  {
   "cell_type": "code",
   "execution_count": null,
   "metadata": {},
   "outputs": [],
   "source": [
    "!pip install https://github.com/ipython-contrib/jupyter_contrib_nbextensions/tarball/master !pip install jupyter_nbextensions_configurator !jupyter contrib nbextension install --user !jupyter nbextensions_configurator enable --user"
   ]
  },
  {
   "cell_type": "markdown",
   "metadata": {},
   "source": [
    "### 25. 从 Jupyter notebook 创建一个展示结果\n",
    "\n",
    "Damian Avila 的作品 RISE[5] 可以让你从已有的 notebook 中创建一个 PPT 风格的展示结果。\n",
    "\n",
    "你可以使用 conda 安装 RISE："
   ]
  },
  {
   "cell_type": "code",
   "execution_count": null,
   "metadata": {},
   "outputs": [],
   "source": [
    "conda install -c damianavila82 rise"
   ]
  },
  {
   "cell_type": "markdown",
   "metadata": {},
   "source": [
    "或者换成 pip 安装："
   ]
  },
  {
   "cell_type": "code",
   "execution_count": null,
   "metadata": {},
   "outputs": [],
   "source": [
    "pip install RISE"
   ]
  },
  {
   "cell_type": "markdown",
   "metadata": {},
   "source": [
    "然后运行下面的命令来安装和启用这个扩展包："
   ]
  },
  {
   "cell_type": "code",
   "execution_count": null,
   "metadata": {},
   "outputs": [],
   "source": [
    "jupyter-nbextension install rise --py --sys-prefix jupyter-nbextension enable rise --py --sys-prefix"
   ]
  },
  {
   "cell_type": "markdown",
   "metadata": {},
   "source": [
    "### 26. Jupyter 的输出系统 ###\n",
    "notebook 显示为 HTML，并且代码块的输出也可以是 HTML，因此你可以在输出时返回任何结果：视频/音频/图片。\n",
    "\n",
    "在这个例子中，我扫描了仓库中包含图片的一个文件夹，并且展示了前五幅缩略图："
   ]
  },
  {
   "cell_type": "code",
   "execution_count": null,
   "metadata": {},
   "outputs": [],
   "source": [
    "import os \n",
    "from IPython.display import display, Image\n",
    "names = [f for f in os.listdir('../images/ml_demonstrations/') if f.endswith('.png')]\n",
    "for name in names[:5]:\n",
    "    display(Image('../images/ml_demostrations/' + name, width = 100))"
   ]
  },
  {
   "cell_type": "markdown",
   "metadata": {},
   "source": [
    "### 27. 大数据分析 ###\n",
    "有许多方法在查询/处理大数据时是可用的：\n",
    "\n",
    "ipyparallel (以前的 ipython 集群)[6] 在处理 python 中的 map-reduce 操作时，是一个很好的选择。我们在 rep[7] 中使用它并行训练机器学习模型。\n",
    "\n",
    "pyspark[8]\n",
    "\n",
    "spark-sql 魔术命令 %%sql[9]"
   ]
  },
  {
   "cell_type": "markdown",
   "metadata": {},
   "source": [
    "### 28. 分享 notebook ###\n",
    "\n",
    "分享你的 notebook 最简单的方法就是使用 notebook 文件（.ipynb），但是对那些不使用 Jupyter 的人来说，你仍然有一些其它选择：\n",
    "\n",
    "使用 File > Download as > HTML 菜单选项来将你的 notebook 转化为 HTML 文件。\n",
    "\n",
    "上传你的 .ipynb 文件到 Google Colab。\n",
    "\n",
    "以 gists 的形式分享你的 notebook 文件或者上传到 GitHub，无论哪种方式都可以渲染你的 notebook。看这个 git 分享的例子。\n",
    "\n",
    "如果你选择将 notebook 上传到 GitHub 上，你可以使用 mybinder 服务来允许某人有权限访问你的仓库。\n",
    "\n",
    "利用 jupyterhub 来设置你自己的系统，当你有一个微课或者讲座，但是没有时间去关注学生的机器状况时，这是一个很方便的方法。\n",
    "\n",
    "把你的 notebook 保存起来（例如 dropbox），然后把链接放到 nbviewer。无论你保存的主机是什么，nbviewer 都会渲染你的 notebook。\n",
    "\n",
    "使用 File > Download as > PDF 菜单选项来将你的 notebook 保存为一个 PDF。如果你选择这种路线，那我强烈建议你阅读一下这篇 Julius Schulz 的优秀文章：Making publication ready Python notebooks"
   ]
  },
  {
   "cell_type": "code",
   "execution_count": null,
   "metadata": {},
   "outputs": [],
   "source": []
  }
 ],
 "metadata": {
  "kernelspec": {
   "display_name": "Python 3",
   "language": "python",
   "name": "python3"
  },
  "language_info": {
   "codemirror_mode": {
    "name": "ipython",
    "version": 3
   },
   "file_extension": ".py",
   "mimetype": "text/x-python",
   "name": "python",
   "nbconvert_exporter": "python",
   "pygments_lexer": "ipython3",
   "version": "3.7.6"
  }
 },
 "nbformat": 4,
 "nbformat_minor": 4
}
