{
 "cells": [
  {
   "cell_type": "code",
   "execution_count": 1,
   "metadata": {},
   "outputs": [],
   "source": [
    "import nltk"
   ]
  },
  {
   "cell_type": "code",
   "execution_count": 2,
   "metadata": {},
   "outputs": [],
   "source": [
    "alice = nltk.corpus.gutenberg.words('carroll-alice.txt')"
   ]
  },
  {
   "cell_type": "code",
   "execution_count": 3,
   "metadata": {},
   "outputs": [],
   "source": [
    "alice_fd = nltk.FreqDist(alice)"
   ]
  },
  {
   "cell_type": "code",
   "execution_count": 4,
   "metadata": {},
   "outputs": [],
   "source": [
    "# Find the 100 most common words.\n",
    "alice_fd_100 = alice_fd.most_common(100)"
   ]
  },
  {
   "cell_type": "code",
   "execution_count": 5,
   "metadata": {},
   "outputs": [],
   "source": [
    "moby = nltk.corpus.gutenberg.words(\"melville-moby_dick.txt\")\n",
    "moby_fd = nltk.FreqDist(moby)\n",
    "moby_fd_100 = moby_fd.most_common(100)"
   ]
  },
  {
   "cell_type": "code",
   "execution_count": 6,
   "metadata": {},
   "outputs": [],
   "source": [
    "# We no longer care exactly how many times each word was seen and can drop the count.\n",
    "alice_100 = [word[0] for word in alice_fd_100]\n",
    "moby_100 = [word[0] for word in moby_fd_100]"
   ]
  },
  {
   "cell_type": "code",
   "execution_count": 8,
   "metadata": {},
   "outputs": [
    {
     "data": {
      "text/plain": [
       "['began',\n",
       " 'can',\n",
       " \".'\",\n",
       " 'much',\n",
       " \"?'\",\n",
       " \",'\",\n",
       " 'see',\n",
       " 'again',\n",
       " 'say',\n",
       " ':',\n",
       " 'Alice',\n",
       " 'did',\n",
       " 'she',\n",
       " 'm',\n",
       " 'herself',\n",
       " 'Hatter',\n",
       " 'could',\n",
       " \"!'\",\n",
       " 'thought',\n",
       " 'little',\n",
       " 'll',\n",
       " 'your',\n",
       " 'Queen',\n",
       " 'way',\n",
       " 'King',\n",
       " 'quite',\n",
       " 'Mock',\n",
       " 'know',\n",
       " 'Gryphon',\n",
       " 't',\n",
       " '*',\n",
       " 'went',\n",
       " 'Turtle',\n",
       " 'do',\n",
       " 'off',\n",
       " 'said']"
      ]
     },
     "execution_count": 8,
     "metadata": {},
     "output_type": "execute_result"
    }
   ],
   "source": [
    "# Two sets can be subtracted from one another leaving us with the difference.\n",
    "list(set(alice_100) - set(moby_100))"
   ]
  },
  {
   "cell_type": "code",
   "execution_count": 9,
   "metadata": {},
   "outputs": [
    {
     "data": {
      "text/plain": [
       "['him',\n",
       " 'other',\n",
       " 'long',\n",
       " 'ship',\n",
       " 'some',\n",
       " 'which',\n",
       " '?',\n",
       " 'their',\n",
       " 'whale',\n",
       " '!\"',\n",
       " 'only',\n",
       " 'ye',\n",
       " '\"',\n",
       " 'will',\n",
       " 'upon',\n",
       " 'been',\n",
       " 'we',\n",
       " 'from',\n",
       " 'old',\n",
       " 'more',\n",
       " 'any',\n",
       " 'boat',\n",
       " 'these',\n",
       " 'are',\n",
       " 'who',\n",
       " '.\"',\n",
       " 'sea',\n",
       " 'now',\n",
       " 'But',\n",
       " 'Ahab',\n",
       " 'though',\n",
       " 'head',\n",
       " 'man',\n",
       " 'over',\n",
       " 'such',\n",
       " 'than']"
      ]
     },
     "execution_count": 9,
     "metadata": {},
     "output_type": "execute_result"
    }
   ],
   "source": [
    "list(set(moby_100) - set(alice_100))"
   ]
  },
  {
   "cell_type": "code",
   "execution_count": null,
   "metadata": {},
   "outputs": [],
   "source": []
  }
 ],
 "metadata": {
  "kernelspec": {
   "display_name": "Python 3",
   "language": "python",
   "name": "python3"
  },
  "language_info": {
   "codemirror_mode": {
    "name": "ipython",
    "version": 3
   },
   "file_extension": ".py",
   "mimetype": "text/x-python",
   "name": "python",
   "nbconvert_exporter": "python",
   "pygments_lexer": "ipython3",
   "version": "3.7.6"
  }
 },
 "nbformat": 4,
 "nbformat_minor": 4
}
