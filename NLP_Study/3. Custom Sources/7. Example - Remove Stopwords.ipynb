{
 "cells": [
  {
   "cell_type": "code",
   "execution_count": 1,
   "metadata": {},
   "outputs": [],
   "source": [
    "# Custom Sources - Example: Remove Stopwords\n",
    "import nltk"
   ]
  },
  {
   "cell_type": "code",
   "execution_count": 2,
   "metadata": {},
   "outputs": [],
   "source": [
    "alice = nltk.corpus.gutenberg.words(\"carroll-alice.txt\")"
   ]
  },
  {
   "cell_type": "code",
   "execution_count": 3,
   "metadata": {},
   "outputs": [],
   "source": [
    "alice_fd = nltk.FreqDist(alice)"
   ]
  },
  {
   "cell_type": "code",
   "execution_count": 4,
   "metadata": {},
   "outputs": [],
   "source": [
    "alice_100 = alice_fd.most_common(100)\n",
    "alice_common = [word[0] for word in alice_100]\n",
    "common = set(word.lower() for word in alice_common if word.isalpha())"
   ]
  },
  {
   "cell_type": "code",
   "execution_count": 5,
   "metadata": {},
   "outputs": [
    {
     "data": {
      "text/plain": [
       "{'a',\n",
       " 'about',\n",
       " 'again',\n",
       " 'alice',\n",
       " 'all',\n",
       " 'an',\n",
       " 'and',\n",
       " 'as',\n",
       " 'at',\n",
       " 'be',\n",
       " 'began',\n",
       " 'but',\n",
       " 'by',\n",
       " 'can',\n",
       " 'could',\n",
       " 'did',\n",
       " 'do',\n",
       " 'down',\n",
       " 'for',\n",
       " 'gryphon',\n",
       " 'had',\n",
       " 'hatter',\n",
       " 'have',\n",
       " 'he',\n",
       " 'her',\n",
       " 'herself',\n",
       " 'his',\n",
       " 'i',\n",
       " 'if',\n",
       " 'in',\n",
       " 'into',\n",
       " 'is',\n",
       " 'it',\n",
       " 'its',\n",
       " 'king',\n",
       " 'know',\n",
       " 'like',\n",
       " 'little',\n",
       " 'll',\n",
       " 'm',\n",
       " 'me',\n",
       " 'mock',\n",
       " 'much',\n",
       " 'my',\n",
       " 'no',\n",
       " 'not',\n",
       " 'of',\n",
       " 'off',\n",
       " 'on',\n",
       " 'one',\n",
       " 'or',\n",
       " 'out',\n",
       " 'queen',\n",
       " 'quite',\n",
       " 's',\n",
       " 'said',\n",
       " 'say',\n",
       " 'see',\n",
       " 'she',\n",
       " 'so',\n",
       " 't',\n",
       " 'that',\n",
       " 'the',\n",
       " 'them',\n",
       " 'then',\n",
       " 'there',\n",
       " 'they',\n",
       " 'this',\n",
       " 'thought',\n",
       " 'time',\n",
       " 'to',\n",
       " 'turtle',\n",
       " 'up',\n",
       " 'very',\n",
       " 'was',\n",
       " 'way',\n",
       " 'went',\n",
       " 'were',\n",
       " 'what',\n",
       " 'when',\n",
       " 'with',\n",
       " 'would',\n",
       " 'you',\n",
       " 'your'}"
      ]
     },
     "execution_count": 5,
     "metadata": {},
     "output_type": "execute_result"
    }
   ],
   "source": [
    "common"
   ]
  },
  {
   "cell_type": "code",
   "execution_count": 6,
   "metadata": {},
   "outputs": [],
   "source": [
    "descriptive = list(set(common) - set(nltk.corpus.stopwords.words(\"english\")))"
   ]
  },
  {
   "cell_type": "code",
   "execution_count": 7,
   "metadata": {},
   "outputs": [
    {
     "data": {
      "text/plain": [
       "['quite',\n",
       " 'went',\n",
       " 'turtle',\n",
       " 'thought',\n",
       " 'could',\n",
       " 'time',\n",
       " 'alice',\n",
       " 'would',\n",
       " 'know',\n",
       " 'queen',\n",
       " 'said',\n",
       " 'way',\n",
       " 'king',\n",
       " 'like',\n",
       " 'gryphon',\n",
       " 'much',\n",
       " 'see',\n",
       " 'little',\n",
       " 'say',\n",
       " 'mock',\n",
       " 'began',\n",
       " 'one',\n",
       " 'hatter']"
      ]
     },
     "execution_count": 7,
     "metadata": {},
     "output_type": "execute_result"
    }
   ],
   "source": [
    "descriptive"
   ]
  },
  {
   "cell_type": "code",
   "execution_count": null,
   "metadata": {},
   "outputs": [],
   "source": []
  }
 ],
 "metadata": {
  "kernelspec": {
   "display_name": "Python 3",
   "language": "python",
   "name": "python3"
  },
  "language_info": {
   "codemirror_mode": {
    "name": "ipython",
    "version": 3
   },
   "file_extension": ".py",
   "mimetype": "text/x-python",
   "name": "python",
   "nbconvert_exporter": "python",
   "pygments_lexer": "ipython3",
   "version": "3.7.6"
  }
 },
 "nbformat": 4,
 "nbformat_minor": 4
}
